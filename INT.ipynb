{
 "cells": [
  {
   "cell_type": "code",
   "execution_count": 1,
   "metadata": {},
   "outputs": [],
   "source": [
    "%display latex"
   ]
  },
  {
   "cell_type": "markdown",
   "metadata": {},
   "source": [
    "# Definición de la variedad e introducción de carta\n",
    "Lo primero que vamos a necesitar es definir de forma adecuada la variedad que representa el espacio de fase sobre el que definiremos la mecánica que vamos a estudiar y introducir sobre esta cartas apropiadas. "
   ]
  },
  {
   "cell_type": "code",
   "execution_count": 2,
   "metadata": {},
   "outputs": [
    {
     "data": {
      "text/html": [
       "<html>\\[\\newcommand{\\Bold}[1]{\\mathbf{#1}}M\\]</html>"
      ],
      "text/latex": [
       "$$\\newcommand{\\Bold}[1]{\\mathbf{#1}}M$$"
      ],
      "text/plain": [
       "4-dimensional differentiable manifold M"
      ]
     },
     "execution_count": 2,
     "metadata": {},
     "output_type": "execute_result"
    }
   ],
   "source": [
    "n = 2 #cantidad de grados de libertad\n",
    "M=Manifold(2*n, name='M', structure=\"differentiable\"); M"
   ]
  },
  {
   "cell_type": "markdown",
   "metadata": {},
   "source": [
    "Por el momento el problema solo lo hemos formulado en coordenadas cartesianas (en el espacio físico), por lo que usamos las coordenadas canónica inducidas por estas sobre M. Recordemos que M es el espacio cotangente de la variedad de configuraciones, que para el problema de Kepler puede representarse como $\\mathbb{R^3}/{0}$. "
   ]
  },
  {
   "cell_type": "code",
   "execution_count": 3,
   "metadata": {},
   "outputs": [
    {
     "data": {
      "text/html": [
       "<html>\\[\\newcommand{\\Bold}[1]{\\mathbf{#1}}\\left(M,(x, y, {p_x}, {p_y})\\right)\\]</html>"
      ],
      "text/latex": [
       "$$\\newcommand{\\Bold}[1]{\\mathbf{#1}}\\left(M,(x, y, {p_x}, {p_y})\\right)$$"
      ],
      "text/plain": [
       "Chart (M, (x, y, px, py))"
      ]
     },
     "execution_count": 3,
     "metadata": {},
     "output_type": "execute_result"
    }
   ],
   "source": [
    "std.<x, y, px, py> = M.chart(r'x y px:p_x py:p_y', coord_restrictions= lambda x,y, px, py :x**2 + y**2 !=0); std"
   ]
  },
  {
   "cell_type": "code",
   "execution_count": 4,
   "metadata": {},
   "outputs": [
    {
     "data": {
      "text/html": [
       "<html>\\[\\newcommand{\\Bold}[1]{\\mathbf{#1}}\\left(M, \\left(\\frac{\\partial}{\\partial x },\\frac{\\partial}{\\partial y },\\frac{\\partial}{\\partial {p_x} },\\frac{\\partial}{\\partial {p_y} }\\right)\\right)\\]</html>"
      ],
      "text/latex": [
       "$$\\newcommand{\\Bold}[1]{\\mathbf{#1}}\\left(M, \\left(\\frac{\\partial}{\\partial x },\\frac{\\partial}{\\partial y },\\frac{\\partial}{\\partial {p_x} },\\frac{\\partial}{\\partial {p_y} }\\right)\\right)$$"
      ],
      "text/plain": [
       "\\left(M, \\left(\\frac{\\partial}{\\partial x },\\frac{\\partial}{\\partial y },\\frac{\\partial}{\\partial {p_x} },\\frac{\\partial}{\\partial {p_y} }\\right)\\right)"
      ]
     },
     "execution_count": 4,
     "metadata": {},
     "output_type": "execute_result"
    }
   ],
   "source": [
    "latex(M.default_frame()) #base de vectores "
   ]
  },
  {
   "cell_type": "code",
   "execution_count": 5,
   "metadata": {},
   "outputs": [
    {
     "data": {
      "text/html": [
       "<html>\\[\\newcommand{\\Bold}[1]{\\mathbf{#1}}\\left[\\verb|x|\\verb| |\\verb|is|\\verb| |\\verb|real|, \\verb|y|\\verb| |\\verb|is|\\verb| |\\verb|real|, \\verb|px|\\verb| |\\verb|is|\\verb| |\\verb|real|, \\verb|py|\\verb| |\\verb|is|\\verb| |\\verb|real|, x^{2} + y^{2} > 0\\right]\\]</html>"
      ],
      "text/latex": [
       "$$\\newcommand{\\Bold}[1]{\\mathbf{#1}}\\left[\\verb|x|\\verb| |\\verb|is|\\verb| |\\verb|real|, \\verb|y|\\verb| |\\verb|is|\\verb| |\\verb|real|, \\verb|px|\\verb| |\\verb|is|\\verb| |\\verb|real|, \\verb|py|\\verb| |\\verb|is|\\verb| |\\verb|real|, x^{2} + y^{2} > 0\\right]$$"
      ],
      "text/plain": [
       "[x is real, y is real, px is real, py is real, x^2 + y^2 > 0]"
      ]
     },
     "execution_count": 5,
     "metadata": {},
     "output_type": "execute_result"
    }
   ],
   "source": [
    "##Notese que estamos restringiendo la carta para que no considere el origen y también le pasamos la restricción\n",
    "##a sage para la manipulación simbólica. \n",
    "(x**2 + y**2>0).assume()  \n",
    "assumptions()              "
   ]
  },
  {
   "cell_type": "markdown",
   "metadata": {},
   "source": [
    "# Integradores simplécticos "
   ]
  },
  {
   "cell_type": "markdown",
   "metadata": {},
   "source": [
    "La técnica que vamos a usar es llamada _Hamiltonian Splitting_, consiste en dividir el Hamiltoniano en varios Hamiltonianos cuyos flows puedan ser calculados de manera exacta(esto no es necesario desde un punto de vista teórico, pero introducir soluciones numéricas adicionales para los flows en que se dividió puede ser problemático y en ese caso la técnica pierde un poco de sentido) y después componer los flows para aproximar el flow del Hamiltoniano inicial. Para nuestro caso:\n",
    "\n",
    "$$\n",
    "H(\\mathbf{q},\\mathbf{p}) = H_T(\\mathbf{p}) + H_V(\\mathbf{q})\n",
    "$$\n",
    "Para nuestro caso el hamiltoniano es \n",
    "$$H(\\mathbf{q},\\mathbf{p}) = \\frac{1}{2}\\bigg( p_x^2 + p_y^2\\bigg) - \\frac{1}{\\sqrt{x^2 + y^2}}$$\n",
    "donde el modelo ya ha sido normalizado. \n",
    "$$H_T = \\frac{1}{2}\\bigg( p_x^2 + p_y^2\\bigg)$$\n",
    "$$H_V = - \\frac{1}{\\sqrt{x^2 + y^2}}$$\n",
    "Nuestra siguiente tarea entonces es obtener los flujos de $H_V$ y$H_T$."
   ]
  },
  {
   "cell_type": "markdown",
   "metadata": {},
   "source": [
    "## Definición de $H_V$ y $H_T$ en Sage\n",
    "Sagemanifolds permite la introducción de campos escalares sobre las variedades, esto es lo que usamos para definir los Hamiltonianos en que hemos divivido el problema."
   ]
  },
  {
   "cell_type": "code",
   "execution_count": 6,
   "metadata": {},
   "outputs": [],
   "source": [
    "H_V = M.scalar_field(-1/sqrt(x**2 + y**2), name=r'H_V')\n",
    "H_T = M.scalar_field( (px^2 +py^2)/2  , name='H_T' )"
   ]
  },
  {
   "cell_type": "code",
   "execution_count": 7,
   "metadata": {},
   "outputs": [
    {
     "data": {
      "text/html": [
       "<html>\\[\\newcommand{\\Bold}[1]{\\mathbf{#1}}\\begin{array}{llcl} H_T:& M & \\longrightarrow & \\mathbb{R} \\\\ & \\left(x, y, {p_x}, {p_y}\\right) & \\longmapsto & \\frac{1}{2} \\, {p_x}^{2} + \\frac{1}{2} \\, {p_y}^{2} \\end{array}\\]</html>"
      ],
      "text/latex": [
       "$$\\newcommand{\\Bold}[1]{\\mathbf{#1}}\\begin{array}{llcl} H_T:& M & \\longrightarrow & \\mathbb{R} \\\\ & \\left(x, y, {p_x}, {p_y}\\right) & \\longmapsto & \\frac{1}{2} \\, {p_x}^{2} + \\frac{1}{2} \\, {p_y}^{2} \\end{array}$$"
      ],
      "text/plain": [
       "H_T: M → ℝ\n",
       "   (x, y, px, py) ↦ 1/2*px^2 + 1/2*py^2"
      ]
     },
     "execution_count": 7,
     "metadata": {},
     "output_type": "execute_result"
    }
   ],
   "source": [
    "H_T.display()"
   ]
  },
  {
   "cell_type": "code",
   "execution_count": 8,
   "metadata": {},
   "outputs": [
    {
     "data": {
      "text/html": [
       "<html>\\[\\newcommand{\\Bold}[1]{\\mathbf{#1}}\\begin{array}{llcl} H_V:& M & \\longrightarrow & \\mathbb{R} \\\\ & \\left(x, y, {p_x}, {p_y}\\right) & \\longmapsto & -\\frac{1}{\\sqrt{x^{2} + y^{2}}} \\end{array}\\]</html>"
      ],
      "text/latex": [
       "$$\\newcommand{\\Bold}[1]{\\mathbf{#1}}\\begin{array}{llcl} H_V:& M & \\longrightarrow & \\mathbb{R} \\\\ & \\left(x, y, {p_x}, {p_y}\\right) & \\longmapsto & -\\frac{1}{\\sqrt{x^{2} + y^{2}}} \\end{array}$$"
      ],
      "text/plain": [
       "H_V: M → ℝ\n",
       "   (x, y, px, py) ↦ -1/sqrt(x^2 + y^2)"
      ]
     },
     "execution_count": 8,
     "metadata": {},
     "output_type": "execute_result"
    }
   ],
   "source": [
    "H_V.display()"
   ]
  },
  {
   "cell_type": "code",
   "execution_count": 9,
   "metadata": {},
   "outputs": [
    {
     "data": {
      "text/html": [
       "<html>\\[\\newcommand{\\Bold}[1]{\\mathbf{#1}}\\begin{array}{llcl} H_V+H_T:& M & \\longrightarrow & \\mathbb{R} \\\\ & \\left(x, y, {p_x}, {p_y}\\right) & \\longmapsto & \\frac{{\\left({p_x}^{2} + {p_y}^{2}\\right)} \\sqrt{x^{2} + y^{2}} - 2}{2 \\, \\sqrt{x^{2} + y^{2}}} \\end{array}\\]</html>"
      ],
      "text/latex": [
       "$$\\newcommand{\\Bold}[1]{\\mathbf{#1}}\\begin{array}{llcl} H_V+H_T:& M & \\longrightarrow & \\mathbb{R} \\\\ & \\left(x, y, {p_x}, {p_y}\\right) & \\longmapsto & \\frac{{\\left({p_x}^{2} + {p_y}^{2}\\right)} \\sqrt{x^{2} + y^{2}} - 2}{2 \\, \\sqrt{x^{2} + y^{2}}} \\end{array}$$"
      ],
      "text/plain": [
       "H_V+H_T: M → ℝ\n",
       "   (x, y, px, py) ↦ 1/2*((px^2 + py^2)*sqrt(x^2 + y^2) - 2)/sqrt(x^2 + y^2)"
      ]
     },
     "execution_count": 9,
     "metadata": {},
     "output_type": "execute_result"
    }
   ],
   "source": [
    "H = H_V + H_T\n",
    "H.display()"
   ]
  },
  {
   "cell_type": "code",
   "execution_count": 10,
   "metadata": {},
   "outputs": [],
   "source": [
    "# NOTA PARA FEDERICO: ¿esto para qué sirve?\n",
    "from sage.manifolds.operators import *"
   ]
  },
  {
   "cell_type": "markdown",
   "metadata": {},
   "source": [
    "## Campos Vectoriales Hamiltonianos $X_T$ y $X_V$\n",
    "Para calcular el flujo usamos el campo vectorial hamiltoniano asociado. Recordemos que tenemos el siguiente isomorfismo ($\\omega^{\\sharp}$ se ve muy feo entonces lo pongo como $\\beta$)\n",
    "$$\n",
    "\\begin{align*}\n",
    "  \\beta \\colon TM & \\longrightarrow T^{*}M \\\\\n",
    "  a_\\alpha \\frac{\\partial}{\\partial q_\\alpha} +  b_\\alpha \\frac{\\partial}{\\partial p_\\alpha} & \\longmapsto \n",
    "  -b_\\alpha dq_\\alpha + a_\\alpha dp_\\alpha\n",
    "\\end{align*}\n",
    "$$\n",
    "el cual es facilmente invertible para que nos de la conexión entre los diferenciales de $H_V$ y $H_T$ con sus respectivos campos vectoriales hamiltonianos, los cuales después usaremos para obtener los flows de cada uno.\n",
    "$$\n",
    "\\begin{align*}\n",
    "  \\beta^{-1} \\colon T^{*}M & \\longrightarrow TM \\\\\n",
    "  a_\\alpha dq_\\alpha + b_\\alpha dp_\\alpha & \\longmapsto b_\\alpha \\frac{\\partial}{\\partial q_\\alpha}- a_\\alpha \\frac{\\partial}{\\partial p_\\alpha}\n",
    "  \\end{align*}\n",
    "$$\n",
    "Pasamos ahora a definir $\\beta^{-1}$ en Sage con el nombre de beta_inverse "
   ]
  },
  {
   "cell_type": "code",
   "execution_count": 11,
   "metadata": {},
   "outputs": [],
   "source": [
    "'''Función que recibe una 1-forma(diferencial) y retorna un campo vectorial. El campo es definido en el frame por \n",
    "    defecto de la variedad M sobre la que está definida la forma.\n",
    "INPUT: (forma diferencial en sagemanifolds) forma diferencial alpha\n",
    "OUTPUT: (campo vectorial en sagemanifolds) campo vectorial X_alpha'''\n",
    "def beta_inverse(alpha):\n",
    "    M = alpha.domain()\n",
    "    e = M.default_frame()\n",
    "    ##hasta donde revisé, no hay una forma más simple de acceder a los componentes de la forma.\n",
    "    ##Me faltó revisar la documentación de campos tensoriales, a lo mejor allá hablan algo de eso.\n",
    "    #OJO: Se asume que la variedad es de dimensión par y el marco por defecto es la base canónica.\n",
    "    n= M.dimension()\n",
    "    X_alpha_q = sum(alpha(e[i+n/2])*e[i] for i in range(0,n/2))\n",
    "    X_alpha_p = sum(-alpha(e[i])*e[i+n/2] for i in range(0,n/2))\n",
    "    X_alpha = X_alpha_q + X_alpha_p\n",
    "    return X_alpha"
   ]
  },
  {
   "cell_type": "markdown",
   "metadata": {},
   "source": [
    "Procedemos a hacer el cálculo del diferencial de los hamiltonianos y se obtienen los campos vectoriales atravez de $\\beta^{-1}$."
   ]
  },
  {
   "cell_type": "code",
   "execution_count": 12,
   "metadata": {},
   "outputs": [],
   "source": [
    "dH_V = H_V.differential()\n",
    "dH_T = H_T.differential()"
   ]
  },
  {
   "cell_type": "code",
   "execution_count": 13,
   "metadata": {},
   "outputs": [
    {
     "data": {
      "text/html": [
       "<html>\\[\\newcommand{\\Bold}[1]{\\mathbf{#1}}\\mathrm{d}H_V = \\frac{x}{{\\left(x^{2} + y^{2}\\right)}^{\\frac{3}{2}}} \\mathrm{d} x + \\frac{y}{{\\left(x^{2} + y^{2}\\right)}^{\\frac{3}{2}}} \\mathrm{d} y\\]</html>"
      ],
      "text/latex": [
       "$$\\newcommand{\\Bold}[1]{\\mathbf{#1}}\\mathrm{d}H_V = \\frac{x}{{\\left(x^{2} + y^{2}\\right)}^{\\frac{3}{2}}} \\mathrm{d} x + \\frac{y}{{\\left(x^{2} + y^{2}\\right)}^{\\frac{3}{2}}} \\mathrm{d} y$$"
      ],
      "text/plain": [
       "dH_V = x/(x^2 + y^2)^(3/2) dx + y/(x^2 + y^2)^(3/2) dy"
      ]
     },
     "execution_count": 13,
     "metadata": {},
     "output_type": "execute_result"
    }
   ],
   "source": [
    "dH_V.display()"
   ]
  },
  {
   "cell_type": "code",
   "execution_count": 14,
   "metadata": {},
   "outputs": [
    {
     "data": {
      "text/html": [
       "<html>\\[\\newcommand{\\Bold}[1]{\\mathbf{#1}}\\mathrm{d}H_T = {p_x} \\mathrm{d} {p_x} + {p_y} \\mathrm{d} {p_y}\\]</html>"
      ],
      "text/latex": [
       "$$\\newcommand{\\Bold}[1]{\\mathbf{#1}}\\mathrm{d}H_T = {p_x} \\mathrm{d} {p_x} + {p_y} \\mathrm{d} {p_y}$$"
      ],
      "text/plain": [
       "dH_T = px dpx + py dpy"
      ]
     },
     "execution_count": 14,
     "metadata": {},
     "output_type": "execute_result"
    }
   ],
   "source": [
    "dH_T.display()"
   ]
  },
  {
   "cell_type": "code",
   "execution_count": 15,
   "metadata": {},
   "outputs": [
    {
     "data": {
      "text/html": [
       "<html>\\[\\newcommand{\\Bold}[1]{\\mathbf{#1}}\\verb|&lt;class|\\verb| |\\verb|'sage.manifolds.differentiable.diff_form_module.DiffFormFreeModule_with_category.element_class'>|\\]</html>"
      ],
      "text/latex": [
       "$$\\newcommand{\\Bold}[1]{\\mathbf{#1}}\\verb|<class|\\verb| |\\verb|'sage.manifolds.differentiable.diff_form_module.DiffFormFreeModule_with_category.element_class'>|$$"
      ],
      "text/plain": [
       "<class 'sage.manifolds.differentiable.diff_form_module.DiffFormFreeModule_with_category.element_class'>"
      ]
     },
     "execution_count": 15,
     "metadata": {},
     "output_type": "execute_result"
    }
   ],
   "source": [
    "type(dH_T)"
   ]
  },
  {
   "cell_type": "code",
   "execution_count": 16,
   "metadata": {},
   "outputs": [],
   "source": [
    "X_T = beta_inverse(dH_T)\n",
    "X_V = beta_inverse(dH_V)"
   ]
  },
  {
   "cell_type": "code",
   "execution_count": 17,
   "metadata": {},
   "outputs": [
    {
     "data": {
      "text/html": [
       "<html>\\[\\newcommand{\\Bold}[1]{\\mathbf{#1}}\\mathrm{d}H_T\\left( \\frac{\\partial}{\\partial {p_x} } \\right) \\cdot \\frac{\\partial}{\\partial x } + \\mathrm{d}H_T\\left( \\frac{\\partial}{\\partial {p_y} } \\right) \\cdot \\frac{\\partial}{\\partial y } + - \\mathrm{d}H_T\\left( \\frac{\\partial}{\\partial x } \\right) \\cdot \\frac{\\partial}{\\partial {p_x} } + - \\mathrm{d}H_T\\left( \\frac{\\partial}{\\partial y } \\right) \\cdot \\frac{\\partial}{\\partial {p_y} } = {p_x} \\frac{\\partial}{\\partial x } + {p_y} \\frac{\\partial}{\\partial y }\\]</html>"
      ],
      "text/latex": [
       "$$\\newcommand{\\Bold}[1]{\\mathbf{#1}}\\mathrm{d}H_T\\left( \\frac{\\partial}{\\partial {p_x} } \\right) \\cdot \\frac{\\partial}{\\partial x } + \\mathrm{d}H_T\\left( \\frac{\\partial}{\\partial {p_y} } \\right) \\cdot \\frac{\\partial}{\\partial y } + - \\mathrm{d}H_T\\left( \\frac{\\partial}{\\partial x } \\right) \\cdot \\frac{\\partial}{\\partial {p_x} } + - \\mathrm{d}H_T\\left( \\frac{\\partial}{\\partial y } \\right) \\cdot \\frac{\\partial}{\\partial {p_y} } = {p_x} \\frac{\\partial}{\\partial x } + {p_y} \\frac{\\partial}{\\partial y }$$"
      ],
      "text/plain": [
       "dH_T(∂/∂px)*∂/∂x+dH_T(∂/∂py)*∂/∂y+-dH_T(∂/∂x)*∂/∂px+-dH_T(∂/∂y)*∂/∂py = px ∂/∂x + py ∂/∂y"
      ]
     },
     "execution_count": 17,
     "metadata": {},
     "output_type": "execute_result"
    }
   ],
   "source": [
    "X_T.display()"
   ]
  },
  {
   "cell_type": "code",
   "execution_count": 18,
   "metadata": {},
   "outputs": [
    {
     "data": {
      "text/html": [
       "<html>\\[\\newcommand{\\Bold}[1]{\\mathbf{#1}}\\mathrm{d}H_V\\left( \\frac{\\partial}{\\partial {p_x} } \\right) \\cdot \\frac{\\partial}{\\partial x } + \\mathrm{d}H_V\\left( \\frac{\\partial}{\\partial {p_y} } \\right) \\cdot \\frac{\\partial}{\\partial y } + - \\mathrm{d}H_V\\left( \\frac{\\partial}{\\partial x } \\right) \\cdot \\frac{\\partial}{\\partial {p_x} } + - \\mathrm{d}H_V\\left( \\frac{\\partial}{\\partial y } \\right) \\cdot \\frac{\\partial}{\\partial {p_y} } = -\\frac{x}{{\\left(x^{2} + y^{2}\\right)}^{\\frac{3}{2}}} \\frac{\\partial}{\\partial {p_x} } -\\frac{y}{{\\left(x^{2} + y^{2}\\right)}^{\\frac{3}{2}}} \\frac{\\partial}{\\partial {p_y} }\\]</html>"
      ],
      "text/latex": [
       "$$\\newcommand{\\Bold}[1]{\\mathbf{#1}}\\mathrm{d}H_V\\left( \\frac{\\partial}{\\partial {p_x} } \\right) \\cdot \\frac{\\partial}{\\partial x } + \\mathrm{d}H_V\\left( \\frac{\\partial}{\\partial {p_y} } \\right) \\cdot \\frac{\\partial}{\\partial y } + - \\mathrm{d}H_V\\left( \\frac{\\partial}{\\partial x } \\right) \\cdot \\frac{\\partial}{\\partial {p_x} } + - \\mathrm{d}H_V\\left( \\frac{\\partial}{\\partial y } \\right) \\cdot \\frac{\\partial}{\\partial {p_y} } = -\\frac{x}{{\\left(x^{2} + y^{2}\\right)}^{\\frac{3}{2}}} \\frac{\\partial}{\\partial {p_x} } -\\frac{y}{{\\left(x^{2} + y^{2}\\right)}^{\\frac{3}{2}}} \\frac{\\partial}{\\partial {p_y} }$$"
      ],
      "text/plain": [
       "dH_V(∂/∂px)*∂/∂x+dH_V(∂/∂py)*∂/∂y+-dH_V(∂/∂x)*∂/∂px+-dH_V(∂/∂y)*∂/∂py = -x/(x^2 + y^2)^(3/2) ∂/∂px - y/(x^2 + y^2)^(3/2) ∂/∂py"
      ]
     },
     "execution_count": 18,
     "metadata": {},
     "output_type": "execute_result"
    }
   ],
   "source": [
    "X_V.display()"
   ]
  },
  {
   "cell_type": "code",
   "execution_count": 19,
   "metadata": {},
   "outputs": [
    {
     "data": {
      "text/html": [
       "<html>\\[\\newcommand{\\Bold}[1]{\\mathbf{#1}}{p_y}\\]</html>"
      ],
      "text/latex": [
       "$$\\newcommand{\\Bold}[1]{\\mathbf{#1}}{p_y}$$"
      ],
      "text/plain": [
       "py"
      ]
     },
     "execution_count": 19,
     "metadata": {},
     "output_type": "execute_result"
    }
   ],
   "source": [
    "X_T[1].expr()"
   ]
  },
  {
   "cell_type": "markdown",
   "metadata": {},
   "source": [
    "Aplicando las ecuaciones de Hamilton podemos dar una respuesta general para la forma de los flows:\n",
    "$$\\psi_{H_T}^{\\Delta t} (q,p) = \\bigg(q + \\frac{\\partial H_T}{\\partial p}(p) \\Delta t, p \\bigg) $$\n",
    "$$\\psi_{H_V}^{\\Delta t} (q,p) = \\bigg(q , p  -\\frac{\\partial H_V}{\\partial q}(q)  \\Delta t\\bigg) $$\n",
    "Donde las derivadas parciales (con signo incluido) de los Hamiltonianos provienen de las componentes no nulas de sus campos vectoriales."
   ]
  },
  {
   "cell_type": "markdown",
   "metadata": {},
   "source": [
    "# Método Euler simpléctico y definición de los flujos en Sage\n",
    "Este esquema de aproximación consiste en sencillamente combinar los flujos de $H_V$ y $H_T$ y es de primer orden [see, Munro]. Para nuestra suerte los flujos siempre se pueden obtener sin tener que resolver numéricamente (este era el punto de escoger T(p) + H(q)), pasamos ahora a escribirlos usando las componentes de los campos vectoriales:\n",
    "\n",
    "$$\\psi_{H_T}^{\\Delta t} (q,p) = (x + p_x\\Delta t, y - p_y\\Delta t , p_x, p_y) $$\n",
    "Este siempre tendrá esta forma si $H_T$ dependen solo de $p$ y además es una forma cuadrática diagonal.\n",
    "$$\\psi_{H_V}^{\\Delta t} (q,p) = (x, y, p_x - \\frac{x\\Delta t}{(x^2+y^2)^{3/2}}, p_y - \\frac{y\\Delta t}{(x^2+y^2)^{3/2}}) $$\n",
    "Lo siguiente es componerlos, aunque primero debemos de definirlos en Sage para componerlos de forma computacional.\n",
    "\n"
   ]
  },
  {
   "cell_type": "code",
   "execution_count": 20,
   "metadata": {},
   "outputs": [
    {
     "data": {
      "text/html": [
       "<html>\\[\\newcommand{\\Bold}[1]{\\mathbf{#1}}\\begin{array}{llcl} \\psi_{H_T}^{\\Delta t}:& M & \\longrightarrow & M \\\\ & \\left(x, y, {p_x}, {p_y}\\right) & \\longmapsto & \\left({\\Delta t} {p_x} + x, {\\Delta t} {p_y} + y, {p_x}, {p_y}\\right) \\end{array}\\]</html>"
      ],
      "text/latex": [
       "$$\\newcommand{\\Bold}[1]{\\mathbf{#1}}\\begin{array}{llcl} \\psi_{H_T}^{\\Delta t}:& M & \\longrightarrow & M \\\\ & \\left(x, y, {p_x}, {p_y}\\right) & \\longmapsto & \\left({\\Delta t} {p_x} + x, {\\Delta t} {p_y} + y, {p_x}, {p_y}\\right) \\end{array}$$"
      ],
      "text/plain": [
       "M → M\n",
       "   (x, y, px, py) ↦ (dt*px + x, dt*py + y, px, py)"
      ]
     },
     "execution_count": 20,
     "metadata": {},
     "output_type": "execute_result"
    }
   ],
   "source": [
    "dt = var('dt', latex_name = r'\\Delta t') #introducimos una variable para el paso\n",
    "Psi_T = M.diff_map(M, [x + X_T[0].expr()* dt ,y + X_T[1].expr() * dt, px, py], latex_name=r\"\\psi_{H_T}^{\\Delta t}\")\n",
    "Psi_T.display()"
   ]
  },
  {
   "cell_type": "code",
   "execution_count": 21,
   "metadata": {},
   "outputs": [
    {
     "data": {
      "text/html": [
       "<html>\\[\\newcommand{\\Bold}[1]{\\mathbf{#1}}\\begin{array}{llcl} \\psi_{H_V}^{\\Delta t}:& M & \\longrightarrow & M \\\\ & \\left(x, y, {p_x}, {p_y}\\right) & \\longmapsto & \\left(x, y, {p_x} - \\frac{{\\Delta t} x}{{\\left(x^{2} + y^{2}\\right)}^{\\frac{3}{2}}}, {p_y} - \\frac{{\\Delta t} y}{{\\left(x^{2} + y^{2}\\right)}^{\\frac{3}{2}}}\\right) \\end{array}\\]</html>"
      ],
      "text/latex": [
       "$$\\newcommand{\\Bold}[1]{\\mathbf{#1}}\\begin{array}{llcl} \\psi_{H_V}^{\\Delta t}:& M & \\longrightarrow & M \\\\ & \\left(x, y, {p_x}, {p_y}\\right) & \\longmapsto & \\left(x, y, {p_x} - \\frac{{\\Delta t} x}{{\\left(x^{2} + y^{2}\\right)}^{\\frac{3}{2}}}, {p_y} - \\frac{{\\Delta t} y}{{\\left(x^{2} + y^{2}\\right)}^{\\frac{3}{2}}}\\right) \\end{array}$$"
      ],
      "text/plain": [
       "M → M\n",
       "   (x, y, px, py) ↦ (x, y, px - dt*x/(x^2 + y^2)^(3/2), py - dt*y/(x^2 + y^2)^(3/2))"
      ]
     },
     "execution_count": 21,
     "metadata": {},
     "output_type": "execute_result"
    }
   ],
   "source": [
    "Psi_V = M.diff_map(M, [x, y, X_V[2].expr()*dt + px, X_V[3].expr()*dt + py], \n",
    "                       latex_name=r\"\\psi_{H_V}^{\\Delta t}\")\n",
    "Psi_V.display()"
   ]
  },
  {
   "cell_type": "markdown",
   "metadata": {},
   "source": [
    "### Efecto individual de los flujos\n",
    "Antes de proceder con el método de Euler y la composición nos detenemos a analizar como se comportan por separado estos flujos, ya que solamente actuan sobre regiones de dimensión 2 podemos visualizarlos de forma sencilla. Especificamente lo que vamos a hacer es obtener la gráfica de los campos vectoriales. "
   ]
  },
  {
   "cell_type": "code",
   "execution_count": 74,
   "metadata": {},
   "outputs": [],
   "source": [
    "#Para visualizarlos en Sage es necesaria la introducción de variedades adicionales\n",
    "M_p = Manifold(n, name='M_p', latex_name=r'M_p') #restringuimos al plano px,py\n",
    "M_p.std<px, py> = M.chart()\n",
    "v = M.vector_field(X_)\n"
   ]
  },
  {
   "cell_type": "markdown",
   "metadata": {},
   "source": [
    "### Composición\n",
    "En principio no hay un motivo para preferir un orden particular de composición en el método de Euler, lo único de lo que podemos estar seguros es de que en general no conmutan ya que las exponenciales de las que provienen los flujos no lo hacen [see, Munro]. Por este motivo exploramos ambos ordenes."
   ]
  },
  {
   "cell_type": "code",
   "execution_count": 49,
   "metadata": {},
   "outputs": [
    {
     "data": {
      "text/html": [
       "<html>\\[\\newcommand{\\Bold}[1]{\\mathbf{#1}}\\begin{array}{llcl} & M & \\longrightarrow & M \\\\ & \\left(x, y, {p_x}, {p_y}\\right) & \\longmapsto & \\left(-\\frac{{\\Delta t}^{2} x - {\\left({\\Delta t} {p_x} x^{2} + x^{3} + {\\left({\\Delta t} {p_x} + x\\right)} y^{2}\\right)} \\sqrt{x^{2} + y^{2}}}{{\\left(x^{2} + y^{2}\\right)}^{\\frac{3}{2}}}, -\\frac{{\\Delta t}^{2} y - {\\left({\\Delta t} {p_y} x^{2} + {\\Delta t} {p_y} y^{2} + x^{2} y + y^{3}\\right)} \\sqrt{x^{2} + y^{2}}}{{\\left(x^{2} + y^{2}\\right)}^{\\frac{3}{2}}}, -\\frac{{\\Delta t} x - {\\left({p_x} x^{2} + {p_x} y^{2}\\right)} \\sqrt{x^{2} + y^{2}}}{{\\left(x^{2} + y^{2}\\right)}^{\\frac{3}{2}}}, -\\frac{{\\Delta t} y - {\\left({p_y} x^{2} + {p_y} y^{2}\\right)} \\sqrt{x^{2} + y^{2}}}{{\\left(x^{2} + y^{2}\\right)}^{\\frac{3}{2}}}\\right) \\end{array}\\]</html>"
      ],
      "text/latex": [
       "$$\\newcommand{\\Bold}[1]{\\mathbf{#1}}\\begin{array}{llcl} & M & \\longrightarrow & M \\\\ & \\left(x, y, {p_x}, {p_y}\\right) & \\longmapsto & \\left(-\\frac{{\\Delta t}^{2} x - {\\left({\\Delta t} {p_x} x^{2} + x^{3} + {\\left({\\Delta t} {p_x} + x\\right)} y^{2}\\right)} \\sqrt{x^{2} + y^{2}}}{{\\left(x^{2} + y^{2}\\right)}^{\\frac{3}{2}}}, -\\frac{{\\Delta t}^{2} y - {\\left({\\Delta t} {p_y} x^{2} + {\\Delta t} {p_y} y^{2} + x^{2} y + y^{3}\\right)} \\sqrt{x^{2} + y^{2}}}{{\\left(x^{2} + y^{2}\\right)}^{\\frac{3}{2}}}, -\\frac{{\\Delta t} x - {\\left({p_x} x^{2} + {p_x} y^{2}\\right)} \\sqrt{x^{2} + y^{2}}}{{\\left(x^{2} + y^{2}\\right)}^{\\frac{3}{2}}}, -\\frac{{\\Delta t} y - {\\left({p_y} x^{2} + {p_y} y^{2}\\right)} \\sqrt{x^{2} + y^{2}}}{{\\left(x^{2} + y^{2}\\right)}^{\\frac{3}{2}}}\\right) \\end{array}$$"
      ],
      "text/plain": [
       "M → M\n",
       "   (x, y, px, py) ↦ (-(dt^2*x - (dt*px*x^2 + x^3 + (dt*px + x)*y^2)*sqrt(x^2 + y^2))/(x^2 + y^2)^(3/2), -(dt^2*y - (dt*py*x^2 + dt*py*y^2 + x^2*y + y^3)*sqrt(x^2 + y^2))/(x^2 + y^2)^(3/2), -(dt*x - (px*x^2 + px*y^2)*sqrt(x^2 + y^2))/(x^2 + y^2)^(3/2), -(dt*y - (py*x^2 + py*y^2)*sqrt(x^2 + y^2))/(x^2 + y^2)^(3/2))"
      ]
     },
     "execution_count": 49,
     "metadata": {},
     "output_type": "execute_result"
    }
   ],
   "source": [
    "Psi1 = Psi_T * Psi_V\n",
    "Psi1.display(std)"
   ]
  },
  {
   "cell_type": "code",
   "execution_count": 50,
   "metadata": {},
   "outputs": [
    {
     "data": {
      "text/html": [
       "<html>\\[\\newcommand{\\Bold}[1]{\\mathbf{#1}}\\begin{array}{llcl} & M & \\longrightarrow & M \\\\ & \\left(x, y, {p_x}, {p_y}\\right) & \\longmapsto & \\left({\\Delta t} {p_x} + x, {\\Delta t} {p_y} + y, -\\frac{{\\Delta t}^{2} {p_x} + {\\Delta t} x - {\\left({\\Delta t}^{2} {p_x}^{3} + {\\Delta t}^{2} {p_x} {p_y}^{2} + 2 \\, {\\Delta t} {p_x}^{2} x + 2 \\, {\\Delta t} {p_x} {p_y} y + {p_x} x^{2} + {p_x} y^{2}\\right)} \\sqrt{{\\Delta t}^{2} {p_x}^{2} + {\\Delta t}^{2} {p_y}^{2} + 2 \\, {\\Delta t} {p_x} x + 2 \\, {\\Delta t} {p_y} y + x^{2} + y^{2}}}{{\\left({\\Delta t}^{2} {p_x}^{2} + {\\Delta t}^{2} {p_y}^{2} + 2 \\, {\\Delta t} {p_x} x + 2 \\, {\\Delta t} {p_y} y + x^{2} + y^{2}\\right)}^{\\frac{3}{2}}}, -\\frac{{\\Delta t}^{2} {p_y} + {\\Delta t} y - {\\left({\\Delta t}^{2} {p_x}^{2} {p_y} + {\\Delta t}^{2} {p_y}^{3} + 2 \\, {\\Delta t} {p_x} {p_y} x + 2 \\, {\\Delta t} {p_y}^{2} y + {p_y} x^{2} + {p_y} y^{2}\\right)} \\sqrt{{\\Delta t}^{2} {p_x}^{2} + {\\Delta t}^{2} {p_y}^{2} + 2 \\, {\\Delta t} {p_x} x + 2 \\, {\\Delta t} {p_y} y + x^{2} + y^{2}}}{{\\left({\\Delta t}^{2} {p_x}^{2} + {\\Delta t}^{2} {p_y}^{2} + 2 \\, {\\Delta t} {p_x} x + 2 \\, {\\Delta t} {p_y} y + x^{2} + y^{2}\\right)}^{\\frac{3}{2}}}\\right) \\end{array}\\]</html>"
      ],
      "text/latex": [
       "$$\\newcommand{\\Bold}[1]{\\mathbf{#1}}\\begin{array}{llcl} & M & \\longrightarrow & M \\\\ & \\left(x, y, {p_x}, {p_y}\\right) & \\longmapsto & \\left({\\Delta t} {p_x} + x, {\\Delta t} {p_y} + y, -\\frac{{\\Delta t}^{2} {p_x} + {\\Delta t} x - {\\left({\\Delta t}^{2} {p_x}^{3} + {\\Delta t}^{2} {p_x} {p_y}^{2} + 2 \\, {\\Delta t} {p_x}^{2} x + 2 \\, {\\Delta t} {p_x} {p_y} y + {p_x} x^{2} + {p_x} y^{2}\\right)} \\sqrt{{\\Delta t}^{2} {p_x}^{2} + {\\Delta t}^{2} {p_y}^{2} + 2 \\, {\\Delta t} {p_x} x + 2 \\, {\\Delta t} {p_y} y + x^{2} + y^{2}}}{{\\left({\\Delta t}^{2} {p_x}^{2} + {\\Delta t}^{2} {p_y}^{2} + 2 \\, {\\Delta t} {p_x} x + 2 \\, {\\Delta t} {p_y} y + x^{2} + y^{2}\\right)}^{\\frac{3}{2}}}, -\\frac{{\\Delta t}^{2} {p_y} + {\\Delta t} y - {\\left({\\Delta t}^{2} {p_x}^{2} {p_y} + {\\Delta t}^{2} {p_y}^{3} + 2 \\, {\\Delta t} {p_x} {p_y} x + 2 \\, {\\Delta t} {p_y}^{2} y + {p_y} x^{2} + {p_y} y^{2}\\right)} \\sqrt{{\\Delta t}^{2} {p_x}^{2} + {\\Delta t}^{2} {p_y}^{2} + 2 \\, {\\Delta t} {p_x} x + 2 \\, {\\Delta t} {p_y} y + x^{2} + y^{2}}}{{\\left({\\Delta t}^{2} {p_x}^{2} + {\\Delta t}^{2} {p_y}^{2} + 2 \\, {\\Delta t} {p_x} x + 2 \\, {\\Delta t} {p_y} y + x^{2} + y^{2}\\right)}^{\\frac{3}{2}}}\\right) \\end{array}$$"
      ],
      "text/plain": [
       "M → M\n",
       "   (x, y, px, py) ↦ (dt*px + x, dt*py + y, -(dt^2*px + dt*x - (dt^2*px^3 + dt^2*px*py^2 + 2*dt*px^2*x + 2*dt*px*py*y + px*x^2 + px*y^2)*sqrt(dt^2*px^2 + dt^2*py^2 + 2*dt*px*x + 2*dt*py*y + x^2 + y^2))/(dt^2*px^2 + dt^2*py^2 + 2*dt*px*x + 2*dt*py*y + x^2 + y^2)^(3/2), -(dt^2*py + dt*y - (dt^2*px^2*py + dt^2*py^3 + 2*dt*px*py*x + 2*dt*py^2*y + py*x^2 + py*y^2)*sqrt(dt^2*px^2 + dt^2*py^2 + 2*dt*px*x + 2*dt*py*y + x^2 + y^2))/(dt^2*px^2 + dt^2*py^2 + 2*dt*px*x + 2*dt*py*y + x^2 + y^2)^(3/2))"
      ]
     },
     "execution_count": 50,
     "metadata": {},
     "output_type": "execute_result"
    }
   ],
   "source": [
    "Psi2 = Psi_V * Psi_T\n",
    "Psi2.display(std)"
   ]
  },
  {
   "cell_type": "markdown",
   "metadata": {},
   "source": [
    "Se ve que las expresiones obtenidas para $\\Psi_1=\\Psi_{H_V}^{\\Delta t}  \\Psi_{H_T}^{\\Delta t}$  y $\\Psi_2=\\Psi_{H_T}^{\\Delta t}  \\Psi_{H_V}^{\\Delta t}$ son apreciablemente diferentes aunque de primer orden, Munro solo considera $\\Psi_1$."
   ]
  },
  {
   "cell_type": "markdown",
   "metadata": {},
   "source": [
    "Ahora podemos proceder a introducir el método numérico como tal. Por practicidad y para futuras extensiones, es útil introducir una función que construya con fast_callable todas las funciones que necesitamos para usar el método numérico."
   ]
  },
  {
   "cell_type": "code",
   "execution_count": 51,
   "metadata": {},
   "outputs": [],
   "source": [
    "'''Función que recibe un mapa diferenciable y produce un grupo de funciones fast_callable que lo evaluan en \n",
    "coordenadas.'''\n",
    "def get_num_funcs(Psi):\n",
    "    expressions = Psi.expr()\n",
    "    psi_x = fast_callable(expressions[0], vars=[x,y, px, py, dt])\n",
    "    psi_y = fast_callable(expressions[1], vars=[x,y, px, py, dt])\n",
    "    psi_px = fast_callable(expressions[2], vars=[x,y, px, py, dt])\n",
    "    psi_py = fast_callable(expressions[3], vars=[x,y, px, py, dt])\n",
    "    return psi_x, psi_y, psi_px, psi_py"
   ]
  },
  {
   "cell_type": "code",
   "execution_count": 52,
   "metadata": {},
   "outputs": [],
   "source": [
    "#vamos a necesitar numpy y matplotlib para lo que sigue\n",
    "import numpy as np\n",
    "import matplotlib.pyplot as plt"
   ]
  },
  {
   "cell_type": "markdown",
   "metadata": {},
   "source": [
    "## Resultados para $\\Psi_1$"
   ]
  },
  {
   "cell_type": "code",
   "execution_count": 53,
   "metadata": {},
   "outputs": [],
   "source": [
    "#definimos donde vamos a guardar la información  \n",
    "N = 1000 #pasos\n",
    "h = 0.001 #tamaño del paso\n",
    "data_t = np.zeros(N,)\n",
    "data_x = np.zeros(N,)\n",
    "data_y = np.zeros(N,) #esto se puede abreviar con un solo array más grande\n",
    "data_px = np.zeros(N,)\n",
    "data_py = np.zeros(N,)\n",
    "data_energy = np.zeros(N,)\n",
    "data_L = np.zeros(N,)\n",
    "x0, y0, px0, py0 = 0.3,0.,0,1 #condiciones iniciales\n",
    "xi0 = M.point((x0,y0,px0,py0))\n",
    "E0 = H(xi0) #energía inicial\n",
    "psi_x, psi_y, psi_px, psi_py = get_num_funcs(Psi1) "
   ]
  },
  {
   "cell_type": "code",
   "execution_count": 60,
   "metadata": {},
   "outputs": [
    {
     "data": {
      "text/html": [
       "<html>\\[\\newcommand{\\Bold}[1]{\\mathbf{#1}}-2.833333333333333\\]</html>"
      ],
      "text/latex": [
       "$$\\newcommand{\\Bold}[1]{\\mathbf{#1}}-2.833333333333333$$"
      ],
      "text/plain": [
       "-2.833333333333333"
      ]
     },
     "execution_count": 60,
     "metadata": {},
     "output_type": "execute_result"
    }
   ],
   "source": [
    "#Mostramos el valor de la energía inicial\n",
    "E0"
   ]
  },
  {
   "cell_type": "code",
   "execution_count": 55,
   "metadata": {},
   "outputs": [],
   "source": [
    "#añadimos las condiciones iniciales al principio de cada data array\n",
    "data_x[0] = x0\n",
    "data_y[0] = y0\n",
    "data_px[0] = px0\n",
    "data_py[0] = py0\n",
    "data_energy[0] = E0\n",
    "data_L[0] = py0*x0 -px0*y0"
   ]
  },
  {
   "cell_type": "code",
   "execution_count": 56,
   "metadata": {},
   "outputs": [],
   "source": [
    "for k in range(1,N): #quizá esto no es la mejor forma de hacer esto pero ajá\n",
    "    x_k = data_x[k-1]\n",
    "    y_k = data_y[k-1]\n",
    "    px_k = data_px[k-1]\n",
    "    py_k = data_py[k-1]\n",
    "    \n",
    "    data_t[k] = k*h \n",
    "    data_x[k] = psi_x(x_k, y_k, px_k, py_k, h)\n",
    "    data_y[k] = psi_y(x_k, y_k, px_k, py_k, h)\n",
    "    data_px[k] = psi_px(x_k, y_k, px_k, py_k, h)\n",
    "    data_py[k] = psi_py(x_k, y_k, px_k, py_k, h)\n",
    "    #hay un problema con las conversiones y no me deja llamar directamente la función H en manifolds\n",
    "    data_energy[k] = 0.5*(data_px[k]**2 + data_py[k]**2 ) - 1/np.sqrt(data_x[k]**2 + data_y[k]**2)\n",
    "    data_L[k] = data_x[k]*data_py[k] - data_y[k]*data_px[k]"
   ]
  },
  {
   "cell_type": "code",
   "execution_count": 61,
   "metadata": {},
   "outputs": [
    {
     "data": {
      "text/html": [
       "<html>\\[\\newcommand{\\Bold}[1]{\\mathbf{#1}}\\verb|Text(0.5,|\\verb| |\\verb|1.0,|\\verb| |\\verb|'Plano|\\verb| |\\verb|$xy$')|\\]</html>"
      ],
      "text/latex": [
       "$$\\newcommand{\\Bold}[1]{\\mathbf{#1}}\\verb|Text(0.5,|\\verb| |\\verb|1.0,|\\verb| |\\verb|'Plano|\\verb| |\\verb|$xy$')|$$"
      ],
      "text/plain": [
       "Text(0.5, 1.0, 'Plano $xy$')"
      ]
     },
     "execution_count": 61,
     "metadata": {},
     "output_type": "execute_result"
    },
    {
     "data": {
      "image/png": "[encoded data removed]",
      "text/plain": [
       "<Figure size 432x288 with 1 Axes>"
      ]
     },
     "metadata": {
      "needs_background": "light"
     },
     "output_type": "display_data"
    }
   ],
   "source": [
    "plt.plot(data_x, data_y)\n",
    "plt.xlabel(r\"$x$\")\n",
    "plt.ylabel(r\"$y$\")\n",
    "plt.title(r\"Plano $xy$\")"
   ]
  },
  {
   "cell_type": "code",
   "execution_count": 62,
   "metadata": {},
   "outputs": [
    {
     "data": {
      "text/html": [
       "<html>\\[\\newcommand{\\Bold}[1]{\\mathbf{#1}}\\verb|Text(0.5,|\\verb| |\\verb|1.0,|\\verb| |\\verb|'Energía|\\verb| |\\verb|en|\\verb| |\\verb|función|\\verb| |\\verb|del|\\verb| |\\verb|tiempo')|\\]</html>"
      ],
      "text/latex": [
       "$$\\newcommand{\\Bold}[1]{\\mathbf{#1}}\\verb|Text(0.5,|\\verb| |\\verb|1.0,|\\verb| |\\verb|'Energía|\\verb| |\\verb|en|\\verb| |\\verb|función|\\verb| |\\verb|del|\\verb| |\\verb|tiempo')|$$"
      ],
      "text/plain": [
       "Text(0.5, 1.0, 'Energía en función del tiempo')"
      ]
     },
     "execution_count": 62,
     "metadata": {},
     "output_type": "execute_result"
    },
    {
     "data": {
      "image/png": "[encoded data removed]",
      "text/plain": [
       "<Figure size 432x288 with 1 Axes>"
      ]
     },
     "metadata": {
      "needs_background": "light"
     },
     "output_type": "display_data"
    }
   ],
   "source": [
    "plt.plot(data_t, data_energy)\n",
    "plt.plot(data_t, np.ones(N,)*data_energy[0])\n",
    "plt.xlabel(r\"$t$\")\n",
    "plt.ylabel(r\"$E$\")\n",
    "plt.title(\"Energía en función del tiempo\")"
   ]
  },
  {
   "cell_type": "markdown",
   "metadata": {},
   "source": [
    "## Resultados para $\\Psi_2$"
   ]
  },
  {
   "cell_type": "code",
   "execution_count": 114,
   "metadata": {},
   "outputs": [],
   "source": [
    "#definimos donde vamos a guardar la información  \n",
    "N = 1000 #pasos\n",
    "h = 0.001 #tamaño del paso\n",
    "data_t = np.zeros(N,)\n",
    "data_x = np.zeros(N,)\n",
    "data_y = np.zeros(N,) #esto se puede abreviar con un solo array más grande\n",
    "data_px = np.zeros(N,)\n",
    "data_py = np.zeros(N,)\n",
    "data_energy = np.zeros(N,)\n",
    "data_L = np.zeros(N,)\n",
    "x0, y0, px0, py0 = 0.3,0.,0,1 #condiciones iniciales\n",
    "xi0 = M.point((x0,y0,px0,py0))\n",
    "E0 = H(xi0) #energía inicial\n",
    "psi_x, psi_y, psi_px, psi_py = get_num_funcs(Psi2) "
   ]
  },
  {
   "cell_type": "code",
   "execution_count": 119,
   "metadata": {},
   "outputs": [
    {
     "data": {
      "text/html": [
       "<html>\\[\\newcommand{\\Bold}[1]{\\mathbf{#1}}-2.833333333333333\\]</html>"
      ],
      "text/latex": [
       "$$\\newcommand{\\Bold}[1]{\\mathbf{#1}}-2.833333333333333$$"
      ],
      "text/plain": [
       "-2.833333333333333"
      ]
     },
     "execution_count": 119,
     "metadata": {},
     "output_type": "execute_result"
    }
   ],
   "source": [
    "#Mostramos el valor de la energía inicial\n",
    "E0"
   ]
  },
  {
   "cell_type": "code",
   "execution_count": 116,
   "metadata": {},
   "outputs": [],
   "source": [
    "#añadimos las condiciones iniciales al principio de cada data array\n",
    "data_x[0] = x0\n",
    "data_y[0] = y0\n",
    "data_px[0] = px0\n",
    "data_py[0] = py0\n",
    "data_energy[0] = E0\n",
    "data_L[0] = py0*x0 -px0*y0"
   ]
  },
  {
   "cell_type": "code",
   "execution_count": 117,
   "metadata": {},
   "outputs": [],
   "source": [
    "for k in range(1,N): #quizá esto no es la mejor forma de hacer esto pero ajá\n",
    "    x_k = data_x[k-1]\n",
    "    y_k = data_y[k-1]\n",
    "    px_k = data_px[k-1]\n",
    "    py_k = data_py[k-1]\n",
    "    \n",
    "    data_t[k] = k*h \n",
    "    data_x[k] = psi_x(x_k, y_k, px_k, py_k, h)\n",
    "    data_y[k] = psi_y(x_k, y_k, px_k, py_k, h)\n",
    "    data_px[k] = psi_px(x_k, y_k, px_k, py_k, h)\n",
    "    data_py[k] = psi_py(x_k, y_k, px_k, py_k, h)\n",
    "    #hay un problema con las conversiones y no me deja llamar directamente la función H en manifolds\n",
    "    data_energy[k] = 0.5*(data_px[k]**2 + data_py[k]**2 ) - 1/np.sqrt(data_x[k]**2 + data_y[k]**2)\n",
    "    data_L[k] = data_x[k]*data_py[k] - data_y[k]*data_px[k]"
   ]
  },
  {
   "cell_type": "code",
   "execution_count": 120,
   "metadata": {},
   "outputs": [
    {
     "data": {
      "text/html": [
       "<html>\\[\\newcommand{\\Bold}[1]{\\mathbf{#1}}\\verb|Text(0.5,|\\verb| |\\verb|1.0,|\\verb| |\\verb|'Plano|\\verb| |\\verb|$xy$')|\\]</html>"
      ],
      "text/latex": [
       "$$\\newcommand{\\Bold}[1]{\\mathbf{#1}}\\verb|Text(0.5,|\\verb| |\\verb|1.0,|\\verb| |\\verb|'Plano|\\verb| |\\verb|$xy$')|$$"
      ],
      "text/plain": [
       "Text(0.5, 1.0, 'Plano $xy$')"
      ]
     },
     "execution_count": 120,
     "metadata": {},
     "output_type": "execute_result"
    },
    {
     "data": {
      "image/png": "[encoded data removed]",
      "text/plain": [
       "<Figure size 432x288 with 1 Axes>"
      ]
     },
     "metadata": {
      "needs_background": "light"
     },
     "output_type": "display_data"
    }
   ],
   "source": [
    "plt.plot(data_x, data_y)\n",
    "plt.xlabel(r\"$x$\")\n",
    "plt.ylabel(r\"$y$\")\n",
    "plt.title(r\"Plano $xy$\")"
   ]
  },
  {
   "cell_type": "markdown",
   "metadata": {},
   "source": [
    "Vemos que cambiar el orden de integración sí tiene un efecto sobre el comportamiento, ahora la oscilación de la energía está desfazada en medio periodo. \n",
    "\n",
    "Nota para Federico: toca mirar bien los motivos de la oscilación para poder analizar mejor porque se invierte."
   ]
  },
  {
   "cell_type": "code",
   "execution_count": 121,
   "metadata": {},
   "outputs": [
    {
     "data": {
      "text/html": [
       "<html>\\[\\newcommand{\\Bold}[1]{\\mathbf{#1}}\\verb|Text(0.5,|\\verb| |\\verb|1.0,|\\verb| |\\verb|'Energía|\\verb| |\\verb|en|\\verb| |\\verb|función|\\verb| |\\verb|del|\\verb| |\\verb|tiempo')|\\]</html>"
      ],
      "text/latex": [
       "$$\\newcommand{\\Bold}[1]{\\mathbf{#1}}\\verb|Text(0.5,|\\verb| |\\verb|1.0,|\\verb| |\\verb|'Energía|\\verb| |\\verb|en|\\verb| |\\verb|función|\\verb| |\\verb|del|\\verb| |\\verb|tiempo')|$$"
      ],
      "text/plain": [
       "Text(0.5, 1.0, 'Energía en función del tiempo')"
      ]
     },
     "execution_count": 121,
     "metadata": {},
     "output_type": "execute_result"
    },
    {
     "data": {
      "image/png": "[encoded data removed]",
      "text/plain": [
       "<Figure size 432x288 with 1 Axes>"
      ]
     },
     "metadata": {
      "needs_background": "light"
     },
     "output_type": "display_data"
    }
   ],
   "source": [
    "plt.plot(data_t, data_energy)\n",
    "plt.plot(data_t, np.ones(N,)*data_energy[0])\n",
    "plt.xlabel(r\"$t$\")\n",
    "plt.ylabel(r\"$E$\")\n",
    "plt.title(\"Energía en función del tiempo\")"
   ]
  },
  {
   "cell_type": "code",
   "execution_count": 122,
   "metadata": {},
   "outputs": [
    {
     "data": {
      "text/html": [
       "<html>\\[\\newcommand{\\Bold}[1]{\\mathbf{#1}}\\left[\\verb|Line2D(_child0)|\\right]\\]</html>"
      ],
      "text/latex": [
       "$$\\newcommand{\\Bold}[1]{\\mathbf{#1}}\\left[\\verb|Line2D(_child0)|\\right]$$"
      ],
      "text/plain": [
       "[<matplotlib.lines.Line2D object at 0x7fa77765d910>]"
      ]
     },
     "execution_count": 122,
     "metadata": {},
     "output_type": "execute_result"
    },
    {
     "data": {
      "image/png": "[encoded data removed]",
      "text/plain": [
       "<Figure size 432x288 with 1 Axes>"
      ]
     },
     "metadata": {
      "needs_background": "light"
     },
     "output_type": "display_data"
    }
   ],
   "source": [
    "plt.plot(data_t, data_L)"
   ]
  },
  {
   "cell_type": "markdown",
   "metadata": {
    "scrolled": true
   },
   "source": [
    "Stormer Verlet\n",
    "$$\n",
    "  \\exp \\left( \\frac{1}{2} \\Delta t X_V \\right) \\exp \\left( \\Delta t X_T \\right)\\exp \\left( \\frac{1}{2} \\Delta t X_V \\right)\n",
    "$$\n",
    "Para la introducción de este debemos de modificar ligeramente los flujos para dar cuenta de las constantes introducidas."
   ]
  },
  {
   "cell_type": "code",
   "execution_count": 124,
   "metadata": {},
   "outputs": [
    {
     "data": {
      "text/html": [
       "<html>\\[\\newcommand{\\Bold}[1]{\\mathbf{#1}}\\begin{array}{llcl} \\psi_{H_T}^{\\Delta t}:& M & \\longrightarrow & M \\\\ & \\left(x, y, {p_x}, {p_y}\\right) & \\longmapsto & \\left({\\Delta t} {p_x} + x, {\\Delta t} {p_y} + y, {p_x}, {p_y}\\right) \\end{array}\\]</html>"
      ],
      "text/latex": [
       "$$\\newcommand{\\Bold}[1]{\\mathbf{#1}}\\begin{array}{llcl} \\psi_{H_T}^{\\Delta t}:& M & \\longrightarrow & M \\\\ & \\left(x, y, {p_x}, {p_y}\\right) & \\longmapsto & \\left({\\Delta t} {p_x} + x, {\\Delta t} {p_y} + y, {p_x}, {p_y}\\right) \\end{array}$$"
      ],
      "text/plain": [
       "M → M\n",
       "   (x, y, px, py) ↦ (dt*px + x, dt*py + y, px, py)"
      ]
     },
     "execution_count": 124,
     "metadata": {},
     "output_type": "execute_result"
    }
   ],
   "source": [
    "dt = var('dt', latex_name = r'\\Delta t')\n",
    "Psi_T = M.diff_map(M, [x + X_T[0].expr() * dt ,y + X_T[1].expr()*dt, px, py], \n",
    "                   latex_name=r\"\\psi_{H_T}^{\\Delta t}\")\n",
    "Psi_T.display()"
   ]
  },
  {
   "cell_type": "code",
   "execution_count": 125,
   "metadata": {},
   "outputs": [
    {
     "data": {
      "text/html": [
       "<html>\\[\\newcommand{\\Bold}[1]{\\mathbf{#1}}\\begin{array}{llcl} \\psi_{0.5H_V}^{\\Delta t}:& M & \\longrightarrow & M \\\\ & \\left(x, y, {p_x}, {p_y}\\right) & \\longmapsto & \\left(x, y, {p_x} - \\frac{{\\Delta t} x}{2 \\, {\\left(x^{2} + y^{2}\\right)}^{\\frac{3}{2}}}, {p_y} - \\frac{{\\Delta t} y}{2 \\, {\\left(x^{2} + y^{2}\\right)}^{\\frac{3}{2}}}\\right) \\end{array}\\]</html>"
      ],
      "text/latex": [
       "$$\\newcommand{\\Bold}[1]{\\mathbf{#1}}\\begin{array}{llcl} \\psi_{0.5H_V}^{\\Delta t}:& M & \\longrightarrow & M \\\\ & \\left(x, y, {p_x}, {p_y}\\right) & \\longmapsto & \\left(x, y, {p_x} - \\frac{{\\Delta t} x}{2 \\, {\\left(x^{2} + y^{2}\\right)}^{\\frac{3}{2}}}, {p_y} - \\frac{{\\Delta t} y}{2 \\, {\\left(x^{2} + y^{2}\\right)}^{\\frac{3}{2}}}\\right) \\end{array}$$"
      ],
      "text/plain": [
       "M → M\n",
       "   (x, y, px, py) ↦ (x, y, px - 1/2*dt*x/(x^2 + y^2)^(3/2), py - 1/2*dt*y/(x^2 + y^2)^(3/2))"
      ]
     },
     "execution_count": 125,
     "metadata": {},
     "output_type": "execute_result"
    }
   ],
   "source": [
    "Psi_V_modified = M.diff_map(M, [x, y, 1/2* X_V[2].expr()*dt + px, 1/2* X_V[3].expr()*dt + py], \n",
    "                       latex_name=r\"\\psi_{0.5H_V}^{\\Delta t}\")\n",
    "Psi_V_modified.display()"
   ]
  },
  {
   "cell_type": "code",
   "execution_count": 126,
   "metadata": {},
   "outputs": [],
   "source": [
    "storm_verlet_integrator = Psi_V_modified * Psi_T * Psi_V_modified"
   ]
  },
  {
   "cell_type": "code",
   "execution_count": 127,
   "metadata": {},
   "outputs": [
    {
     "data": {
      "text/html": [
       "<html>\\[\\newcommand{\\Bold}[1]{\\mathbf{#1}}\\begin{array}{llcl} & M & \\longrightarrow & M \\\\ & \\left(x, y, {p_x}, {p_y}\\right) & \\longmapsto & \\left(-\\frac{{\\Delta t}^{2} x - 2 \\, {\\left({\\Delta t} {p_x} x^{2} + x^{3} + {\\left({\\Delta t} {p_x} + x\\right)} y^{2}\\right)} \\sqrt{x^{2} + y^{2}}}{2 \\, {\\left(x^{2} + y^{2}\\right)}^{\\frac{3}{2}}}, -\\frac{{\\Delta t}^{2} y - 2 \\, {\\left({\\Delta t} {p_y} x^{2} + {\\Delta t} {p_y} y^{2} + x^{2} y + y^{3}\\right)} \\sqrt{x^{2} + y^{2}}}{2 \\, {\\left(x^{2} + y^{2}\\right)}^{\\frac{3}{2}}}, -\\frac{4 \\, {\\Delta t}^{3} x^{7} + 12 \\, {\\Delta t}^{3} x^{5} y^{2} + 12 \\, {\\Delta t}^{3} x^{3} y^{4} + 4 \\, {\\Delta t}^{3} x y^{6} - {\\left(16 \\, {\\Delta t}^{2} {p_x} x^{6} + 4 \\, {\\Delta t} x^{7} + 4 \\, {\\left(2 \\, {\\Delta t}^{2} {p_x} + {\\Delta t} x\\right)} y^{6} + {\\Delta t}^{5} x + 4 \\, {\\left(3 \\, {\\Delta t}^{3} {p_x}^{2} + {\\Delta t}^{3} {p_y}^{2}\\right)} x^{5} + 8 \\, {\\left({\\Delta t}^{3} {p_x} {p_y} + {\\Delta t}^{2} {p_y} x\\right)} y^{5} + 4 \\, {\\left(8 \\, {\\Delta t}^{2} {p_x} x^{2} + 3 \\, {\\Delta t} x^{3} + {\\left(3 \\, {\\Delta t}^{3} {p_x}^{2} + {\\Delta t}^{3} {p_y}^{2}\\right)} x\\right)} y^{4} + 16 \\, {\\left({\\Delta t}^{3} {p_x} {p_y} x^{2} + {\\Delta t}^{2} {p_y} x^{3}\\right)} y^{3} + 4 \\, {\\left(10 \\, {\\Delta t}^{2} {p_x} x^{4} + 3 \\, {\\Delta t} x^{5} + 2 \\, {\\left(3 \\, {\\Delta t}^{3} {p_x}^{2} + {\\Delta t}^{3} {p_y}^{2}\\right)} x^{3}\\right)} y^{2} + 8 \\, {\\left({\\Delta t}^{3} {p_x} {p_y} x^{4} + {\\Delta t}^{2} {p_y} x^{5}\\right)} y - 2 \\, {\\left(8 \\, {\\Delta t} {p_x}^{2} x^{7} + 24 \\, {\\Delta t} {p_x} {p_y} x^{4} y^{3} + 24 \\, {\\Delta t} {p_x} {p_y} x^{2} y^{5} + 8 \\, {\\Delta t} {p_x} {p_y} y^{7} + 4 \\, {p_x} x^{8} + 4 \\, {p_x} y^{8} + 3 \\, {\\Delta t}^{4} {p_x} x^{2} + 4 \\, {\\left({\\Delta t}^{2} {p_x}^{3} + {\\Delta t}^{2} {p_x} {p_y}^{2}\\right)} x^{6} + 4 \\, {\\left({\\Delta t}^{2} {p_x}^{3} + {\\Delta t}^{2} {p_x} {p_y}^{2} + 2 \\, {\\Delta t} {p_x}^{2} x + 4 \\, {p_x} x^{2}\\right)} y^{6} + 2 \\, {\\Delta t}^{3} x^{3} + 12 \\, {\\left(2 \\, {\\Delta t} {p_x}^{2} x^{3} + 2 \\, {p_x} x^{4} + {\\left({\\Delta t}^{2} {p_x}^{3} + {\\Delta t}^{2} {p_x} {p_y}^{2}\\right)} x^{2}\\right)} y^{4} + {\\left(24 \\, {\\Delta t} {p_x}^{2} x^{5} + 16 \\, {p_x} x^{6} + {\\Delta t}^{4} {p_x} + 12 \\, {\\left({\\Delta t}^{2} {p_x}^{3} + {\\Delta t}^{2} {p_x} {p_y}^{2}\\right)} x^{4} + 2 \\, {\\Delta t}^{3} x\\right)} y^{2} + 2 \\, {\\left(4 \\, {\\Delta t} {p_x} {p_y} x^{6} + {\\Delta t}^{4} {p_y} x\\right)} y\\right)} \\sqrt{x^{2} + y^{2}}\\right)} \\sqrt{8 \\, {\\Delta t} {p_x} x^{5} + 8 \\, {\\Delta t} {p_y} x^{4} y + 16 \\, {\\Delta t} {p_y} x^{2} y^{3} + 8 \\, {\\Delta t} {p_y} y^{5} + 4 \\, x^{6} + 4 \\, y^{6} + 4 \\, {\\left({\\Delta t}^{2} {p_x}^{2} + {\\Delta t}^{2} {p_y}^{2}\\right)} x^{4} + 4 \\, {\\left({\\Delta t}^{2} {p_x}^{2} + {\\Delta t}^{2} {p_y}^{2} + 2 \\, {\\Delta t} {p_x} x + 3 \\, x^{2}\\right)} y^{4} + {\\Delta t}^{4} + 4 \\, {\\left(4 \\, {\\Delta t} {p_x} x^{3} + 3 \\, x^{4} + 2 \\, {\\left({\\Delta t}^{2} {p_x}^{2} + {\\Delta t}^{2} {p_y}^{2}\\right)} x^{2}\\right)} y^{2} - 4 \\, {\\left({\\Delta t}^{3} {p_x} x + {\\Delta t}^{3} {p_y} y + {\\Delta t}^{2} x^{2} + {\\Delta t}^{2} y^{2}\\right)} \\sqrt{x^{2} + y^{2}}} - 8 \\, {\\left({\\Delta t}^{2} {p_x} x^{8} + {\\Delta t} x^{9} + {\\left({\\Delta t}^{2} {p_x} + {\\Delta t} x\\right)} y^{8} + 4 \\, {\\left({\\Delta t}^{2} {p_x} x^{2} + {\\Delta t} x^{3}\\right)} y^{6} + 6 \\, {\\left({\\Delta t}^{2} {p_x} x^{4} + {\\Delta t} x^{5}\\right)} y^{4} + 4 \\, {\\left({\\Delta t}^{2} {p_x} x^{6} + {\\Delta t} x^{7}\\right)} y^{2}\\right)} \\sqrt{x^{2} + y^{2}}}{2 \\, {\\left(4 \\, {\\Delta t}^{3} {p_x} x^{5} + 4 \\, {\\Delta t}^{3} {p_y} x^{4} y + 8 \\, {\\Delta t}^{3} {p_y} x^{2} y^{3} + 4 \\, {\\Delta t}^{3} {p_y} y^{5} + 4 \\, {\\Delta t}^{2} x^{6} + 4 \\, {\\Delta t}^{2} y^{6} + 4 \\, {\\left({\\Delta t}^{3} {p_x} x + 3 \\, {\\Delta t}^{2} x^{2}\\right)} y^{4} + 4 \\, {\\left(2 \\, {\\Delta t}^{3} {p_x} x^{3} + 3 \\, {\\Delta t}^{2} x^{4}\\right)} y^{2} - {\\left(8 \\, {\\Delta t} {p_x} x^{7} + 8 \\, {\\Delta t} {p_y} x^{6} y + 24 \\, {\\Delta t} {p_y} x^{4} y^{3} + 24 \\, {\\Delta t} {p_y} x^{2} y^{5} + 8 \\, {\\Delta t} {p_y} y^{7} + 4 \\, x^{8} + 4 \\, y^{8} + 4 \\, {\\left({\\Delta t}^{2} {p_x}^{2} + {\\Delta t}^{2} {p_y}^{2}\\right)} x^{6} + 4 \\, {\\left({\\Delta t}^{2} {p_x}^{2} + {\\Delta t}^{2} {p_y}^{2} + 2 \\, {\\Delta t} {p_x} x + 4 \\, x^{2}\\right)} y^{6} + {\\Delta t}^{4} x^{2} + 12 \\, {\\left(2 \\, {\\Delta t} {p_x} x^{3} + 2 \\, x^{4} + {\\left({\\Delta t}^{2} {p_x}^{2} + {\\Delta t}^{2} {p_y}^{2}\\right)} x^{2}\\right)} y^{4} + {\\left(24 \\, {\\Delta t} {p_x} x^{5} + 16 \\, x^{6} + 12 \\, {\\left({\\Delta t}^{2} {p_x}^{2} + {\\Delta t}^{2} {p_y}^{2}\\right)} x^{4} + {\\Delta t}^{4}\\right)} y^{2}\\right)} \\sqrt{x^{2} + y^{2}}\\right)} \\sqrt{8 \\, {\\Delta t} {p_x} x^{5} + 8 \\, {\\Delta t} {p_y} x^{4} y + 16 \\, {\\Delta t} {p_y} x^{2} y^{3} + 8 \\, {\\Delta t} {p_y} y^{5} + 4 \\, x^{6} + 4 \\, y^{6} + 4 \\, {\\left({\\Delta t}^{2} {p_x}^{2} + {\\Delta t}^{2} {p_y}^{2}\\right)} x^{4} + 4 \\, {\\left({\\Delta t}^{2} {p_x}^{2} + {\\Delta t}^{2} {p_y}^{2} + 2 \\, {\\Delta t} {p_x} x + 3 \\, x^{2}\\right)} y^{4} + {\\Delta t}^{4} + 4 \\, {\\left(4 \\, {\\Delta t} {p_x} x^{3} + 3 \\, x^{4} + 2 \\, {\\left({\\Delta t}^{2} {p_x}^{2} + {\\Delta t}^{2} {p_y}^{2}\\right)} x^{2}\\right)} y^{2} - 4 \\, {\\left({\\Delta t}^{3} {p_x} x + {\\Delta t}^{3} {p_y} y + {\\Delta t}^{2} x^{2} + {\\Delta t}^{2} y^{2}\\right)} \\sqrt{x^{2} + y^{2}}}}, -\\frac{4 \\, {\\Delta t}^{3} x^{6} y + 12 \\, {\\Delta t}^{3} x^{4} y^{3} + 12 \\, {\\Delta t}^{3} x^{2} y^{5} + 4 \\, {\\Delta t}^{3} y^{7} - {\\left(8 \\, {\\Delta t}^{3} {p_x} {p_y} x^{5} + 8 \\, {\\Delta t}^{2} {p_y} x^{6} + 16 \\, {\\Delta t}^{2} {p_y} y^{6} + 4 \\, {\\Delta t} y^{7} + 4 \\, {\\left({\\Delta t}^{3} {p_x}^{2} + 3 \\, {\\Delta t}^{3} {p_y}^{2} + 2 \\, {\\Delta t}^{2} {p_x} x + 3 \\, {\\Delta t} x^{2}\\right)} y^{5} + 8 \\, {\\left({\\Delta t}^{3} {p_x} {p_y} x + 5 \\, {\\Delta t}^{2} {p_y} x^{2}\\right)} y^{4} + 4 \\, {\\left(4 \\, {\\Delta t}^{2} {p_x} x^{3} + 3 \\, {\\Delta t} x^{4} + 2 \\, {\\left({\\Delta t}^{3} {p_x}^{2} + 3 \\, {\\Delta t}^{3} {p_y}^{2}\\right)} x^{2}\\right)} y^{3} + 16 \\, {\\left({\\Delta t}^{3} {p_x} {p_y} x^{3} + 2 \\, {\\Delta t}^{2} {p_y} x^{4}\\right)} y^{2} + {\\left(8 \\, {\\Delta t}^{2} {p_x} x^{5} + 4 \\, {\\Delta t} x^{6} + {\\Delta t}^{5} + 4 \\, {\\left({\\Delta t}^{3} {p_x}^{2} + 3 \\, {\\Delta t}^{3} {p_y}^{2}\\right)} x^{4}\\right)} y - 2 \\, {\\left(8 \\, {\\Delta t} {p_x} {p_y} x^{7} + 24 \\, {\\Delta t} {p_y}^{2} x^{2} y^{5} + 8 \\, {\\Delta t} {p_y}^{2} y^{7} + 4 \\, {p_y} x^{8} + 4 \\, {p_y} y^{8} + {\\Delta t}^{4} {p_y} x^{2} + 4 \\, {\\left({\\Delta t}^{2} {p_x}^{2} {p_y} + {\\Delta t}^{2} {p_y}^{3}\\right)} x^{6} + 4 \\, {\\left({\\Delta t}^{2} {p_x}^{2} {p_y} + {\\Delta t}^{2} {p_y}^{3} + 2 \\, {\\Delta t} {p_x} {p_y} x + 4 \\, {p_y} x^{2}\\right)} y^{6} + 12 \\, {\\left(2 \\, {\\Delta t} {p_x} {p_y} x^{3} + 2 \\, {p_y} x^{4} + {\\left({\\Delta t}^{2} {p_x}^{2} {p_y} + {\\Delta t}^{2} {p_y}^{3}\\right)} x^{2}\\right)} y^{4} + 2 \\, {\\left(12 \\, {\\Delta t} {p_y}^{2} x^{4} + {\\Delta t}^{3}\\right)} y^{3} + {\\left(24 \\, {\\Delta t} {p_x} {p_y} x^{5} + 16 \\, {p_y} x^{6} + 3 \\, {\\Delta t}^{4} {p_y} + 12 \\, {\\left({\\Delta t}^{2} {p_x}^{2} {p_y} + {\\Delta t}^{2} {p_y}^{3}\\right)} x^{4}\\right)} y^{2} + 2 \\, {\\left(4 \\, {\\Delta t} {p_y}^{2} x^{6} + {\\Delta t}^{4} {p_x} x + {\\Delta t}^{3} x^{2}\\right)} y\\right)} \\sqrt{x^{2} + y^{2}}\\right)} \\sqrt{8 \\, {\\Delta t} {p_x} x^{5} + 8 \\, {\\Delta t} {p_y} x^{4} y + 16 \\, {\\Delta t} {p_y} x^{2} y^{3} + 8 \\, {\\Delta t} {p_y} y^{5} + 4 \\, x^{6} + 4 \\, y^{6} + 4 \\, {\\left({\\Delta t}^{2} {p_x}^{2} + {\\Delta t}^{2} {p_y}^{2}\\right)} x^{4} + 4 \\, {\\left({\\Delta t}^{2} {p_x}^{2} + {\\Delta t}^{2} {p_y}^{2} + 2 \\, {\\Delta t} {p_x} x + 3 \\, x^{2}\\right)} y^{4} + {\\Delta t}^{4} + 4 \\, {\\left(4 \\, {\\Delta t} {p_x} x^{3} + 3 \\, x^{4} + 2 \\, {\\left({\\Delta t}^{2} {p_x}^{2} + {\\Delta t}^{2} {p_y}^{2}\\right)} x^{2}\\right)} y^{2} - 4 \\, {\\left({\\Delta t}^{3} {p_x} x + {\\Delta t}^{3} {p_y} y + {\\Delta t}^{2} x^{2} + {\\Delta t}^{2} y^{2}\\right)} \\sqrt{x^{2} + y^{2}}} - 8 \\, {\\left({\\Delta t}^{2} {p_y} x^{8} + 4 \\, {\\Delta t}^{2} {p_y} x^{6} y^{2} + 6 \\, {\\Delta t}^{2} {p_y} x^{4} y^{4} + 4 \\, {\\Delta t}^{2} {p_y} x^{2} y^{6} + {\\Delta t}^{2} {p_y} y^{8} + {\\Delta t} x^{8} y + 4 \\, {\\Delta t} x^{6} y^{3} + 6 \\, {\\Delta t} x^{4} y^{5} + 4 \\, {\\Delta t} x^{2} y^{7} + {\\Delta t} y^{9}\\right)} \\sqrt{x^{2} + y^{2}}}{2 \\, {\\left(4 \\, {\\Delta t}^{3} {p_x} x^{5} + 4 \\, {\\Delta t}^{3} {p_y} x^{4} y + 8 \\, {\\Delta t}^{3} {p_y} x^{2} y^{3} + 4 \\, {\\Delta t}^{3} {p_y} y^{5} + 4 \\, {\\Delta t}^{2} x^{6} + 4 \\, {\\Delta t}^{2} y^{6} + 4 \\, {\\left({\\Delta t}^{3} {p_x} x + 3 \\, {\\Delta t}^{2} x^{2}\\right)} y^{4} + 4 \\, {\\left(2 \\, {\\Delta t}^{3} {p_x} x^{3} + 3 \\, {\\Delta t}^{2} x^{4}\\right)} y^{2} - {\\left(8 \\, {\\Delta t} {p_x} x^{7} + 8 \\, {\\Delta t} {p_y} x^{6} y + 24 \\, {\\Delta t} {p_y} x^{4} y^{3} + 24 \\, {\\Delta t} {p_y} x^{2} y^{5} + 8 \\, {\\Delta t} {p_y} y^{7} + 4 \\, x^{8} + 4 \\, y^{8} + 4 \\, {\\left({\\Delta t}^{2} {p_x}^{2} + {\\Delta t}^{2} {p_y}^{2}\\right)} x^{6} + 4 \\, {\\left({\\Delta t}^{2} {p_x}^{2} + {\\Delta t}^{2} {p_y}^{2} + 2 \\, {\\Delta t} {p_x} x + 4 \\, x^{2}\\right)} y^{6} + {\\Delta t}^{4} x^{2} + 12 \\, {\\left(2 \\, {\\Delta t} {p_x} x^{3} + 2 \\, x^{4} + {\\left({\\Delta t}^{2} {p_x}^{2} + {\\Delta t}^{2} {p_y}^{2}\\right)} x^{2}\\right)} y^{4} + {\\left(24 \\, {\\Delta t} {p_x} x^{5} + 16 \\, x^{6} + 12 \\, {\\left({\\Delta t}^{2} {p_x}^{2} + {\\Delta t}^{2} {p_y}^{2}\\right)} x^{4} + {\\Delta t}^{4}\\right)} y^{2}\\right)} \\sqrt{x^{2} + y^{2}}\\right)} \\sqrt{8 \\, {\\Delta t} {p_x} x^{5} + 8 \\, {\\Delta t} {p_y} x^{4} y + 16 \\, {\\Delta t} {p_y} x^{2} y^{3} + 8 \\, {\\Delta t} {p_y} y^{5} + 4 \\, x^{6} + 4 \\, y^{6} + 4 \\, {\\left({\\Delta t}^{2} {p_x}^{2} + {\\Delta t}^{2} {p_y}^{2}\\right)} x^{4} + 4 \\, {\\left({\\Delta t}^{2} {p_x}^{2} + {\\Delta t}^{2} {p_y}^{2} + 2 \\, {\\Delta t} {p_x} x + 3 \\, x^{2}\\right)} y^{4} + {\\Delta t}^{4} + 4 \\, {\\left(4 \\, {\\Delta t} {p_x} x^{3} + 3 \\, x^{4} + 2 \\, {\\left({\\Delta t}^{2} {p_x}^{2} + {\\Delta t}^{2} {p_y}^{2}\\right)} x^{2}\\right)} y^{2} - 4 \\, {\\left({\\Delta t}^{3} {p_x} x + {\\Delta t}^{3} {p_y} y + {\\Delta t}^{2} x^{2} + {\\Delta t}^{2} y^{2}\\right)} \\sqrt{x^{2} + y^{2}}}}\\right) \\end{array}\\]</html>"
      ],
      "text/latex": [
       "$$\\newcommand{\\Bold}[1]{\\mathbf{#1}}\\begin{array}{llcl} & M & \\longrightarrow & M \\\\ & \\left(x, y, {p_x}, {p_y}\\right) & \\longmapsto & \\left(-\\frac{{\\Delta t}^{2} x - 2 \\, {\\left({\\Delta t} {p_x} x^{2} + x^{3} + {\\left({\\Delta t} {p_x} + x\\right)} y^{2}\\right)} \\sqrt{x^{2} + y^{2}}}{2 \\, {\\left(x^{2} + y^{2}\\right)}^{\\frac{3}{2}}}, -\\frac{{\\Delta t}^{2} y - 2 \\, {\\left({\\Delta t} {p_y} x^{2} + {\\Delta t} {p_y} y^{2} + x^{2} y + y^{3}\\right)} \\sqrt{x^{2} + y^{2}}}{2 \\, {\\left(x^{2} + y^{2}\\right)}^{\\frac{3}{2}}}, -\\frac{4 \\, {\\Delta t}^{3} x^{7} + 12 \\, {\\Delta t}^{3} x^{5} y^{2} + 12 \\, {\\Delta t}^{3} x^{3} y^{4} + 4 \\, {\\Delta t}^{3} x y^{6} - {\\left(16 \\, {\\Delta t}^{2} {p_x} x^{6} + 4 \\, {\\Delta t} x^{7} + 4 \\, {\\left(2 \\, {\\Delta t}^{2} {p_x} + {\\Delta t} x\\right)} y^{6} + {\\Delta t}^{5} x + 4 \\, {\\left(3 \\, {\\Delta t}^{3} {p_x}^{2} + {\\Delta t}^{3} {p_y}^{2}\\right)} x^{5} + 8 \\, {\\left({\\Delta t}^{3} {p_x} {p_y} + {\\Delta t}^{2} {p_y} x\\right)} y^{5} + 4 \\, {\\left(8 \\, {\\Delta t}^{2} {p_x} x^{2} + 3 \\, {\\Delta t} x^{3} + {\\left(3 \\, {\\Delta t}^{3} {p_x}^{2} + {\\Delta t}^{3} {p_y}^{2}\\right)} x\\right)} y^{4} + 16 \\, {\\left({\\Delta t}^{3} {p_x} {p_y} x^{2} + {\\Delta t}^{2} {p_y} x^{3}\\right)} y^{3} + 4 \\, {\\left(10 \\, {\\Delta t}^{2} {p_x} x^{4} + 3 \\, {\\Delta t} x^{5} + 2 \\, {\\left(3 \\, {\\Delta t}^{3} {p_x}^{2} + {\\Delta t}^{3} {p_y}^{2}\\right)} x^{3}\\right)} y^{2} + 8 \\, {\\left({\\Delta t}^{3} {p_x} {p_y} x^{4} + {\\Delta t}^{2} {p_y} x^{5}\\right)} y - 2 \\, {\\left(8 \\, {\\Delta t} {p_x}^{2} x^{7} + 24 \\, {\\Delta t} {p_x} {p_y} x^{4} y^{3} + 24 \\, {\\Delta t} {p_x} {p_y} x^{2} y^{5} + 8 \\, {\\Delta t} {p_x} {p_y} y^{7} + 4 \\, {p_x} x^{8} + 4 \\, {p_x} y^{8} + 3 \\, {\\Delta t}^{4} {p_x} x^{2} + 4 \\, {\\left({\\Delta t}^{2} {p_x}^{3} + {\\Delta t}^{2} {p_x} {p_y}^{2}\\right)} x^{6} + 4 \\, {\\left({\\Delta t}^{2} {p_x}^{3} + {\\Delta t}^{2} {p_x} {p_y}^{2} + 2 \\, {\\Delta t} {p_x}^{2} x + 4 \\, {p_x} x^{2}\\right)} y^{6} + 2 \\, {\\Delta t}^{3} x^{3} + 12 \\, {\\left(2 \\, {\\Delta t} {p_x}^{2} x^{3} + 2 \\, {p_x} x^{4} + {\\left({\\Delta t}^{2} {p_x}^{3} + {\\Delta t}^{2} {p_x} {p_y}^{2}\\right)} x^{2}\\right)} y^{4} + {\\left(24 \\, {\\Delta t} {p_x}^{2} x^{5} + 16 \\, {p_x} x^{6} + {\\Delta t}^{4} {p_x} + 12 \\, {\\left({\\Delta t}^{2} {p_x}^{3} + {\\Delta t}^{2} {p_x} {p_y}^{2}\\right)} x^{4} + 2 \\, {\\Delta t}^{3} x\\right)} y^{2} + 2 \\, {\\left(4 \\, {\\Delta t} {p_x} {p_y} x^{6} + {\\Delta t}^{4} {p_y} x\\right)} y\\right)} \\sqrt{x^{2} + y^{2}}\\right)} \\sqrt{8 \\, {\\Delta t} {p_x} x^{5} + 8 \\, {\\Delta t} {p_y} x^{4} y + 16 \\, {\\Delta t} {p_y} x^{2} y^{3} + 8 \\, {\\Delta t} {p_y} y^{5} + 4 \\, x^{6} + 4 \\, y^{6} + 4 \\, {\\left({\\Delta t}^{2} {p_x}^{2} + {\\Delta t}^{2} {p_y}^{2}\\right)} x^{4} + 4 \\, {\\left({\\Delta t}^{2} {p_x}^{2} + {\\Delta t}^{2} {p_y}^{2} + 2 \\, {\\Delta t} {p_x} x + 3 \\, x^{2}\\right)} y^{4} + {\\Delta t}^{4} + 4 \\, {\\left(4 \\, {\\Delta t} {p_x} x^{3} + 3 \\, x^{4} + 2 \\, {\\left({\\Delta t}^{2} {p_x}^{2} + {\\Delta t}^{2} {p_y}^{2}\\right)} x^{2}\\right)} y^{2} - 4 \\, {\\left({\\Delta t}^{3} {p_x} x + {\\Delta t}^{3} {p_y} y + {\\Delta t}^{2} x^{2} + {\\Delta t}^{2} y^{2}\\right)} \\sqrt{x^{2} + y^{2}}} - 8 \\, {\\left({\\Delta t}^{2} {p_x} x^{8} + {\\Delta t} x^{9} + {\\left({\\Delta t}^{2} {p_x} + {\\Delta t} x\\right)} y^{8} + 4 \\, {\\left({\\Delta t}^{2} {p_x} x^{2} + {\\Delta t} x^{3}\\right)} y^{6} + 6 \\, {\\left({\\Delta t}^{2} {p_x} x^{4} + {\\Delta t} x^{5}\\right)} y^{4} + 4 \\, {\\left({\\Delta t}^{2} {p_x} x^{6} + {\\Delta t} x^{7}\\right)} y^{2}\\right)} \\sqrt{x^{2} + y^{2}}}{2 \\, {\\left(4 \\, {\\Delta t}^{3} {p_x} x^{5} + 4 \\, {\\Delta t}^{3} {p_y} x^{4} y + 8 \\, {\\Delta t}^{3} {p_y} x^{2} y^{3} + 4 \\, {\\Delta t}^{3} {p_y} y^{5} + 4 \\, {\\Delta t}^{2} x^{6} + 4 \\, {\\Delta t}^{2} y^{6} + 4 \\, {\\left({\\Delta t}^{3} {p_x} x + 3 \\, {\\Delta t}^{2} x^{2}\\right)} y^{4} + 4 \\, {\\left(2 \\, {\\Delta t}^{3} {p_x} x^{3} + 3 \\, {\\Delta t}^{2} x^{4}\\right)} y^{2} - {\\left(8 \\, {\\Delta t} {p_x} x^{7} + 8 \\, {\\Delta t} {p_y} x^{6} y + 24 \\, {\\Delta t} {p_y} x^{4} y^{3} + 24 \\, {\\Delta t} {p_y} x^{2} y^{5} + 8 \\, {\\Delta t} {p_y} y^{7} + 4 \\, x^{8} + 4 \\, y^{8} + 4 \\, {\\left({\\Delta t}^{2} {p_x}^{2} + {\\Delta t}^{2} {p_y}^{2}\\right)} x^{6} + 4 \\, {\\left({\\Delta t}^{2} {p_x}^{2} + {\\Delta t}^{2} {p_y}^{2} + 2 \\, {\\Delta t} {p_x} x + 4 \\, x^{2}\\right)} y^{6} + {\\Delta t}^{4} x^{2} + 12 \\, {\\left(2 \\, {\\Delta t} {p_x} x^{3} + 2 \\, x^{4} + {\\left({\\Delta t}^{2} {p_x}^{2} + {\\Delta t}^{2} {p_y}^{2}\\right)} x^{2}\\right)} y^{4} + {\\left(24 \\, {\\Delta t} {p_x} x^{5} + 16 \\, x^{6} + 12 \\, {\\left({\\Delta t}^{2} {p_x}^{2} + {\\Delta t}^{2} {p_y}^{2}\\right)} x^{4} + {\\Delta t}^{4}\\right)} y^{2}\\right)} \\sqrt{x^{2} + y^{2}}\\right)} \\sqrt{8 \\, {\\Delta t} {p_x} x^{5} + 8 \\, {\\Delta t} {p_y} x^{4} y + 16 \\, {\\Delta t} {p_y} x^{2} y^{3} + 8 \\, {\\Delta t} {p_y} y^{5} + 4 \\, x^{6} + 4 \\, y^{6} + 4 \\, {\\left({\\Delta t}^{2} {p_x}^{2} + {\\Delta t}^{2} {p_y}^{2}\\right)} x^{4} + 4 \\, {\\left({\\Delta t}^{2} {p_x}^{2} + {\\Delta t}^{2} {p_y}^{2} + 2 \\, {\\Delta t} {p_x} x + 3 \\, x^{2}\\right)} y^{4} + {\\Delta t}^{4} + 4 \\, {\\left(4 \\, {\\Delta t} {p_x} x^{3} + 3 \\, x^{4} + 2 \\, {\\left({\\Delta t}^{2} {p_x}^{2} + {\\Delta t}^{2} {p_y}^{2}\\right)} x^{2}\\right)} y^{2} - 4 \\, {\\left({\\Delta t}^{3} {p_x} x + {\\Delta t}^{3} {p_y} y + {\\Delta t}^{2} x^{2} + {\\Delta t}^{2} y^{2}\\right)} \\sqrt{x^{2} + y^{2}}}}, -\\frac{4 \\, {\\Delta t}^{3} x^{6} y + 12 \\, {\\Delta t}^{3} x^{4} y^{3} + 12 \\, {\\Delta t}^{3} x^{2} y^{5} + 4 \\, {\\Delta t}^{3} y^{7} - {\\left(8 \\, {\\Delta t}^{3} {p_x} {p_y} x^{5} + 8 \\, {\\Delta t}^{2} {p_y} x^{6} + 16 \\, {\\Delta t}^{2} {p_y} y^{6} + 4 \\, {\\Delta t} y^{7} + 4 \\, {\\left({\\Delta t}^{3} {p_x}^{2} + 3 \\, {\\Delta t}^{3} {p_y}^{2} + 2 \\, {\\Delta t}^{2} {p_x} x + 3 \\, {\\Delta t} x^{2}\\right)} y^{5} + 8 \\, {\\left({\\Delta t}^{3} {p_x} {p_y} x + 5 \\, {\\Delta t}^{2} {p_y} x^{2}\\right)} y^{4} + 4 \\, {\\left(4 \\, {\\Delta t}^{2} {p_x} x^{3} + 3 \\, {\\Delta t} x^{4} + 2 \\, {\\left({\\Delta t}^{3} {p_x}^{2} + 3 \\, {\\Delta t}^{3} {p_y}^{2}\\right)} x^{2}\\right)} y^{3} + 16 \\, {\\left({\\Delta t}^{3} {p_x} {p_y} x^{3} + 2 \\, {\\Delta t}^{2} {p_y} x^{4}\\right)} y^{2} + {\\left(8 \\, {\\Delta t}^{2} {p_x} x^{5} + 4 \\, {\\Delta t} x^{6} + {\\Delta t}^{5} + 4 \\, {\\left({\\Delta t}^{3} {p_x}^{2} + 3 \\, {\\Delta t}^{3} {p_y}^{2}\\right)} x^{4}\\right)} y - 2 \\, {\\left(8 \\, {\\Delta t} {p_x} {p_y} x^{7} + 24 \\, {\\Delta t} {p_y}^{2} x^{2} y^{5} + 8 \\, {\\Delta t} {p_y}^{2} y^{7} + 4 \\, {p_y} x^{8} + 4 \\, {p_y} y^{8} + {\\Delta t}^{4} {p_y} x^{2} + 4 \\, {\\left({\\Delta t}^{2} {p_x}^{2} {p_y} + {\\Delta t}^{2} {p_y}^{3}\\right)} x^{6} + 4 \\, {\\left({\\Delta t}^{2} {p_x}^{2} {p_y} + {\\Delta t}^{2} {p_y}^{3} + 2 \\, {\\Delta t} {p_x} {p_y} x + 4 \\, {p_y} x^{2}\\right)} y^{6} + 12 \\, {\\left(2 \\, {\\Delta t} {p_x} {p_y} x^{3} + 2 \\, {p_y} x^{4} + {\\left({\\Delta t}^{2} {p_x}^{2} {p_y} + {\\Delta t}^{2} {p_y}^{3}\\right)} x^{2}\\right)} y^{4} + 2 \\, {\\left(12 \\, {\\Delta t} {p_y}^{2} x^{4} + {\\Delta t}^{3}\\right)} y^{3} + {\\left(24 \\, {\\Delta t} {p_x} {p_y} x^{5} + 16 \\, {p_y} x^{6} + 3 \\, {\\Delta t}^{4} {p_y} + 12 \\, {\\left({\\Delta t}^{2} {p_x}^{2} {p_y} + {\\Delta t}^{2} {p_y}^{3}\\right)} x^{4}\\right)} y^{2} + 2 \\, {\\left(4 \\, {\\Delta t} {p_y}^{2} x^{6} + {\\Delta t}^{4} {p_x} x + {\\Delta t}^{3} x^{2}\\right)} y\\right)} \\sqrt{x^{2} + y^{2}}\\right)} \\sqrt{8 \\, {\\Delta t} {p_x} x^{5} + 8 \\, {\\Delta t} {p_y} x^{4} y + 16 \\, {\\Delta t} {p_y} x^{2} y^{3} + 8 \\, {\\Delta t} {p_y} y^{5} + 4 \\, x^{6} + 4 \\, y^{6} + 4 \\, {\\left({\\Delta t}^{2} {p_x}^{2} + {\\Delta t}^{2} {p_y}^{2}\\right)} x^{4} + 4 \\, {\\left({\\Delta t}^{2} {p_x}^{2} + {\\Delta t}^{2} {p_y}^{2} + 2 \\, {\\Delta t} {p_x} x + 3 \\, x^{2}\\right)} y^{4} + {\\Delta t}^{4} + 4 \\, {\\left(4 \\, {\\Delta t} {p_x} x^{3} + 3 \\, x^{4} + 2 \\, {\\left({\\Delta t}^{2} {p_x}^{2} + {\\Delta t}^{2} {p_y}^{2}\\right)} x^{2}\\right)} y^{2} - 4 \\, {\\left({\\Delta t}^{3} {p_x} x + {\\Delta t}^{3} {p_y} y + {\\Delta t}^{2} x^{2} + {\\Delta t}^{2} y^{2}\\right)} \\sqrt{x^{2} + y^{2}}} - 8 \\, {\\left({\\Delta t}^{2} {p_y} x^{8} + 4 \\, {\\Delta t}^{2} {p_y} x^{6} y^{2} + 6 \\, {\\Delta t}^{2} {p_y} x^{4} y^{4} + 4 \\, {\\Delta t}^{2} {p_y} x^{2} y^{6} + {\\Delta t}^{2} {p_y} y^{8} + {\\Delta t} x^{8} y + 4 \\, {\\Delta t} x^{6} y^{3} + 6 \\, {\\Delta t} x^{4} y^{5} + 4 \\, {\\Delta t} x^{2} y^{7} + {\\Delta t} y^{9}\\right)} \\sqrt{x^{2} + y^{2}}}{2 \\, {\\left(4 \\, {\\Delta t}^{3} {p_x} x^{5} + 4 \\, {\\Delta t}^{3} {p_y} x^{4} y + 8 \\, {\\Delta t}^{3} {p_y} x^{2} y^{3} + 4 \\, {\\Delta t}^{3} {p_y} y^{5} + 4 \\, {\\Delta t}^{2} x^{6} + 4 \\, {\\Delta t}^{2} y^{6} + 4 \\, {\\left({\\Delta t}^{3} {p_x} x + 3 \\, {\\Delta t}^{2} x^{2}\\right)} y^{4} + 4 \\, {\\left(2 \\, {\\Delta t}^{3} {p_x} x^{3} + 3 \\, {\\Delta t}^{2} x^{4}\\right)} y^{2} - {\\left(8 \\, {\\Delta t} {p_x} x^{7} + 8 \\, {\\Delta t} {p_y} x^{6} y + 24 \\, {\\Delta t} {p_y} x^{4} y^{3} + 24 \\, {\\Delta t} {p_y} x^{2} y^{5} + 8 \\, {\\Delta t} {p_y} y^{7} + 4 \\, x^{8} + 4 \\, y^{8} + 4 \\, {\\left({\\Delta t}^{2} {p_x}^{2} + {\\Delta t}^{2} {p_y}^{2}\\right)} x^{6} + 4 \\, {\\left({\\Delta t}^{2} {p_x}^{2} + {\\Delta t}^{2} {p_y}^{2} + 2 \\, {\\Delta t} {p_x} x + 4 \\, x^{2}\\right)} y^{6} + {\\Delta t}^{4} x^{2} + 12 \\, {\\left(2 \\, {\\Delta t} {p_x} x^{3} + 2 \\, x^{4} + {\\left({\\Delta t}^{2} {p_x}^{2} + {\\Delta t}^{2} {p_y}^{2}\\right)} x^{2}\\right)} y^{4} + {\\left(24 \\, {\\Delta t} {p_x} x^{5} + 16 \\, x^{6} + 12 \\, {\\left({\\Delta t}^{2} {p_x}^{2} + {\\Delta t}^{2} {p_y}^{2}\\right)} x^{4} + {\\Delta t}^{4}\\right)} y^{2}\\right)} \\sqrt{x^{2} + y^{2}}\\right)} \\sqrt{8 \\, {\\Delta t} {p_x} x^{5} + 8 \\, {\\Delta t} {p_y} x^{4} y + 16 \\, {\\Delta t} {p_y} x^{2} y^{3} + 8 \\, {\\Delta t} {p_y} y^{5} + 4 \\, x^{6} + 4 \\, y^{6} + 4 \\, {\\left({\\Delta t}^{2} {p_x}^{2} + {\\Delta t}^{2} {p_y}^{2}\\right)} x^{4} + 4 \\, {\\left({\\Delta t}^{2} {p_x}^{2} + {\\Delta t}^{2} {p_y}^{2} + 2 \\, {\\Delta t} {p_x} x + 3 \\, x^{2}\\right)} y^{4} + {\\Delta t}^{4} + 4 \\, {\\left(4 \\, {\\Delta t} {p_x} x^{3} + 3 \\, x^{4} + 2 \\, {\\left({\\Delta t}^{2} {p_x}^{2} + {\\Delta t}^{2} {p_y}^{2}\\right)} x^{2}\\right)} y^{2} - 4 \\, {\\left({\\Delta t}^{3} {p_x} x + {\\Delta t}^{3} {p_y} y + {\\Delta t}^{2} x^{2} + {\\Delta t}^{2} y^{2}\\right)} \\sqrt{x^{2} + y^{2}}}}\\right) \\end{array}$$"
      ],
      "text/plain": [
       "M → M\n",
       "   (x, y, px, py) ↦ (-1/2*(dt^2*x - 2*(dt*px*x^2 + x^3 + (dt*px + x)*y^2)*sqrt(x^2 + y^2))/(x^2 + y^2)^(3/2), -1/2*(dt^2*y - 2*(dt*py*x^2 + dt*py*y^2 + x^2*y + y^3)*sqrt(x^2 + y^2))/(x^2 + y^2)^(3/2), -1/2*(4*dt^3*x^7 + 12*dt^3*x^5*y^2 + 12*dt^3*x^3*y^4 + 4*dt^3*x*y^6 - (16*dt^2*px*x^6 + 4*dt*x^7 + 4*(2*dt^2*px + dt*x)*y^6 + dt^5*x + 4*(3*dt^3*px^2 + dt^3*py^2)*x^5 + 8*(dt^3*px*py + dt^2*py*x)*y^5 + 4*(8*dt^2*px*x^2 + 3*dt*x^3 + (3*dt^3*px^2 + dt^3*py^2)*x)*y^4 + 16*(dt^3*px*py*x^2 + dt^2*py*x^3)*y^3 + 4*(10*dt^2*px*x^4 + 3*dt*x^5 + 2*(3*dt^3*px^2 + dt^3*py^2)*x^3)*y^2 + 8*(dt^3*px*py*x^4 + dt^2*py*x^5)*y - 2*(8*dt*px^2*x^7 + 24*dt*px*py*x^4*y^3 + 24*dt*px*py*x^2*y^5 + 8*dt*px*py*y^7 + 4*px*x^8 + 4*px*y^8 + 3*dt^4*px*x^2 + 4*(dt^2*px^3 + dt^2*px*py^2)*x^6 + 4*(dt^2*px^3 + dt^2*px*py^2 + 2*dt*px^2*x + 4*px*x^2)*y^6 + 2*dt^3*x^3 + 12*(2*dt*px^2*x^3 + 2*px*x^4 + (dt^2*px^3 + dt^2*px*py^2)*x^2)*y^4 + (24*dt*px^2*x^5 + 16*px*x^6 + dt^4*px + 12*(dt^2*px^3 + dt^2*px*py^2)*x^4 + 2*dt^3*x)*y^2 + 2*(4*dt*px*py*x^6 + dt^4*py*x)*y)*sqrt(x^2 + y^2))*sqrt(8*dt*px*x^5 + 8*dt*py*x^4*y + 16*dt*py*x^2*y^3 + 8*dt*py*y^5 + 4*x^6 + 4*y^6 + 4*(dt^2*px^2 + dt^2*py^2)*x^4 + 4*(dt^2*px^2 + dt^2*py^2 + 2*dt*px*x + 3*x^2)*y^4 + dt^4 + 4*(4*dt*px*x^3 + 3*x^4 + 2*(dt^2*px^2 + dt^2*py^2)*x^2)*y^2 - 4*(dt^3*px*x + dt^3*py*y + dt^2*x^2 + dt^2*y^2)*sqrt(x^2 + y^2)) - 8*(dt^2*px*x^8 + dt*x^9 + (dt^2*px + dt*x)*y^8 + 4*(dt^2*px*x^2 + dt*x^3)*y^6 + 6*(dt^2*px*x^4 + dt*x^5)*y^4 + 4*(dt^2*px*x^6 + dt*x^7)*y^2)*sqrt(x^2 + y^2))/((4*dt^3*px*x^5 + 4*dt^3*py*x^4*y + 8*dt^3*py*x^2*y^3 + 4*dt^3*py*y^5 + 4*dt^2*x^6 + 4*dt^2*y^6 + 4*(dt^3*px*x + 3*dt^2*x^2)*y^4 + 4*(2*dt^3*px*x^3 + 3*dt^2*x^4)*y^2 - (8*dt*px*x^7 + 8*dt*py*x^6*y + 24*dt*py*x^4*y^3 + 24*dt*py*x^2*y^5 + 8*dt*py*y^7 + 4*x^8 + 4*y^8 + 4*(dt^2*px^2 + dt^2*py^2)*x^6 + 4*(dt^2*px^2 + dt^2*py^2 + 2*dt*px*x + 4*x^2)*y^6 + dt^4*x^2 + 12*(2*dt*px*x^3 + 2*x^4 + (dt^2*px^2 + dt^2*py^2)*x^2)*y^4 + (24*dt*px*x^5 + 16*x^6 + 12*(dt^2*px^2 + dt^2*py^2)*x^4 + dt^4)*y^2)*sqrt(x^2 + y^2))*sqrt(8*dt*px*x^5 + 8*dt*py*x^4*y + 16*dt*py*x^2*y^3 + 8*dt*py*y^5 + 4*x^6 + 4*y^6 + 4*(dt^2*px^2 + dt^2*py^2)*x^4 + 4*(dt^2*px^2 + dt^2*py^2 + 2*dt*px*x + 3*x^2)*y^4 + dt^4 + 4*(4*dt*px*x^3 + 3*x^4 + 2*(dt^2*px^2 + dt^2*py^2)*x^2)*y^2 - 4*(dt^3*px*x + dt^3*py*y + dt^2*x^2 + dt^2*y^2)*sqrt(x^2 + y^2))), -1/2*(4*dt^3*x^6*y + 12*dt^3*x^4*y^3 + 12*dt^3*x^2*y^5 + 4*dt^3*y^7 - (8*dt^3*px*py*x^5 + 8*dt^2*py*x^6 + 16*dt^2*py*y^6 + 4*dt*y^7 + 4*(dt^3*px^2 + 3*dt^3*py^2 + 2*dt^2*px*x + 3*dt*x^2)*y^5 + 8*(dt^3*px*py*x + 5*dt^2*py*x^2)*y^4 + 4*(4*dt^2*px*x^3 + 3*dt*x^4 + 2*(dt^3*px^2 + 3*dt^3*py^2)*x^2)*y^3 + 16*(dt^3*px*py*x^3 + 2*dt^2*py*x^4)*y^2 + (8*dt^2*px*x^5 + 4*dt*x^6 + dt^5 + 4*(dt^3*px^2 + 3*dt^3*py^2)*x^4)*y - 2*(8*dt*px*py*x^7 + 24*dt*py^2*x^2*y^5 + 8*dt*py^2*y^7 + 4*py*x^8 + 4*py*y^8 + dt^4*py*x^2 + 4*(dt^2*px^2*py + dt^2*py^3)*x^6 + 4*(dt^2*px^2*py + dt^2*py^3 + 2*dt*px*py*x + 4*py*x^2)*y^6 + 12*(2*dt*px*py*x^3 + 2*py*x^4 + (dt^2*px^2*py + dt^2*py^3)*x^2)*y^4 + 2*(12*dt*py^2*x^4 + dt^3)*y^3 + (24*dt*px*py*x^5 + 16*py*x^6 + 3*dt^4*py + 12*(dt^2*px^2*py + dt^2*py^3)*x^4)*y^2 + 2*(4*dt*py^2*x^6 + dt^4*px*x + dt^3*x^2)*y)*sqrt(x^2 + y^2))*sqrt(8*dt*px*x^5 + 8*dt*py*x^4*y + 16*dt*py*x^2*y^3 + 8*dt*py*y^5 + 4*x^6 + 4*y^6 + 4*(dt^2*px^2 + dt^2*py^2)*x^4 + 4*(dt^2*px^2 + dt^2*py^2 + 2*dt*px*x + 3*x^2)*y^4 + dt^4 + 4*(4*dt*px*x^3 + 3*x^4 + 2*(dt^2*px^2 + dt^2*py^2)*x^2)*y^2 - 4*(dt^3*px*x + dt^3*py*y + dt^2*x^2 + dt^2*y^2)*sqrt(x^2 + y^2)) - 8*(dt^2*py*x^8 + 4*dt^2*py*x^6*y^2 + 6*dt^2*py*x^4*y^4 + 4*dt^2*py*x^2*y^6 + dt^2*py*y^8 + dt*x^8*y + 4*dt*x^6*y^3 + 6*dt*x^4*y^5 + 4*dt*x^2*y^7 + dt*y^9)*sqrt(x^2 + y^2))/((4*dt^3*px*x^5 + 4*dt^3*py*x^4*y + 8*dt^3*py*x^2*y^3 + 4*dt^3*py*y^5 + 4*dt^2*x^6 + 4*dt^2*y^6 + 4*(dt^3*px*x + 3*dt^2*x^2)*y^4 + 4*(2*dt^3*px*x^3 + 3*dt^2*x^4)*y^2 - (8*dt*px*x^7 + 8*dt*py*x^6*y + 24*dt*py*x^4*y^3 + 24*dt*py*x^2*y^5 + 8*dt*py*y^7 + 4*x^8 + 4*y^8 + 4*(dt^2*px^2 + dt^2*py^2)*x^6 + 4*(dt^2*px^2 + dt^2*py^2 + 2*dt*px*x + 4*x^2)*y^6 + dt^4*x^2 + 12*(2*dt*px*x^3 + 2*x^4 + (dt^2*px^2 + dt^2*py^2)*x^2)*y^4 + (24*dt*px*x^5 + 16*x^6 + 12*(dt^2*px^2 + dt^2*py^2)*x^4 + dt^4)*y^2)*sqrt(x^2 + y^2))*sqrt(8*dt*px*x^5 + 8*dt*py*x^4*y + 16*dt*py*x^2*y^3 + 8*dt*py*y^5 + 4*x^6 + 4*y^6 + 4*(dt^2*px^2 + dt^2*py^2)*x^4 + 4*(dt^2*px^2 + dt^2*py^2 + 2*dt*px*x + 3*x^2)*y^4 + dt^4 + 4*(4*dt*px*x^3 + 3*x^4 + 2*(dt^2*px^2 + dt^2*py^2)*x^2)*y^2 - 4*(dt^3*px*x + dt^3*py*y + dt^2*x^2 + dt^2*y^2)*sqrt(x^2 + y^2))))"
      ]
     },
     "execution_count": 127,
     "metadata": {},
     "output_type": "execute_result"
    }
   ],
   "source": [
    "storm_verlet_integrator.display()"
   ]
  },
  {
   "cell_type": "code",
   "execution_count": 128,
   "metadata": {},
   "outputs": [],
   "source": [
    "#definimos las expresiones mediante fast_callable para que podamos evaluar no solo los puntos sino también dt\n",
    "expressions = storm_verlet_integrator.expr()\n",
    "psi_x = fast_callable(expressions[0], vars=[x,y, px, py, dt])\n",
    "psi_y = fast_callable(expressions[1], vars=[x,y, px, py, dt])\n",
    "psi_px = fast_callable(expressions[2], vars=[x,y, px, py, dt])\n",
    "psi_py = fast_callable(expressions[3], vars=[x,y, px, py, dt])"
   ]
  },
  {
   "cell_type": "code",
   "execution_count": 129,
   "metadata": {},
   "outputs": [],
   "source": [
    "#vamos a necesitar numpy y matplotlib para lo que sigue\n",
    "import numpy as np\n",
    "import matplotlib.pyplot as plt"
   ]
  },
  {
   "cell_type": "code",
   "execution_count": 151,
   "metadata": {},
   "outputs": [],
   "source": [
    "#definimos donde vamos a guardar la información \n",
    "\n",
    "N = 1000 #pasos\n",
    "h = 0.001 #tamaño del paso\n",
    "data_t = np.zeros(N,)\n",
    "data_x = np.zeros(N,)\n",
    "data_y = np.zeros(N,) #esto se puede abreviar con un solo array más grande\n",
    "data_px = np.zeros(N,)\n",
    "data_py = np.zeros(N,)\n",
    "data_energy = np.zeros(N,)\n",
    "data_L = np.zeros(N,)\n",
    "x0, y0, px0, py0 =0.3,0.,0,1 #condiciones iniciales\n",
    "xi0 = M.point((x0,y0,px0,py0))\n",
    "E0 = H(xi0) #energía inicial\n"
   ]
  },
  {
   "cell_type": "code",
   "execution_count": 152,
   "metadata": {},
   "outputs": [
    {
     "data": {
      "text/html": [
       "<html>\\[\\newcommand{\\Bold}[1]{\\mathbf{#1}}-2.833333333333333\\]</html>"
      ],
      "text/latex": [
       "$$\\newcommand{\\Bold}[1]{\\mathbf{#1}}-2.833333333333333$$"
      ],
      "text/plain": [
       "-2.833333333333333"
      ]
     },
     "execution_count": 152,
     "metadata": {},
     "output_type": "execute_result"
    }
   ],
   "source": [
    "E0"
   ]
  },
  {
   "cell_type": "code",
   "execution_count": 153,
   "metadata": {},
   "outputs": [],
   "source": [
    "#añadimos las condiciones iniciales al principio de cada data array\n",
    "data_x[0] = x0\n",
    "data_y[0] = y0\n",
    "data_px[0] = px0\n",
    "data_py[0] = py0\n",
    "data_energy[0] = E0\n",
    "data_L[0] = x0*py0 - y0*px0"
   ]
  },
  {
   "cell_type": "code",
   "execution_count": 154,
   "metadata": {},
   "outputs": [],
   "source": [
    "for k in range(1,N): #quizá esto no es la mejor forma de hacer esto pero ajá\n",
    "    x_k = data_x[k-1]\n",
    "    y_k = data_y[k-1]\n",
    "    px_k = data_px[k-1]\n",
    "    py_k = data_py[k-1]\n",
    "    \n",
    "    data_t[k] = k*h \n",
    "    data_x[k] = psi_x(x_k, y_k, px_k, py_k, h)\n",
    "    data_y[k] = psi_y(x_k, y_k, px_k, py_k, h)\n",
    "    data_px[k] = psi_px(x_k, y_k, px_k, py_k, h)\n",
    "    data_py[k] = psi_py(x_k, y_k, px_k, py_k, h)\n",
    "    #hay un problema con las conversiones y no me deja llamar directamente la función H en manifolds\n",
    "    data_energy[k] = float(0.5*(data_px[k]**2 + data_py[k]**2 ) - 1/np.sqrt(data_x[k]**2 + data_y[k]**2))\n",
    "    data_L[k] = float(data_x[k]*data_py[k] - data_y[k]*data_px[k])"
   ]
  },
  {
   "cell_type": "code",
   "execution_count": 155,
   "metadata": {},
   "outputs": [
    {
     "data": {
      "text/html": [
       "<html>\\[\\newcommand{\\Bold}[1]{\\mathbf{#1}}\\left[\\verb|Line2D(_child0)|\\right]\\]</html>"
      ],
      "text/latex": [
       "$$\\newcommand{\\Bold}[1]{\\mathbf{#1}}\\left[\\verb|Line2D(_child0)|\\right]$$"
      ],
      "text/plain": [
       "[<matplotlib.lines.Line2D object at 0x7fa777111280>]"
      ]
     },
     "execution_count": 155,
     "metadata": {},
     "output_type": "execute_result"
    },
    {
     "data": {
      "image/png": "[encoded data removed]",
      "text/plain": [
       "<Figure size 432x288 with 1 Axes>"
      ]
     },
     "metadata": {
      "needs_background": "light"
     },
     "output_type": "display_data"
    }
   ],
   "source": [
    "plt.plot(data_x,data_y)"
   ]
  },
  {
   "cell_type": "code",
   "execution_count": 158,
   "metadata": {},
   "outputs": [
    {
     "data": {
      "text/html": [
       "<html>\\[\\newcommand{\\Bold}[1]{\\mathbf{#1}}\\left[\\verb|Line2D(_child0)|\\right]\\]</html>"
      ],
      "text/latex": [
       "$$\\newcommand{\\Bold}[1]{\\mathbf{#1}}\\left[\\verb|Line2D(_child0)|\\right]$$"
      ],
      "text/plain": [
       "[<matplotlib.lines.Line2D object at 0x7fa77c0e2df0>]"
      ]
     },
     "execution_count": 158,
     "metadata": {},
     "output_type": "execute_result"
    },
    {
     "data": {
      "image/png": "[encoded data removed]",
      "text/plain": [
       "<Figure size 432x288 with 1 Axes>"
      ]
     },
     "metadata": {
      "needs_background": "light"
     },
     "output_type": "display_data"
    }
   ],
   "source": [
    "plt.plot(data_t, data_energy)"
   ]
  },
  {
   "cell_type": "code",
   "execution_count": 157,
   "metadata": {},
   "outputs": [
    {
     "data": {
      "text/html": [
       "<html>\\[\\newcommand{\\Bold}[1]{\\mathbf{#1}}\\left[\\verb|Line2D(_child0)|\\right]\\]</html>"
      ],
      "text/latex": [
       "$$\\newcommand{\\Bold}[1]{\\mathbf{#1}}\\left[\\verb|Line2D(_child0)|\\right]$$"
      ],
      "text/plain": [
       "[<matplotlib.lines.Line2D object at 0x7fa77704ad60>]"
      ]
     },
     "execution_count": 157,
     "metadata": {},
     "output_type": "execute_result"
    },
    {
     "data": {
      "image/png": "[encoded data removed]",
      "text/plain": [
       "<Figure size 432x288 with 1 Axes>"
      ]
     },
     "metadata": {
      "needs_background": "light"
     },
     "output_type": "display_data"
    }
   ],
   "source": [
    "plt.plot(data_t, data_energy - np.ones(N,)*data_energy[0])"
   ]
  },
  {
   "cell_type": "code",
   "execution_count": 159,
   "metadata": {},
   "outputs": [
    {
     "data": {
      "text/html": [
       "<html>\\[\\newcommand{\\Bold}[1]{\\mathbf{#1}}\\verb|&lt;class|\\verb| |\\verb|'numpy.float64'>|\\]</html>"
      ],
      "text/latex": [
       "$$\\newcommand{\\Bold}[1]{\\mathbf{#1}}\\verb|<class|\\verb| |\\verb|'numpy.float64'>|$$"
      ],
      "text/plain": [
       "<class 'numpy.float64'>"
      ]
     },
     "execution_count": 159,
     "metadata": {},
     "output_type": "execute_result"
    }
   ],
   "source": [
    "type(data_energy[0])"
   ]
  },
  {
   "cell_type": "code",
   "execution_count": 160,
   "metadata": {},
   "outputs": [
    {
     "data": {
      "text/html": [
       "<html>\\[\\newcommand{\\Bold}[1]{\\mathbf{#1}}\\left[\\verb|Line2D(_child0)|\\right]\\]</html>"
      ],
      "text/latex": [
       "$$\\newcommand{\\Bold}[1]{\\mathbf{#1}}\\left[\\verb|Line2D(_child0)|\\right]$$"
      ],
      "text/plain": [
       "[<matplotlib.lines.Line2D object at 0x7fa776fd89a0>]"
      ]
     },
     "execution_count": 160,
     "metadata": {},
     "output_type": "execute_result"
    },
    {
     "data": {
      "image/png": "[encoded data removed]",
      "text/plain": [
       "<Figure size 432x288 with 1 Axes>"
      ]
     },
     "metadata": {
      "needs_background": "light"
     },
     "output_type": "display_data"
    }
   ],
   "source": [
    "plt.plot(data_t, np.ones(N,)*data_L[0]-data_L)"
   ]
  },
  {
   "cell_type": "code",
   "execution_count": 161,
   "metadata": {},
   "outputs": [
    {
     "data": {
      "text/html": [
       "<html>\\[\\newcommand{\\Bold}[1]{\\mathbf{#1}}\\left[\\verb|Line2D(_child0)|\\right]\\]</html>"
      ],
      "text/latex": [
       "$$\\newcommand{\\Bold}[1]{\\mathbf{#1}}\\left[\\verb|Line2D(_child0)|\\right]$$"
      ],
      "text/plain": [
       "[<matplotlib.lines.Line2D object at 0x7fa776faf490>]"
      ]
     },
     "execution_count": 161,
     "metadata": {},
     "output_type": "execute_result"
    },
    {
     "data": {
      "image/png": "[encoded data removed]",
      "text/plain": [
       "<Figure size 432x288 with 1 Axes>"
      ]
     },
     "metadata": {
      "needs_background": "light"
     },
     "output_type": "display_data"
    }
   ],
   "source": [
    "plt.plot(data_t, data_L)"
   ]
  }
 ],
 "metadata": {
  "kernelspec": {
   "display_name": "SageMath 9.5",
   "language": "sage",
   "name": "sagemath"
  },
  "language_info": {
   "codemirror_mode": {
    "name": "ipython",
    "version": 3
   },
   "file_extension": ".py",
   "mimetype": "text/x-python",
   "name": "python",
   "nbconvert_exporter": "python",
   "pygments_lexer": "ipython3",
   "version": "3.9.9"
  }
 },
 "nbformat": 4,
 "nbformat_minor": 4
}
