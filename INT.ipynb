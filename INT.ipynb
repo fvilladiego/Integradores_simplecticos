{
 "cells": [
  {
   "cell_type": "code",
   "execution_count": 1,
   "metadata": {},
   "outputs": [
    {
     "data": {
      "text/plain": [
       "'SageMath version 9.5, Release Date: 2022-01-30'"
      ]
     },
     "execution_count": 1,
     "metadata": {},
     "output_type": "execute_result"
    }
   ],
   "source": [
    "version()"
   ]
  },
  {
   "cell_type": "code",
   "execution_count": 2,
   "metadata": {},
   "outputs": [],
   "source": [
    "#%display latex"
   ]
  },
  {
   "cell_type": "markdown",
   "metadata": {},
   "source": [
    "# Definición de la variedad e introducción de la carta cartesiana\n",
    "Lo primero que vamos a necesitar es definir de forma adecuada la variedad que representa el espacio de fase sobre el que definiremos la mecánica que vamos a estudiar y introducir sobre esta cartas apropiadas. "
   ]
  },
  {
   "cell_type": "code",
   "execution_count": 3,
   "metadata": {},
   "outputs": [
    {
     "data": {
      "text/html": [
       "<html>\\[\\newcommand{\\Bold}[1]{\\mathbf{#1}}M\\]</html>"
      ],
      "text/latex": [
       "$$\\newcommand{\\Bold}[1]{\\mathbf{#1}}M$$"
      ],
      "text/plain": [
       "6-dimensional differentiable manifold M"
      ]
     },
     "execution_count": 3,
     "metadata": {},
     "output_type": "execute_result"
    }
   ],
   "source": [
    "n = 3 #cantidad de grados de libertad\n",
    "M=Manifold(2*n, name='M', structure=\"differentiable\"); M"
   ]
  },
  {
   "cell_type": "markdown",
   "metadata": {},
   "source": [
    "Por el momento el problema solo lo hemos formulado en coordenadas cartesianas (en el espacio físico), por lo que usamos las coordenadas canónica inducidas por estas sobre M. Recordemos que M es el espacio cotangente de la variedad de configuraciones, que para el problema de Kepler puede representarse como $\\mathbb{R^3}/{0}$. "
   ]
  },
  {
   "cell_type": "code",
   "execution_count": 4,
>>>>>>> 141a5b1d9262a04b6a898a1f0911aa55daddb100
   "metadata": {},
   "outputs": [
    {
     "data": {
      "text/html": [
       "<html>\\[\\newcommand{\\Bold}[1]{\\mathbf{#1}}\\left(M,(x, y, z, {p_x}, {p_y}, {p_z})\\right)\\]</html>"
      ],
      "text/latex": [
       "$$\\newcommand{\\Bold}[1]{\\mathbf{#1}}\\left(M,(x, y, z, {p_x}, {p_y}, {p_z})\\right)$$"
      ],
      "text/plain": [
       "Chart (M, (x, y, z, px, py, pz))"
      ]
     },
     "execution_count": 72,
     "metadata": {},
     "output_type": "execute_result"
    }
   ],
   "source": [
    "std.<x, y, z, px, py, pz> = M.chart('x y z px:p_x py:p_y pz:p_z', coord_restrictions= lambda x,y,z,px,py,pz :x**2 + y**2 + z**2 !=0); std"
   ]
  },
  {
   "cell_type": "code",
   "execution_count": 5,
   "metadata": {},
   "outputs": [
    {
     "data": {
      "text/html": [
       "<html>\\[\\newcommand{\\Bold}[1]{\\mathbf{#1}}\\left(M, \\left(\\frac{\\partial}{\\partial x },\\frac{\\partial}{\\partial y },\\frac{\\partial}{\\partial z },\\frac{\\partial}{\\partial {p_x} },\\frac{\\partial}{\\partial {p_y} },\\frac{\\partial}{\\partial {p_z} }\\right)\\right)\\]</html>"
      ],
      "text/latex": [
       "$$\\newcommand{\\Bold}[1]{\\mathbf{#1}}\\left(M, \\left(\\frac{\\partial}{\\partial x },\\frac{\\partial}{\\partial y },\\frac{\\partial}{\\partial z },\\frac{\\partial}{\\partial {p_x} },\\frac{\\partial}{\\partial {p_y} },\\frac{\\partial}{\\partial {p_z} }\\right)\\right)$$"
      ],
      "text/plain": [
       "\\left(M, \\left(\\frac{\\partial}{\\partial x },\\frac{\\partial}{\\partial y },\\frac{\\partial}{\\partial z },\\frac{\\partial}{\\partial {p_x} },\\frac{\\partial}{\\partial {p_y} },\\frac{\\partial}{\\partial {p_z} }\\right)\\right)"
      ]
     },
     "execution_count": 5,
     "metadata": {},
     "output_type": "execute_result"
    }
   ],
   "source": [
    "latex(M.default_frame()) #base de vectores "
   ]
  },
  {
   "cell_type": "code",
   "execution_count": 6,
   "metadata": {},
   "outputs": [
    {
     "data": {
      "text/html": [
       "<html>\\[\\newcommand{\\Bold}[1]{\\mathbf{#1}}\\left[\\verb|x|\\verb| |\\verb|is|\\verb| |\\verb|real|, \\verb|y|\\verb| |\\verb|is|\\verb| |\\verb|real|, \\verb|z|\\verb| |\\verb|is|\\verb| |\\verb|real|, \\verb|px|\\verb| |\\verb|is|\\verb| |\\verb|real|, \\verb|py|\\verb| |\\verb|is|\\verb| |\\verb|real|, \\verb|pz|\\verb| |\\verb|is|\\verb| |\\verb|real|, x^{2} + y^{2} + z^{2} > 0\\right]\\]</html>"
      ],
      "text/latex": [
       "$$\\newcommand{\\Bold}[1]{\\mathbf{#1}}\\left[\\verb|x|\\verb| |\\verb|is|\\verb| |\\verb|real|, \\verb|y|\\verb| |\\verb|is|\\verb| |\\verb|real|, \\verb|z|\\verb| |\\verb|is|\\verb| |\\verb|real|, \\verb|px|\\verb| |\\verb|is|\\verb| |\\verb|real|, \\verb|py|\\verb| |\\verb|is|\\verb| |\\verb|real|, \\verb|pz|\\verb| |\\verb|is|\\verb| |\\verb|real|, x^{2} + y^{2} + z^{2} > 0\\right]$$"
      ],
      "text/plain": [
       "[x is real,\n",
       " y is real,\n",
       " z is real,\n",
       " px is real,\n",
       " py is real,\n",
       " pz is real,\n",
       " x^2 + y^2 + z^2 > 0]"
      ]
     },
     "execution_count": 6,
     "metadata": {},
     "output_type": "execute_result"
    }
   ],
   "source": [
    "##Notese que estamos restringiendo la carta para que no considere el origen y también le pasamos la restricción\n",
    "##a sage para la manipulación simbólica. \n",
    "(x**2 + y**2+z**2>0).assume()  \n",
    "assumptions()              "
   ]
  },
  {
   "cell_type": "markdown",
   "metadata": {},
   "source": [
    "# Integradores simplécticos \n"
   ]
  },
  {
   "cell_type": "markdown",
   "metadata": {},
   "source": [
    "La técnica que vamos a usar es llamada _Hamiltonian Splitting_, consiste en dividir el Hamiltoniano en varios Hamiltonianos cuyos flows puedan ser calculados de manera exacta y después componer los flows para aproximar el flow del Hamiltoniano inicial. Para nuestro caso:\n",
    "\n",
    "$$\n",
    "H(\\mathbf{q},\\mathbf{p}) = H_T(\\mathbf{p}) + H_V(\\mathbf{q})\n",
    "$$\n",
    "Para nuestro caso el hamiltoniano es \n",
    "$$H(\\mathbf{q},\\mathbf{p}) = \\frac{1}{2}\\bigg( p_x^2 + p_y^2 + p_z^2\\bigg) - \\frac{1}{\\sqrt{x^2 + y^2 + z^2}}$$\n",
    "donde el modelo ya ha sido normalizado. \n",
    "$$H_T = \\frac{1}{2}\\bigg( p_x^2 + p_y^2 + p_z^2\\bigg)$$\n",
    "$$H_V = - \\frac{1}{\\sqrt{x^2 + y^2 + z^2}}$$\n",
    "Nuestra siguiente tarea entonces es obtener los flujos de $H_V$ y$H_T$, el primer paso para esto es construir el campo vectorial asoaciado con cada Hamiltoniano."
   ]
  },
  {
   "cell_type": "markdown",
   "metadata": {},
   "source": [
    "## Definición de $H_V$ y $H_T$ en Sage\n",
    "Sagemanifolds permite la introducción de campos escalares sobre las variedades, esto es lo que usamos para definir los Hamiltonianos en que hemos divivido el problema."
   ]
  },
  {
   "cell_type": "code",
   "execution_count": 7,
   "metadata": {},
   "outputs": [],
   "source": [
    "H_V = M.scalar_field(-1/sqrt(x**2 + y**2 + z**2), name=r'H_V')\n",
    "H_T = M.scalar_field( (px^2 +py^2 + pz^2 )/2  , name='H_T' )"
   ]
  },
  {
   "cell_type": "code",
   "execution_count": 8,
   "metadata": {},
   "outputs": [
    {
     "data": {
      "text/html": [
       "<html>\\[\\newcommand{\\Bold}[1]{\\mathbf{#1}}\\begin{array}{llcl} H_T:& M & \\longrightarrow & \\mathbb{R} \\\\ & \\left(x, y, z, {p_x}, {p_y}, {p_z}\\right) & \\longmapsto & \\frac{1}{2} \\, {p_x}^{2} + \\frac{1}{2} \\, {p_y}^{2} + \\frac{1}{2} \\, {p_z}^{2} \\end{array}\\]</html>"
      ],
      "text/latex": [
       "$$\\newcommand{\\Bold}[1]{\\mathbf{#1}}\\begin{array}{llcl} H_T:& M & \\longrightarrow & \\mathbb{R} \\\\ & \\left(x, y, z, {p_x}, {p_y}, {p_z}\\right) & \\longmapsto & \\frac{1}{2} \\, {p_x}^{2} + \\frac{1}{2} \\, {p_y}^{2} + \\frac{1}{2} \\, {p_z}^{2} \\end{array}$$"
      ],
      "text/plain": [
       "H_T: M → ℝ\n",
       "   (x, y, z, px, py, pz) ↦ 1/2*px^2 + 1/2*py^2 + 1/2*pz^2"
      ]
     },
     "execution_count": 8,
     "metadata": {},
     "output_type": "execute_result"
    }
   ],
   "source": [
    "H_T.display()"
   ]
  },
  {
   "cell_type": "code",
   "execution_count": 9,
   "metadata": {},
   "outputs": [
    {
     "data": {
      "text/html": [
       "<html>\\[\\newcommand{\\Bold}[1]{\\mathbf{#1}}\\begin{array}{llcl} H_V:& M & \\longrightarrow & \\mathbb{R} \\\\ & \\left(x, y, z, {p_x}, {p_y}, {p_z}\\right) & \\longmapsto & -\\frac{1}{\\sqrt{x^{2} + y^{2} + z^{2}}} \\end{array}\\]</html>"
      ],
      "text/latex": [
       "$$\\newcommand{\\Bold}[1]{\\mathbf{#1}}\\begin{array}{llcl} H_V:& M & \\longrightarrow & \\mathbb{R} \\\\ & \\left(x, y, z, {p_x}, {p_y}, {p_z}\\right) & \\longmapsto & -\\frac{1}{\\sqrt{x^{2} + y^{2} + z^{2}}} \\end{array}$$"
      ],
      "text/plain": [
       "H_V: M → ℝ\n",
       "   (x, y, z, px, py, pz) ↦ -1/sqrt(x^2 + y^2 + z^2)"
      ]
     },
     "execution_count": 9,
     "metadata": {},
     "output_type": "execute_result"
    }
   ],
   "source": [
    "H_V.display()"
   ]
  },
  {
   "cell_type": "code",
   "execution_count": 10,
   "metadata": {},
   "outputs": [
    {
     "data": {
      "text/html": [
       "<html>\\[\\newcommand{\\Bold}[1]{\\mathbf{#1}}\\begin{array}{llcl} H_V+H_T:& M & \\longrightarrow & \\mathbb{R} \\\\ & \\left(x, y, z, {p_x}, {p_y}, {p_z}\\right) & \\longmapsto & \\frac{{\\left({p_x}^{2} + {p_y}^{2} + {p_z}^{2}\\right)} \\sqrt{x^{2} + y^{2} + z^{2}} - 2}{2 \\, \\sqrt{x^{2} + y^{2} + z^{2}}} \\end{array}\\]</html>"
      ],
      "text/latex": [
       "$$\\newcommand{\\Bold}[1]{\\mathbf{#1}}\\begin{array}{llcl} H_V+H_T:& M & \\longrightarrow & \\mathbb{R} \\\\ & \\left(x, y, z, {p_x}, {p_y}, {p_z}\\right) & \\longmapsto & \\frac{{\\left({p_x}^{2} + {p_y}^{2} + {p_z}^{2}\\right)} \\sqrt{x^{2} + y^{2} + z^{2}} - 2}{2 \\, \\sqrt{x^{2} + y^{2} + z^{2}}} \\end{array}$$"
      ],
      "text/plain": [
       "H_V+H_T: M → ℝ\n",
       "   (x, y, z, px, py, pz) ↦ 1/2*((px^2 + py^2 + pz^2)*sqrt(x^2 + y^2 + z^2) - 2)/sqrt(x^2 + y^2 + z^2)"
      ]
     },
     "execution_count": 10,
     "metadata": {},
     "output_type": "execute_result"
    }
   ],
   "source": [
    "H = H_V + H_T\n",
    "H.display()"
   ]
  },
  {
   "cell_type": "markdown",
   "metadata": {},
   "source": [
    "## Campos Vectoriales Hamiltonianos $X_T$ y $X_V$\n",
    "Para calcular el flujo usamos el campo vectorial hamiltoniano asociado. Recordemos que tenemos el siguiente isomorfismo ($\\omega^{\\sharp}$ se ve muy feo entonces lo pongo como $\\beta$)\n",
    "$$\n",
    "\\begin{align*}\n",
    "  \\beta \\colon TM & \\longrightarrow T^{*}M \\\\\n",
    "  a_\\alpha \\frac{\\partial}{\\partial q_\\alpha} +  b_\\alpha \\frac{\\partial}{\\partial p_\\alpha} & \\longmapsto \n",
    "  -b_\\alpha dq_\\alpha + a_\\alpha dp_\\alpha\n",
    "\\end{align*}\n",
    "$$\n",
    "el cual es facilmente invertible para que nos de la conexión entre los diferenciales de $H_V$ y $H_T$ con sus respectivos campos vectoriales hamiltonianos, los cuales después usaremos para obtener los flows de cada uno.\n",
    "$$\n",
    "\\begin{align*}\n",
    "  \\beta^{-1} \\colon T^{*}M & \\longrightarrow TM \\\\\n",
    "  a_\\alpha dq_\\alpha + b_\\alpha dp_\\alpha & \\longmapsto b_\\alpha \\frac{\\partial}{\\partial q_\\alpha}- a_\\alpha \\frac{\\partial}{\\partial p_\\alpha}\n",
    "  \\end{align*}\n",
    "$$\n",
    "Pasamos ahora a definir $\\beta^{-1}$ en Sage con el nombre de beta_inverse "
   ]
  },
  {
   "cell_type": "code",
   "execution_count": 11,
   "metadata": {},
   "outputs": [],
   "source": [
    "'''Función que recibe una 1-forma(diferencial) y retorna un campo vectorial. El campo es definido en el frame por \n",
    "    defecto de la variedad M sobre la que está definida la forma.\n",
    "INPUT: (forma diferencial en sagemanifolds) forma diferencial alpha\n",
    "OUTPUT: (campo vectorial en sagemanifolds) campo vectorial X_alpha'''\n",
    "def beta_inverse(alpha):\n",
    "    M = alpha.domain()\n",
    "    e = M.default_frame()\n",
    "    ##hasta donde revisé, no hay una forma más simple de acceder a los componentes de la forma.\n",
    "    ##Me faltó revisar la documentación de campos tensoriales, a lo mejor allá hablan algo de eso.\n",
    "    #OJO: Se asume que la variedad es de dimensión par y el marco por defecto es la base canónica.\n",
    "    n= M.dimension()\n",
    "    X_alpha_q = sum(alpha(e[i+n/2])*e[i] for i in range(0,n/2))\n",
    "    X_alpha_p = sum(-alpha(e[i])*e[i+n/2] for i in range(0,n/2))\n",
    "    X_alpha = X_alpha_q + X_alpha_p\n",
    "    return X_alpha"
   ]
  },
  {
   "cell_type": "markdown",
   "metadata": {},
   "source": [
    "Procedemos a hacer el cálculo del diferencial de los hamiltonianos y se obtienen los campos vectoriales atravez de $\\beta^{-1}$."
   ]
  },
  {
   "cell_type": "code",
   "execution_count": 12,
   "metadata": {},
   "outputs": [],
   "source": [
    "dH_V = H_V.differential()\n",
    "dH_T = H_T.differential()"
   ]
  },
  {
   "cell_type": "code",
   "execution_count": 13,
<<<<<<< HEAD
=======
   "metadata": {},
   "outputs": [
    {
     "data": {
      "text/plain": [
       "dH_V = x/(x^2 + y^2 + z^2)^(3/2) dx + y/(x^2 + y^2 + z^2)^(3/2) dy + z/(x^2 + y^2 + z^2)^(3/2) dz"
      ]
     },
     "execution_count": 13,
     "metadata": {},
     "output_type": "execute_result"
    }
   ],
   "source": [
    "dH_V.display()"
   ]
  },
  {
   "cell_type": "code",
   "execution_count": 14,
>>>>>>> 141a5b1d9262a04b6a898a1f0911aa55daddb100
   "metadata": {},
   "outputs": [
    {
     "data": {
      "text/html": [
       "<html>\\[\\newcommand{\\Bold}[1]{\\mathbf{#1}}\\mathrm{d}H_V = \\frac{x}{{\\left(x^{2} + y^{2} + z^{2}\\right)}^{\\frac{3}{2}}} \\mathrm{d} x + \\frac{y}{{\\left(x^{2} + y^{2} + z^{2}\\right)}^{\\frac{3}{2}}} \\mathrm{d} y + \\frac{z}{{\\left(x^{2} + y^{2} + z^{2}\\right)}^{\\frac{3}{2}}} \\mathrm{d} z\\]</html>"
      ],
      "text/latex": [
       "$$\\newcommand{\\Bold}[1]{\\mathbf{#1}}\\mathrm{d}H_V = \\frac{x}{{\\left(x^{2} + y^{2} + z^{2}\\right)}^{\\frac{3}{2}}} \\mathrm{d} x + \\frac{y}{{\\left(x^{2} + y^{2} + z^{2}\\right)}^{\\frac{3}{2}}} \\mathrm{d} y + \\frac{z}{{\\left(x^{2} + y^{2} + z^{2}\\right)}^{\\frac{3}{2}}} \\mathrm{d} z$$"
      ],
      "text/plain": [
       "dH_V = x/(x^2 + y^2 + z^2)^(3/2) dx + y/(x^2 + y^2 + z^2)^(3/2) dy + z/(x^2 + y^2 + z^2)^(3/2) dz"
      ]
     },
     "execution_count": 14,
     "metadata": {},
     "output_type": "execute_result"
    }
   ],
   "source": [
    "dH_V.display()"
   ]
  },
  {
   "cell_type": "code",
   "execution_count": 15,
   "metadata": {},
   "outputs": [
    {
     "data": {
      "text/html": [
       "<html>\\[\\newcommand{\\Bold}[1]{\\mathbf{#1}}\\mathrm{d}H_T = {p_x} \\mathrm{d} {p_x} + {p_y} \\mathrm{d} {p_y} + {p_z} \\mathrm{d} {p_z}\\]</html>"
      ],
      "text/latex": [
       "$$\\newcommand{\\Bold}[1]{\\mathbf{#1}}\\mathrm{d}H_T = {p_x} \\mathrm{d} {p_x} + {p_y} \\mathrm{d} {p_y} + {p_z} \\mathrm{d} {p_z}$$"
      ],
      "text/plain": [
       "dH_T = px dpx + py dpy + pz dpz"
      ]
     },
     "execution_count": 15,
     "metadata": {},
     "output_type": "execute_result"
    }
   ],
   "source": [
    "dH_T.display()"
   ]
  },
  {
   "cell_type": "code",
   "execution_count": 16,
   "metadata": {},
   "outputs": [],
   "source": [
    "X_T = beta_inverse(dH_T)\n",
    "X_V = beta_inverse(dH_V)"
   ]
  },
  {
   "cell_type": "code",
<<<<<<< HEAD
   "execution_count": 18,
=======
   "execution_count": 17,
>>>>>>> 141a5b1d9262a04b6a898a1f0911aa55daddb100
   "metadata": {},
   "outputs": [
    {
     "data": {
      "text/html": [
       "<html>\\[\\newcommand{\\Bold}[1]{\\mathbf{#1}}\\mathrm{d}H_T\\left( \\frac{\\partial}{\\partial {p_x} } \\right) \\cdot \\frac{\\partial}{\\partial x } + \\mathrm{d}H_T\\left( \\frac{\\partial}{\\partial {p_y} } \\right) \\cdot \\frac{\\partial}{\\partial y } + \\mathrm{d}H_T\\left( \\frac{\\partial}{\\partial {p_z} } \\right) \\cdot \\frac{\\partial}{\\partial z } + - \\mathrm{d}H_T\\left( \\frac{\\partial}{\\partial x } \\right) \\cdot \\frac{\\partial}{\\partial {p_x} } + - \\mathrm{d}H_T\\left( \\frac{\\partial}{\\partial y } \\right) \\cdot \\frac{\\partial}{\\partial {p_y} } + - \\mathrm{d}H_T\\left( \\frac{\\partial}{\\partial z } \\right) \\cdot \\frac{\\partial}{\\partial {p_z} } = {p_x} \\frac{\\partial}{\\partial x } + {p_y} \\frac{\\partial}{\\partial y } + {p_z} \\frac{\\partial}{\\partial z }\\]</html>"
      ],
      "text/latex": [
       "$$\\newcommand{\\Bold}[1]{\\mathbf{#1}}\\mathrm{d}H_T\\left( \\frac{\\partial}{\\partial {p_x} } \\right) \\cdot \\frac{\\partial}{\\partial x } + \\mathrm{d}H_T\\left( \\frac{\\partial}{\\partial {p_y} } \\right) \\cdot \\frac{\\partial}{\\partial y } + \\mathrm{d}H_T\\left( \\frac{\\partial}{\\partial {p_z} } \\right) \\cdot \\frac{\\partial}{\\partial z } + - \\mathrm{d}H_T\\left( \\frac{\\partial}{\\partial x } \\right) \\cdot \\frac{\\partial}{\\partial {p_x} } + - \\mathrm{d}H_T\\left( \\frac{\\partial}{\\partial y } \\right) \\cdot \\frac{\\partial}{\\partial {p_y} } + - \\mathrm{d}H_T\\left( \\frac{\\partial}{\\partial z } \\right) \\cdot \\frac{\\partial}{\\partial {p_z} } = {p_x} \\frac{\\partial}{\\partial x } + {p_y} \\frac{\\partial}{\\partial y } + {p_z} \\frac{\\partial}{\\partial z }$$"
      ],
      "text/plain": [
       "dH_T(∂/∂px)*∂/∂x+dH_T(∂/∂py)*∂/∂y+dH_T(∂/∂pz)*∂/∂z+-dH_T(∂/∂x)*∂/∂px+-dH_T(∂/∂y)*∂/∂py+-dH_T(∂/∂z)*∂/∂pz = px ∂/∂x + py ∂/∂y + pz ∂/∂z"
      ]
     },
<<<<<<< HEAD
     "execution_count": 18,
=======
     "execution_count": 17,
>>>>>>> 141a5b1d9262a04b6a898a1f0911aa55daddb100
     "metadata": {},
     "output_type": "execute_result"
    }
   ],
   "source": [
    "X_T.display()"
   ]
  },
  {
   "cell_type": "code",
   "execution_count": 18,
   "metadata": {},
   "outputs": [
    {
     "data": {
      "text/html": [
       "<html>\\[\\newcommand{\\Bold}[1]{\\mathbf{#1}}\\mathrm{d}H_V\\left( \\frac{\\partial}{\\partial {p_x} } \\right) \\cdot \\frac{\\partial}{\\partial x } + \\mathrm{d}H_V\\left( \\frac{\\partial}{\\partial {p_y} } \\right) \\cdot \\frac{\\partial}{\\partial y } + \\mathrm{d}H_V\\left( \\frac{\\partial}{\\partial {p_z} } \\right) \\cdot \\frac{\\partial}{\\partial z } + - \\mathrm{d}H_V\\left( \\frac{\\partial}{\\partial x } \\right) \\cdot \\frac{\\partial}{\\partial {p_x} } + - \\mathrm{d}H_V\\left( \\frac{\\partial}{\\partial y } \\right) \\cdot \\frac{\\partial}{\\partial {p_y} } + - \\mathrm{d}H_V\\left( \\frac{\\partial}{\\partial z } \\right) \\cdot \\frac{\\partial}{\\partial {p_z} } = -\\frac{x}{{\\left(x^{2} + y^{2} + z^{2}\\right)}^{\\frac{3}{2}}} \\frac{\\partial}{\\partial {p_x} } -\\frac{y}{{\\left(x^{2} + y^{2} + z^{2}\\right)}^{\\frac{3}{2}}} \\frac{\\partial}{\\partial {p_y} } -\\frac{z}{{\\left(x^{2} + y^{2} + z^{2}\\right)}^{\\frac{3}{2}}} \\frac{\\partial}{\\partial {p_z} }\\]</html>"
      ],
      "text/latex": [
       "$$\\newcommand{\\Bold}[1]{\\mathbf{#1}}\\mathrm{d}H_V\\left( \\frac{\\partial}{\\partial {p_x} } \\right) \\cdot \\frac{\\partial}{\\partial x } + \\mathrm{d}H_V\\left( \\frac{\\partial}{\\partial {p_y} } \\right) \\cdot \\frac{\\partial}{\\partial y } + \\mathrm{d}H_V\\left( \\frac{\\partial}{\\partial {p_z} } \\right) \\cdot \\frac{\\partial}{\\partial z } + - \\mathrm{d}H_V\\left( \\frac{\\partial}{\\partial x } \\right) \\cdot \\frac{\\partial}{\\partial {p_x} } + - \\mathrm{d}H_V\\left( \\frac{\\partial}{\\partial y } \\right) \\cdot \\frac{\\partial}{\\partial {p_y} } + - \\mathrm{d}H_V\\left( \\frac{\\partial}{\\partial z } \\right) \\cdot \\frac{\\partial}{\\partial {p_z} } = -\\frac{x}{{\\left(x^{2} + y^{2} + z^{2}\\right)}^{\\frac{3}{2}}} \\frac{\\partial}{\\partial {p_x} } -\\frac{y}{{\\left(x^{2} + y^{2} + z^{2}\\right)}^{\\frac{3}{2}}} \\frac{\\partial}{\\partial {p_y} } -\\frac{z}{{\\left(x^{2} + y^{2} + z^{2}\\right)}^{\\frac{3}{2}}} \\frac{\\partial}{\\partial {p_z} }$$"
      ],
      "text/plain": [
       "dH_V(∂/∂px)*∂/∂x+dH_V(∂/∂py)*∂/∂y+dH_V(∂/∂pz)*∂/∂z+-dH_V(∂/∂x)*∂/∂px+-dH_V(∂/∂y)*∂/∂py+-dH_V(∂/∂z)*∂/∂pz = -x/(x^2 + y^2 + z^2)^(3/2) ∂/∂px - y/(x^2 + y^2 + z^2)^(3/2) ∂/∂py - z/(x^2 + y^2 + z^2)^(3/2) ∂/∂pz"
      ]
     },
     "execution_count": 18,
     "metadata": {},
     "output_type": "execute_result"
    }
   ],
   "source": [
    "X_V.display()"
   ]
  },
  {
<<<<<<< HEAD
=======
   "cell_type": "code",
   "execution_count": 19,
   "metadata": {},
   "outputs": [
    {
     "data": {
      "text/plain": [
       "py"
      ]
     },
     "execution_count": 19,
     "metadata": {},
     "output_type": "execute_result"
    }
   ],
   "source": [
    "X_T[1].expr()"
   ]
  },
  {
>>>>>>> 141a5b1d9262a04b6a898a1f0911aa55daddb100
   "cell_type": "markdown",
   "metadata": {},
   "source": [
    "Aplicando las ecuaciones de Hamilton podemos dar una respuesta general para la forma de los flows:\n",
    "$$\\psi_{H_T}^{\\Delta t} (q,p) = \\bigg(q + \\frac{\\partial H_T}{\\partial p}(p) \\Delta t, p \\bigg) $$\n",
    "$$\\psi_{H_V}^{\\Delta t} (q,p) = \\bigg(q , p  -\\frac{\\partial H_V}{\\partial q}(q)  \\Delta t\\bigg) $$\n",
    "Donde las derivadas parciales (con signo incluido) de los Hamiltonianos provienen de las componentes no nulas de sus campos vectoriales."
   ]
  },
  {
   "cell_type": "markdown",
   "metadata": {},
   "source": [
    "# Método Euler simpléctico y definición de los flujos en Sage\n",
    "Este esquema de aproximación consiste en sencillamente combinar los flujos de $H_V$ y $H_T$ y es de primer orden [see, Munro]. Para nuestra suerte los flujos siempre se pueden obtener sin tener que resolver numéricamente (este era el punto de escoger T(p) + H(q)), pasamos ahora a escribirlos usando las componentes de los campos vectoriales:\n",
    "\n",
    "$$\\psi_{H_T}^{\\Delta t} (q,p) = (x + p_x\\Delta t, y + p_y\\Delta t, z + p_z\\Delta t , p_x, p_y,p_z) $$\n",
    "Este siempre tendrá esta forma si $H_T$ dependen solo de $p$ y además es una forma cuadrática diagonal.\n",
    "$$\\psi_{H_V}^{\\Delta t} (q,p) = (x, y,z, p_x - \\frac{x\\Delta t}{(x^2+y^2+z^2)^{3/2}}, p_y - \\frac{y\\Delta t}{(x^2+y^2+z^2)^{3/2}} , p_z - \\frac{z\\Delta t}{(x^2+y^2+z^2)^{3/2}}) $$\n",
    "Lo siguiente es componerlos, aunque primero debemos de definirlos en Sage para componerlos de forma computacional.\n",
    "\n"
   ]
  },
  {
   "cell_type": "code",
<<<<<<< HEAD
   "execution_count": 74,
=======
   "execution_count": 20,
>>>>>>> 141a5b1d9262a04b6a898a1f0911aa55daddb100
   "metadata": {},
   "outputs": [
    {
     "data": {
      "text/html": [
       "<html>\\[\\newcommand{\\Bold}[1]{\\mathbf{#1}}\\begin{array}{llcl} \\psi_{H_T}^{\\Delta t}:& M & \\longrightarrow & M \\\\ & \\left(x, y, z, {p_x}, {p_y}, {p_z}\\right) & \\longmapsto & \\left({\\Delta t} {p_x} + x, {\\Delta t} {p_y} + y, {\\Delta t} {p_z} + z, {p_x}, {p_y}, {p_z}\\right) \\end{array}\\]</html>"
      ],
      "text/latex": [
       "$$\\newcommand{\\Bold}[1]{\\mathbf{#1}}\\begin{array}{llcl} \\psi_{H_T}^{\\Delta t}:& M & \\longrightarrow & M \\\\ & \\left(x, y, z, {p_x}, {p_y}, {p_z}\\right) & \\longmapsto & \\left({\\Delta t} {p_x} + x, {\\Delta t} {p_y} + y, {\\Delta t} {p_z} + z, {p_x}, {p_y}, {p_z}\\right) \\end{array}$$"
      ],
      "text/plain": [
       "M → M\n",
       "   (x, y, z, px, py, pz) ↦ (dt*px + x, dt*py + y, dt*pz + z, px, py, pz)"
      ]
     },
<<<<<<< HEAD
     "execution_count": 74,
=======
     "execution_count": 20,
>>>>>>> 141a5b1d9262a04b6a898a1f0911aa55daddb100
     "metadata": {},
     "output_type": "execute_result"
    }
   ],
   "source": [
    "dt = var('dt', latex_name = r'\\Delta t')\n",
    "Psi_T = M.diff_map(M, [x + X_T[0].expr() * dt , y + X_T[1].expr() * dt, z + X_T[2].expr()* dt ,\n",
    "                       px , py , pz], latex_name=r\"\\psi_{H_T}^{\\Delta t}\")\n",
    "Psi_T.display()"
   ]
  },
  {
   "cell_type": "code",
<<<<<<< HEAD
   "execution_count": 75,
=======
   "execution_count": 21,
>>>>>>> 141a5b1d9262a04b6a898a1f0911aa55daddb100
   "metadata": {},
   "outputs": [
    {
     "data": {
      "text/html": [
       "<html>\\[\\newcommand{\\Bold}[1]{\\mathbf{#1}}\\begin{array}{llcl} \\psi_{H_V}^{\\Delta t}:& M & \\longrightarrow & M \\\\ & \\left(x, y, z, {p_x}, {p_y}, {p_z}\\right) & \\longmapsto & \\left(x, y, z, {p_x} - \\frac{{\\Delta t} x}{{\\left(x^{2} + y^{2} + z^{2}\\right)}^{\\frac{3}{2}}}, {p_y} - \\frac{{\\Delta t} y}{{\\left(x^{2} + y^{2} + z^{2}\\right)}^{\\frac{3}{2}}}, {p_z} - \\frac{{\\Delta t} z}{{\\left(x^{2} + y^{2} + z^{2}\\right)}^{\\frac{3}{2}}}\\right) \\end{array}\\]</html>"
      ],
      "text/latex": [
       "$$\\newcommand{\\Bold}[1]{\\mathbf{#1}}\\begin{array}{llcl} \\psi_{H_V}^{\\Delta t}:& M & \\longrightarrow & M \\\\ & \\left(x, y, z, {p_x}, {p_y}, {p_z}\\right) & \\longmapsto & \\left(x, y, z, {p_x} - \\frac{{\\Delta t} x}{{\\left(x^{2} + y^{2} + z^{2}\\right)}^{\\frac{3}{2}}}, {p_y} - \\frac{{\\Delta t} y}{{\\left(x^{2} + y^{2} + z^{2}\\right)}^{\\frac{3}{2}}}, {p_z} - \\frac{{\\Delta t} z}{{\\left(x^{2} + y^{2} + z^{2}\\right)}^{\\frac{3}{2}}}\\right) \\end{array}$$"
      ],
      "text/plain": [
       "M → M\n",
       "   (x, y, z, px, py, pz) ↦ (x, y, z, px - dt*x/(x^2 + y^2 + z^2)^(3/2), py - dt*y/(x^2 + y^2 + z^2)^(3/2), pz - dt*z/(x^2 + y^2 + z^2)^(3/2))"
      ]
     },
<<<<<<< HEAD
     "execution_count": 75,
=======
     "execution_count": 21,
>>>>>>> 141a5b1d9262a04b6a898a1f0911aa55daddb100
     "metadata": {},
     "output_type": "execute_result"
    }
   ],
   "source": [
    "Psi_V = M.diff_map(M, [x, y, z,  X_V[3].expr()*dt + px,\n",
    "                       X_V[4].expr()*dt + py, X_V[5].expr()*dt + pz], \n",
    "                       latex_name=r\"\\psi_{H_V}^{\\Delta t}\")\n",
    "Psi_V.display()"
   ]
  },
  {
   "cell_type": "markdown",
   "metadata": {},
   "source": [
<<<<<<< HEAD
    "### Efecto individual de los flujos (TODO)\n",
    "Antes de proceder con el método de Euler y la composición nos detenemos a analizar como se comportan por separado estos flujos, ya que solamente actuan sobre regiones de dimensión 2 podemos visualizarlos de forma sencilla. Especificamente lo que vamos a hacer es obtener la gráfica de los campos vectoriales. "
   ]
  },
  {
   "cell_type": "code",
   "execution_count": 21,
   "metadata": {},
   "outputs": [
    {
     "ename": "SyntaxError",
     "evalue": "invalid syntax (2911319088.py, line 3)",
     "output_type": "error",
     "traceback": [
      "\u001b[0;36m  File \u001b[0;32m\"/tmp/ipykernel_2917/2911319088.py\"\u001b[0;36m, line \u001b[0;32m3\u001b[0m\n\u001b[0;31m    M_p.std<px, py> = M.chart()\u001b[0m\n\u001b[0m                    ^\u001b[0m\n\u001b[0;31mSyntaxError\u001b[0m\u001b[0;31m:\u001b[0m invalid syntax\n"
     ]
    }
   ],
   "source": [
    "#Para visualizarlos en Sage es necesaria la introducción de variedades adicionales\n",
    "M_p = Manifold(n, name='M_p', latex_name=r'M_p') #restringuimos al plano px,py\n",
    "M_p.std<px, py> = M.chart()\n",
    "v = M.vector_field(X_)\n"
   ]
  },
  {
   "cell_type": "markdown",
   "metadata": {},
   "source": [
=======
>>>>>>> 141a5b1d9262a04b6a898a1f0911aa55daddb100
    "### Composición\n",
    "En principio no hay un motivo para preferir un orden particular de composición en el método de Euler, lo único de lo que podemos estar seguros es de que en general no conmutan ya que las exponenciales de las que provienen los flujos no lo hacen [see, Munro]. Por este motivo exploramos ambos ordenes."
   ]
  },
  {
   "cell_type": "code",
   "execution_count": 76,
   "metadata": {},
   "outputs": [
    {
     "data": {
      "text/html": [
       "<html>\\[\\newcommand{\\Bold}[1]{\\mathbf{#1}}\\begin{array}{llcl} & M & \\longrightarrow & M \\\\ & \\left(x, y, z, {p_x}, {p_y}, {p_z}\\right) & \\longmapsto & \\left(-\\frac{{\\Delta t}^{2} x - {\\left({\\Delta t} {p_x} x^{2} + x^{3} + {\\left({\\Delta t} {p_x} + x\\right)} y^{2} + {\\left({\\Delta t} {p_x} + x\\right)} z^{2}\\right)} \\sqrt{x^{2} + y^{2} + z^{2}}}{{\\left(x^{2} + y^{2} + z^{2}\\right)}^{\\frac{3}{2}}}, -\\frac{{\\Delta t}^{2} y - {\\left({\\Delta t} {p_y} x^{2} + {\\Delta t} {p_y} y^{2} + x^{2} y + y^{3} + {\\left({\\Delta t} {p_y} + y\\right)} z^{2}\\right)} \\sqrt{x^{2} + y^{2} + z^{2}}}{{\\left(x^{2} + y^{2} + z^{2}\\right)}^{\\frac{3}{2}}}, -\\frac{{\\Delta t}^{2} z - {\\left({\\Delta t} {p_z} x^{2} + {\\Delta t} {p_z} y^{2} + {\\Delta t} {p_z} z^{2} + z^{3} + {\\left(x^{2} + y^{2}\\right)} z\\right)} \\sqrt{x^{2} + y^{2} + z^{2}}}{{\\left(x^{2} + y^{2} + z^{2}\\right)}^{\\frac{3}{2}}}, -\\frac{{\\Delta t} x - {\\left({p_x} x^{2} + {p_x} y^{2} + {p_x} z^{2}\\right)} \\sqrt{x^{2} + y^{2} + z^{2}}}{{\\left(x^{2} + y^{2} + z^{2}\\right)}^{\\frac{3}{2}}}, -\\frac{{\\Delta t} y - {\\left({p_y} x^{2} + {p_y} y^{2} + {p_y} z^{2}\\right)} \\sqrt{x^{2} + y^{2} + z^{2}}}{{\\left(x^{2} + y^{2} + z^{2}\\right)}^{\\frac{3}{2}}}, -\\frac{{\\Delta t} z - {\\left({p_z} x^{2} + {p_z} y^{2} + {p_z} z^{2}\\right)} \\sqrt{x^{2} + y^{2} + z^{2}}}{{\\left(x^{2} + y^{2} + z^{2}\\right)}^{\\frac{3}{2}}}\\right) \\end{array}\\]</html>"
      ],
      "text/latex": [
       "$$\\newcommand{\\Bold}[1]{\\mathbf{#1}}\\begin{array}{llcl} & M & \\longrightarrow & M \\\\ & \\left(x, y, z, {p_x}, {p_y}, {p_z}\\right) & \\longmapsto & \\left(-\\frac{{\\Delta t}^{2} x - {\\left({\\Delta t} {p_x} x^{2} + x^{3} + {\\left({\\Delta t} {p_x} + x\\right)} y^{2} + {\\left({\\Delta t} {p_x} + x\\right)} z^{2}\\right)} \\sqrt{x^{2} + y^{2} + z^{2}}}{{\\left(x^{2} + y^{2} + z^{2}\\right)}^{\\frac{3}{2}}}, -\\frac{{\\Delta t}^{2} y - {\\left({\\Delta t} {p_y} x^{2} + {\\Delta t} {p_y} y^{2} + x^{2} y + y^{3} + {\\left({\\Delta t} {p_y} + y\\right)} z^{2}\\right)} \\sqrt{x^{2} + y^{2} + z^{2}}}{{\\left(x^{2} + y^{2} + z^{2}\\right)}^{\\frac{3}{2}}}, -\\frac{{\\Delta t}^{2} z - {\\left({\\Delta t} {p_z} x^{2} + {\\Delta t} {p_z} y^{2} + {\\Delta t} {p_z} z^{2} + z^{3} + {\\left(x^{2} + y^{2}\\right)} z\\right)} \\sqrt{x^{2} + y^{2} + z^{2}}}{{\\left(x^{2} + y^{2} + z^{2}\\right)}^{\\frac{3}{2}}}, -\\frac{{\\Delta t} x - {\\left({p_x} x^{2} + {p_x} y^{2} + {p_x} z^{2}\\right)} \\sqrt{x^{2} + y^{2} + z^{2}}}{{\\left(x^{2} + y^{2} + z^{2}\\right)}^{\\frac{3}{2}}}, -\\frac{{\\Delta t} y - {\\left({p_y} x^{2} + {p_y} y^{2} + {p_y} z^{2}\\right)} \\sqrt{x^{2} + y^{2} + z^{2}}}{{\\left(x^{2} + y^{2} + z^{2}\\right)}^{\\frac{3}{2}}}, -\\frac{{\\Delta t} z - {\\left({p_z} x^{2} + {p_z} y^{2} + {p_z} z^{2}\\right)} \\sqrt{x^{2} + y^{2} + z^{2}}}{{\\left(x^{2} + y^{2} + z^{2}\\right)}^{\\frac{3}{2}}}\\right) \\end{array}$$"
      ],
      "text/plain": [
       "M → M\n",
       "   (x, y, z, px, py, pz) ↦ (-(dt^2*x - (dt*px*x^2 + x^3 + (dt*px + x)*y^2 + (dt*px + x)*z^2)*sqrt(x^2 + y^2 + z^2))/(x^2 + y^2 + z^2)^(3/2), -(dt^2*y - (dt*py*x^2 + dt*py*y^2 + x^2*y + y^3 + (dt*py + y)*z^2)*sqrt(x^2 + y^2 + z^2))/(x^2 + y^2 + z^2)^(3/2), -(dt^2*z - (dt*pz*x^2 + dt*pz*y^2 + dt*pz*z^2 + z^3 + (x^2 + y^2)*z)*sqrt(x^2 + y^2 + z^2))/(x^2 + y^2 + z^2)^(3/2), -(dt*x - (px*x^2 + px*y^2 + px*z^2)*sqrt(x^2 + y^2 + z^2))/(x^2 + y^2 + z^2)^(3/2), -(dt*y - (py*x^2 + py*y^2 + py*z^2)*sqrt(x^2 + y^2 + z^2))/(x^2 + y^2 + z^2)^(3/2), -(dt*z - (pz*x^2 + pz*y^2 + pz*z^2)*sqrt(x^2 + y^2 + z^2))/(x^2 + y^2 + z^2)^(3/2))"
      ]
     },
     "execution_count": 76,
     "metadata": {},
     "output_type": "execute_result"
    }
   ],
   "source": [
    "Psi1 = Psi_T * Psi_V\n",
    "Psi1.display(std)"
   ]
  },
  {
   "cell_type": "code",
   "execution_count": 77,
   "metadata": {},
   "outputs": [
    {
     "data": {
      "text/html": [
       "<html>\\[\\newcommand{\\Bold}[1]{\\mathbf{#1}}\\begin{array}{llcl} & M & \\longrightarrow & M \\\\ & \\left(x, y, z, {p_x}, {p_y}, {p_z}\\right) & \\longmapsto & \\left({\\Delta t} {p_x} + x, {\\Delta t} {p_y} + y, {\\Delta t} {p_z} + z, -\\frac{{\\Delta t}^{2} {p_x} + {\\Delta t} x - {\\left({\\Delta t}^{2} {p_x}^{3} + {\\Delta t}^{2} {p_x} {p_y}^{2} + {\\Delta t}^{2} {p_x} {p_z}^{2} + 2 \\, {\\Delta t} {p_x}^{2} x + 2 \\, {\\Delta t} {p_x} {p_y} y + 2 \\, {\\Delta t} {p_x} {p_z} z + {p_x} x^{2} + {p_x} y^{2} + {p_x} z^{2}\\right)} \\sqrt{{\\Delta t}^{2} {p_x}^{2} + {\\Delta t}^{2} {p_y}^{2} + {\\Delta t}^{2} {p_z}^{2} + 2 \\, {\\Delta t} {p_x} x + 2 \\, {\\Delta t} {p_y} y + 2 \\, {\\Delta t} {p_z} z + x^{2} + y^{2} + z^{2}}}{{\\left({\\Delta t}^{2} {p_x}^{2} + {\\Delta t}^{2} {p_y}^{2} + {\\Delta t}^{2} {p_z}^{2} + 2 \\, {\\Delta t} {p_x} x + 2 \\, {\\Delta t} {p_y} y + 2 \\, {\\Delta t} {p_z} z + x^{2} + y^{2} + z^{2}\\right)}^{\\frac{3}{2}}}, -\\frac{{\\Delta t}^{2} {p_y} + {\\Delta t} y - {\\left({\\Delta t}^{2} {p_x}^{2} {p_y} + {\\Delta t}^{2} {p_y}^{3} + {\\Delta t}^{2} {p_y} {p_z}^{2} + 2 \\, {\\Delta t} {p_x} {p_y} x + 2 \\, {\\Delta t} {p_y}^{2} y + 2 \\, {\\Delta t} {p_y} {p_z} z + {p_y} x^{2} + {p_y} y^{2} + {p_y} z^{2}\\right)} \\sqrt{{\\Delta t}^{2} {p_x}^{2} + {\\Delta t}^{2} {p_y}^{2} + {\\Delta t}^{2} {p_z}^{2} + 2 \\, {\\Delta t} {p_x} x + 2 \\, {\\Delta t} {p_y} y + 2 \\, {\\Delta t} {p_z} z + x^{2} + y^{2} + z^{2}}}{{\\left({\\Delta t}^{2} {p_x}^{2} + {\\Delta t}^{2} {p_y}^{2} + {\\Delta t}^{2} {p_z}^{2} + 2 \\, {\\Delta t} {p_x} x + 2 \\, {\\Delta t} {p_y} y + 2 \\, {\\Delta t} {p_z} z + x^{2} + y^{2} + z^{2}\\right)}^{\\frac{3}{2}}}, -\\frac{{\\Delta t}^{2} {p_z} + {\\Delta t} z - {\\left({\\Delta t}^{2} {p_z}^{3} + 2 \\, {\\Delta t} {p_x} {p_z} x + 2 \\, {\\Delta t} {p_y} {p_z} y + 2 \\, {\\Delta t} {p_z}^{2} z + {p_z} x^{2} + {p_z} y^{2} + {p_z} z^{2} + {\\left({\\Delta t}^{2} {p_x}^{2} + {\\Delta t}^{2} {p_y}^{2}\\right)} {p_z}\\right)} \\sqrt{{\\Delta t}^{2} {p_x}^{2} + {\\Delta t}^{2} {p_y}^{2} + {\\Delta t}^{2} {p_z}^{2} + 2 \\, {\\Delta t} {p_x} x + 2 \\, {\\Delta t} {p_y} y + 2 \\, {\\Delta t} {p_z} z + x^{2} + y^{2} + z^{2}}}{{\\left({\\Delta t}^{2} {p_x}^{2} + {\\Delta t}^{2} {p_y}^{2} + {\\Delta t}^{2} {p_z}^{2} + 2 \\, {\\Delta t} {p_x} x + 2 \\, {\\Delta t} {p_y} y + 2 \\, {\\Delta t} {p_z} z + x^{2} + y^{2} + z^{2}\\right)}^{\\frac{3}{2}}}\\right) \\end{array}\\]</html>"
      ],
      "text/latex": [
       "$$\\newcommand{\\Bold}[1]{\\mathbf{#1}}\\begin{array}{llcl} & M & \\longrightarrow & M \\\\ & \\left(x, y, z, {p_x}, {p_y}, {p_z}\\right) & \\longmapsto & \\left({\\Delta t} {p_x} + x, {\\Delta t} {p_y} + y, {\\Delta t} {p_z} + z, -\\frac{{\\Delta t}^{2} {p_x} + {\\Delta t} x - {\\left({\\Delta t}^{2} {p_x}^{3} + {\\Delta t}^{2} {p_x} {p_y}^{2} + {\\Delta t}^{2} {p_x} {p_z}^{2} + 2 \\, {\\Delta t} {p_x}^{2} x + 2 \\, {\\Delta t} {p_x} {p_y} y + 2 \\, {\\Delta t} {p_x} {p_z} z + {p_x} x^{2} + {p_x} y^{2} + {p_x} z^{2}\\right)} \\sqrt{{\\Delta t}^{2} {p_x}^{2} + {\\Delta t}^{2} {p_y}^{2} + {\\Delta t}^{2} {p_z}^{2} + 2 \\, {\\Delta t} {p_x} x + 2 \\, {\\Delta t} {p_y} y + 2 \\, {\\Delta t} {p_z} z + x^{2} + y^{2} + z^{2}}}{{\\left({\\Delta t}^{2} {p_x}^{2} + {\\Delta t}^{2} {p_y}^{2} + {\\Delta t}^{2} {p_z}^{2} + 2 \\, {\\Delta t} {p_x} x + 2 \\, {\\Delta t} {p_y} y + 2 \\, {\\Delta t} {p_z} z + x^{2} + y^{2} + z^{2}\\right)}^{\\frac{3}{2}}}, -\\frac{{\\Delta t}^{2} {p_y} + {\\Delta t} y - {\\left({\\Delta t}^{2} {p_x}^{2} {p_y} + {\\Delta t}^{2} {p_y}^{3} + {\\Delta t}^{2} {p_y} {p_z}^{2} + 2 \\, {\\Delta t} {p_x} {p_y} x + 2 \\, {\\Delta t} {p_y}^{2} y + 2 \\, {\\Delta t} {p_y} {p_z} z + {p_y} x^{2} + {p_y} y^{2} + {p_y} z^{2}\\right)} \\sqrt{{\\Delta t}^{2} {p_x}^{2} + {\\Delta t}^{2} {p_y}^{2} + {\\Delta t}^{2} {p_z}^{2} + 2 \\, {\\Delta t} {p_x} x + 2 \\, {\\Delta t} {p_y} y + 2 \\, {\\Delta t} {p_z} z + x^{2} + y^{2} + z^{2}}}{{\\left({\\Delta t}^{2} {p_x}^{2} + {\\Delta t}^{2} {p_y}^{2} + {\\Delta t}^{2} {p_z}^{2} + 2 \\, {\\Delta t} {p_x} x + 2 \\, {\\Delta t} {p_y} y + 2 \\, {\\Delta t} {p_z} z + x^{2} + y^{2} + z^{2}\\right)}^{\\frac{3}{2}}}, -\\frac{{\\Delta t}^{2} {p_z} + {\\Delta t} z - {\\left({\\Delta t}^{2} {p_z}^{3} + 2 \\, {\\Delta t} {p_x} {p_z} x + 2 \\, {\\Delta t} {p_y} {p_z} y + 2 \\, {\\Delta t} {p_z}^{2} z + {p_z} x^{2} + {p_z} y^{2} + {p_z} z^{2} + {\\left({\\Delta t}^{2} {p_x}^{2} + {\\Delta t}^{2} {p_y}^{2}\\right)} {p_z}\\right)} \\sqrt{{\\Delta t}^{2} {p_x}^{2} + {\\Delta t}^{2} {p_y}^{2} + {\\Delta t}^{2} {p_z}^{2} + 2 \\, {\\Delta t} {p_x} x + 2 \\, {\\Delta t} {p_y} y + 2 \\, {\\Delta t} {p_z} z + x^{2} + y^{2} + z^{2}}}{{\\left({\\Delta t}^{2} {p_x}^{2} + {\\Delta t}^{2} {p_y}^{2} + {\\Delta t}^{2} {p_z}^{2} + 2 \\, {\\Delta t} {p_x} x + 2 \\, {\\Delta t} {p_y} y + 2 \\, {\\Delta t} {p_z} z + x^{2} + y^{2} + z^{2}\\right)}^{\\frac{3}{2}}}\\right) \\end{array}$$"
      ],
      "text/plain": [
       "M → M\n",
       "   (x, y, z, px, py, pz) ↦ (dt*px + x, dt*py + y, dt*pz + z, -(dt^2*px + dt*x - (dt^2*px^3 + dt^2*px*py^2 + dt^2*px*pz^2 + 2*dt*px^2*x + 2*dt*px*py*y + 2*dt*px*pz*z + px*x^2 + px*y^2 + px*z^2)*sqrt(dt^2*px^2 + dt^2*py^2 + dt^2*pz^2 + 2*dt*px*x + 2*dt*py*y + 2*dt*pz*z + x^2 + y^2 + z^2))/(dt^2*px^2 + dt^2*py^2 + dt^2*pz^2 + 2*dt*px*x + 2*dt*py*y + 2*dt*pz*z + x^2 + y^2 + z^2)^(3/2), -(dt^2*py + dt*y - (dt^2*px^2*py + dt^2*py^3 + dt^2*py*pz^2 + 2*dt*px*py*x + 2*dt*py^2*y + 2*dt*py*pz*z + py*x^2 + py*y^2 + py*z^2)*sqrt(dt^2*px^2 + dt^2*py^2 + dt^2*pz^2 + 2*dt*px*x + 2*dt*py*y + 2*dt*pz*z + x^2 + y^2 + z^2))/(dt^2*px^2 + dt^2*py^2 + dt^2*pz^2 + 2*dt*px*x + 2*dt*py*y + 2*dt*pz*z + x^2 + y^2 + z^2)^(3/2), -(dt^2*pz + dt*z - (dt^2*pz^3 + 2*dt*px*pz*x + 2*dt*py*pz*y + 2*dt*pz^2*z + pz*x^2 + pz*y^2 + pz*z^2 + (dt^2*px^2 + dt^2*py^2)*pz)*sqrt(dt^2*px^2 + dt^2*py^2 + dt^2*pz^2 + 2*dt*px*x + 2*dt*py*y + 2*dt*pz*z + x^2 + y^2 + z^2))/(dt^2*px^2 + dt^2*py^2 + dt^2*pz^2 + 2*dt*px*x + 2*dt*py*y + 2*dt*pz*z + x^2 + y^2 + z^2)^(3/2))"
      ]
     },
     "execution_count": 77,
     "metadata": {},
     "output_type": "execute_result"
    }
   ],
   "source": [
    "Psi2 = Psi_V * Psi_T\n",
    "Psi2.display(std)"
   ]
  },
  {
   "cell_type": "markdown",
   "metadata": {},
   "source": [
    "Se ve que las expresiones obtenidas para $\\Psi_1=\\Psi_{H_V}^{\\Delta t}  \\Psi_{H_T}^{\\Delta t}$  y $\\Psi_2=\\Psi_{H_T}^{\\Delta t}  \\Psi_{H_V}^{\\Delta t}$ son apreciablemente diferentes aunque de primer orden, Munro solo considera $\\Psi_1$."
   ]
  },
  {
   "cell_type": "markdown",
   "metadata": {},
   "source": [
    "Ahora podemos proceder a introducir el método numérico como tal. Por practicidad y para futuras extensiones, es útil introducir una función que construya con fast_callable todas las funciones que necesitamos para usar el método numérico."
   ]
  },
  {
   "cell_type": "code",
   "execution_count": 78,
   "metadata": {},
   "outputs": [],
   "source": [
    "'''Función que recibe un mapa diferenciable y produce un grupo de funciones fast_callable que lo evaluan en \n",
    "coordenadas.'''\n",
    "def get_num_funcs(Psi):\n",
    "    expressions = Psi.expr()\n",
    "    psi_x = fast_callable(expressions[0], vars=[x,y,z, px, py, pz, dt])\n",
    "    psi_y = fast_callable(expressions[1], vars=[x,y,z, px, py, pz, dt])\n",
    "    psi_z = fast_callable(expressions[2], vars=[x,y,z, px, py, pz, dt])\n",
    "    psi_px = fast_callable(expressions[3], vars=[x,y,z, px, py, pz, dt])\n",
    "    psi_py = fast_callable(expressions[4], vars=[x,y,z, px, py, pz, dt])\n",
    "    psi_pz = fast_callable(expressions[5], vars=[x,y,z, px, py, pz,  dt])\n",
    "    return psi_x, psi_y,psi_z, psi_px, psi_py,psi_pz"
   ]
  },
  {
   "cell_type": "code",
   "execution_count": 79,
   "metadata": {},
   "outputs": [],
   "source": [
    "#vamos a necesitar numpy y matplotlib para lo que sigue\n",
    "import numpy as np\n",
    "import matplotlib.pyplot as plt"
   ]
  },
  {
   "cell_type": "markdown",
   "metadata": {},
   "source": [
    "## Consideraciones sobre escalas \n",
    "El Hamiltoniano que hemos planteado está adimencionalizado (el proceso está en mis notas) de forma tal que:\n",
    "* Las distancias son medidas en perimetros de orbita circular\n",
    "* El tiempo es medida respecto al periodo de la orbita circular\n",
    "* La energía es medida respecto a 2 veces la magnitud de la energía de la orbita circular\n",
    "\n",
    "Todas estas cantidades dependen de la elección de momento angular, por lo que solamente tiene sentido pintar orbitas juntas (en magnitud) con el mismo momento angular, de lo contrario las escalas no son iguales. En este mismo orden de ideas, solamente son físicamente significativas las energías mayores -0.5, ya que la energía de la orbita circular es la más negativa de todas. "
   ]
  },
  {
   "cell_type": "markdown",
   "metadata": {},
   "source": [
    "## Resultados para $\\Psi_1$"
   ]
  },
  {
   "cell_type": "code",
<<<<<<< HEAD
   "execution_count": 143,
=======
   "execution_count": 26,
>>>>>>> 141a5b1d9262a04b6a898a1f0911aa55daddb100
   "metadata": {},
   "outputs": [],
   "source": [
    "#definimos donde vamos a guardar la información\n",
    "NT = 100 #Número de periodos circulares\n",
    "h = 0.01 #tamaño del paso\n",
    "N = int(NT/h) #cantidad de pasos\n",
    "\n",
    "data_t = np.zeros(N,)\n",
    "data_x = np.zeros(N,)\n",
    "data_y = np.zeros(N,) #esto se puede abreviar con un solo array más grande\n",
    "data_z = np.zeros(N,) \n",
    "data_px = np.zeros(N,)\n",
    "data_py = np.zeros(N,)\n",
    "data_pz = np.zeros(N,)\n",
    "data_energy = np.zeros(N,)\n",
    "data_L = np.zeros(N,)\n",
    "x0, y0 ,z0, px0, py0,pz0 = 1,0,0,0,1.3,0 #condiciones iniciales\n",
    "xi0 = M.point((x0,y0,z0,px0,py0,pz0))\n",
    "E0 = H(xi0) #energía inicial\n",
    "psi_x, psi_y,psi_z, psi_px, psi_py,psi_pz = get_num_funcs(Psi1) "
   ]
  },
  {
   "cell_type": "code",
<<<<<<< HEAD
   "execution_count": 144,
=======
   "execution_count": 27,
>>>>>>> 141a5b1d9262a04b6a898a1f0911aa55daddb100
   "metadata": {},
   "outputs": [
    {
     "data": {
      "text/html": [
       "<html>\\[\\newcommand{\\Bold}[1]{\\mathbf{#1}}10000\\]</html>"
      ],
      "text/latex": [
       "$$\\newcommand{\\Bold}[1]{\\mathbf{#1}}10000$$"
      ],
      "text/plain": [
       "10000"
      ]
     },
     "execution_count": 144,
     "metadata": {},
     "output_type": "execute_result"
    }
   ],
   "source": [
    "N"
   ]
  },
  {
   "cell_type": "code",
   "execution_count": 145,
   "metadata": {},
   "outputs": [
    {
     "data": {
      "text/html": [
       "<html>\\[\\newcommand{\\Bold}[1]{\\mathbf{#1}}-0.1549999999999999\\]</html>"
      ],
      "text/latex": [
       "$$\\newcommand{\\Bold}[1]{\\mathbf{#1}}-0.1549999999999999$$"
      ],
      "text/plain": [
       "-0.1549999999999999"
      ]
     },
<<<<<<< HEAD
     "execution_count": 145,
=======
     "execution_count": 27,
>>>>>>> 141a5b1d9262a04b6a898a1f0911aa55daddb100
     "metadata": {},
     "output_type": "execute_result"
    }
   ],
   "source": [
    "#Mostramos el valor de la energía inicial\n",
    "E0"
   ]
  },
  {
   "cell_type": "code",
<<<<<<< HEAD
   "execution_count": 146,
=======
   "execution_count": 28,
>>>>>>> 141a5b1d9262a04b6a898a1f0911aa55daddb100
   "metadata": {},
   "outputs": [],
   "source": [
    "#añadimos las condiciones iniciales al principio de cada data array\n",
    "data_x[0] = x0\n",
    "data_y[0] = y0\n",
    "data_z[0] = z0\n",
    "data_px[0] = px0\n",
    "data_py[0] = py0\n",
    "data_pz[0] = pz0\n",
    "data_energy[0] = E0\n",
    "data_L[0] = py0*x0 -px0*y0"
   ]
  },
  {
   "cell_type": "code",
<<<<<<< HEAD
   "execution_count": 147,
=======
   "execution_count": 29,
>>>>>>> 141a5b1d9262a04b6a898a1f0911aa55daddb100
   "metadata": {},
   "outputs": [],
   "source": [
    "for k in range(1,N): #quizá esto no es la mejor forma de hacer esto pero ajá\n",
    "    x_k = data_x[k-1]\n",
    "    y_k = data_y[k-1]\n",
    "    z_k = data_z[k-1]\n",
    "    px_k = data_px[k-1]\n",
    "    py_k = data_py[k-1]\n",
    "    pz_k = data_pz[k-1]\n",
    "    \n",
    "    data_t[k] = k*h \n",
    "    data_x[k] = psi_x(x_k, y_k, z_k ,px_k, py_k,pz_k ,  h)\n",
    "    data_y[k] = psi_y(x_k, y_k, z_k ,px_k, py_k,pz_k ,  h)\n",
    "    data_z[k] = psi_z(x_k, y_k, z_k ,px_k, py_k,pz_k ,  h)\n",
    "    data_px[k] = psi_px(x_k, y_k, z_k ,px_k, py_k,pz_k ,  h)\n",
    "    data_py[k] = psi_py(x_k, y_k, z_k ,px_k, py_k,pz_k ,  h)\n",
    "    data_pz[k] = psi_pz(x_k, y_k, z_k ,px_k, py_k,pz_k ,  h)\n",
    "    #hay un problema con las conversiones y no me deja llamar directamente la función H en manifolds\n",
    "    data_energy[k] = 0.5*(data_px[k]**2 + data_py[k]**2 + data_pz[k]**2) - 1/np.sqrt(data_x[k]**2 + data_y[k]**2 + data_z[k]**2)\n",
    "    data_L[k] = data_x[k]*data_py[k] - data_y[k]*data_px[k]"
   ]
  },
  {
   "cell_type": "code",
   "execution_count": 148,
   "metadata": {},
   "outputs": [
    {
     "data": {
      "image/png": "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\n",
      "text/plain": [
       "<Figure size 432x288 with 1 Axes>"
      ]
     },
     "metadata": {
      "needs_background": "light"
     },
     "output_type": "display_data"
    }
   ],
   "source": [
    "#plt.plot(data_x, data_y)\n",
    "#plt.xlabel(r\"$x$\")\n",
    "#plt.ylabel(r\"$y$\")\n",
    "#plt.title(r\"Plano $xy$\")\n",
    "\n",
    "from mpl_toolkits.mplot3d import Axes3D\n",
    "fig = plt.figure()\n",
    "ax = fig.add_subplot(111, projection='3d')\n",
    "#ax.axes.set_xlim3d(-.2, .1)\n",
    "#ax.axes.set_ylim3d(0, .0001) \n",
    "#ax.axes.set_zlim3d(-1, 1) \n",
    "ax.plot3D(data_x, data_y,data_z,label='Solución Integrador')\n",
    "ax.set_xlabel('$x$')\n",
    "ax.set_ylabel('$y$')\n",
    "ax.set_zlabel('$z$')\n",
    "plt.savefig(\"psi1.pdf\")"
   ]
  },
  {
   "cell_type": "code",
   "execution_count": 149,
   "metadata": {},
   "outputs": [
    {
     "data": {
      "text/html": [
       "<html>\\[\\newcommand{\\Bold}[1]{\\mathbf{#1}}\\left[\\verb|Line2D(_child0)|\\right]\\]</html>"
      ],
      "text/latex": [
       "$$\\newcommand{\\Bold}[1]{\\mathbf{#1}}\\left[\\verb|Line2D(_child0)|\\right]$$"
      ],
      "text/plain": [
       "[<matplotlib.lines.Line2D object at 0x7fd25d1f0640>]"
      ]
     },
     "execution_count": 149,
     "metadata": {},
     "output_type": "execute_result"
    },
    {
     "data": {
      "image/png": "iVBORw0KGgoAAAANSUhEUgAAAXIAAAD4CAYAAADxeG0DAAAAOXRFWHRTb2Z0d2FyZQBNYXRwbG90bGliIHZlcnNpb24zLjUuMSwgaHR0cHM6Ly9tYXRwbG90bGliLm9yZy/YYfK9AAAACXBIWXMAAAsTAAALEwEAmpwYAAAkiklEQVR4nO3deVxU5eIG8OeVHQMUBUUFwQX3HTHcTXPDsmzTsu6tzOzWrVvdyu2WpQa3xbK6qa1mm9XPyswlJXPNDbdQ3GURFFBRQBaBmff3x8DAyA4z886Zeb6fj59mzsyc88RHH86c8573CCkliIhIuxqpDkBERA3DIici0jgWORGRxrHIiYg0jkVORKRxzio22rx5cxkcHKxi00REmrV///5LUkq/G5crKfLg4GDExsaq2DQRkWYJIZIqW85DK0REGsciJyLSOBY5EZHGsciJiDSORU5EpHEsciIijWORExFpnJJx5ESWdiW3EMfTcnDm4jWczriGxMu5OJeZh3NX8lFYrG/w+n0bu6JNUw+ENG9s/NOppRfaNb8Jrs7cPyLrYpGTJkgpcfR8NjYeTcNvR9NxIj1HaZ7M3EJk5hbir5SsOn92VJcWGNe9JW7t1gLe7i4WSEeOhkVONuNCVj5W7ErCV7uSkHO92Gzr9XJzRtvmnghs6olAX0+08nFHcy83NPV0hY+HCxq7OcPDxQkeLk5wcRYQENBJiaJiPfKLdLh2vRg5BcXILihC5rVCpGUX4EJWPpIz85F4KRfJmXl1yhNzLB0xx9KBHyp/fUCILx4eFIJbu7aAUyNhhp8A2TsWOVndkdQsLNp0EpuPZ9Tr8yM7+2N0txYYFuqPlj7uZk5XjhvQ1EyrKtbpcTjlKjbFZ2BTfBrOXMyt8r17EjKxJyGzwnIXJ4Hnbu2EhwcFw93FyUzJyB4IFbd6CwsLk5xrxf7p9RLfx57DrJ/iUJe/ZpP7B2LqzW3RrZU3hHCcPdK8wmL8+tcFfLkrCXGptT9kM7prC/xnQlcE+npaMB3ZAiHEfillWIXlLHIyl11nLuOZlQeRkXO9xvcG+Xri+dGhmNCzFQ8f1ELKlTws2XIGX+9JrtX7pw9th+duDeWeu51hkZNZSSnx+c5EvPZrfI3vnRIeiOdHd0Lzm9yskMxxSCmxKT4dc34+gos1/PLsH9wU703pgwAfDyulI0tgkVODfb/vHF5c9Ve17xkW6oeFd3ZHm6b8mq+CXi/x7b5kzPnpSLXvG9KxOT6Y0hc+nhw1oyUscqqzMxevYdKHfyIrv6jK9zx/ayj+MaIDD4/YsGMXsvHYilikXMmv8j1zI7vg0cEhDnVOQotY5FQry3cmYN6aqg+XvDCmE54Y1h6NWNyadfR8FiYv213lEM/egU2w4tFwjnG3QSxyqpROL/Hi//2FVQdSKn395na+WDY1jF/B7dg3e5Ix+6e4Kl/f+sJwtG3W2IqJqCoWK3IhRCCAFQBaAtAD+EhKubi6z7DI1dLpJZ5eeRBr/7pQ6etv3t0T94QFWjkV2YJzmXm4/YMduJJX+eG07S+O4DBHhSxZ5AEAAqSUB4QQXgD2A7hDSlnl93MWufVJKRG94TiWbT1b6eurnxyEXoFNrBuKbFpBkQ7TvojFjtOXKrzm7+WGTc8O4zc1K7PaoRUhxGoAH0gpN1X1Hha59fxxPAMPL99X6Wu//WsoOrX0snIi0qLrxTo8snwfdp6+XOG1+wcEYeEd3Xmi1AqsUuRCiGAA2wB0l1JmV/U+Frll5RQUYWDU5kpPZn3/eATCQ3wVpCJ7kV1QhHHvbkfq1YqjYH76x0D0CTLXxAZ0I4sXuRDiJgBbASyUUv5YyevTAUwHgKCgoH5JSUlm2S6VWbk3GTN/rHjSam5kF0wb0k5BIrJ3R89nIfK9HRWWDwv1w/KH+3Mv3cwsWuRCCBcAvwL4TUq5qKb3c4/cfIp0eox+ZxsSLplOwhTg447Nzw+Hhysv0SbriFp3DMu2VTwHs+OlEbxAzEwsebJTAPgCQKaU8l+1+QyLvOESLuVixFtbKixfOrUvxnYPsH4gohIpV/Iw+L9/VFj+wf19MKFnKwWJ7Icli3wwgO0A4mAYfggAs6WU66r6DIu8/jYeTcP0L/dXWH745dEcQUA2RUqJR7+IrTBd8WNDQjAnsquiVNrGC4I07pPtZ7Fg7TGTZRN7t8LiyX0UJSKqvR8PpOC57w+bLONx9LpjkWtU1PpjFcZ+R0/qgcnhQYoSEdXfkdQsTHjf9ORo99beWPPUYBZ6LbDINeaNDcfx4ZYzJsu+mTYAAzs0V5SIyHwuZOUjImqzybL+wU3x/eMRLPRqsMg14tMdCZh/wxzfa54ajB5tfBQlIrKcy9euo9+CGJNlPGRYNRa5jdsUn47HVpj+THjZPDmKjJwChC/83WQZr3+oiEVuo5Iu52LYm1tMln09bQAG8RAKOaDES7kYfsOw2lVPRKBfW16NDLDIbU5hsR6hc9ebLPvvXT1wX3+exCTaceoSpn66x2RZ3LzR8HLwOdJZ5DbkqW8O4NdyU8hO6BmAD+7vqzARkW16Z9NJLP79lPF5/+Cm+GHGQIWJ1GKR24D9SVdw15I/TZadXjgOzk6NFCUisn1SSoS//rvJDaZXPBKOoaF+ClOpwSJXSK+XaDfb9ELXP/49HCHNedcVotpKzy7AgNdNT4g62o5QVUXuOD8BRb7cnWRS4v8Y3h6J0ZEscaI6auHtjsToSMwZ38W4rMOc9Vi+M0FhKtvAPXILqexk5qmF4+DiQHsPRJai00u0v+Fb7skF4+DqbN//vrhHbkUr9yablPjSqf2QGB3JEicyE6dGAonRkVj2YD/jstC56/F97DmFqdThHrkZSSkRMst0LyEhajwvOSayIEf6d8c9cgs7fO6qyV+mxZN7IzE60i7/MhHZEiEMe+eL7u1lXBYyax1OZ1xTmMq6uEduBtO+2IeYY2VzLvNYOJEaBUU6dP7PBuPzvw8MxrzbuylMZF7cI7eAIp0ewTPXGkt8Snggj4UTKeTu4oTE6EgM72QYY778z0QEz1wLFTus1sTGqaf489noOKfshOamZ4cialJPhYmIqNTyh8Pxw4wI4/OQWeuQkVOgMJFlscjr4Z1NJzH+ve3G5wlR49GxhZfCRER0o/7BvjixYKzxefjC37HhSJrCRJbDIq+jfvM3Ged+GNXFnyc0iWyYm7PhUIuPh2GyrRlf7cez3x1SG8oCWOS1JKVE8My1uJxbCMAwNvyTv/VXnIqIauPwK6Px9MiOAICfDqYidM76Gj6hLSzyWsgpKDIZWrhn9kiM7d5SYSIiqqvnbg3Fd9NvBgAUlgxUsJeToCzyGiRcykWPeRuNz8+8Ph4tvN0VJiKi+hrQrhn2zh5pfB4yax0Ki/UKE5kHi7waf56+hBHl7laSGB0Jp0Y8Hk6kZf7e7ji5YJzxeejc9cgpKFKYqOFY5FVYfSgV939iuENJ6yYeSIyOVJyIiMzF1bkREqLGG5/3mLfRZL5zrWGRV+KLPxPxzMpDAIAx3Vpg58xb1AYiIrMrvbS/VP+FMUi9mq8wUf2xyG+wdOsZvPLLUQDA3yLaYtmDFa6GJSI7Ur7MB0VvxoUs7ZU5i7ycpVvPIHr9cQDA07d0wKsTuytORETWUL7MI6I249I1bR1mYZGX+Gp3krHEXxjTCc+N7qQ4ERFZU/kyD1sQo6kToCxyABuOXMDcn48AAJ4a0QFPjuigOBERqVC+zHvM24ginTaGJjp8ke9PysSMrw4AAKaEB+HfY7gnTuTIypd5R41cAerQRX4hKx93LdkFABjUoRmiJvVQnIiIbEH5oYnBM9cqTFI7Dlvk14t1iIjaDADwcHHC19NuVpyIiGyFEMJk5sSe835TmKZmDlvkneaW3UXk2Pyx1byTiByRm7MTds8yXM6fXVCMBb/GK05UNYcs8vJflcp/hSIiKq+ljzs+f9gwy+knOxKwP+mK4kSVM0uRCyE+E0JkCCGOmGN9lvT0tweNj+NfG8O5xImoWiM6+WNS39YAgLuW/ImCIp3iRBWZa498OQCbPz7x55lL+OXweQDAz08Ogqers+JERKQFi+7tbXxc/ubOtsIsRS6l3AYg0xzrspSCIh3u/9gwCdYjg0LQO7CJ2kBEpCnlhyVO/GCHwiQVWe0YuRBiuhAiVggRe/HiRWtt1qj8b9GXb+tq9e0Tkfb9WTKB3uGULOw5e1lxmjJWK3Ip5UdSyjApZZifn5+1NgsAmL4i1viYJzeJqL5aNfHAY0NCAAD3fbQber1t3GHI7ketnLl4DRvj0wEAMc8N5clNImqQOZFl3+jbzV5XzTutx+6LfOTbWwEY5hXv4O+lOA0R2YNTC8vuMLTxaJrCJAbmGn74LYBdADoJIVKEEI+aY70NNW7xduNjzitORObi4tQIr03sBgCY/uV+5TdxNteolSlSygAppYuUso2U8lNzrLchzmXm4diFbADAvjmjFKchInvzUESw8XG3V9Rewm+3h1aGvPEHAGBYqB/8vNwUpyEie3T01TEAgLxCHVKu5CnLYZdF/s6mk8bHXzwSrjAJEdmzxm7OuKWzPwBg8H//UJbD7opcSonFv58CAPzfjAjFaYjI3n329/7Gx6VXjlub3RV56dS0ABAW7KswCRE5isWTewMwncvJmuyqyPMKi5GWXQAAiJs3WnEaInIUE3u3Nj5+N+ZkNe+0DLsq8q4vG84ce7o6wcvdRXEaInIkq54YCAB4N+aU1bdtN0WelV92x+sj88YoTEJEjqhf26bGx2/9dsKq27abIu/16kYAQNtmnmjUiJfhE5H1/fzkIADAB3+ctup27aLI8wvLJnr/4/nh6oIQkUMrPz32GiuOYLGLIu/2imGKWjfnRtwbJyKl3rmvFwDgn1YcwWIXRV46k+ThVzhShYjUurNPG+Pj81fzrbJNzRf53J/jjI/dXZwUJiEiMhjUoRkAYGD05hreaR6aL/KvdicDANY9PURxEiIigy8fGWDV7Wm6yBMv5Rofd23lrTAJEVGZ8ufqlu9MsPz2LL4FCxr+1hYAwKgu/mqDEBHdYOnUvgCAeWviLb4tTRd5Kd40gohszdjuAcbHlr7xhGaLfOfpS8bHThxySEQ2bNm2sxZdv2aL/IFP9gAAHh/aTnESIqLKffiA4fBK9PrjFt2OZou81MxxnVVHICKq1PgeATW/yQw0WeRpWQXGx0LwsAoR2b6EcqPszE2TRf7gp4bDKu39GitOQkRUve6tDUOjH12+z2Lb0GSRn8q4BgBY8ah1B90TEdXV0qn9AABnuUdeudZNPFRHICKqVpumnhbfhuaKPCO7oOY3ERHZoMJivUXWq7kin7fmKADA291ZcRIiorr5zEKX62uuyNfFpQEAFt7ZQ3ESIqLaeSiiLQDLjSfXXJGXmtDTOuMziYga6onh7S26fs0WOcePE5FWBPhYdmCGZouciIgMNFXkZy9eUx2BiMjmaKrIf7HiXamJiCyhSGf+IYiaKvINRwwjVoaF+ilOQkRUP8cuZJt9nZoq8uNpOQCAIR2bK05CRFQ/B5Ovmn2dZilyIcRYIcQJIcRpIcRMc6yzOr0Dm1h6E0REZtXU0wUAcCojx+zrbnCRCyGcAPwPwDgAXQFMEUJ0beh6qxPa0suSqyciMrvSIYjlp+E2F3PskYcDOC2lPCulLASwEsBEM6y3St7uLpZcPRGR2Xl7GKYVyS4oNvu6zVHkrQGcK/c8pWSZCSHEdCFErBAi9uLFi2bYLBGRdtzkZtgBvW6BibPMUeSVXWJZ4ZbRUsqPpJRhUsowPz+OOiEix9KrjQ8AYHCHZmZftzmKPAVAYLnnbQBwwDcRUTnXCg2HVBq7mX/mVnMU+T4AHYUQIUIIVwCTAfxihvUSEdmNjOzrAAB/L3ezr7vBvxqklMVCiKcA/AbACcBnUsqjDU5WjSKdHi5OmhoCT0QOrnS0SktvGyxyAJBSrgOwzhzrqo2ky7no4M8hiESkHSlX8wAArZuafyZETe7WHkk1/yWuRESWdC4zHwAQ6OhFXnpl1J6ETMVJiIjqx9kCh4U1VeSjurQAAGyKT1echIjIdmiqyCf0agUAuHTtuuIkRES2Q1NFPrgDZz0kIu0p3fl0cbLMLSo1VeROjXifTiLSnvVxFwAAt/VsZZH1a6rIiYi0aM3hkiLvxSI3wft3EpFW7E00jLSz1E1xNFfkLbzdAAAL1h5TnISIqG4sMfQQ0GCRv3VPLwDA5uMZipMQEdUsI9v8N5K4keaKfEhHToFLRNrxyY4EAMC0wSEW24bmiry8Yp35J2gnIjKnj7adBQA8Pqy9xbah6SJ/47cTqiMQEdWKn5ebxdatySL/6MF+hv+W/KYjIrJFe0vmhSodpGEpmizy0d1aqo5ARFSjl1b9BQBYcEcPi25Hk0Ve3l7OhEhENirhUi4A4NauLSy6Hc0W+d8i2gIA7l22S3ESIqKKSncyPVycLL4tzRb5vNu7qY5ARFSlaV/sAwB8/FCYxbel2SIXomwCrV8On1eYhIjIlF4vkV1QDAAYbKHL8svTbJEDQNQkwwmEp789qDgJEVGZtzYahkZbam6VG2m6yKeEBxkfXy/WKUxCRFTmwy1nAAD/e6CvVban6SIvb8SbW1RHICLC/qSykXTe7i5W2abmi/yveaMBAOezLD8xDRFRTe5aYhhJ98OMCKttU/NFXv433hsbjitMQkSO7nRG2X0S+gf7Wm27mi9yAPj5yUEAyo5LERGpMGrRVgDAEisdGy9lF0XeO7CJ8fFnJVNGEhFZU9LlXOPjcT0CrLptuyhyAPjy0XAAwGu/xitOQkSOaFjJgIvFk3tbfdt2U+TlbzixOOaUwiRE5GjKz/k0sXdrq2/fboocAFY9YThL/E7MScVJiMiRlM75VNpB1mZXRd6vbdlZ4js/3KkwCRE5ik/LnZcr30HWZFdFDgD75owCABxMvoq8wmLFaYjInl0v1mF+yXm5vbNHKsthd0Xu5+UGV2fD/1bXl39TnIaI7NktbxmGG07oGQB/b3dlOeyuyAHgxPyxxsfr4y4oTEJE9mpfYiZSr+YDAN6f0kdplgYVuRDiHiHEUSGEXghh+Ul3a0kIgdfvNMyM+MTXByClVJyIiOyJTi9xz1LDCc5vH7vZZFptFRq6R34EwCQA28yQxazuH1A2M2LIrHUKkxCRvRn9juGQSpcAb0S0b6Y4TQOLXEp5TEp5wlxhzO3Ya2WHWDbFpytMQkT2IiY+HWcuGq7iXPvPwYrTGNjlMfJSHq5OmBvZBQDw2IpYFOv0ihMRkZblXi/GtBWxAIA1Tw1Go0ZqD6mUqrHIhRAxQogjlfyZWJcNCSGmCyFihRCxFy9erH/iOpo2pJ3xcYc56622XSKyP91eMYyEm9SnNXq08VGcpkyNRS6lHCWl7F7Jn9V12ZCU8iMpZZiUMszPz6/mD5hRQtR44+NnVvK2cERUdzO+3G98vOi+3uqCVMKuD62UEkLg15JjWasPnUdsYmYNnyAiKvPb0TRsOJoGwPTcm61o6PDDO4UQKQAiAKwVQtjsFTjdW/sYR7LcvXQX8gt5j08iqtm5zDw8XrI3/uM/BsLD1UlxoooaOmrlJyllGymlm5SyhZRyjLmCWULp2HIA6PLyBoVJiEgL8gt1GPLGHwCAF8Z0Qt+gpooTVc4hDq2UlxgdaXwcPHOtwiREZMuklMYdvoHtm+HJER0UJ6qawxU5AMS/VvbF4bb3dyhMQkS2qterG42Pv3nsZoVJauaQRe7p6oyNzw4FAMSlZiFq/THFiYjIlty7bBeyCwyzp555fXwN71bPIYscAEJbeOF/9xtukLps61l8ty9ZcSIisgXPfnfIeMefI6+OgZONXPRTHYctcgCI7BmAp28xHPd6aVUcNh/nZfxEjixq/TH8dDAVABA7dxRucnNWnKh2HLrIAeC50Z0wsXcrAMAjy2Ox5+xlxYmISIVFm05i2dazAIBtL4xA85vcFCeqPYcvcgBYPLkPItoZZjC776Pd2J/EC4aIHEn0+uN473fDTds3PjsUQc08FSeqGxZ5iW+n34wuAd4AgLuW7MKuM9wzJ3IEr645iqVbzwAwlHhoCy/FieqORV7O+meGoEdrw0Q4Uz7ezalviezcMysP4vOdiQCA358fpskSB1jkFaz552AM6mA4zPLYilis3MvRLET2aOIHO7D60HkAwPYXR6C9302KE9Ufi7wSX0+7GZP6tAYAzPwxDq+tiVeciIjMRUqJ4JlrcTglC4BhdEqgr7aOid+IRV6FRff1xrOjQgEAn+1MwIT3tytOREQNlV+oM7n14/H5YzU1OqUqLPJqPDOqI5Y8YLho6EhqNudmIdKw5Mt5JpPlnX19PNxdbG8mw/pgkddgXI8A4+X8gGGirevFnAKXSEs2HEnD0DcNsxje3M4XidGRNnObNnNgkddCaAsvxM0bbXzeae4GnEjLUZiIiGpr9k9xmPGVYT7xWeM6Y+X0CMWJzI9FXkte7i4mt4wb8+42vF9yAQER2Z4inR7BM9fimz2GkWf/NyMCjw9rrziVZbDI60AIgcToSAwNNdxz9O1NJ3ncnMgGnUjLQcdyN1s//PJohAX7KkxkWSzyeljxSDiWTu1rfB48cy0uXbuuMBERlVoccwpj3t0GAOjVxgcJUePh4+miOJVlCSml1TcaFhYmY2Njrb5dc8suKELPeWWTz780tjOeGG6fX92IbF1BkQ6d/1M2KmXRvb0wqW8bhYnMTwixX0oZduNy7pE3gLe7CxKjI9HKxx0A8N8NxxE8cy30euv/ciRyZDHx6SYlvnf2SLsr8eqwyM3gz1kj8fFDZb8k281eh60nLypMROQYdHqJW97egmkrDN/wx3VvicToSPh7uytOZl08tGJGRTq9yQkWAEiIGg8h7Ge8KpGt2Hn6Eh74ZI/x+ZqnBqNHGx+FiSyPh1aswMWpERKjI/HCmE7GZSGz1uGPExkKUxHZl+vFOgyM+t1Y4r3a+ODs6+PtvsSrwz1yC8kv1JlcDgwApxaOg4sTf3cS1dfKvcmY+WOc8fmqJyLQr639Diu8EffIrczD1QmJ0ZGYG9nFuKzjnPWIWndMYSoibUq9mo/gmWuNJT6+R0skRI13qBKvDvfIrUCnl2g/e53Jsg3/GoLOLb0VJSLShmKdHlM+3o19iVeMy7a/OELz087WV1V75CxyKzp07iru+N9Ok2XH54+1mxnYiMxp2dYziFp/3Pg8alIPTAkPUphIPRa5DZnzUxy+3lN256FegU2w+slBChMR2Y7tpy7iwU/3Gp/f0tkfnzwUZlezFdYXi9zGVHa45fFh7TBrXJcqPkFk3+LPZ2P8e6Y3cImdO8oubvxgLixyG3Xp2nWELYgxWfbaxG54KCJYTSAiKzuXmYchb/xhsswRxoTXB4vcxsWlZOG2D3aYLHv7nl64q5/jXGZMjiXlSh6GvbkFunJTWnz+cH+M6OSvMJVtY5FrxJYTGfj75/tMls2f2A0Pcg+d7MTpjByMWrTNZBl3WmqHRa4x6+Mu4ImvD5gsmz60HWaP5zF00qb9SZm4a8kuk2Vv3N0T94YFKkqkPSxyjapsDz2sbVP8MCOCc7iQJny3LxkvrYozWbZ0aj+M7d5SUSLtskiRCyHeBHAbgEIAZwA8LKW8WtPnWOR1dyQ1CxPe31Fh+f65o9CMZ/XJxhQW6zFz1V/48WCqyfIfZkSgvx3fqcfSLFXkowFsllIWCyH+CwBSypdq+hyLvP4ysgsQ/vrvFZZ//3gEwkP4D4TUOpWeg0lL/kROQbFxWUtvd6z6x0C0buKhMJl9sPihFSHEnQDullI+UNN7WeQNp9NL3P7BDhw9n22yfOrNQXh5Qje4OnMaHbIOnV7i7Y0n8OGWMybLJ/ZuhTfu7gk3Z165bC7WKPI1AL6TUn5VxevTAUwHgKCgoH5JSUlm2S4B+xIzcc/SXRWWcygXWdKB5CuY+ske5BXqTJYvndoXY7sHKEpl3+pd5EKIGACVnZWYI6VcXfKeOQDCAEyStfjNwD1yy8grLMZLq+Kw5vB5k+V9g5rg/fv78qstNVhaVgH+9d1B7D6babJ8RCc/vDu5D3w87Psmx6pZbI9cCPE3ADMAjJRS5tXmMyxyyzt07ioe/GQPcq4Xmyy/rVcrzJ/YDU08XRUlI63JLijCgl/j8X1sSoXXvnp0AAZ3bK4glWOy1MnOsQAWARgmpaz1TSpZ5NYjpcSKXUl45ZejFV67u18bzI3swlKnCq7kFmL+2nj8eCC1wmtzI7vgkUEhnMRKAUsV+WkAbgAulyzaLaWcUdPnWORqXC/WYXHMqQonpQBgSMfmePX2bmjnd5OCZGQLki7n4uXVRyu9cfijg0Pw79Gd4OHKE5cq8YIgMlFQpMO7MaewdGvFUm/W2BXzbu+GCT0DeNGRHdPrJX48mIpX1xw1GS5Y6skR7fHPWzpyvnwbwiKnKun0Et/sScJ/Vlc8/AIAo7u2wItjO6GDv5eVk5G5nUzPwZu/ncCm+PRKX593W1c8GBEMJx42sUkscqq1A8lX8NqaeBw6d7XS1yf3D8STIzo47O22tORUeg7e23y6wkimUgNCfPGfCV3RvTWnjNUCFjnVS2GxHt/uTUb0+uPIL9JV+p5hoX54fFg7RLRrxkMxCun1EltOZuDTHQnYefpype9p7OqEl8Z1xuT+QbxoTINY5GQW2QVFWL4zEe9vPoUiXeV/d1ydGmFKeCCmDAjiDaYtREqJuNQsfLv3HL7dm1zl+7zcnfHMyI54YEBbnqi0AyxysojCYj3WHD6Pj7adxYn0nGrfG9kzALf1bIXhnfx4Aq0Orl0vRkx8On48mIptlYwoKa9PUBP8fWAwInsEwNmJe9z2hkVOVnMhKx8/xKZg5d5knM8qqPH9t3T2xy2d/TEs1A9tmno45OEZKSVOZ1zD5uMZ+P14BvYmZNb4mSBfT0wOD8Q9/QLh58UZMB0Bi5yUysovwvq4C1gbdwHbT12q9efa+zVG/2Bf9A5sgh5tfBDawgsuGtzTLCjS4URaDg6du4p9iZnYn3QFF2rxS67UqC7+uKNPa4zq0oLfZhwYi5xsUnZBEXacuoSYY+nYceoSMnKu12s9nq5OaNusMYKbeSLI1xMBPu5o6eMBf283+Hq6omljV3i7Ozdob1+vl8gpKEZmXiEysguQll2A9OwCXMgqQMqVfCRfzkNSZi4KivT1Wn+grwdGdm6BEZ39MSDEl4VNFbDISXN0eokTaTmITcrE4XNZiEu9ipPp11THqreuAd7oFeiDsLa+CAtuiiBfT4c8jET1V1WRO6sIQ1QbTo0EurbyRtdW3kBE9e/NLihC8uU8JF7ORdLlPKRlGfaUL167jiu5hbiSW1hhArH68HJzRtPGrvD3ckMLH3cEeLujpY87WjfxQNtmjRHUzBONXZ1Y0GRVLHKyC97uLuje2ocXtpBD0t5ZIyIiMsEiJyLSOBY5EZHGsciJiDSORU5EpHEsciIijWORExFpHIuciEjjlFyiL4S4CCDJ6huuXnMAtZ/NybYwuxrMroaWswMNy99WSul340IlRW6LhBCxlc1hoAXMrgazq6Hl7IBl8vPQChGRxrHIiYg0jkVe5iPVARqA2dVgdjW0nB2wQH4eIyci0jjukRMRaRyLnIhI41jkJYQQ84QQqUKIQyV/xqvOVFdCiH8LIaQQornqLHUhhJgvhPir5Oe+UQjRSnWm2hJCvCmEOF6S/ychRBPVmWpLCHGPEOKoEEIvhNDEcD4hxFghxAkhxGkhxEzVeWpLCPGZECJDCHHEEutnkZt6R0rZu+TPOtVh6kIIEQjgVgDJqrPUw5tSyp5Syt4AfgXwsuI8dbEJQHcpZU8AJwHMUpynLo4AmARgm+ogtSGEcALwPwDjAHQFMEUI0VVtqlpbDmCspVbOIrcf7wB4EYDmzl5LKbPLPW0MDf0/SCk3SilLbwa6G0AblXnqQkp5TEp5QnWOOggHcFpKeVZKWQhgJYCJijPVipRyG4BMS62fRW7qqZKvyJ8JIZqqDlNbQojbAaRKKQ+rzlJfQoiFQohzAB6AtvbIy3sEwHrVIexYawDnyj1PKVnm8Bzq5stCiBgALSt5aQ6AJQDmw7A3OB/A2zD8w7QJNWSfDWC0dRPVTXX5pZSrpZRzAMwRQswC8BSAV6wasBo1ZS95zxwAxQC+tma2mtQmu4aISpZp5tubJTlUkUspR9XmfUKIj2E4VmszqsouhOgBIATAYSEEYPhqf0AIES6lTLNixGrV9mcP4BsAa2FDRV5TdiHE3wBMADBS2tiFGXX4uWtBCoDAcs/bADivKItN4aGVEkKIgHJP74ThRJDNk1LGSSn9pZTBUspgGP6y97WlEq+JEKJjuae3AziuKktdCSHGAngJwO1SyjzVeezcPgAdhRAhQghXAJMB/KI4k03glZ0lhBBfAugNw1e1RACPSykvqMxUH0KIRABhUkrNTPMphFgFoBMAPQzTG8+QUqaqTVU7QojTANwAXC5ZtFtKOUNhpFoTQtwJ4H0AfgCuAjgkpRyjNFQNSoYFvwvACcBnUsqFahPVjhDiWwDDYZjCNh3AK1LKT822fhY5EZG28dAKEZHGsciJiDSORU5EpHEsciIijWORExFpHIuciEjjWORERBr3/5kSPP0WfkCKAAAAAElFTkSuQmCC\n",
      "text/plain": [
       "<Figure size 432x288 with 1 Axes>"
      ]
     },
     "metadata": {
      "needs_background": "light"
     },
     "output_type": "display_data"
    }
   ],
   "source": [
    "plt.plot(data_x, data_y)"
   ]
  },
  {
   "cell_type": "code",
   "execution_count": 150,
   "metadata": {},
   "outputs": [
    {
     "data": {
      "text/html": [
       "<html>\\[\\newcommand{\\Bold}[1]{\\mathbf{#1}}-0.1549999999999999\\]</html>"
      ],
      "text/latex": [
       "$$\\newcommand{\\Bold}[1]{\\mathbf{#1}}-0.1549999999999999$$"
      ],
      "text/plain": [
       "-0.1549999999999999"
      ]
     },
     "execution_count": 150,
     "metadata": {},
     "output_type": "execute_result"
    }
   ],
   "source": [
    "data_energy[0]"
   ]
  },
  {
   "cell_type": "code",
   "execution_count": 177,
   "metadata": {},
   "outputs": [
    {
     "data": {
      "text/html": [
       "<html>\\[\\newcommand{\\Bold}[1]{\\mathbf{#1}}\\verb|Text(0.5,|\\verb| |\\verb|1.0,|\\verb| |\\verb|'Energía|\\verb| |\\verb|en|\\verb| |\\verb|función|\\verb| |\\verb|del|\\verb| |\\verb|tiempo')|\\]</html>"
      ],
      "text/latex": [
       "$$\\newcommand{\\Bold}[1]{\\mathbf{#1}}\\verb|Text(0.5,|\\verb| |\\verb|1.0,|\\verb| |\\verb|'Energía|\\verb| |\\verb|en|\\verb| |\\verb|función|\\verb| |\\verb|del|\\verb| |\\verb|tiempo')|$$"
      ],
      "text/plain": [
       "Text(0.5, 1.0, 'Energía en función del tiempo')"
      ]
     },
     "execution_count": 177,
     "metadata": {},
     "output_type": "execute_result"
    },
    {
     "data": {
      "image/png": "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\n",
      "text/plain": [
       "<Figure size 432x288 with 1 Axes>"
      ]
     },
     "metadata": {
      "needs_background": "light"
     },
     "output_type": "display_data"
    }
   ],
   "source": [
    "plt.plot(data_t, data_energy)\n",
    "plt.plot(data_t, np.ones(N,)*E0)\n",
    "plt.xlabel(r\"$t$\")\n",
    "plt.ylabel(r\"$E$\")\n",
    "plt.title(\"Energía en función del tiempo\")"
   ]
  },
  {
   "cell_type": "code",
   "execution_count": 183,
   "metadata": {},
   "outputs": [
    {
     "name": "stdout",
     "output_type": "stream",
     "text": [
      "-0.1549383176983688 -0.1549999999999999\n"
     ]
    }
   ],
   "source": [
    "#¿Coincide la energía promedio con la energía del sistema?\n",
    "avg_E = np.mean(data_energy)\n",
    "print(avg_E, E0)"
   ]
  },
  {
   "cell_type": "code",
   "execution_count": 189,
   "metadata": {},
   "outputs": [
    {
     "data": {
      "text/html": [
       "<html>\\[\\newcommand{\\Bold}[1]{\\mathbf{#1}}0.9763121684884486\\]</html>"
      ],
      "text/latex": [
       "$$\\newcommand{\\Bold}[1]{\\mathbf{#1}}0.9763121684884486$$"
      ],
      "text/plain": [
       "0.9763121684884486"
      ]
     },
     "execution_count": 189,
     "metadata": {},
     "output_type": "execute_result"
    }
   ],
   "source": [
    "#¿de qué amplitud son las oscilaciones?\n",
    "abs( (np.max(data_energy) - E0)/E0 ) * 100"
   ]
  },
  {
   "cell_type": "code",
   "execution_count": 190,
   "metadata": {},
   "outputs": [
    {
     "data": {
      "text/html": [
       "<html>\\[\\newcommand{\\Bold}[1]{\\mathbf{#1}}\\verb|Text(0.5,|\\verb| |\\verb|1.0,|\\verb| |\\verb|'Posición|\\verb| |\\verb|x|\\verb| |\\verb|en|\\verb| |\\verb|función|\\verb| |\\verb|del|\\verb| |\\verb|tiempo')|\\]</html>"
      ],
      "text/latex": [
       "$$\\newcommand{\\Bold}[1]{\\mathbf{#1}}\\verb|Text(0.5,|\\verb| |\\verb|1.0,|\\verb| |\\verb|'Posición|\\verb| |\\verb|x|\\verb| |\\verb|en|\\verb| |\\verb|función|\\verb| |\\verb|del|\\verb| |\\verb|tiempo')|$$"
      ],
      "text/plain": [
       "Text(0.5, 1.0, 'Posición x en función del tiempo')"
      ]
     },
     "execution_count": 190,
     "metadata": {},
     "output_type": "execute_result"
    },
    {
     "data": {
      "image/png": "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\n",
      "text/plain": [
       "<Figure size 432x288 with 1 Axes>"
      ]
     },
     "metadata": {
      "needs_background": "light"
     },
     "output_type": "display_data"
    }
   ],
   "source": [
    "plt.plot(data_t, data_x)\n",
    "plt.xlabel(r\"$t$\")\n",
    "plt.ylabel(r\"$x$\")\n",
    "plt.title(\"Posición x en función del tiempo\")"
   ]
  },
  {
   "cell_type": "code",
   "execution_count": 157,
   "metadata": {},
   "outputs": [
    {
     "data": {
      "text/html": [
       "<html>\\[\\newcommand{\\Bold}[1]{\\mathbf{#1}}\\left[\\verb|Line2D(_child0)|\\right]\\]</html>"
      ],
      "text/latex": [
       "$$\\newcommand{\\Bold}[1]{\\mathbf{#1}}\\left[\\verb|Line2D(_child0)|\\right]$$"
      ],
      "text/plain": [
       "[<matplotlib.lines.Line2D object at 0x7fd25cefa4f0>]"
      ]
     },
     "execution_count": 157,
     "metadata": {},
     "output_type": "execute_result"
    },
    {
     "data": {
      "image/png": "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\n",
      "text/plain": [
       "<Figure size 432x288 with 1 Axes>"
      ]
     },
     "metadata": {
      "needs_background": "light"
     },
     "output_type": "display_data"
    }
   ],
   "source": [
    "plt.plot(data_t, data_y)"
   ]
  },
  {
   "cell_type": "code",
   "execution_count": 170,
   "metadata": {
    "scrolled": true
   },
   "outputs": [
    {
     "data": {
      "image/png": "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\n",
      "text/plain": [
       "<Figure size 432x288 with 1 Axes>"
      ]
     },
     "metadata": {
      "needs_background": "light"
     },
     "output_type": "display_data"
    }
   ],
   "source": [
    "plt.plot(data_t, -1/np.sqrt(data_x**2 + data_y**2))\n",
    "plt.xlabel(r\"$t$\")\n",
    "plt.ylabel(r\"Energía potencial\")\n",
    "plt.title(\"Energía potencial en función del tiempo\")\n",
    "plt.grid()"
   ]
  },
  {
   "cell_type": "code",
   "execution_count": 191,
   "metadata": {},
   "outputs": [
    {
     "data": {
      "image/png": "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\n",
      "text/plain": [
       "<Figure size 432x288 with 1 Axes>"
      ]
     },
     "metadata": {
      "needs_background": "light"
     },
     "output_type": "display_data"
    }
   ],
   "source": [
    "plt.plot(data_t,0.5 *  (data_px**2 + data_py**2))\n",
    "plt.plot(data_t, -1/np.sqrt(data_x**2 + data_y**2))\n",
    "plt.plot(data_t, np.ones(N,)*E0)\n",
    "plt.xlabel(r\"$t$\")\n",
    "plt.ylabel(r\"Energía cinética\")\n",
    "plt.title(\"Energías en función del tiempo\")\n",
    "plt.grid()"
   ]
  },
  {
   "cell_type": "code",
   "execution_count": 193,
   "metadata": {},
   "outputs": [
    {
     "data": {
      "text/html": [
       "<html>\\[\\newcommand{\\Bold}[1]{\\mathbf{#1}}\\left[\\verb|Line2D(_child0)|\\right]\\]</html>"
      ],
      "text/latex": [
       "$$\\newcommand{\\Bold}[1]{\\mathbf{#1}}\\left[\\verb|Line2D(_child0)|\\right]$$"
      ],
      "text/plain": [
       "[<matplotlib.lines.Line2D object at 0x7fd25bd397c0>]"
      ]
     },
     "execution_count": 193,
     "metadata": {},
     "output_type": "execute_result"
    },
    {
     "data": {
      "image/png": "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\n",
      "text/plain": [
       "<Figure size 432x288 with 1 Axes>"
      ]
     },
     "metadata": {
      "needs_background": "light"
     },
     "output_type": "display_data"
    }
   ],
   "source": [
    "U = -1/np.sqrt(data_x**2 + data_y**2)\n",
    "T = 0.5 * (data_px**2 + data_py**2)\n",
    "plt.plot(U,T)"
   ]
  },
  {
   "cell_type": "code",
   "execution_count": 194,
   "metadata": {},
   "outputs": [
    {
     "data": {
      "text/html": [
       "<html>\\[\\newcommand{\\Bold}[1]{\\mathbf{#1}}\\begin{array}{l}\n",
       "\\verb|[[|\\verb| |\\verb|1.|\\verb|         |\\verb|-0.99999767]|\\\\\n",
       "\\verb| |\\verb|[-0.99999767|\\verb|  |\\verb|1.|\\verb|        |\\verb|]]|\n",
       "\\end{array}\\]</html>"
      ],
      "text/latex": [
       "$$\\newcommand{\\Bold}[1]{\\mathbf{#1}}\\begin{array}{l}\n",
       "\\verb|[[|\\verb| |\\verb|1.|\\verb|         |\\verb|-0.99999767]|\\\\\n",
       "\\verb| |\\verb|[-0.99999767|\\verb|  |\\verb|1.|\\verb|        |\\verb|]]|\n",
       "\\end{array}$$"
      ],
      "text/plain": [
       "array([[ 1.        , -0.99999767],\n",
       "       [-0.99999767,  1.        ]])"
      ]
     },
     "execution_count": 194,
     "metadata": {},
     "output_type": "execute_result"
    }
   ],
   "source": [
    "np.corrcoef(U,T)"
   ]
  },
  {
   "cell_type": "markdown",
   "metadata": {},
   "source": [
    "Se guardan los valores usando este método:"
   ]
  },
  {
   "cell_type": "code",
<<<<<<< HEAD
   "execution_count": 39,
=======
   "execution_count": 32,
>>>>>>> 141a5b1d9262a04b6a898a1f0911aa55daddb100
   "metadata": {},
   "outputs": [],
   "source": [
    "data_x_e = data_x\n",
    "data_y_e = data_y\n",
    "data_z_e = data_z\n",
    "\n",
    "data_px_e = data_px\n",
    "data_py_e = data_py\n",
    "data_pz_e = data_pz"
   ]
  },
  {
   "cell_type": "markdown",
   "metadata": {},
   "source": [
    "## Resultados para $\\Psi_2$"
   ]
  },
  {
   "cell_type": "code",
<<<<<<< HEAD
   "execution_count": 62,
=======
   "execution_count": 33,
>>>>>>> 141a5b1d9262a04b6a898a1f0911aa55daddb100
   "metadata": {},
   "outputs": [],
   "source": [
    "#definimos donde vamos a guardar la información  \n",
    "N = 34000 #pasos\n",
    "h = 0.01 #tamaño del paso\n",
    "data_t = np.zeros(N,)\n",
    "data_x = np.zeros(N,)\n",
    "data_y = np.zeros(N,) #esto se puede abreviar con un solo array más grande\n",
    "data_z = np.zeros(N,) \n",
    "data_px = np.zeros(N,)\n",
    "data_py = np.zeros(N,)\n",
    "data_pz = np.zeros(N,)\n",
    "data_energy = np.zeros(N,)\n",
    "data_L = np.zeros(N,)\n",
    "x0, y0 ,z0, px0, py0,pz0 = 1,0,0,0,1,0 #condiciones iniciales\n",
    "xi0 = M.point((x0,y0,z0,px0,py0,pz0))\n",
    "E0 = H(xi0) #energía inicial\n",
    "psi_x, psi_y,psi_z, psi_px, psi_py,psi_pz = get_num_funcs(Psi2) "
   ]
  },
  {
   "cell_type": "code",
<<<<<<< HEAD
   "execution_count": 85,
=======
   "execution_count": 34,
>>>>>>> 141a5b1d9262a04b6a898a1f0911aa55daddb100
   "metadata": {},
   "outputs": [
    {
     "data": {
      "text/html": [
       "<html>\\[\\newcommand{\\Bold}[1]{\\mathbf{#1}}-\\frac{1}{2}\\]</html>"
      ],
      "text/latex": [
       "$$\\newcommand{\\Bold}[1]{\\mathbf{#1}}-\\frac{1}{2}$$"
      ],
      "text/plain": [
       "-1/2"
      ]
     },
<<<<<<< HEAD
     "execution_count": 85,
=======
     "execution_count": 34,
>>>>>>> 141a5b1d9262a04b6a898a1f0911aa55daddb100
     "metadata": {},
     "output_type": "execute_result"
    }
   ],
   "source": [
    "#Mostramos el valor de la energía inicial\n",
    "E0"
   ]
  },
  {
   "cell_type": "code",
<<<<<<< HEAD
   "execution_count": 69,
=======
   "execution_count": 35,
>>>>>>> 141a5b1d9262a04b6a898a1f0911aa55daddb100
   "metadata": {},
   "outputs": [],
   "source": [
    "#añadimos las condiciones iniciales al principio de cada data array\n",
    "data_x[0] = x0\n",
    "data_y[0] = y0\n",
    "data_z[0] = z0\n",
    "data_px[0] = px0\n",
    "data_py[0] = py0\n",
    "data_pz[0] = pz0\n",
    "data_energy[0] = E0\n",
    "data_L[0] = py0*x0 -px0*y0"
   ]
  },
  {
   "cell_type": "code",
<<<<<<< HEAD
   "execution_count": 70,
=======
   "execution_count": 36,
>>>>>>> 141a5b1d9262a04b6a898a1f0911aa55daddb100
   "metadata": {},
   "outputs": [],
   "source": [
    "for k in range(1,N): #quizá esto no es la mejor forma de hacer esto pero ajá\n",
    "    x_k = data_x[k-1]\n",
    "    y_k = data_y[k-1]\n",
    "    z_k = data_z[k-1]\n",
    "    px_k = data_px[k-1]\n",
    "    py_k = data_py[k-1]\n",
    "    pz_k = data_pz[k-1]\n",
    "    \n",
    "    data_t[k] = k*h \n",
    "    data_x[k] = psi_x(x_k, y_k, z_k ,px_k, py_k,pz_k ,  h)\n",
    "    data_y[k] = psi_y(x_k, y_k, z_k ,px_k, py_k,pz_k ,  h)\n",
    "    data_z[k] = psi_z(x_k, y_k, z_k ,px_k, py_k,pz_k ,  h)\n",
    "    data_px[k] = psi_px(x_k, y_k, z_k ,px_k, py_k,pz_k ,  h)\n",
    "    data_py[k] = psi_py(x_k, y_k, z_k ,px_k, py_k,pz_k ,  h)\n",
    "    data_pz[k] = psi_pz(x_k, y_k, z_k ,px_k, py_k,pz_k ,  h)\n",
    "    #hay un problema con las conversiones y no me deja llamar directamente la función H en manifolds\n",
    "    data_energy[k] = 0.5*(data_px[k]**2 + data_py[k]**2 + data_pz[k]**2) - 1/np.sqrt(data_x[k]**2 + data_y[k]**2 + data_z[k]**2)\n",
    "    data_L[k] = data_x[k]*data_py[k] - data_y[k]*data_px[k]"
   ]
  },
  {
   "cell_type": "code",
<<<<<<< HEAD
   "execution_count": 71,
=======
   "execution_count": 37,
>>>>>>> 141a5b1d9262a04b6a898a1f0911aa55daddb100
   "metadata": {},
   "outputs": [
    {
     "data": {
      "text/html": [
       "<html>\\[\\newcommand{\\Bold}[1]{\\mathbf{#1}}\\verb|Text(0.5,|\\verb| |\\verb|0,|\\verb| |\\verb|'$z$')|\\]</html>"
      ],
      "text/latex": [
       "$$\\newcommand{\\Bold}[1]{\\mathbf{#1}}\\verb|Text(0.5,|\\verb| |\\verb|0,|\\verb| |\\verb|'$z$')|$$"
      ],
      "text/plain": [
       "Text(0.5, 0, '$z$')"
      ]
     },
<<<<<<< HEAD
     "execution_count": 71,
=======
     "execution_count": 37,
>>>>>>> 141a5b1d9262a04b6a898a1f0911aa55daddb100
     "metadata": {},
     "output_type": "execute_result"
    },
    {
     "data": {
      "image/png": "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\n",
      "text/plain": [
       "<Figure size 432x288 with 1 Axes>"
      ]
     },
     "metadata": {
      "needs_background": "light"
     },
     "output_type": "display_data"
    }
   ],
   "source": [
    "#plt.plot(data_x, data_y)\n",
    "#plt.xlabel(r\"$x$\")\n",
    "#plt.ylabel(r\"$y$\")\n",
    "#plt.title(r\"Plano $xy$\")\n",
    "\n",
    "from mpl_toolkits.mplot3d import Axes3D\n",
    "fig = plt.figure()\n",
    "ax = fig.add_subplot(111, projection='3d')\n",
    "#ax.axes.set_xlim3d(-.2, .1)\n",
    "#ax.axes.set_ylim3d(0, .0001) \n",
    "#ax.axes.set_zlim3d(-1, 1) \n",
    "ax.plot3D(data_x, data_y,data_z,label='Solución Integrador')\n",
    "ax.set_xlabel('$x$')\n",
    "ax.set_ylabel('$y$')\n",
    "ax.set_zlabel('$z$')"
   ]
  },
  {
   "cell_type": "code",
<<<<<<< HEAD
   "execution_count": 67,
=======
   "execution_count": 38,
>>>>>>> 141a5b1d9262a04b6a898a1f0911aa55daddb100
   "metadata": {},
   "outputs": [
    {
     "data": {
      "text/html": [
       "<html>\\[\\newcommand{\\Bold}[1]{\\mathbf{#1}}\\verb|Text(0.5,|\\verb| |\\verb|1.0,|\\verb| |\\verb|'Energía|\\verb| |\\verb|en|\\verb| |\\verb|función|\\verb| |\\verb|del|\\verb| |\\verb|tiempo')|\\]</html>"
      ],
      "text/latex": [
       "$$\\newcommand{\\Bold}[1]{\\mathbf{#1}}\\verb|Text(0.5,|\\verb| |\\verb|1.0,|\\verb| |\\verb|'Energía|\\verb| |\\verb|en|\\verb| |\\verb|función|\\verb| |\\verb|del|\\verb| |\\verb|tiempo')|$$"
      ],
      "text/plain": [
       "Text(0.5, 1.0, 'Energía en función del tiempo')"
      ]
     },
<<<<<<< HEAD
     "execution_count": 67,
=======
     "execution_count": 38,
>>>>>>> 141a5b1d9262a04b6a898a1f0911aa55daddb100
     "metadata": {},
     "output_type": "execute_result"
    },
    {
     "data": {
      "image/png": "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\n",
      "text/plain": [
       "<Figure size 432x288 with 1 Axes>"
      ]
     },
     "metadata": {
      "needs_background": "light"
     },
     "output_type": "display_data"
    }
   ],
   "source": [
    "plt.plot(data_t, data_energy)\n",
    "plt.plot(data_t, np.ones(N,)*data_energy[0])\n",
    "plt.xlabel(r\"$t$\")\n",
    "plt.ylabel(r\"$E$\")\n",
    "plt.title(\"Energía en función del tiempo\")"
   ]
  },
  {
   "cell_type": "code",
<<<<<<< HEAD
   "execution_count": 49,
=======
   "execution_count": 39,
>>>>>>> 141a5b1d9262a04b6a898a1f0911aa55daddb100
   "metadata": {},
   "outputs": [
    {
     "data": {
      "text/html": [
       "<html>\\[\\newcommand{\\Bold}[1]{\\mathbf{#1}}\\left[\\verb|Line2D(_child0)|\\right]\\]</html>"
      ],
      "text/latex": [
       "$$\\newcommand{\\Bold}[1]{\\mathbf{#1}}\\left[\\verb|Line2D(_child0)|\\right]$$"
      ],
      "text/plain": [
<<<<<<< HEAD
       "[<matplotlib.lines.Line2D object at 0x7ff0a5437640>]"
      ]
     },
     "execution_count": 49,
=======
       "[<matplotlib.lines.Line2D object at 0x6ffeff4d0090>]"
      ]
     },
     "execution_count": 39,
>>>>>>> 141a5b1d9262a04b6a898a1f0911aa55daddb100
     "metadata": {},
     "output_type": "execute_result"
    },
    {
     "data": {
      "image/png": "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\n",
      "text/plain": [
       "<Figure size 432x288 with 1 Axes>"
      ]
     },
     "metadata": {
      "needs_background": "light"
     },
     "output_type": "display_data"
    }
   ],
   "source": [
    "plt.plot(data_t, data_L)"
   ]
  },
  {
   "cell_type": "markdown",
   "metadata": {
    "scrolled": true
   },
   "source": [
    "# Stormer - Verlet\n",
    "$$\n",
    "  \\exp \\left( \\frac{1}{2} \\Delta t X_V \\right) \\exp \\left( \\Delta t X_T \\right)\\exp \\left( \\frac{1}{2} \\Delta t X_V \\right)\n",
    "$$\n",
    "Para la introducción de este debemos de modificar ligeramente los flujos para dar cuenta de las constantes introducidas."
   ]
  },
  {
   "cell_type": "code",
<<<<<<< HEAD
   "execution_count": 50,
=======
   "execution_count": 40,
>>>>>>> 141a5b1d9262a04b6a898a1f0911aa55daddb100
   "metadata": {},
   "outputs": [
    {
     "data": {
      "text/html": [
       "<html>\\[\\newcommand{\\Bold}[1]{\\mathbf{#1}}\\begin{array}{llcl} \\psi_{H_T}^{\\Delta t}:& M & \\longrightarrow & M \\\\ & \\left(x, y, z, {p_x}, {p_y}, {p_z}\\right) & \\longmapsto & \\left({\\Delta t} {p_x} + x, {\\Delta t} {p_y} + y, {\\Delta t} {p_z} + z, {p_x}, {p_y}, {p_z}\\right) \\end{array}\\]</html>"
      ],
      "text/latex": [
       "$$\\newcommand{\\Bold}[1]{\\mathbf{#1}}\\begin{array}{llcl} \\psi_{H_T}^{\\Delta t}:& M & \\longrightarrow & M \\\\ & \\left(x, y, z, {p_x}, {p_y}, {p_z}\\right) & \\longmapsto & \\left({\\Delta t} {p_x} + x, {\\Delta t} {p_y} + y, {\\Delta t} {p_z} + z, {p_x}, {p_y}, {p_z}\\right) \\end{array}$$"
      ],
      "text/plain": [
       "M → M\n",
       "   (x, y, z, px, py, pz) ↦ (dt*px + x, dt*py + y, dt*pz + z, px, py, pz)"
      ]
     },
<<<<<<< HEAD
     "execution_count": 50,
=======
     "execution_count": 40,
>>>>>>> 141a5b1d9262a04b6a898a1f0911aa55daddb100
     "metadata": {},
     "output_type": "execute_result"
    }
   ],
   "source": [
    "dt = var('dt', latex_name = r'\\Delta t')\n",
    "Psi_T = M.diff_map(M, [x + X_T[0].expr() * dt , y + X_T[1].expr() * dt, z + X_T[2].expr()* dt ,\n",
    "                       px , py , pz], latex_name=r\"\\psi_{H_T}^{\\Delta t}\")\n",
    "Psi_T.display()"
   ]
  },
  {
   "cell_type": "code",
<<<<<<< HEAD
   "execution_count": 51,
=======
   "execution_count": 41,
>>>>>>> 141a5b1d9262a04b6a898a1f0911aa55daddb100
   "metadata": {},
   "outputs": [
    {
     "data": {
      "text/html": [
       "<html>\\[\\newcommand{\\Bold}[1]{\\mathbf{#1}}\\begin{array}{llcl} \\psi_{H_V}^{\\Delta t}:& M & \\longrightarrow & M \\\\ & \\left(x, y, z, {p_x}, {p_y}, {p_z}\\right) & \\longmapsto & \\left(x, y, z, {p_x} - \\frac{{\\Delta t} x}{2 \\, {\\left(x^{2} + y^{2} + z^{2}\\right)}^{\\frac{3}{2}}}, {p_y} - \\frac{{\\Delta t} y}{2 \\, {\\left(x^{2} + y^{2} + z^{2}\\right)}^{\\frac{3}{2}}}, {p_z} - \\frac{{\\Delta t} z}{2 \\, {\\left(x^{2} + y^{2} + z^{2}\\right)}^{\\frac{3}{2}}}\\right) \\end{array}\\]</html>"
      ],
      "text/latex": [
       "$$\\newcommand{\\Bold}[1]{\\mathbf{#1}}\\begin{array}{llcl} \\psi_{H_V}^{\\Delta t}:& M & \\longrightarrow & M \\\\ & \\left(x, y, z, {p_x}, {p_y}, {p_z}\\right) & \\longmapsto & \\left(x, y, z, {p_x} - \\frac{{\\Delta t} x}{2 \\, {\\left(x^{2} + y^{2} + z^{2}\\right)}^{\\frac{3}{2}}}, {p_y} - \\frac{{\\Delta t} y}{2 \\, {\\left(x^{2} + y^{2} + z^{2}\\right)}^{\\frac{3}{2}}}, {p_z} - \\frac{{\\Delta t} z}{2 \\, {\\left(x^{2} + y^{2} + z^{2}\\right)}^{\\frac{3}{2}}}\\right) \\end{array}$$"
      ],
      "text/plain": [
       "M → M\n",
       "   (x, y, z, px, py, pz) ↦ (x, y, z, px - 1/2*dt*x/(x^2 + y^2 + z^2)^(3/2), py - 1/2*dt*y/(x^2 + y^2 + z^2)^(3/2), pz - 1/2*dt*z/(x^2 + y^2 + z^2)^(3/2))"
      ]
     },
<<<<<<< HEAD
     "execution_count": 51,
=======
     "execution_count": 41,
>>>>>>> 141a5b1d9262a04b6a898a1f0911aa55daddb100
     "metadata": {},
     "output_type": "execute_result"
    }
   ],
   "source": [
    "Psi_V_modified = M.diff_map(M, [x, y, z,  X_V[3].expr()*dt/2 + px, X_V[4].expr()*dt/2 + py, X_V[5].expr()*dt/2 + pz], \n",
    "                       latex_name=r\"\\psi_{H_V}^{\\Delta t}\")\n",
    "Psi_V_modified.display()"
   ]
  },
  {
   "cell_type": "code",
<<<<<<< HEAD
   "execution_count": 52,
=======
   "execution_count": 42,
>>>>>>> 141a5b1d9262a04b6a898a1f0911aa55daddb100
   "metadata": {},
   "outputs": [],
   "source": [
    "storm_verlet_integrator = Psi_V_modified * Psi_T * Psi_V_modified"
   ]
  },
  {
   "cell_type": "code",
<<<<<<< HEAD
   "execution_count": 53,
=======
   "execution_count": 43,
>>>>>>> 141a5b1d9262a04b6a898a1f0911aa55daddb100
   "metadata": {},
   "outputs": [],
   "source": [
    "#definimos las expresiones mediante fast_callable para que podamos evaluar no solo los puntos sino también dt\n",
    "expressions = storm_verlet_integrator.expr()\n",
    "psi_x = fast_callable(expressions[0], vars=[x,y,z, px, py, pz, dt])\n",
    "psi_y = fast_callable(expressions[1], vars=[x,y,z, px, py, pz, dt])\n",
    "psi_z = fast_callable(expressions[2], vars=[x,y,z, px, py, pz, dt])\n",
    "psi_px = fast_callable(expressions[3], vars=[x,y,z, px, py, pz, dt])\n",
    "psi_py = fast_callable(expressions[4], vars=[x,y,z, px, py, pz, dt])\n",
    "psi_pz = fast_callable(expressions[5], vars=[x,y,z, px, py, pz,  dt])"
   ]
  },
  {
   "cell_type": "code",
<<<<<<< HEAD
   "execution_count": 46,
=======
   "execution_count": 44,
>>>>>>> 141a5b1d9262a04b6a898a1f0911aa55daddb100
   "metadata": {},
   "outputs": [],
   "source": [
    "#vamos a necesitar numpy y matplotlib para lo que sigue\n",
    "import numpy as np\n",
    "import matplotlib.pyplot as plt"
   ]
  },
  {
   "cell_type": "code",
<<<<<<< HEAD
   "execution_count": 54,
=======
   "execution_count": 45,
>>>>>>> 141a5b1d9262a04b6a898a1f0911aa55daddb100
   "metadata": {},
   "outputs": [],
   "source": [
    "#definimos donde vamos a guardar la información \n",
    "\n",
    "N = 34000 #pasos\n",
    "h = 0.001 #tamaño del paso\n",
    "data_t = np.zeros(N,)\n",
    "data_x = np.zeros(N,)\n",
    "data_y = np.zeros(N,) #esto se puede abreviar con un solo array más grande\n",
    "data_z = np.zeros(N,)\n",
    "data_px = np.zeros(N,)\n",
    "data_py = np.zeros(N,)\n",
    "data_pz = np.zeros(N,)\n",
    "data_energy = np.zeros(N,)\n",
    "data_L = np.zeros(N,)\n",
    "x0, y0, z0, px0, py0,pz0 = 0.3,0,0,0,1,0 #condiciones iniciales\n",
    "xi0 = M.point((x0,y0,z0,px0,py0,pz0))\n",
    "E0 = H(xi0) #energía inicial\n"
   ]
  },
  {
   "cell_type": "code",
<<<<<<< HEAD
   "execution_count": 55,
=======
   "execution_count": 46,
>>>>>>> 141a5b1d9262a04b6a898a1f0911aa55daddb100
   "metadata": {},
   "outputs": [
    {
     "data": {
      "text/html": [
       "<html>\\[\\newcommand{\\Bold}[1]{\\mathbf{#1}}-2.833333333333333\\]</html>"
      ],
      "text/latex": [
       "$$\\newcommand{\\Bold}[1]{\\mathbf{#1}}-2.833333333333333$$"
      ],
      "text/plain": [
       "-2.833333333333333"
      ]
     },
<<<<<<< HEAD
     "execution_count": 55,
=======
     "execution_count": 46,
>>>>>>> 141a5b1d9262a04b6a898a1f0911aa55daddb100
     "metadata": {},
     "output_type": "execute_result"
    }
   ],
   "source": [
    "E0"
   ]
  },
  {
   "cell_type": "code",
<<<<<<< HEAD
   "execution_count": 56,
=======
   "execution_count": 47,
>>>>>>> 141a5b1d9262a04b6a898a1f0911aa55daddb100
   "metadata": {},
   "outputs": [],
   "source": [
    "#añadimos las condiciones iniciales al principio de cada data array\n",
    "data_x[0] = x0\n",
    "data_y[0] = y0\n",
    "data_z[0] = z0\n",
    "data_px[0] = px0\n",
    "data_py[0] = py0\n",
    "data_pz[0] = pz0\n",
    "data_energy[0] = E0\n",
    "data_L[0] = x0*py0 - y0*px0"
   ]
  },
  {
   "cell_type": "code",
<<<<<<< HEAD
   "execution_count": 57,
=======
   "execution_count": 48,
>>>>>>> 141a5b1d9262a04b6a898a1f0911aa55daddb100
   "metadata": {},
   "outputs": [],
   "source": [
    "for k in range(1,N): #quizá esto no es la mejor forma de hacer esto pero ajá\n",
    "    x_k = data_x[k-1]\n",
    "    y_k = data_y[k-1]\n",
    "    z_k = data_z[k-1]\n",
    "    px_k = data_px[k-1]\n",
    "    py_k = data_py[k-1]\n",
    "    pz_k = data_pz[k-1]\n",
    "    \n",
    "    data_t[k]  = k*h \n",
    "    data_x[k]  = psi_x(x_k, y_k, z_k ,px_k, py_k,pz_k ,  h)\n",
    "    data_y[k]  = psi_y(x_k, y_k, z_k ,px_k, py_k,pz_k ,  h)\n",
    "    data_z[k]  = psi_z(x_k, y_k, z_k ,px_k, py_k,pz_k ,  h)\n",
    "    data_px[k] = psi_px(x_k, y_k, z_k ,px_k, py_k,pz_k , h)\n",
    "    data_py[k] = psi_py(x_k, y_k, z_k ,px_k, py_k,pz_k , h)\n",
    "    data_pz[k] = psi_pz(x_k, y_k, z_k ,px_k, py_k,pz_k , h)\n",
    "    #hay un problema con las conversiones y no me deja llamar directamente la función H en manifolds\n",
    "    data_energy[k] = float(\n",
    "        0.5*(data_px[k]**2 + data_py[k]**2 + data_pz[k]**2 ) - 1/np.sqrt(data_x[k]**2 + data_y[k]**2 + data_z[k]**2))\n",
    "    data_L[k] = float(data_x[k]*data_py[k] - data_y[k]*data_px[k])"
   ]
  },
  {
   "cell_type": "code",
<<<<<<< HEAD
   "execution_count": 58,
=======
   "execution_count": 49,
>>>>>>> 141a5b1d9262a04b6a898a1f0911aa55daddb100
   "metadata": {},
   "outputs": [
    {
     "data": {
      "text/html": [
       "<html>\\[\\newcommand{\\Bold}[1]{\\mathbf{#1}}\\verb|Text(0.5,|\\verb| |\\verb|0,|\\verb| |\\verb|'$z$')|\\]</html>"
      ],
      "text/latex": [
       "$$\\newcommand{\\Bold}[1]{\\mathbf{#1}}\\verb|Text(0.5,|\\verb| |\\verb|0,|\\verb| |\\verb|'$z$')|$$"
      ],
      "text/plain": [
       "Text(0.5, 0, '$z$')"
      ]
     },
<<<<<<< HEAD
     "execution_count": 58,
=======
     "execution_count": 49,
>>>>>>> 141a5b1d9262a04b6a898a1f0911aa55daddb100
     "metadata": {},
     "output_type": "execute_result"
    },
    {
     "data": {
      "image/png": "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\n",
      "text/plain": [
       "<Figure size 432x288 with 1 Axes>"
      ]
     },
     "metadata": {
      "needs_background": "light"
     },
     "output_type": "display_data"
    }
   ],
   "source": [
    "#plt.plot(data_x,data_y)\n",
    "from mpl_toolkits.mplot3d import Axes3D\n",
    "fig = plt.figure()\n",
    "ax = fig.add_subplot(111, projection='3d')\n",
    "#ax.axes.set_xlim3d(-.2, .1)\n",
    "#ax.axes.set_ylim3d(0, .0001) \n",
    "#ax.axes.set_zlim3d(-1, 1) \n",
    "ax.plot3D(data_x, data_y,data_z,label='Solución Integrador')\n",
    "ax.set_xlabel('$x$')\n",
    "ax.set_ylabel('$y$')\n",
    "ax.set_zlabel('$z$')"
   ]
  },
  {
   "cell_type": "code",
<<<<<<< HEAD
   "execution_count": 59,
=======
   "execution_count": 50,
>>>>>>> 141a5b1d9262a04b6a898a1f0911aa55daddb100
   "metadata": {},
   "outputs": [
    {
     "data": {
      "text/html": [
       "<html>\\[\\newcommand{\\Bold}[1]{\\mathbf{#1}}\\left[\\verb|Line2D(_child0)|\\right]\\]</html>"
      ],
      "text/latex": [
       "$$\\newcommand{\\Bold}[1]{\\mathbf{#1}}\\left[\\verb|Line2D(_child0)|\\right]$$"
      ],
      "text/plain": [
<<<<<<< HEAD
       "[<matplotlib.lines.Line2D object at 0x7ff0a4a0b280>]"
      ]
     },
     "execution_count": 59,
=======
       "[<matplotlib.lines.Line2D object at 0x6ffefea60210>]"
      ]
     },
     "execution_count": 50,
>>>>>>> 141a5b1d9262a04b6a898a1f0911aa55daddb100
     "metadata": {},
     "output_type": "execute_result"
    },
    {
     "data": {
      "image/png": "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\n",
      "text/plain": [
       "<Figure size 432x288 with 1 Axes>"
      ]
     },
     "metadata": {
      "needs_background": "light"
     },
     "output_type": "display_data"
    }
   ],
   "source": [
    "plt.plot(data_t, data_energy)"
   ]
  },
  {
   "cell_type": "code",
<<<<<<< HEAD
   "execution_count": 60,
=======
   "execution_count": 51,
>>>>>>> 141a5b1d9262a04b6a898a1f0911aa55daddb100
   "metadata": {},
   "outputs": [
    {
     "data": {
      "text/html": [
       "<html>\\[\\newcommand{\\Bold}[1]{\\mathbf{#1}}\\left[\\verb|Line2D(_child0)|\\right]\\]</html>"
      ],
      "text/latex": [
       "$$\\newcommand{\\Bold}[1]{\\mathbf{#1}}\\left[\\verb|Line2D(_child0)|\\right]$$"
      ],
      "text/plain": [
<<<<<<< HEAD
       "[<matplotlib.lines.Line2D object at 0x7ff0a48dcca0>]"
      ]
     },
     "execution_count": 60,
=======
       "[<matplotlib.lines.Line2D object at 0x6ffefeb07850>]"
      ]
     },
     "execution_count": 51,
>>>>>>> 141a5b1d9262a04b6a898a1f0911aa55daddb100
     "metadata": {},
     "output_type": "execute_result"
    },
    {
     "data": {
      "image/png": "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\n",
      "text/plain": [
       "<Figure size 432x288 with 1 Axes>"
      ]
     },
     "metadata": {
      "needs_background": "light"
     },
     "output_type": "display_data"
    }
   ],
   "source": [
    "plt.plot(data_t, data_energy - np.ones(N,)*data_energy[0])"
   ]
  },
  {
   "cell_type": "code",
   "execution_count": 52,
   "metadata": {},
   "outputs": [
    {
     "data": {
      "text/plain": [
       "<class 'numpy.float64'>"
      ]
     },
     "execution_count": 52,
     "metadata": {},
     "output_type": "execute_result"
    }
   ],
   "source": [
    "type(data_energy[0])"
   ]
  },
  {
   "cell_type": "code",
<<<<<<< HEAD
   "execution_count": 63,
=======
   "execution_count": 53,
>>>>>>> 141a5b1d9262a04b6a898a1f0911aa55daddb100
   "metadata": {},
   "outputs": [
    {
     "data": {
      "text/html": [
       "<html>\\[\\newcommand{\\Bold}[1]{\\mathbf{#1}}\\left[\\verb|Line2D(_child0)|\\right]\\]</html>"
      ],
      "text/latex": [
       "$$\\newcommand{\\Bold}[1]{\\mathbf{#1}}\\left[\\verb|Line2D(_child0)|\\right]$$"
      ],
      "text/plain": [
<<<<<<< HEAD
       "[<matplotlib.lines.Line2D object at 0x7ff0a4798ee0>]"
      ]
     },
     "execution_count": 63,
=======
       "[<matplotlib.lines.Line2D object at 0x6ffefe9c4c10>]"
      ]
     },
     "execution_count": 53,
>>>>>>> 141a5b1d9262a04b6a898a1f0911aa55daddb100
     "metadata": {},
     "output_type": "execute_result"
    },
    {
     "data": {
      "image/png": "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\n",
      "text/plain": [
       "<Figure size 432x288 with 1 Axes>"
      ]
     },
     "metadata": {
      "needs_background": "light"
     },
     "output_type": "display_data"
    }
   ],
   "source": [
    "plt.plot(data_t, np.ones(N,)*data_L[0]-data_L)"
   ]
  },
  {
   "cell_type": "code",
<<<<<<< HEAD
   "execution_count": 62,
=======
   "execution_count": 54,
>>>>>>> 141a5b1d9262a04b6a898a1f0911aa55daddb100
   "metadata": {
    "scrolled": false
   },
   "outputs": [
    {
     "data": {
      "text/html": [
       "<html>\\[\\newcommand{\\Bold}[1]{\\mathbf{#1}}\\left[\\verb|Line2D(_child0)|\\right]\\]</html>"
      ],
      "text/latex": [
       "$$\\newcommand{\\Bold}[1]{\\mathbf{#1}}\\left[\\verb|Line2D(_child0)|\\right]$$"
      ],
      "text/plain": [
<<<<<<< HEAD
       "[<matplotlib.lines.Line2D object at 0x7ff0a483e520>]"
      ]
     },
     "execution_count": 62,
=======
       "[<matplotlib.lines.Line2D object at 0x6ffefe9fb7d0>]"
      ]
     },
     "execution_count": 54,
>>>>>>> 141a5b1d9262a04b6a898a1f0911aa55daddb100
     "metadata": {},
     "output_type": "execute_result"
    },
    {
     "data": {
      "image/png": "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\n",
      "text/plain": [
       "<Figure size 432x288 with 1 Axes>"
      ]
     },
     "metadata": {
      "needs_background": "light"
     },
     "output_type": "display_data"
    }
   ],
   "source": [
    "plt.plot(data_t, data_L)"
   ]
  },
  {
   "cell_type": "markdown",
   "metadata": {},
   "source": [
    "# Cambio de carta y simetrías\n",
    "\n",
    "Una vez encontrada la solución del flujo usando el integrador se selecciona otra carta para la variedad, y se estudian las simetrías en esta nueva carta."
   ]
  },
  {
   "cell_type": "markdown",
   "metadata": {},
   "source": [
    "Se introducen las relaciones de transformación entre cartas:"
   ]
  },
  {
   "cell_type": "code",
   "execution_count": 55,
   "metadata": {},
   "outputs": [],
   "source": [
    "U = M.open_subset('U', coord_def={std: x^2+y^2+z^2 > 0})\n",
    "std_U = std.restrict(U)"
   ]
  },
  {
   "cell_type": "code",
   "execution_count": 56,
   "metadata": {},
   "outputs": [
    {
     "data": {
      "text/plain": [
       "Chart (U, (r, th, ph, Pr, Pth, Pph))"
      ]
     },
     "execution_count": 56,
     "metadata": {},
     "output_type": "execute_result"
    }
   ],
   "source": [
    "pol.<r,th,ph,Pr,Pth,Pph> = U.chart(r'r:(0,+oo) th:(0,pi):\\theta ph:(0,2*pi):\\phi Pr:P_r Pth:P_{\\theta} Pph:P_{\\phi}')\n",
    "pol"
   ]
  },
  {
   "cell_type": "code",
   "execution_count": 57,
   "metadata": {},
   "outputs": [
    {
     "name": "stdout",
     "output_type": "stream",
     "text": [
      "Check of the inverse coordinate transformation:\n",
      "  r == r  *passed*\n",
      "  th == arctan2(r*sin(th), r*cos(th))  **failed**\n",
      "  ph == arctan2(r*sin(ph)*sin(th), r*cos(ph)*sin(th))  **failed**\n",
      "  Pr == Pr  *passed*\n",
      "  Pth == Pth  *passed*\n",
      "  Pph == Pph  *passed*\n",
      "  x == x  *passed*\n",
      "  y == y  *passed*\n",
      "  z == z  *passed*\n",
      "  px == px  *passed*\n",
      "  py == py  *passed*\n",
      "  pz == pz  *passed*\n",
      "NB: a failed report can reflect a mere lack of simplification.\n"
     ]
    }
   ],
   "source": [
    "pol_to_std = pol.transition_map(std_U,[r*sin(th)*cos(ph),\n",
    "                       r*sin(th)*sin(ph),\n",
    "                       r*cos(th),\n",
    "                       Pr*cos(ph)*sin(th)-(Pph*sin(ph))/(r*sin(th)) + (Pth*cos(ph)*cos(th))/r,\n",
    "                       Pr*sin(ph)*sin(th)+(Pph*cos(ph)/(r*sin(th)) + (Pth*sin(ph)*cos(th))/r),\n",
    "                       Pr*cos(th) -Pth*sin(th)/r])\n",
    "\n",
    "pol_to_std.set_inverse(sqrt(x^2+y^2+z^2),\n",
    "                arctan2(sqrt(x^2+y^2),z),\n",
    "                arctan2(y,x),\n",
    "                (x*px+y*py+z*pz)/sqrt(x^2+y^2+z^2),\n",
    "                -((y^2+x^2)*pz+(-y*py-x*px)*z)/(sqrt(y^2+x^2)),\n",
    "                ((x*py-y*px)/(x^2 + y^2))*(x^2+y^2+z^2)*sin(arctan2(sqrt(x^2+y^2),z))^2)\n"
   ]
  },
  {
   "cell_type": "code",
   "execution_count": 58,
   "metadata": {},
   "outputs": [
    {
     "data": {
      "text/plain": [
       "x = r*cos(ph)*sin(th)\n",
       "y = r*sin(ph)*sin(th)\n",
       "z = r*cos(th)\n",
       "px = Pr*cos(ph)*sin(th) + Pth*cos(ph)*cos(th)/r - Pph*sin(ph)/(r*sin(th))\n",
       "py = Pr*sin(ph)*sin(th) + Pth*cos(th)*sin(ph)/r + Pph*cos(ph)/(r*sin(th))\n",
       "pz = Pr*cos(th) - Pth*sin(th)/r"
      ]
     },
     "execution_count": 58,
     "metadata": {},
     "output_type": "execute_result"
    }
   ],
   "source": [
    "pol_to_std.display()\n"
   ]
  },
  {
   "cell_type": "code",
   "execution_count": 59,
   "metadata": {},
   "outputs": [
    {
     "data": {
      "text/plain": [
       "r = sqrt(x^2 + y^2 + z^2)\n",
       "th = arctan2(sqrt(x^2 + y^2), z)\n",
       "ph = arctan2(y, x)\n",
       "Pr = (px*x + py*y + pz*z)/sqrt(x^2 + y^2 + z^2)\n",
       "Pth = -((x^2 + y^2)*pz - (px*x + py*y)*z)/sqrt(x^2 + y^2)\n",
       "Pph = py*x - px*y"
      ]
     },
     "execution_count": 59,
     "metadata": {},
     "output_type": "execute_result"
    }
   ],
   "source": [
    "pol_to_std.inverse().display()"
   ]
  },
  {
   "cell_type": "markdown",
   "metadata": {},
   "source": [
    "Directamente de la transformación para $P_\\phi$, se ve que esta corresponde al momento angular en la coordenada z, $L_z$. Al siempre conservarse esta cantidad en general, la órbita siempre estará ubicada en un plano, por lo cual siempre es posible encontrar una carta donde el movimiento tenga solo 2 grados de libertad.  \n",
    "\n",
    "Con la forma de las transformaciones se puede encontrar la solución para la carta $\\left( U , (r, \\theta, \\phi , P_r , P_{\\theta}, P_{\\Phi}) \\right)$:"
   ]
  },
  {
   "cell_type": "markdown",
   "metadata": {},
   "source": [
    "Para la solución encontrada por el método Euler Simpléctico:"
   ]
  },
  {
   "cell_type": "code",
   "execution_count": 60,
   "metadata": {},
   "outputs": [],
   "source": [
    "data_r_e = np.sqrt(data_x_e**2 + data_y_e**2 + data_z_e**2 )\n",
    "data_th_e = np.arctan2(np.sqrt(data_x_e**2 + data_y_e**2),data_z_e)\n",
    "data_ph_e = np.arctan2(data_y_e,data_x_e)\n",
    "\n",
    "data_Pr_e = (data_px_e*data_x_e + data_py_e*data_y_e + data_pz_e*data_z_e )/data_r_e\n",
    "data_Pth_e = ((data_px_e*data_x_e + data_py_e*data_y_e)*data_z_e - (data_x_e**2 + data_y_e**2)*data_pz_e )/(np.sqrt(data_x_e**2 + data_y_e**2))\n",
    "data_Pph_e = data_py_e*data_x_e - data_y_e*data_px_e"
   ]
  },
  {
   "cell_type": "markdown",
   "metadata": {},
   "source": [
    "Para la solución del método Stormer - Verlet:"
   ]
  },
  {
   "cell_type": "code",
   "execution_count": 61,
   "metadata": {},
   "outputs": [],
   "source": [
    "data_r = np.sqrt(data_x**2 + data_y**2 + data_z**2 )\n",
    "data_th = np.arctan2(np.sqrt(data_x**2 + data_y**2),data_z)\n",
    "data_ph = np.arctan2(data_y,data_x)\n",
    "\n",
    "data_Pr = (data_px*data_x + data_py*data_y + data_pz*data_z )/data_r\n",
    "data_Pth = ((data_px*data_x + data_py*data_y)*data_z - (data_x**2 + data_y**2)*data_pz )/(np.sqrt(data_x**2 + data_y**2))\n",
    "data_Pph = data_py*data_x - data_y*data_px"
   ]
  },
  {
   "cell_type": "markdown",
   "metadata": {},
   "source": [
    "Se puede obtener la gráfica del radio $r$ en función de el ángulo azimutal $\\phi$:\n",
    "\n",
    "En la literatura se puede encontrar la conocida relación $r (\\phi) = \\frac{L^2_z}{1 -e\\cos{\\phi}}$, donde $e= \\sqrt{1+2EL^2_z}$.\n",
    "\n",
    "La gráfica inferior muestra las curvas obtenidas, donde la línea negra corresponde a la solución analítica del problema."
   ]
  },
  {
   "cell_type": "code",
   "execution_count": 143,
   "metadata": {},
   "outputs": [
    {
     "data": {
      "application/javascript": [
       "/* Put everything inside the global mpl namespace */\n",
       "/* global mpl */\n",
       "window.mpl = {};\n",
       "\n",
       "mpl.get_websocket_type = function () {\n",
       "    if (typeof WebSocket !== 'undefined') {\n",
       "        return WebSocket;\n",
       "    } else if (typeof MozWebSocket !== 'undefined') {\n",
       "        return MozWebSocket;\n",
       "    } else {\n",
       "        alert(\n",
       "            'Your browser does not have WebSocket support. ' +\n",
       "                'Please try Chrome, Safari or Firefox ≥ 6. ' +\n",
       "                'Firefox 4 and 5 are also supported but you ' +\n",
       "                'have to enable WebSockets in about:config.'\n",
       "        );\n",
       "    }\n",
       "};\n",
       "\n",
       "mpl.figure = function (figure_id, websocket, ondownload, parent_element) {\n",
       "    this.id = figure_id;\n",
       "\n",
       "    this.ws = websocket;\n",
       "\n",
       "    this.supports_binary = this.ws.binaryType !== undefined;\n",
       "\n",
       "    if (!this.supports_binary) {\n",
       "        var warnings = document.getElementById('mpl-warnings');\n",
       "        if (warnings) {\n",
       "            warnings.style.display = 'block';\n",
       "            warnings.textContent =\n",
       "                'This browser does not support binary websocket messages. ' +\n",
       "                'Performance may be slow.';\n",
       "        }\n",
       "    }\n",
       "\n",
       "    this.imageObj = new Image();\n",
       "\n",
       "    this.context = undefined;\n",
       "    this.message = undefined;\n",
       "    this.canvas = undefined;\n",
       "    this.rubberband_canvas = undefined;\n",
       "    this.rubberband_context = undefined;\n",
       "    this.format_dropdown = undefined;\n",
       "\n",
       "    this.image_mode = 'full';\n",
       "\n",
       "    this.root = document.createElement('div');\n",
       "    this.root.setAttribute('style', 'display: inline-block');\n",
       "    this._root_extra_style(this.root);\n",
       "\n",
       "    parent_element.appendChild(this.root);\n",
       "\n",
       "    this._init_header(this);\n",
       "    this._init_canvas(this);\n",
       "    this._init_toolbar(this);\n",
       "\n",
       "    var fig = this;\n",
       "\n",
       "    this.waiting = false;\n",
       "\n",
       "    this.ws.onopen = function () {\n",
       "        fig.send_message('supports_binary', { value: fig.supports_binary });\n",
       "        fig.send_message('send_image_mode', {});\n",
       "        if (mpl.ratio !== 1) {\n",
       "            fig.send_message('set_dpi_ratio', { dpi_ratio: mpl.ratio });\n",
       "        }\n",
       "        fig.send_message('refresh', {});\n",
       "    };\n",
       "\n",
       "    this.imageObj.onload = function () {\n",
       "        if (fig.image_mode === 'full') {\n",
       "            // Full images could contain transparency (where diff images\n",
       "            // almost always do), so we need to clear the canvas so that\n",
       "            // there is no ghosting.\n",
       "            fig.context.clearRect(0, 0, fig.canvas.width, fig.canvas.height);\n",
       "        }\n",
       "        fig.context.drawImage(fig.imageObj, 0, 0);\n",
       "    };\n",
       "\n",
       "    this.imageObj.onunload = function () {\n",
       "        fig.ws.close();\n",
       "    };\n",
       "\n",
       "    this.ws.onmessage = this._make_on_message_function(this);\n",
       "\n",
       "    this.ondownload = ondownload;\n",
       "};\n",
       "\n",
       "mpl.figure.prototype._init_header = function () {\n",
       "    var titlebar = document.createElement('div');\n",
       "    titlebar.classList =\n",
       "        'ui-dialog-titlebar ui-widget-header ui-corner-all ui-helper-clearfix';\n",
       "    var titletext = document.createElement('div');\n",
       "    titletext.classList = 'ui-dialog-title';\n",
       "    titletext.setAttribute(\n",
       "        'style',\n",
       "        'width: 100%; text-align: center; padding: 3px;'\n",
       "    );\n",
       "    titlebar.appendChild(titletext);\n",
       "    this.root.appendChild(titlebar);\n",
       "    this.header = titletext;\n",
       "};\n",
       "\n",
       "mpl.figure.prototype._canvas_extra_style = function (_canvas_div) {};\n",
       "\n",
       "mpl.figure.prototype._root_extra_style = function (_canvas_div) {};\n",
       "\n",
       "mpl.figure.prototype._init_canvas = function () {\n",
       "    var fig = this;\n",
       "\n",
       "    var canvas_div = (this.canvas_div = document.createElement('div'));\n",
       "    canvas_div.setAttribute(\n",
       "        'style',\n",
       "        'border: 1px solid #ddd;' +\n",
       "            'box-sizing: content-box;' +\n",
       "            'clear: both;' +\n",
       "            'min-height: 1px;' +\n",
       "            'min-width: 1px;' +\n",
       "            'outline: 0;' +\n",
       "            'overflow: hidden;' +\n",
       "            'position: relative;' +\n",
       "            'resize: both;'\n",
       "    );\n",
       "\n",
       "    function on_keyboard_event_closure(name) {\n",
       "        return function (event) {\n",
       "            return fig.key_event(event, name);\n",
       "        };\n",
       "    }\n",
       "\n",
       "    canvas_div.addEventListener(\n",
       "        'keydown',\n",
       "        on_keyboard_event_closure('key_press')\n",
       "    );\n",
       "    canvas_div.addEventListener(\n",
       "        'keyup',\n",
       "        on_keyboard_event_closure('key_release')\n",
       "    );\n",
       "\n",
       "    this._canvas_extra_style(canvas_div);\n",
       "    this.root.appendChild(canvas_div);\n",
       "\n",
       "    var canvas = (this.canvas = document.createElement('canvas'));\n",
       "    canvas.classList.add('mpl-canvas');\n",
       "    canvas.setAttribute('style', 'box-sizing: content-box;');\n",
       "\n",
       "    this.context = canvas.getContext('2d');\n",
       "\n",
       "    var backingStore =\n",
       "        this.context.backingStorePixelRatio ||\n",
       "        this.context.webkitBackingStorePixelRatio ||\n",
       "        this.context.mozBackingStorePixelRatio ||\n",
       "        this.context.msBackingStorePixelRatio ||\n",
       "        this.context.oBackingStorePixelRatio ||\n",
       "        this.context.backingStorePixelRatio ||\n",
       "        1;\n",
       "\n",
       "    mpl.ratio = (window.devicePixelRatio || 1) / backingStore;\n",
       "\n",
       "    var rubberband_canvas = (this.rubberband_canvas = document.createElement(\n",
       "        'canvas'\n",
       "    ));\n",
       "    rubberband_canvas.setAttribute(\n",
       "        'style',\n",
       "        'box-sizing: content-box; position: absolute; left: 0; top: 0; z-index: 1;'\n",
       "    );\n",
       "\n",
       "    var resizeObserver = new ResizeObserver(function (entries) {\n",
       "        var nentries = entries.length;\n",
       "        for (var i = 0; i < nentries; i++) {\n",
       "            var entry = entries[i];\n",
       "            var width, height;\n",
       "            if (entry.contentBoxSize) {\n",
       "                if (entry.contentBoxSize instanceof Array) {\n",
       "                    // Chrome 84 implements new version of spec.\n",
       "                    width = entry.contentBoxSize[0].inlineSize;\n",
       "                    height = entry.contentBoxSize[0].blockSize;\n",
       "                } else {\n",
       "                    // Firefox implements old version of spec.\n",
       "                    width = entry.contentBoxSize.inlineSize;\n",
       "                    height = entry.contentBoxSize.blockSize;\n",
       "                }\n",
       "            } else {\n",
       "                // Chrome <84 implements even older version of spec.\n",
       "                width = entry.contentRect.width;\n",
       "                height = entry.contentRect.height;\n",
       "            }\n",
       "\n",
       "            // Keep the size of the canvas and rubber band canvas in sync with\n",
       "            // the canvas container.\n",
       "            if (entry.devicePixelContentBoxSize) {\n",
       "                // Chrome 84 implements new version of spec.\n",
       "                canvas.setAttribute(\n",
       "                    'width',\n",
       "                    entry.devicePixelContentBoxSize[0].inlineSize\n",
       "                );\n",
       "                canvas.setAttribute(\n",
       "                    'height',\n",
       "                    entry.devicePixelContentBoxSize[0].blockSize\n",
       "                );\n",
       "            } else {\n",
       "                canvas.setAttribute('width', width * mpl.ratio);\n",
       "                canvas.setAttribute('height', height * mpl.ratio);\n",
       "            }\n",
       "            canvas.setAttribute(\n",
       "                'style',\n",
       "                'width: ' + width + 'px; height: ' + height + 'px;'\n",
       "            );\n",
       "\n",
       "            rubberband_canvas.setAttribute('width', width);\n",
       "            rubberband_canvas.setAttribute('height', height);\n",
       "\n",
       "            // And update the size in Python. We ignore the initial 0/0 size\n",
       "            // that occurs as the element is placed into the DOM, which should\n",
       "            // otherwise not happen due to the minimum size styling.\n",
       "            if (width != 0 && height != 0) {\n",
       "                fig.request_resize(width, height);\n",
       "            }\n",
       "        }\n",
       "    });\n",
       "    resizeObserver.observe(canvas_div);\n",
       "\n",
       "    function on_mouse_event_closure(name) {\n",
       "        return function (event) {\n",
       "            return fig.mouse_event(event, name);\n",
       "        };\n",
       "    }\n",
       "\n",
       "    rubberband_canvas.addEventListener(\n",
       "        'mousedown',\n",
       "        on_mouse_event_closure('button_press')\n",
       "    );\n",
       "    rubberband_canvas.addEventListener(\n",
       "        'mouseup',\n",
       "        on_mouse_event_closure('button_release')\n",
       "    );\n",
       "    // Throttle sequential mouse events to 1 every 20ms.\n",
       "    rubberband_canvas.addEventListener(\n",
       "        'mousemove',\n",
       "        on_mouse_event_closure('motion_notify')\n",
       "    );\n",
       "\n",
       "    rubberband_canvas.addEventListener(\n",
       "        'mouseenter',\n",
       "        on_mouse_event_closure('figure_enter')\n",
       "    );\n",
       "    rubberband_canvas.addEventListener(\n",
       "        'mouseleave',\n",
       "        on_mouse_event_closure('figure_leave')\n",
       "    );\n",
       "\n",
       "    canvas_div.addEventListener('wheel', function (event) {\n",
       "        if (event.deltaY < 0) {\n",
       "            event.step = 1;\n",
       "        } else {\n",
       "            event.step = -1;\n",
       "        }\n",
       "        on_mouse_event_closure('scroll')(event);\n",
       "    });\n",
       "\n",
       "    canvas_div.appendChild(canvas);\n",
       "    canvas_div.appendChild(rubberband_canvas);\n",
       "\n",
       "    this.rubberband_context = rubberband_canvas.getContext('2d');\n",
       "    this.rubberband_context.strokeStyle = '#000000';\n",
       "\n",
       "    this._resize_canvas = function (width, height, forward) {\n",
       "        if (forward) {\n",
       "            canvas_div.style.width = width + 'px';\n",
       "            canvas_div.style.height = height + 'px';\n",
       "        }\n",
       "    };\n",
       "\n",
       "    // Disable right mouse context menu.\n",
       "    this.rubberband_canvas.addEventListener('contextmenu', function (_e) {\n",
       "        event.preventDefault();\n",
       "        return false;\n",
       "    });\n",
       "\n",
       "    function set_focus() {\n",
       "        canvas.focus();\n",
       "        canvas_div.focus();\n",
       "    }\n",
       "\n",
       "    window.setTimeout(set_focus, 100);\n",
       "};\n",
       "\n",
       "mpl.figure.prototype._init_toolbar = function () {\n",
       "    var fig = this;\n",
       "\n",
       "    var toolbar = document.createElement('div');\n",
       "    toolbar.classList = 'mpl-toolbar';\n",
       "    this.root.appendChild(toolbar);\n",
       "\n",
       "    function on_click_closure(name) {\n",
       "        return function (_event) {\n",
       "            return fig.toolbar_button_onclick(name);\n",
       "        };\n",
       "    }\n",
       "\n",
       "    function on_mouseover_closure(tooltip) {\n",
       "        return function (event) {\n",
       "            if (!event.currentTarget.disabled) {\n",
       "                return fig.toolbar_button_onmouseover(tooltip);\n",
       "            }\n",
       "        };\n",
       "    }\n",
       "\n",
       "    fig.buttons = {};\n",
       "    var buttonGroup = document.createElement('div');\n",
       "    buttonGroup.classList = 'mpl-button-group';\n",
       "    for (var toolbar_ind in mpl.toolbar_items) {\n",
       "        var name = mpl.toolbar_items[toolbar_ind][0];\n",
       "        var tooltip = mpl.toolbar_items[toolbar_ind][1];\n",
       "        var image = mpl.toolbar_items[toolbar_ind][2];\n",
       "        var method_name = mpl.toolbar_items[toolbar_ind][3];\n",
       "\n",
       "        if (!name) {\n",
       "            /* Instead of a spacer, we start a new button group. */\n",
       "            if (buttonGroup.hasChildNodes()) {\n",
       "                toolbar.appendChild(buttonGroup);\n",
       "            }\n",
       "            buttonGroup = document.createElement('div');\n",
       "            buttonGroup.classList = 'mpl-button-group';\n",
       "            continue;\n",
       "        }\n",
       "\n",
       "        var button = (fig.buttons[name] = document.createElement('button'));\n",
       "        button.classList = 'mpl-widget';\n",
       "        button.setAttribute('role', 'button');\n",
       "        button.setAttribute('aria-disabled', 'false');\n",
       "        button.addEventListener('click', on_click_closure(method_name));\n",
       "        button.addEventListener('mouseover', on_mouseover_closure(tooltip));\n",
       "\n",
       "        var icon_img = document.createElement('img');\n",
       "        icon_img.src = '_images/' + image + '.png';\n",
       "        icon_img.srcset = '_images/' + image + '_large.png 2x';\n",
       "        icon_img.alt = tooltip;\n",
       "        button.appendChild(icon_img);\n",
       "\n",
       "        buttonGroup.appendChild(button);\n",
       "    }\n",
       "\n",
       "    if (buttonGroup.hasChildNodes()) {\n",
       "        toolbar.appendChild(buttonGroup);\n",
       "    }\n",
       "\n",
       "    var fmt_picker = document.createElement('select');\n",
       "    fmt_picker.classList = 'mpl-widget';\n",
       "    toolbar.appendChild(fmt_picker);\n",
       "    this.format_dropdown = fmt_picker;\n",
       "\n",
       "    for (var ind in mpl.extensions) {\n",
       "        var fmt = mpl.extensions[ind];\n",
       "        var option = document.createElement('option');\n",
       "        option.selected = fmt === mpl.default_extension;\n",
       "        option.innerHTML = fmt;\n",
       "        fmt_picker.appendChild(option);\n",
       "    }\n",
       "\n",
       "    var status_bar = document.createElement('span');\n",
       "    status_bar.classList = 'mpl-message';\n",
       "    toolbar.appendChild(status_bar);\n",
       "    this.message = status_bar;\n",
       "};\n",
       "\n",
       "mpl.figure.prototype.request_resize = function (x_pixels, y_pixels) {\n",
       "    // Request matplotlib to resize the figure. Matplotlib will then trigger a resize in the client,\n",
       "    // which will in turn request a refresh of the image.\n",
       "    this.send_message('resize', { width: x_pixels, height: y_pixels });\n",
       "};\n",
       "\n",
       "mpl.figure.prototype.send_message = function (type, properties) {\n",
       "    properties['type'] = type;\n",
       "    properties['figure_id'] = this.id;\n",
       "    this.ws.send(JSON.stringify(properties));\n",
       "};\n",
       "\n",
       "mpl.figure.prototype.send_draw_message = function () {\n",
       "    if (!this.waiting) {\n",
       "        this.waiting = true;\n",
       "        this.ws.send(JSON.stringify({ type: 'draw', figure_id: this.id }));\n",
       "    }\n",
       "};\n",
       "\n",
       "mpl.figure.prototype.handle_save = function (fig, _msg) {\n",
       "    var format_dropdown = fig.format_dropdown;\n",
       "    var format = format_dropdown.options[format_dropdown.selectedIndex].value;\n",
       "    fig.ondownload(fig, format);\n",
       "};\n",
       "\n",
       "mpl.figure.prototype.handle_resize = function (fig, msg) {\n",
       "    var size = msg['size'];\n",
       "    if (size[0] !== fig.canvas.width || size[1] !== fig.canvas.height) {\n",
       "        fig._resize_canvas(size[0], size[1], msg['forward']);\n",
       "        fig.send_message('refresh', {});\n",
       "    }\n",
       "};\n",
       "\n",
       "mpl.figure.prototype.handle_rubberband = function (fig, msg) {\n",
       "    var x0 = msg['x0'] / mpl.ratio;\n",
       "    var y0 = (fig.canvas.height - msg['y0']) / mpl.ratio;\n",
       "    var x1 = msg['x1'] / mpl.ratio;\n",
       "    var y1 = (fig.canvas.height - msg['y1']) / mpl.ratio;\n",
       "    x0 = Math.floor(x0) + 0.5;\n",
       "    y0 = Math.floor(y0) + 0.5;\n",
       "    x1 = Math.floor(x1) + 0.5;\n",
       "    y1 = Math.floor(y1) + 0.5;\n",
       "    var min_x = Math.min(x0, x1);\n",
       "    var min_y = Math.min(y0, y1);\n",
       "    var width = Math.abs(x1 - x0);\n",
       "    var height = Math.abs(y1 - y0);\n",
       "\n",
       "    fig.rubberband_context.clearRect(\n",
       "        0,\n",
       "        0,\n",
       "        fig.canvas.width / mpl.ratio,\n",
       "        fig.canvas.height / mpl.ratio\n",
       "    );\n",
       "\n",
       "    fig.rubberband_context.strokeRect(min_x, min_y, width, height);\n",
       "};\n",
       "\n",
       "mpl.figure.prototype.handle_figure_label = function (fig, msg) {\n",
       "    // Updates the figure title.\n",
       "    fig.header.textContent = msg['label'];\n",
       "};\n",
       "\n",
       "mpl.figure.prototype.handle_cursor = function (fig, msg) {\n",
       "    var cursor = msg['cursor'];\n",
       "    switch (cursor) {\n",
       "        case 0:\n",
       "            cursor = 'pointer';\n",
       "            break;\n",
       "        case 1:\n",
       "            cursor = 'default';\n",
       "            break;\n",
       "        case 2:\n",
       "            cursor = 'crosshair';\n",
       "            break;\n",
       "        case 3:\n",
       "            cursor = 'move';\n",
       "            break;\n",
       "    }\n",
       "    fig.rubberband_canvas.style.cursor = cursor;\n",
       "};\n",
       "\n",
       "mpl.figure.prototype.handle_message = function (fig, msg) {\n",
       "    fig.message.textContent = msg['message'];\n",
       "};\n",
       "\n",
       "mpl.figure.prototype.handle_draw = function (fig, _msg) {\n",
       "    // Request the server to send over a new figure.\n",
       "    fig.send_draw_message();\n",
       "};\n",
       "\n",
       "mpl.figure.prototype.handle_image_mode = function (fig, msg) {\n",
       "    fig.image_mode = msg['mode'];\n",
       "};\n",
       "\n",
       "mpl.figure.prototype.handle_history_buttons = function (fig, msg) {\n",
       "    for (var key in msg) {\n",
       "        if (!(key in fig.buttons)) {\n",
       "            continue;\n",
       "        }\n",
       "        fig.buttons[key].disabled = !msg[key];\n",
       "        fig.buttons[key].setAttribute('aria-disabled', !msg[key]);\n",
       "    }\n",
       "};\n",
       "\n",
       "mpl.figure.prototype.handle_navigate_mode = function (fig, msg) {\n",
       "    if (msg['mode'] === 'PAN') {\n",
       "        fig.buttons['Pan'].classList.add('active');\n",
       "        fig.buttons['Zoom'].classList.remove('active');\n",
       "    } else if (msg['mode'] === 'ZOOM') {\n",
       "        fig.buttons['Pan'].classList.remove('active');\n",
       "        fig.buttons['Zoom'].classList.add('active');\n",
       "    } else {\n",
       "        fig.buttons['Pan'].classList.remove('active');\n",
       "        fig.buttons['Zoom'].classList.remove('active');\n",
       "    }\n",
       "};\n",
       "\n",
       "mpl.figure.prototype.updated_canvas_event = function () {\n",
       "    // Called whenever the canvas gets updated.\n",
       "    this.send_message('ack', {});\n",
       "};\n",
       "\n",
       "// A function to construct a web socket function for onmessage handling.\n",
       "// Called in the figure constructor.\n",
       "mpl.figure.prototype._make_on_message_function = function (fig) {\n",
       "    return function socket_on_message(evt) {\n",
       "        if (evt.data instanceof Blob) {\n",
       "            /* FIXME: We get \"Resource interpreted as Image but\n",
       "             * transferred with MIME type text/plain:\" errors on\n",
       "             * Chrome.  But how to set the MIME type?  It doesn't seem\n",
       "             * to be part of the websocket stream */\n",
       "            evt.data.type = 'image/png';\n",
       "\n",
       "            /* Free the memory for the previous frames */\n",
       "            if (fig.imageObj.src) {\n",
       "                (window.URL || window.webkitURL).revokeObjectURL(\n",
       "                    fig.imageObj.src\n",
       "                );\n",
       "            }\n",
       "\n",
       "            fig.imageObj.src = (window.URL || window.webkitURL).createObjectURL(\n",
       "                evt.data\n",
       "            );\n",
       "            fig.updated_canvas_event();\n",
       "            fig.waiting = false;\n",
       "            return;\n",
       "        } else if (\n",
       "            typeof evt.data === 'string' &&\n",
       "            evt.data.slice(0, 21) === 'data:image/png;base64'\n",
       "        ) {\n",
       "            fig.imageObj.src = evt.data;\n",
       "            fig.updated_canvas_event();\n",
       "            fig.waiting = false;\n",
       "            return;\n",
       "        }\n",
       "\n",
       "        var msg = JSON.parse(evt.data);\n",
       "        var msg_type = msg['type'];\n",
       "\n",
       "        // Call the  \"handle_{type}\" callback, which takes\n",
       "        // the figure and JSON message as its only arguments.\n",
       "        try {\n",
       "            var callback = fig['handle_' + msg_type];\n",
       "        } catch (e) {\n",
       "            console.log(\n",
       "                \"No handler for the '\" + msg_type + \"' message type: \",\n",
       "                msg\n",
       "            );\n",
       "            return;\n",
       "        }\n",
       "\n",
       "        if (callback) {\n",
       "            try {\n",
       "                // console.log(\"Handling '\" + msg_type + \"' message: \", msg);\n",
       "                callback(fig, msg);\n",
       "            } catch (e) {\n",
       "                console.log(\n",
       "                    \"Exception inside the 'handler_\" + msg_type + \"' callback:\",\n",
       "                    e,\n",
       "                    e.stack,\n",
       "                    msg\n",
       "                );\n",
       "            }\n",
       "        }\n",
       "    };\n",
       "};\n",
       "\n",
       "// from http://stackoverflow.com/questions/1114465/getting-mouse-location-in-canvas\n",
       "mpl.findpos = function (e) {\n",
       "    //this section is from http://www.quirksmode.org/js/events_properties.html\n",
       "    var targ;\n",
       "    if (!e) {\n",
       "        e = window.event;\n",
       "    }\n",
       "    if (e.target) {\n",
       "        targ = e.target;\n",
       "    } else if (e.srcElement) {\n",
       "        targ = e.srcElement;\n",
       "    }\n",
       "    if (targ.nodeType === 3) {\n",
       "        // defeat Safari bug\n",
       "        targ = targ.parentNode;\n",
       "    }\n",
       "\n",
       "    // pageX,Y are the mouse positions relative to the document\n",
       "    var boundingRect = targ.getBoundingClientRect();\n",
       "    var x = e.pageX - (boundingRect.left + document.body.scrollLeft);\n",
       "    var y = e.pageY - (boundingRect.top + document.body.scrollTop);\n",
       "\n",
       "    return { x: x, y: y };\n",
       "};\n",
       "\n",
       "/*\n",
       " * return a copy of an object with only non-object keys\n",
       " * we need this to avoid circular references\n",
       " * http://stackoverflow.com/a/24161582/3208463\n",
       " */\n",
       "function simpleKeys(original) {\n",
       "    return Object.keys(original).reduce(function (obj, key) {\n",
       "        if (typeof original[key] !== 'object') {\n",
       "            obj[key] = original[key];\n",
       "        }\n",
       "        return obj;\n",
       "    }, {});\n",
       "}\n",
       "\n",
       "mpl.figure.prototype.mouse_event = function (event, name) {\n",
       "    var canvas_pos = mpl.findpos(event);\n",
       "\n",
       "    if (name === 'button_press') {\n",
       "        this.canvas.focus();\n",
       "        this.canvas_div.focus();\n",
       "    }\n",
       "\n",
       "    var x = canvas_pos.x * mpl.ratio;\n",
       "    var y = canvas_pos.y * mpl.ratio;\n",
       "\n",
       "    this.send_message(name, {\n",
       "        x: x,\n",
       "        y: y,\n",
       "        button: event.button,\n",
       "        step: event.step,\n",
       "        guiEvent: simpleKeys(event),\n",
       "    });\n",
       "\n",
       "    /* This prevents the web browser from automatically changing to\n",
       "     * the text insertion cursor when the button is pressed.  We want\n",
       "     * to control all of the cursor setting manually through the\n",
       "     * 'cursor' event from matplotlib */\n",
       "    event.preventDefault();\n",
       "    return false;\n",
       "};\n",
       "\n",
       "mpl.figure.prototype._key_event_extra = function (_event, _name) {\n",
       "    // Handle any extra behaviour associated with a key event\n",
       "};\n",
       "\n",
       "mpl.figure.prototype.key_event = function (event, name) {\n",
       "    // Prevent repeat events\n",
       "    if (name === 'key_press') {\n",
       "        if (event.which === this._key) {\n",
       "            return;\n",
       "        } else {\n",
       "            this._key = event.which;\n",
       "        }\n",
       "    }\n",
       "    if (name === 'key_release') {\n",
       "        this._key = null;\n",
       "    }\n",
       "\n",
       "    var value = '';\n",
       "    if (event.ctrlKey && event.which !== 17) {\n",
       "        value += 'ctrl+';\n",
       "    }\n",
       "    if (event.altKey && event.which !== 18) {\n",
       "        value += 'alt+';\n",
       "    }\n",
       "    if (event.shiftKey && event.which !== 16) {\n",
       "        value += 'shift+';\n",
       "    }\n",
       "\n",
       "    value += 'k';\n",
       "    value += event.which.toString();\n",
       "\n",
       "    this._key_event_extra(event, name);\n",
       "\n",
       "    this.send_message(name, { key: value, guiEvent: simpleKeys(event) });\n",
       "    return false;\n",
       "};\n",
       "\n",
       "mpl.figure.prototype.toolbar_button_onclick = function (name) {\n",
       "    if (name === 'download') {\n",
       "        this.handle_save(this, null);\n",
       "    } else {\n",
       "        this.send_message('toolbar_button', { name: name });\n",
       "    }\n",
       "};\n",
       "\n",
       "mpl.figure.prototype.toolbar_button_onmouseover = function (tooltip) {\n",
       "    this.message.textContent = tooltip;\n",
       "};\n",
       "mpl.toolbar_items = [[\"Home\", \"Reset original view\", \"fa fa-home icon-home\", \"home\"], [\"Back\", \"Back to previous view\", \"fa fa-arrow-left icon-arrow-left\", \"back\"], [\"Forward\", \"Forward to next view\", \"fa fa-arrow-right icon-arrow-right\", \"forward\"], [\"\", \"\", \"\", \"\"], [\"Pan\", \"Left button pans, Right button zooms\\nx/y fixes axis, CTRL fixes aspect\", \"fa fa-arrows icon-move\", \"pan\"], [\"Zoom\", \"Zoom to rectangle\\nx/y fixes axis, CTRL fixes aspect\", \"fa fa-square-o icon-check-empty\", \"zoom\"], [\"\", \"\", \"\", \"\"], [\"Download\", \"Download plot\", \"fa fa-floppy-o icon-save\", \"download\"]];\n",
       "\n",
       "mpl.extensions = [\"eps\", \"jpeg\", \"pdf\", \"png\", \"ps\", \"raw\", \"svg\", \"tif\"];\n",
       "\n",
       "mpl.default_extension = \"png\";/* global mpl */\n",
       "\n",
       "var comm_websocket_adapter = function (comm) {\n",
       "    // Create a \"websocket\"-like object which calls the given IPython comm\n",
       "    // object with the appropriate methods. Currently this is a non binary\n",
       "    // socket, so there is still some room for performance tuning.\n",
       "    var ws = {};\n",
       "\n",
       "    ws.close = function () {\n",
       "        comm.close();\n",
       "    };\n",
       "    ws.send = function (m) {\n",
       "        //console.log('sending', m);\n",
       "        comm.send(m);\n",
       "    };\n",
       "    // Register the callback with on_msg.\n",
       "    comm.on_msg(function (msg) {\n",
       "        //console.log('receiving', msg['content']['data'], msg);\n",
       "        // Pass the mpl event to the overridden (by mpl) onmessage function.\n",
       "        ws.onmessage(msg['content']['data']);\n",
       "    });\n",
       "    return ws;\n",
       "};\n",
       "\n",
       "mpl.mpl_figure_comm = function (comm, msg) {\n",
       "    // This is the function which gets called when the mpl process\n",
       "    // starts-up an IPython Comm through the \"matplotlib\" channel.\n",
       "\n",
       "    var id = msg.content.data.id;\n",
       "    // Get hold of the div created by the display call when the Comm\n",
       "    // socket was opened in Python.\n",
       "    var element = document.getElementById(id);\n",
       "    var ws_proxy = comm_websocket_adapter(comm);\n",
       "\n",
       "    function ondownload(figure, _format) {\n",
       "        window.open(figure.canvas.toDataURL());\n",
       "    }\n",
       "\n",
       "    var fig = new mpl.figure(id, ws_proxy, ondownload, element);\n",
       "\n",
       "    // Call onopen now - mpl needs it, as it is assuming we've passed it a real\n",
       "    // web socket which is closed, not our websocket->open comm proxy.\n",
       "    ws_proxy.onopen();\n",
       "\n",
       "    fig.parent_element = element;\n",
       "    fig.cell_info = mpl.find_output_cell(\"<div id='\" + id + \"'></div>\");\n",
       "    if (!fig.cell_info) {\n",
       "        console.error('Failed to find cell for figure', id, fig);\n",
       "        return;\n",
       "    }\n",
       "};\n",
       "\n",
       "mpl.figure.prototype.handle_close = function (fig, msg) {\n",
       "    var width = fig.canvas.width / mpl.ratio;\n",
       "    fig.root.removeEventListener('remove', this._remove_fig_handler);\n",
       "\n",
       "    // Update the output cell to use the data from the current canvas.\n",
       "    fig.push_to_output();\n",
       "    var dataURL = fig.canvas.toDataURL();\n",
       "    // Re-enable the keyboard manager in IPython - without this line, in FF,\n",
       "    // the notebook keyboard shortcuts fail.\n",
       "    IPython.keyboard_manager.enable();\n",
       "    fig.parent_element.innerHTML =\n",
       "        '<img src=\"' + dataURL + '\" width=\"' + width + '\">';\n",
       "    fig.close_ws(fig, msg);\n",
       "};\n",
       "\n",
       "mpl.figure.prototype.close_ws = function (fig, msg) {\n",
       "    fig.send_message('closing', msg);\n",
       "    // fig.ws.close()\n",
       "};\n",
       "\n",
       "mpl.figure.prototype.push_to_output = function (_remove_interactive) {\n",
       "    // Turn the data on the canvas into data in the output cell.\n",
       "    var width = this.canvas.width / mpl.ratio;\n",
       "    var dataURL = this.canvas.toDataURL();\n",
       "    this.cell_info[1]['text/html'] =\n",
       "        '<img src=\"' + dataURL + '\" width=\"' + width + '\">';\n",
       "};\n",
       "\n",
       "mpl.figure.prototype.updated_canvas_event = function () {\n",
       "    // Tell IPython that the notebook contents must change.\n",
       "    IPython.notebook.set_dirty(true);\n",
       "    this.send_message('ack', {});\n",
       "    var fig = this;\n",
       "    // Wait a second, then push the new image to the DOM so\n",
       "    // that it is saved nicely (might be nice to debounce this).\n",
       "    setTimeout(function () {\n",
       "        fig.push_to_output();\n",
       "    }, 1000);\n",
       "};\n",
       "\n",
       "mpl.figure.prototype._init_toolbar = function () {\n",
       "    var fig = this;\n",
       "\n",
       "    var toolbar = document.createElement('div');\n",
       "    toolbar.classList = 'btn-toolbar';\n",
       "    this.root.appendChild(toolbar);\n",
       "\n",
       "    function on_click_closure(name) {\n",
       "        return function (_event) {\n",
       "            return fig.toolbar_button_onclick(name);\n",
       "        };\n",
       "    }\n",
       "\n",
       "    function on_mouseover_closure(tooltip) {\n",
       "        return function (event) {\n",
       "            if (!event.currentTarget.disabled) {\n",
       "                return fig.toolbar_button_onmouseover(tooltip);\n",
       "            }\n",
       "        };\n",
       "    }\n",
       "\n",
       "    fig.buttons = {};\n",
       "    var buttonGroup = document.createElement('div');\n",
       "    buttonGroup.classList = 'btn-group';\n",
       "    var button;\n",
       "    for (var toolbar_ind in mpl.toolbar_items) {\n",
       "        var name = mpl.toolbar_items[toolbar_ind][0];\n",
       "        var tooltip = mpl.toolbar_items[toolbar_ind][1];\n",
       "        var image = mpl.toolbar_items[toolbar_ind][2];\n",
       "        var method_name = mpl.toolbar_items[toolbar_ind][3];\n",
       "\n",
       "        if (!name) {\n",
       "            /* Instead of a spacer, we start a new button group. */\n",
       "            if (buttonGroup.hasChildNodes()) {\n",
       "                toolbar.appendChild(buttonGroup);\n",
       "            }\n",
       "            buttonGroup = document.createElement('div');\n",
       "            buttonGroup.classList = 'btn-group';\n",
       "            continue;\n",
       "        }\n",
       "\n",
       "        button = fig.buttons[name] = document.createElement('button');\n",
       "        button.classList = 'btn btn-default';\n",
       "        button.href = '#';\n",
       "        button.title = name;\n",
       "        button.innerHTML = '<i class=\"fa ' + image + ' fa-lg\"></i>';\n",
       "        button.addEventListener('click', on_click_closure(method_name));\n",
       "        button.addEventListener('mouseover', on_mouseover_closure(tooltip));\n",
       "        buttonGroup.appendChild(button);\n",
       "    }\n",
       "\n",
       "    if (buttonGroup.hasChildNodes()) {\n",
       "        toolbar.appendChild(buttonGroup);\n",
       "    }\n",
       "\n",
       "    // Add the status bar.\n",
       "    var status_bar = document.createElement('span');\n",
       "    status_bar.classList = 'mpl-message pull-right';\n",
       "    toolbar.appendChild(status_bar);\n",
       "    this.message = status_bar;\n",
       "\n",
       "    // Add the close button to the window.\n",
       "    var buttongrp = document.createElement('div');\n",
       "    buttongrp.classList = 'btn-group inline pull-right';\n",
       "    button = document.createElement('button');\n",
       "    button.classList = 'btn btn-mini btn-primary';\n",
       "    button.href = '#';\n",
       "    button.title = 'Stop Interaction';\n",
       "    button.innerHTML = '<i class=\"fa fa-power-off icon-remove icon-large\"></i>';\n",
       "    button.addEventListener('click', function (_evt) {\n",
       "        fig.handle_close(fig, {});\n",
       "    });\n",
       "    button.addEventListener(\n",
       "        'mouseover',\n",
       "        on_mouseover_closure('Stop Interaction')\n",
       "    );\n",
       "    buttongrp.appendChild(button);\n",
       "    var titlebar = this.root.querySelector('.ui-dialog-titlebar');\n",
       "    titlebar.insertBefore(buttongrp, titlebar.firstChild);\n",
       "};\n",
       "\n",
       "mpl.figure.prototype._remove_fig_handler = function () {\n",
       "    this.close_ws(this, {});\n",
       "};\n",
       "\n",
       "mpl.figure.prototype._root_extra_style = function (el) {\n",
       "    el.style.boxSizing = 'content-box'; // override notebook setting of border-box.\n",
       "    el.addEventListener('remove', this._remove_fig_handler);\n",
       "};\n",
       "\n",
       "mpl.figure.prototype._canvas_extra_style = function (el) {\n",
       "    // this is important to make the div 'focusable\n",
       "    el.setAttribute('tabindex', 0);\n",
       "    // reach out to IPython and tell the keyboard manager to turn it's self\n",
       "    // off when our div gets focus\n",
       "\n",
       "    // location in version 3\n",
       "    if (IPython.notebook.keyboard_manager) {\n",
       "        IPython.notebook.keyboard_manager.register_events(el);\n",
       "    } else {\n",
       "        // location in version 2\n",
       "        IPython.keyboard_manager.register_events(el);\n",
       "    }\n",
       "};\n",
       "\n",
       "mpl.figure.prototype._key_event_extra = function (event, _name) {\n",
       "    var manager = IPython.notebook.keyboard_manager;\n",
       "    if (!manager) {\n",
       "        manager = IPython.keyboard_manager;\n",
       "    }\n",
       "\n",
       "    // Check for shift+enter\n",
       "    if (event.shiftKey && event.which === 13) {\n",
       "        this.canvas_div.blur();\n",
       "        // select the cell after this one\n",
       "        var index = IPython.notebook.find_cell_index(this.cell_info[0]);\n",
       "        IPython.notebook.select(index + 1);\n",
       "    }\n",
       "};\n",
       "\n",
       "mpl.figure.prototype.handle_save = function (fig, _msg) {\n",
       "    fig.ondownload(fig, null);\n",
       "};\n",
       "\n",
       "mpl.find_output_cell = function (html_output) {\n",
       "    // Return the cell and output element which can be found *uniquely* in the notebook.\n",
       "    // Note - this is a bit hacky, but it is done because the \"notebook_saving.Notebook\"\n",
       "    // IPython event is triggered only after the cells have been serialised, which for\n",
       "    // our purposes (turning an active figure into a static one), is too late.\n",
       "    var cells = IPython.notebook.get_cells();\n",
       "    var ncells = cells.length;\n",
       "    for (var i = 0; i < ncells; i++) {\n",
       "        var cell = cells[i];\n",
       "        if (cell.cell_type === 'code') {\n",
       "            for (var j = 0; j < cell.output_area.outputs.length; j++) {\n",
       "                var data = cell.output_area.outputs[j];\n",
       "                if (data.data) {\n",
       "                    // IPython >= 3 moved mimebundle to data attribute of output\n",
       "                    data = data.data;\n",
       "                }\n",
       "                if (data['text/html'] === html_output) {\n",
       "                    return [cell, data, j];\n",
       "                }\n",
       "            }\n",
       "        }\n",
       "    }\n",
       "};\n",
       "\n",
       "// Register the function which deals with the matplotlib target/channel.\n",
       "// The kernel may be null if the page has been refreshed.\n",
       "if (IPython.notebook.kernel !== null) {\n",
       "    IPython.notebook.kernel.comm_manager.register_target(\n",
       "        'matplotlib',\n",
       "        mpl.mpl_figure_comm\n",
       "    );\n",
       "}\n"
      ],
      "text/plain": [
       "<IPython.core.display.Javascript object>"
      ]
     },
     "metadata": {},
     "output_type": "display_data"
    },
    {
     "data": {
      "text/html": [
       "<img src=\"data:image/png;base64,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\" width=\"640\">"
      ],
      "text/plain": [
       "<IPython.core.display.HTML object>"
      ]
     },
     "metadata": {},
     "output_type": "display_data"
    },
    {
     "data": {
      "text/plain": [
       "<matplotlib.legend.Legend object at 0x6ffef7e6f850>"
      ]
     },
     "execution_count": 143,
     "metadata": {},
     "output_type": "execute_result"
    }
   ],
   "source": [
    "e = np.sqrt(1+2*E0*data_Pph[0]**2)\n",
    "PHI = np.linspace(-np.pi,np.pi,1000)\n",
    "R = (data_Pph[0]**2 )/(1 - e*np.cos(PHI))\n",
    "\n",
    "plt.title\n",
    "plt.plot(data_ph_e,data_r_e,'ro',markersize=0.3,label='Euler Simpl.')\n",
    "plt.plot(data_ph, data_r,'bv',markersize=0.3,label='Stormer-Verlet')\n",
    "plt.plot(PHI,R,'k-',lw=0.9,label='Teoría')\n",
    "plt.xlabel(r'$\\phi$')\n",
    "plt.ylabel(r'$r(\\phi)$')\n",
    "plt.legend()"
   ]
  },
  {
   "cell_type": "markdown",
   "metadata": {},
   "source": [
    "# Campos Vectoriales y Flujos"
   ]
  },
  {
   "cell_type": "markdown",
   "metadata": {},
   "source": [
    "La visualización de los campos vectoriales Hamiltonianos para un problema de 3 dimensiones puede ser un poco complicada. El camino tomado consistió en considerar el campo vectorial $\\mathbf{X_x}= p_x \\frac{\\partial}{\\partial x} - \\frac{x}{\\left( x^2 + y^2 +z^2 \\right)^{3/2}} \\frac{\\partial}{\\partial p_x}$, que corresponde a la proyección del campo hamiltoniano solo sobre las coordenadas $x$ y $p_x$.\n",
    "\n",
    "Para poder visualizar el flujo, se considera $a^2 = y^2 +z^2$, y se reemplaza su valor para cada parte del movimiento utilizando las soluciones ya encontradas. \n",
    "\n",
    "La animación que se muestra a continuación muestra el campo vectorial asociado en cada parte del movimiento. La partícula que se muestra corresponde a la solución encontrada para ese paso en específico. Las magnitudes del campo vectorial se muestran en la figura usando los colores, donde para definir estos se tomó el logaritmo natural de la magnitud. "
   ]
  },
  {
   "cell_type": "code",
   "execution_count": 161,
   "metadata": {
    "scrolled": false
   },
   "outputs": [
    {
     "data": {
      "application/javascript": [
       "/* Put everything inside the global mpl namespace */\n",
       "/* global mpl */\n",
       "window.mpl = {};\n",
       "\n",
       "mpl.get_websocket_type = function () {\n",
       "    if (typeof WebSocket !== 'undefined') {\n",
       "        return WebSocket;\n",
       "    } else if (typeof MozWebSocket !== 'undefined') {\n",
       "        return MozWebSocket;\n",
       "    } else {\n",
       "        alert(\n",
       "            'Your browser does not have WebSocket support. ' +\n",
       "                'Please try Chrome, Safari or Firefox ≥ 6. ' +\n",
       "                'Firefox 4 and 5 are also supported but you ' +\n",
       "                'have to enable WebSockets in about:config.'\n",
       "        );\n",
       "    }\n",
       "};\n",
       "\n",
       "mpl.figure = function (figure_id, websocket, ondownload, parent_element) {\n",
       "    this.id = figure_id;\n",
       "\n",
       "    this.ws = websocket;\n",
       "\n",
       "    this.supports_binary = this.ws.binaryType !== undefined;\n",
       "\n",
       "    if (!this.supports_binary) {\n",
       "        var warnings = document.getElementById('mpl-warnings');\n",
       "        if (warnings) {\n",
       "            warnings.style.display = 'block';\n",
       "            warnings.textContent =\n",
       "                'This browser does not support binary websocket messages. ' +\n",
       "                'Performance may be slow.';\n",
       "        }\n",
       "    }\n",
       "\n",
       "    this.imageObj = new Image();\n",
       "\n",
       "    this.context = undefined;\n",
       "    this.message = undefined;\n",
       "    this.canvas = undefined;\n",
       "    this.rubberband_canvas = undefined;\n",
       "    this.rubberband_context = undefined;\n",
       "    this.format_dropdown = undefined;\n",
       "\n",
       "    this.image_mode = 'full';\n",
       "\n",
       "    this.root = document.createElement('div');\n",
       "    this.root.setAttribute('style', 'display: inline-block');\n",
       "    this._root_extra_style(this.root);\n",
       "\n",
       "    parent_element.appendChild(this.root);\n",
       "\n",
       "    this._init_header(this);\n",
       "    this._init_canvas(this);\n",
       "    this._init_toolbar(this);\n",
       "\n",
       "    var fig = this;\n",
       "\n",
       "    this.waiting = false;\n",
       "\n",
       "    this.ws.onopen = function () {\n",
       "        fig.send_message('supports_binary', { value: fig.supports_binary });\n",
       "        fig.send_message('send_image_mode', {});\n",
       "        if (mpl.ratio !== 1) {\n",
       "            fig.send_message('set_dpi_ratio', { dpi_ratio: mpl.ratio });\n",
       "        }\n",
       "        fig.send_message('refresh', {});\n",
       "    };\n",
       "\n",
       "    this.imageObj.onload = function () {\n",
       "        if (fig.image_mode === 'full') {\n",
       "            // Full images could contain transparency (where diff images\n",
       "            // almost always do), so we need to clear the canvas so that\n",
       "            // there is no ghosting.\n",
       "            fig.context.clearRect(0, 0, fig.canvas.width, fig.canvas.height);\n",
       "        }\n",
       "        fig.context.drawImage(fig.imageObj, 0, 0);\n",
       "    };\n",
       "\n",
       "    this.imageObj.onunload = function () {\n",
       "        fig.ws.close();\n",
       "    };\n",
       "\n",
       "    this.ws.onmessage = this._make_on_message_function(this);\n",
       "\n",
       "    this.ondownload = ondownload;\n",
       "};\n",
       "\n",
       "mpl.figure.prototype._init_header = function () {\n",
       "    var titlebar = document.createElement('div');\n",
       "    titlebar.classList =\n",
       "        'ui-dialog-titlebar ui-widget-header ui-corner-all ui-helper-clearfix';\n",
       "    var titletext = document.createElement('div');\n",
       "    titletext.classList = 'ui-dialog-title';\n",
       "    titletext.setAttribute(\n",
       "        'style',\n",
       "        'width: 100%; text-align: center; padding: 3px;'\n",
       "    );\n",
       "    titlebar.appendChild(titletext);\n",
       "    this.root.appendChild(titlebar);\n",
       "    this.header = titletext;\n",
       "};\n",
       "\n",
       "mpl.figure.prototype._canvas_extra_style = function (_canvas_div) {};\n",
       "\n",
       "mpl.figure.prototype._root_extra_style = function (_canvas_div) {};\n",
       "\n",
       "mpl.figure.prototype._init_canvas = function () {\n",
       "    var fig = this;\n",
       "\n",
       "    var canvas_div = (this.canvas_div = document.createElement('div'));\n",
       "    canvas_div.setAttribute(\n",
       "        'style',\n",
       "        'border: 1px solid #ddd;' +\n",
       "            'box-sizing: content-box;' +\n",
       "            'clear: both;' +\n",
       "            'min-height: 1px;' +\n",
       "            'min-width: 1px;' +\n",
       "            'outline: 0;' +\n",
       "            'overflow: hidden;' +\n",
       "            'position: relative;' +\n",
       "            'resize: both;'\n",
       "    );\n",
       "\n",
       "    function on_keyboard_event_closure(name) {\n",
       "        return function (event) {\n",
       "            return fig.key_event(event, name);\n",
       "        };\n",
       "    }\n",
       "\n",
       "    canvas_div.addEventListener(\n",
       "        'keydown',\n",
       "        on_keyboard_event_closure('key_press')\n",
       "    );\n",
       "    canvas_div.addEventListener(\n",
       "        'keyup',\n",
       "        on_keyboard_event_closure('key_release')\n",
       "    );\n",
       "\n",
       "    this._canvas_extra_style(canvas_div);\n",
       "    this.root.appendChild(canvas_div);\n",
       "\n",
       "    var canvas = (this.canvas = document.createElement('canvas'));\n",
       "    canvas.classList.add('mpl-canvas');\n",
       "    canvas.setAttribute('style', 'box-sizing: content-box;');\n",
       "\n",
       "    this.context = canvas.getContext('2d');\n",
       "\n",
       "    var backingStore =\n",
       "        this.context.backingStorePixelRatio ||\n",
       "        this.context.webkitBackingStorePixelRatio ||\n",
       "        this.context.mozBackingStorePixelRatio ||\n",
       "        this.context.msBackingStorePixelRatio ||\n",
       "        this.context.oBackingStorePixelRatio ||\n",
       "        this.context.backingStorePixelRatio ||\n",
       "        1;\n",
       "\n",
       "    mpl.ratio = (window.devicePixelRatio || 1) / backingStore;\n",
       "\n",
       "    var rubberband_canvas = (this.rubberband_canvas = document.createElement(\n",
       "        'canvas'\n",
       "    ));\n",
       "    rubberband_canvas.setAttribute(\n",
       "        'style',\n",
       "        'box-sizing: content-box; position: absolute; left: 0; top: 0; z-index: 1;'\n",
       "    );\n",
       "\n",
       "    var resizeObserver = new ResizeObserver(function (entries) {\n",
       "        var nentries = entries.length;\n",
       "        for (var i = 0; i < nentries; i++) {\n",
       "            var entry = entries[i];\n",
       "            var width, height;\n",
       "            if (entry.contentBoxSize) {\n",
       "                if (entry.contentBoxSize instanceof Array) {\n",
       "                    // Chrome 84 implements new version of spec.\n",
       "                    width = entry.contentBoxSize[0].inlineSize;\n",
       "                    height = entry.contentBoxSize[0].blockSize;\n",
       "                } else {\n",
       "                    // Firefox implements old version of spec.\n",
       "                    width = entry.contentBoxSize.inlineSize;\n",
       "                    height = entry.contentBoxSize.blockSize;\n",
       "                }\n",
       "            } else {\n",
       "                // Chrome <84 implements even older version of spec.\n",
       "                width = entry.contentRect.width;\n",
       "                height = entry.contentRect.height;\n",
       "            }\n",
       "\n",
       "            // Keep the size of the canvas and rubber band canvas in sync with\n",
       "            // the canvas container.\n",
       "            if (entry.devicePixelContentBoxSize) {\n",
       "                // Chrome 84 implements new version of spec.\n",
       "                canvas.setAttribute(\n",
       "                    'width',\n",
       "                    entry.devicePixelContentBoxSize[0].inlineSize\n",
       "                );\n",
       "                canvas.setAttribute(\n",
       "                    'height',\n",
       "                    entry.devicePixelContentBoxSize[0].blockSize\n",
       "                );\n",
       "            } else {\n",
       "                canvas.setAttribute('width', width * mpl.ratio);\n",
       "                canvas.setAttribute('height', height * mpl.ratio);\n",
       "            }\n",
       "            canvas.setAttribute(\n",
       "                'style',\n",
       "                'width: ' + width + 'px; height: ' + height + 'px;'\n",
       "            );\n",
       "\n",
       "            rubberband_canvas.setAttribute('width', width);\n",
       "            rubberband_canvas.setAttribute('height', height);\n",
       "\n",
       "            // And update the size in Python. We ignore the initial 0/0 size\n",
       "            // that occurs as the element is placed into the DOM, which should\n",
       "            // otherwise not happen due to the minimum size styling.\n",
       "            if (width != 0 && height != 0) {\n",
       "                fig.request_resize(width, height);\n",
       "            }\n",
       "        }\n",
       "    });\n",
       "    resizeObserver.observe(canvas_div);\n",
       "\n",
       "    function on_mouse_event_closure(name) {\n",
       "        return function (event) {\n",
       "            return fig.mouse_event(event, name);\n",
       "        };\n",
       "    }\n",
       "\n",
       "    rubberband_canvas.addEventListener(\n",
       "        'mousedown',\n",
       "        on_mouse_event_closure('button_press')\n",
       "    );\n",
       "    rubberband_canvas.addEventListener(\n",
       "        'mouseup',\n",
       "        on_mouse_event_closure('button_release')\n",
       "    );\n",
       "    // Throttle sequential mouse events to 1 every 20ms.\n",
       "    rubberband_canvas.addEventListener(\n",
       "        'mousemove',\n",
       "        on_mouse_event_closure('motion_notify')\n",
       "    );\n",
       "\n",
       "    rubberband_canvas.addEventListener(\n",
       "        'mouseenter',\n",
       "        on_mouse_event_closure('figure_enter')\n",
       "    );\n",
       "    rubberband_canvas.addEventListener(\n",
       "        'mouseleave',\n",
       "        on_mouse_event_closure('figure_leave')\n",
       "    );\n",
       "\n",
       "    canvas_div.addEventListener('wheel', function (event) {\n",
       "        if (event.deltaY < 0) {\n",
       "            event.step = 1;\n",
       "        } else {\n",
       "            event.step = -1;\n",
       "        }\n",
       "        on_mouse_event_closure('scroll')(event);\n",
       "    });\n",
       "\n",
       "    canvas_div.appendChild(canvas);\n",
       "    canvas_div.appendChild(rubberband_canvas);\n",
       "\n",
       "    this.rubberband_context = rubberband_canvas.getContext('2d');\n",
       "    this.rubberband_context.strokeStyle = '#000000';\n",
       "\n",
       "    this._resize_canvas = function (width, height, forward) {\n",
       "        if (forward) {\n",
       "            canvas_div.style.width = width + 'px';\n",
       "            canvas_div.style.height = height + 'px';\n",
       "        }\n",
       "    };\n",
       "\n",
       "    // Disable right mouse context menu.\n",
       "    this.rubberband_canvas.addEventListener('contextmenu', function (_e) {\n",
       "        event.preventDefault();\n",
       "        return false;\n",
       "    });\n",
       "\n",
       "    function set_focus() {\n",
       "        canvas.focus();\n",
       "        canvas_div.focus();\n",
       "    }\n",
       "\n",
       "    window.setTimeout(set_focus, 100);\n",
       "};\n",
       "\n",
       "mpl.figure.prototype._init_toolbar = function () {\n",
       "    var fig = this;\n",
       "\n",
       "    var toolbar = document.createElement('div');\n",
       "    toolbar.classList = 'mpl-toolbar';\n",
       "    this.root.appendChild(toolbar);\n",
       "\n",
       "    function on_click_closure(name) {\n",
       "        return function (_event) {\n",
       "            return fig.toolbar_button_onclick(name);\n",
       "        };\n",
       "    }\n",
       "\n",
       "    function on_mouseover_closure(tooltip) {\n",
       "        return function (event) {\n",
       "            if (!event.currentTarget.disabled) {\n",
       "                return fig.toolbar_button_onmouseover(tooltip);\n",
       "            }\n",
       "        };\n",
       "    }\n",
       "\n",
       "    fig.buttons = {};\n",
       "    var buttonGroup = document.createElement('div');\n",
       "    buttonGroup.classList = 'mpl-button-group';\n",
       "    for (var toolbar_ind in mpl.toolbar_items) {\n",
       "        var name = mpl.toolbar_items[toolbar_ind][0];\n",
       "        var tooltip = mpl.toolbar_items[toolbar_ind][1];\n",
       "        var image = mpl.toolbar_items[toolbar_ind][2];\n",
       "        var method_name = mpl.toolbar_items[toolbar_ind][3];\n",
       "\n",
       "        if (!name) {\n",
       "            /* Instead of a spacer, we start a new button group. */\n",
       "            if (buttonGroup.hasChildNodes()) {\n",
       "                toolbar.appendChild(buttonGroup);\n",
       "            }\n",
       "            buttonGroup = document.createElement('div');\n",
       "            buttonGroup.classList = 'mpl-button-group';\n",
       "            continue;\n",
       "        }\n",
       "\n",
       "        var button = (fig.buttons[name] = document.createElement('button'));\n",
       "        button.classList = 'mpl-widget';\n",
       "        button.setAttribute('role', 'button');\n",
       "        button.setAttribute('aria-disabled', 'false');\n",
       "        button.addEventListener('click', on_click_closure(method_name));\n",
       "        button.addEventListener('mouseover', on_mouseover_closure(tooltip));\n",
       "\n",
       "        var icon_img = document.createElement('img');\n",
       "        icon_img.src = '_images/' + image + '.png';\n",
       "        icon_img.srcset = '_images/' + image + '_large.png 2x';\n",
       "        icon_img.alt = tooltip;\n",
       "        button.appendChild(icon_img);\n",
       "\n",
       "        buttonGroup.appendChild(button);\n",
       "    }\n",
       "\n",
       "    if (buttonGroup.hasChildNodes()) {\n",
       "        toolbar.appendChild(buttonGroup);\n",
       "    }\n",
       "\n",
       "    var fmt_picker = document.createElement('select');\n",
       "    fmt_picker.classList = 'mpl-widget';\n",
       "    toolbar.appendChild(fmt_picker);\n",
       "    this.format_dropdown = fmt_picker;\n",
       "\n",
       "    for (var ind in mpl.extensions) {\n",
       "        var fmt = mpl.extensions[ind];\n",
       "        var option = document.createElement('option');\n",
       "        option.selected = fmt === mpl.default_extension;\n",
       "        option.innerHTML = fmt;\n",
       "        fmt_picker.appendChild(option);\n",
       "    }\n",
       "\n",
       "    var status_bar = document.createElement('span');\n",
       "    status_bar.classList = 'mpl-message';\n",
       "    toolbar.appendChild(status_bar);\n",
       "    this.message = status_bar;\n",
       "};\n",
       "\n",
       "mpl.figure.prototype.request_resize = function (x_pixels, y_pixels) {\n",
       "    // Request matplotlib to resize the figure. Matplotlib will then trigger a resize in the client,\n",
       "    // which will in turn request a refresh of the image.\n",
       "    this.send_message('resize', { width: x_pixels, height: y_pixels });\n",
       "};\n",
       "\n",
       "mpl.figure.prototype.send_message = function (type, properties) {\n",
       "    properties['type'] = type;\n",
       "    properties['figure_id'] = this.id;\n",
       "    this.ws.send(JSON.stringify(properties));\n",
       "};\n",
       "\n",
       "mpl.figure.prototype.send_draw_message = function () {\n",
       "    if (!this.waiting) {\n",
       "        this.waiting = true;\n",
       "        this.ws.send(JSON.stringify({ type: 'draw', figure_id: this.id }));\n",
       "    }\n",
       "};\n",
       "\n",
       "mpl.figure.prototype.handle_save = function (fig, _msg) {\n",
       "    var format_dropdown = fig.format_dropdown;\n",
       "    var format = format_dropdown.options[format_dropdown.selectedIndex].value;\n",
       "    fig.ondownload(fig, format);\n",
       "};\n",
       "\n",
       "mpl.figure.prototype.handle_resize = function (fig, msg) {\n",
       "    var size = msg['size'];\n",
       "    if (size[0] !== fig.canvas.width || size[1] !== fig.canvas.height) {\n",
       "        fig._resize_canvas(size[0], size[1], msg['forward']);\n",
       "        fig.send_message('refresh', {});\n",
       "    }\n",
       "};\n",
       "\n",
       "mpl.figure.prototype.handle_rubberband = function (fig, msg) {\n",
       "    var x0 = msg['x0'] / mpl.ratio;\n",
       "    var y0 = (fig.canvas.height - msg['y0']) / mpl.ratio;\n",
       "    var x1 = msg['x1'] / mpl.ratio;\n",
       "    var y1 = (fig.canvas.height - msg['y1']) / mpl.ratio;\n",
       "    x0 = Math.floor(x0) + 0.5;\n",
       "    y0 = Math.floor(y0) + 0.5;\n",
       "    x1 = Math.floor(x1) + 0.5;\n",
       "    y1 = Math.floor(y1) + 0.5;\n",
       "    var min_x = Math.min(x0, x1);\n",
       "    var min_y = Math.min(y0, y1);\n",
       "    var width = Math.abs(x1 - x0);\n",
       "    var height = Math.abs(y1 - y0);\n",
       "\n",
       "    fig.rubberband_context.clearRect(\n",
       "        0,\n",
       "        0,\n",
       "        fig.canvas.width / mpl.ratio,\n",
       "        fig.canvas.height / mpl.ratio\n",
       "    );\n",
       "\n",
       "    fig.rubberband_context.strokeRect(min_x, min_y, width, height);\n",
       "};\n",
       "\n",
       "mpl.figure.prototype.handle_figure_label = function (fig, msg) {\n",
       "    // Updates the figure title.\n",
       "    fig.header.textContent = msg['label'];\n",
       "};\n",
       "\n",
       "mpl.figure.prototype.handle_cursor = function (fig, msg) {\n",
       "    var cursor = msg['cursor'];\n",
       "    switch (cursor) {\n",
       "        case 0:\n",
       "            cursor = 'pointer';\n",
       "            break;\n",
       "        case 1:\n",
       "            cursor = 'default';\n",
       "            break;\n",
       "        case 2:\n",
       "            cursor = 'crosshair';\n",
       "            break;\n",
       "        case 3:\n",
       "            cursor = 'move';\n",
       "            break;\n",
       "    }\n",
       "    fig.rubberband_canvas.style.cursor = cursor;\n",
       "};\n",
       "\n",
       "mpl.figure.prototype.handle_message = function (fig, msg) {\n",
       "    fig.message.textContent = msg['message'];\n",
       "};\n",
       "\n",
       "mpl.figure.prototype.handle_draw = function (fig, _msg) {\n",
       "    // Request the server to send over a new figure.\n",
       "    fig.send_draw_message();\n",
       "};\n",
       "\n",
       "mpl.figure.prototype.handle_image_mode = function (fig, msg) {\n",
       "    fig.image_mode = msg['mode'];\n",
       "};\n",
       "\n",
       "mpl.figure.prototype.handle_history_buttons = function (fig, msg) {\n",
       "    for (var key in msg) {\n",
       "        if (!(key in fig.buttons)) {\n",
       "            continue;\n",
       "        }\n",
       "        fig.buttons[key].disabled = !msg[key];\n",
       "        fig.buttons[key].setAttribute('aria-disabled', !msg[key]);\n",
       "    }\n",
       "};\n",
       "\n",
       "mpl.figure.prototype.handle_navigate_mode = function (fig, msg) {\n",
       "    if (msg['mode'] === 'PAN') {\n",
       "        fig.buttons['Pan'].classList.add('active');\n",
       "        fig.buttons['Zoom'].classList.remove('active');\n",
       "    } else if (msg['mode'] === 'ZOOM') {\n",
       "        fig.buttons['Pan'].classList.remove('active');\n",
       "        fig.buttons['Zoom'].classList.add('active');\n",
       "    } else {\n",
       "        fig.buttons['Pan'].classList.remove('active');\n",
       "        fig.buttons['Zoom'].classList.remove('active');\n",
       "    }\n",
       "};\n",
       "\n",
       "mpl.figure.prototype.updated_canvas_event = function () {\n",
       "    // Called whenever the canvas gets updated.\n",
       "    this.send_message('ack', {});\n",
       "};\n",
       "\n",
       "// A function to construct a web socket function for onmessage handling.\n",
       "// Called in the figure constructor.\n",
       "mpl.figure.prototype._make_on_message_function = function (fig) {\n",
       "    return function socket_on_message(evt) {\n",
       "        if (evt.data instanceof Blob) {\n",
       "            /* FIXME: We get \"Resource interpreted as Image but\n",
       "             * transferred with MIME type text/plain:\" errors on\n",
       "             * Chrome.  But how to set the MIME type?  It doesn't seem\n",
       "             * to be part of the websocket stream */\n",
       "            evt.data.type = 'image/png';\n",
       "\n",
       "            /* Free the memory for the previous frames */\n",
       "            if (fig.imageObj.src) {\n",
       "                (window.URL || window.webkitURL).revokeObjectURL(\n",
       "                    fig.imageObj.src\n",
       "                );\n",
       "            }\n",
       "\n",
       "            fig.imageObj.src = (window.URL || window.webkitURL).createObjectURL(\n",
       "                evt.data\n",
       "            );\n",
       "            fig.updated_canvas_event();\n",
       "            fig.waiting = false;\n",
       "            return;\n",
       "        } else if (\n",
       "            typeof evt.data === 'string' &&\n",
       "            evt.data.slice(0, 21) === 'data:image/png;base64'\n",
       "        ) {\n",
       "            fig.imageObj.src = evt.data;\n",
       "            fig.updated_canvas_event();\n",
       "            fig.waiting = false;\n",
       "            return;\n",
       "        }\n",
       "\n",
       "        var msg = JSON.parse(evt.data);\n",
       "        var msg_type = msg['type'];\n",
       "\n",
       "        // Call the  \"handle_{type}\" callback, which takes\n",
       "        // the figure and JSON message as its only arguments.\n",
       "        try {\n",
       "            var callback = fig['handle_' + msg_type];\n",
       "        } catch (e) {\n",
       "            console.log(\n",
       "                \"No handler for the '\" + msg_type + \"' message type: \",\n",
       "                msg\n",
       "            );\n",
       "            return;\n",
       "        }\n",
       "\n",
       "        if (callback) {\n",
       "            try {\n",
       "                // console.log(\"Handling '\" + msg_type + \"' message: \", msg);\n",
       "                callback(fig, msg);\n",
       "            } catch (e) {\n",
       "                console.log(\n",
       "                    \"Exception inside the 'handler_\" + msg_type + \"' callback:\",\n",
       "                    e,\n",
       "                    e.stack,\n",
       "                    msg\n",
       "                );\n",
       "            }\n",
       "        }\n",
       "    };\n",
       "};\n",
       "\n",
       "// from http://stackoverflow.com/questions/1114465/getting-mouse-location-in-canvas\n",
       "mpl.findpos = function (e) {\n",
       "    //this section is from http://www.quirksmode.org/js/events_properties.html\n",
       "    var targ;\n",
       "    if (!e) {\n",
       "        e = window.event;\n",
       "    }\n",
       "    if (e.target) {\n",
       "        targ = e.target;\n",
       "    } else if (e.srcElement) {\n",
       "        targ = e.srcElement;\n",
       "    }\n",
       "    if (targ.nodeType === 3) {\n",
       "        // defeat Safari bug\n",
       "        targ = targ.parentNode;\n",
       "    }\n",
       "\n",
       "    // pageX,Y are the mouse positions relative to the document\n",
       "    var boundingRect = targ.getBoundingClientRect();\n",
       "    var x = e.pageX - (boundingRect.left + document.body.scrollLeft);\n",
       "    var y = e.pageY - (boundingRect.top + document.body.scrollTop);\n",
       "\n",
       "    return { x: x, y: y };\n",
       "};\n",
       "\n",
       "/*\n",
       " * return a copy of an object with only non-object keys\n",
       " * we need this to avoid circular references\n",
       " * http://stackoverflow.com/a/24161582/3208463\n",
       " */\n",
       "function simpleKeys(original) {\n",
       "    return Object.keys(original).reduce(function (obj, key) {\n",
       "        if (typeof original[key] !== 'object') {\n",
       "            obj[key] = original[key];\n",
       "        }\n",
       "        return obj;\n",
       "    }, {});\n",
       "}\n",
       "\n",
       "mpl.figure.prototype.mouse_event = function (event, name) {\n",
       "    var canvas_pos = mpl.findpos(event);\n",
       "\n",
       "    if (name === 'button_press') {\n",
       "        this.canvas.focus();\n",
       "        this.canvas_div.focus();\n",
       "    }\n",
       "\n",
       "    var x = canvas_pos.x * mpl.ratio;\n",
       "    var y = canvas_pos.y * mpl.ratio;\n",
       "\n",
       "    this.send_message(name, {\n",
       "        x: x,\n",
       "        y: y,\n",
       "        button: event.button,\n",
       "        step: event.step,\n",
       "        guiEvent: simpleKeys(event),\n",
       "    });\n",
       "\n",
       "    /* This prevents the web browser from automatically changing to\n",
       "     * the text insertion cursor when the button is pressed.  We want\n",
       "     * to control all of the cursor setting manually through the\n",
       "     * 'cursor' event from matplotlib */\n",
       "    event.preventDefault();\n",
       "    return false;\n",
       "};\n",
       "\n",
       "mpl.figure.prototype._key_event_extra = function (_event, _name) {\n",
       "    // Handle any extra behaviour associated with a key event\n",
       "};\n",
       "\n",
       "mpl.figure.prototype.key_event = function (event, name) {\n",
       "    // Prevent repeat events\n",
       "    if (name === 'key_press') {\n",
       "        if (event.which === this._key) {\n",
       "            return;\n",
       "        } else {\n",
       "            this._key = event.which;\n",
       "        }\n",
       "    }\n",
       "    if (name === 'key_release') {\n",
       "        this._key = null;\n",
       "    }\n",
       "\n",
       "    var value = '';\n",
       "    if (event.ctrlKey && event.which !== 17) {\n",
       "        value += 'ctrl+';\n",
       "    }\n",
       "    if (event.altKey && event.which !== 18) {\n",
       "        value += 'alt+';\n",
       "    }\n",
       "    if (event.shiftKey && event.which !== 16) {\n",
       "        value += 'shift+';\n",
       "    }\n",
       "\n",
       "    value += 'k';\n",
       "    value += event.which.toString();\n",
       "\n",
       "    this._key_event_extra(event, name);\n",
       "\n",
       "    this.send_message(name, { key: value, guiEvent: simpleKeys(event) });\n",
       "    return false;\n",
       "};\n",
       "\n",
       "mpl.figure.prototype.toolbar_button_onclick = function (name) {\n",
       "    if (name === 'download') {\n",
       "        this.handle_save(this, null);\n",
       "    } else {\n",
       "        this.send_message('toolbar_button', { name: name });\n",
       "    }\n",
       "};\n",
       "\n",
       "mpl.figure.prototype.toolbar_button_onmouseover = function (tooltip) {\n",
       "    this.message.textContent = tooltip;\n",
       "};\n",
       "mpl.toolbar_items = [[\"Home\", \"Reset original view\", \"fa fa-home icon-home\", \"home\"], [\"Back\", \"Back to previous view\", \"fa fa-arrow-left icon-arrow-left\", \"back\"], [\"Forward\", \"Forward to next view\", \"fa fa-arrow-right icon-arrow-right\", \"forward\"], [\"\", \"\", \"\", \"\"], [\"Pan\", \"Left button pans, Right button zooms\\nx/y fixes axis, CTRL fixes aspect\", \"fa fa-arrows icon-move\", \"pan\"], [\"Zoom\", \"Zoom to rectangle\\nx/y fixes axis, CTRL fixes aspect\", \"fa fa-square-o icon-check-empty\", \"zoom\"], [\"\", \"\", \"\", \"\"], [\"Download\", \"Download plot\", \"fa fa-floppy-o icon-save\", \"download\"]];\n",
       "\n",
       "mpl.extensions = [\"eps\", \"jpeg\", \"pdf\", \"png\", \"ps\", \"raw\", \"svg\", \"tif\"];\n",
       "\n",
       "mpl.default_extension = \"png\";/* global mpl */\n",
       "\n",
       "var comm_websocket_adapter = function (comm) {\n",
       "    // Create a \"websocket\"-like object which calls the given IPython comm\n",
       "    // object with the appropriate methods. Currently this is a non binary\n",
       "    // socket, so there is still some room for performance tuning.\n",
       "    var ws = {};\n",
       "\n",
       "    ws.close = function () {\n",
       "        comm.close();\n",
       "    };\n",
       "    ws.send = function (m) {\n",
       "        //console.log('sending', m);\n",
       "        comm.send(m);\n",
       "    };\n",
       "    // Register the callback with on_msg.\n",
       "    comm.on_msg(function (msg) {\n",
       "        //console.log('receiving', msg['content']['data'], msg);\n",
       "        // Pass the mpl event to the overridden (by mpl) onmessage function.\n",
       "        ws.onmessage(msg['content']['data']);\n",
       "    });\n",
       "    return ws;\n",
       "};\n",
       "\n",
       "mpl.mpl_figure_comm = function (comm, msg) {\n",
       "    // This is the function which gets called when the mpl process\n",
       "    // starts-up an IPython Comm through the \"matplotlib\" channel.\n",
       "\n",
       "    var id = msg.content.data.id;\n",
       "    // Get hold of the div created by the display call when the Comm\n",
       "    // socket was opened in Python.\n",
       "    var element = document.getElementById(id);\n",
       "    var ws_proxy = comm_websocket_adapter(comm);\n",
       "\n",
       "    function ondownload(figure, _format) {\n",
       "        window.open(figure.canvas.toDataURL());\n",
       "    }\n",
       "\n",
       "    var fig = new mpl.figure(id, ws_proxy, ondownload, element);\n",
       "\n",
       "    // Call onopen now - mpl needs it, as it is assuming we've passed it a real\n",
       "    // web socket which is closed, not our websocket->open comm proxy.\n",
       "    ws_proxy.onopen();\n",
       "\n",
       "    fig.parent_element = element;\n",
       "    fig.cell_info = mpl.find_output_cell(\"<div id='\" + id + \"'></div>\");\n",
       "    if (!fig.cell_info) {\n",
       "        console.error('Failed to find cell for figure', id, fig);\n",
       "        return;\n",
       "    }\n",
       "};\n",
       "\n",
       "mpl.figure.prototype.handle_close = function (fig, msg) {\n",
       "    var width = fig.canvas.width / mpl.ratio;\n",
       "    fig.root.removeEventListener('remove', this._remove_fig_handler);\n",
       "\n",
       "    // Update the output cell to use the data from the current canvas.\n",
       "    fig.push_to_output();\n",
       "    var dataURL = fig.canvas.toDataURL();\n",
       "    // Re-enable the keyboard manager in IPython - without this line, in FF,\n",
       "    // the notebook keyboard shortcuts fail.\n",
       "    IPython.keyboard_manager.enable();\n",
       "    fig.parent_element.innerHTML =\n",
       "        '<img src=\"' + dataURL + '\" width=\"' + width + '\">';\n",
       "    fig.close_ws(fig, msg);\n",
       "};\n",
       "\n",
       "mpl.figure.prototype.close_ws = function (fig, msg) {\n",
       "    fig.send_message('closing', msg);\n",
       "    // fig.ws.close()\n",
       "};\n",
       "\n",
       "mpl.figure.prototype.push_to_output = function (_remove_interactive) {\n",
       "    // Turn the data on the canvas into data in the output cell.\n",
       "    var width = this.canvas.width / mpl.ratio;\n",
       "    var dataURL = this.canvas.toDataURL();\n",
       "    this.cell_info[1]['text/html'] =\n",
       "        '<img src=\"' + dataURL + '\" width=\"' + width + '\">';\n",
       "};\n",
       "\n",
       "mpl.figure.prototype.updated_canvas_event = function () {\n",
       "    // Tell IPython that the notebook contents must change.\n",
       "    IPython.notebook.set_dirty(true);\n",
       "    this.send_message('ack', {});\n",
       "    var fig = this;\n",
       "    // Wait a second, then push the new image to the DOM so\n",
       "    // that it is saved nicely (might be nice to debounce this).\n",
       "    setTimeout(function () {\n",
       "        fig.push_to_output();\n",
       "    }, 1000);\n",
       "};\n",
       "\n",
       "mpl.figure.prototype._init_toolbar = function () {\n",
       "    var fig = this;\n",
       "\n",
       "    var toolbar = document.createElement('div');\n",
       "    toolbar.classList = 'btn-toolbar';\n",
       "    this.root.appendChild(toolbar);\n",
       "\n",
       "    function on_click_closure(name) {\n",
       "        return function (_event) {\n",
       "            return fig.toolbar_button_onclick(name);\n",
       "        };\n",
       "    }\n",
       "\n",
       "    function on_mouseover_closure(tooltip) {\n",
       "        return function (event) {\n",
       "            if (!event.currentTarget.disabled) {\n",
       "                return fig.toolbar_button_onmouseover(tooltip);\n",
       "            }\n",
       "        };\n",
       "    }\n",
       "\n",
       "    fig.buttons = {};\n",
       "    var buttonGroup = document.createElement('div');\n",
       "    buttonGroup.classList = 'btn-group';\n",
       "    var button;\n",
       "    for (var toolbar_ind in mpl.toolbar_items) {\n",
       "        var name = mpl.toolbar_items[toolbar_ind][0];\n",
       "        var tooltip = mpl.toolbar_items[toolbar_ind][1];\n",
       "        var image = mpl.toolbar_items[toolbar_ind][2];\n",
       "        var method_name = mpl.toolbar_items[toolbar_ind][3];\n",
       "\n",
       "        if (!name) {\n",
       "            /* Instead of a spacer, we start a new button group. */\n",
       "            if (buttonGroup.hasChildNodes()) {\n",
       "                toolbar.appendChild(buttonGroup);\n",
       "            }\n",
       "            buttonGroup = document.createElement('div');\n",
       "            buttonGroup.classList = 'btn-group';\n",
       "            continue;\n",
       "        }\n",
       "\n",
       "        button = fig.buttons[name] = document.createElement('button');\n",
       "        button.classList = 'btn btn-default';\n",
       "        button.href = '#';\n",
       "        button.title = name;\n",
       "        button.innerHTML = '<i class=\"fa ' + image + ' fa-lg\"></i>';\n",
       "        button.addEventListener('click', on_click_closure(method_name));\n",
       "        button.addEventListener('mouseover', on_mouseover_closure(tooltip));\n",
       "        buttonGroup.appendChild(button);\n",
       "    }\n",
       "\n",
       "    if (buttonGroup.hasChildNodes()) {\n",
       "        toolbar.appendChild(buttonGroup);\n",
       "    }\n",
       "\n",
       "    // Add the status bar.\n",
       "    var status_bar = document.createElement('span');\n",
       "    status_bar.classList = 'mpl-message pull-right';\n",
       "    toolbar.appendChild(status_bar);\n",
       "    this.message = status_bar;\n",
       "\n",
       "    // Add the close button to the window.\n",
       "    var buttongrp = document.createElement('div');\n",
       "    buttongrp.classList = 'btn-group inline pull-right';\n",
       "    button = document.createElement('button');\n",
       "    button.classList = 'btn btn-mini btn-primary';\n",
       "    button.href = '#';\n",
       "    button.title = 'Stop Interaction';\n",
       "    button.innerHTML = '<i class=\"fa fa-power-off icon-remove icon-large\"></i>';\n",
       "    button.addEventListener('click', function (_evt) {\n",
       "        fig.handle_close(fig, {});\n",
       "    });\n",
       "    button.addEventListener(\n",
       "        'mouseover',\n",
       "        on_mouseover_closure('Stop Interaction')\n",
       "    );\n",
       "    buttongrp.appendChild(button);\n",
       "    var titlebar = this.root.querySelector('.ui-dialog-titlebar');\n",
       "    titlebar.insertBefore(buttongrp, titlebar.firstChild);\n",
       "};\n",
       "\n",
       "mpl.figure.prototype._remove_fig_handler = function () {\n",
       "    this.close_ws(this, {});\n",
       "};\n",
       "\n",
       "mpl.figure.prototype._root_extra_style = function (el) {\n",
       "    el.style.boxSizing = 'content-box'; // override notebook setting of border-box.\n",
       "    el.addEventListener('remove', this._remove_fig_handler);\n",
       "};\n",
       "\n",
       "mpl.figure.prototype._canvas_extra_style = function (el) {\n",
       "    // this is important to make the div 'focusable\n",
       "    el.setAttribute('tabindex', 0);\n",
       "    // reach out to IPython and tell the keyboard manager to turn it's self\n",
       "    // off when our div gets focus\n",
       "\n",
       "    // location in version 3\n",
       "    if (IPython.notebook.keyboard_manager) {\n",
       "        IPython.notebook.keyboard_manager.register_events(el);\n",
       "    } else {\n",
       "        // location in version 2\n",
       "        IPython.keyboard_manager.register_events(el);\n",
       "    }\n",
       "};\n",
       "\n",
       "mpl.figure.prototype._key_event_extra = function (event, _name) {\n",
       "    var manager = IPython.notebook.keyboard_manager;\n",
       "    if (!manager) {\n",
       "        manager = IPython.keyboard_manager;\n",
       "    }\n",
       "\n",
       "    // Check for shift+enter\n",
       "    if (event.shiftKey && event.which === 13) {\n",
       "        this.canvas_div.blur();\n",
       "        // select the cell after this one\n",
       "        var index = IPython.notebook.find_cell_index(this.cell_info[0]);\n",
       "        IPython.notebook.select(index + 1);\n",
       "    }\n",
       "};\n",
       "\n",
       "mpl.figure.prototype.handle_save = function (fig, _msg) {\n",
       "    fig.ondownload(fig, null);\n",
       "};\n",
       "\n",
       "mpl.find_output_cell = function (html_output) {\n",
       "    // Return the cell and output element which can be found *uniquely* in the notebook.\n",
       "    // Note - this is a bit hacky, but it is done because the \"notebook_saving.Notebook\"\n",
       "    // IPython event is triggered only after the cells have been serialised, which for\n",
       "    // our purposes (turning an active figure into a static one), is too late.\n",
       "    var cells = IPython.notebook.get_cells();\n",
       "    var ncells = cells.length;\n",
       "    for (var i = 0; i < ncells; i++) {\n",
       "        var cell = cells[i];\n",
       "        if (cell.cell_type === 'code') {\n",
       "            for (var j = 0; j < cell.output_area.outputs.length; j++) {\n",
       "                var data = cell.output_area.outputs[j];\n",
       "                if (data.data) {\n",
       "                    // IPython >= 3 moved mimebundle to data attribute of output\n",
       "                    data = data.data;\n",
       "                }\n",
       "                if (data['text/html'] === html_output) {\n",
       "                    return [cell, data, j];\n",
       "                }\n",
       "            }\n",
       "        }\n",
       "    }\n",
       "};\n",
       "\n",
       "// Register the function which deals with the matplotlib target/channel.\n",
       "// The kernel may be null if the page has been refreshed.\n",
       "if (IPython.notebook.kernel !== null) {\n",
       "    IPython.notebook.kernel.comm_manager.register_target(\n",
       "        'matplotlib',\n",
       "        mpl.mpl_figure_comm\n",
       "    );\n",
       "}\n"
      ],
      "text/plain": [
       "<IPython.core.display.Javascript object>"
      ]
     },
     "metadata": {},
     "output_type": "display_data"
    },
    {
     "data": {
      "text/html": [
       "<img src=\"data:image/png;base64,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\" width=\"640\">"
      ],
      "text/plain": [
       "<IPython.core.display.HTML object>"
      ]
     },
     "metadata": {},
     "output_type": "display_data"
    },
    {
     "name": "stderr",
     "output_type": "stream",
     "text": [
      "/opt/sagemath-9.2/local/lib/python3.7/site-packages/sage/repl/ipython_kernel/__main__.py:21: MatplotlibDeprecationWarning: The 'cmap' parameter to Colorbar has no effect because it is overridden by the mappable; it is deprecated since 3.3 and will be removed two minor releases later.\n"
     ]
    }
   ],
   "source": [
    "from matplotlib import animation\n",
    "import matplotlib.cm as cm\n",
    "from matplotlib.colors import Normalize\n",
    "\n",
    "%matplotlib notebook\n",
    "\n",
    "A2 = data_y**2 + data_z**2\n",
    "\n",
    "X, PX = np.meshgrid(np.linspace(-2,2,40),np.linspace(-4,4,20))\n",
    "U = PX\n",
    "V = -X/((X**2 + A2[0])**(3/2))\n",
    "\n",
    "\n",
    "colormap = cm.rainbow\n",
    "#\n",
    "L=np.sqrt(U*U+V*V)\n",
    "M = np.log(L)\n",
    "\n",
    "fig, ax = plt.subplots(1,1)\n",
    "Q = ax.quiver(X, PX, U/L, V/L,M, cmap=plt.cm.jet,pivot='tail')\n",
    "plt.colorbar(Q, cmap=plt.cm.jet)\n",
    "ax.set_xlim(-2, 2)\n",
    "ax.set_ylim(-4, 4)\n",
    "\n",
    "plt.xlabel(r'x')\n",
    "plt.ylabel(r'$P_x$')\n",
    "\n",
    "point, = ax.plot(data_x[0],data_px[0],marker=\".\", markersize=3, color=\"purple\")\n",
    "\n",
    "tx = ax.text(-0.1,4.5,'Número de paso: {}'.format(0))\n",
    "\n",
    "\n",
    "def update_quiver(num, Q, X, PX):\n",
    "    \"\"\"updates the horizontal and vertical vector components by a\n",
    "    fixed increment on each frame\n",
    "    \"\"\"\n",
    "\n",
    "    U = PX\n",
    "    V = -X/(X**2 + A2[num])**(3/2) \n",
    "    \n",
    "    # Normalize the arrows:\n",
    "    U = U / np.sqrt(U*U+V*V)\n",
    "    V = V / np.sqrt(U*U+V*V)\n",
    "    \n",
    "    point.set_data(data_x[num],data_px[num])\n",
    "    tx.set_text('Número de paso: {}'.format(num))\n",
    "    #plt.plot(data_x[num],data_px[num],marker=\"o\", markersize=1, markeredgecolor=\"red\", markerfacecolor=\"green\")\n",
    "    \n",
    "    Q.set_UVC(U,V)\n",
    "    \n",
    "    return Q, point,\n",
    "\n",
    "# you need to set blit=False, or the first set of arrows never gets\n",
    "# cleared on subsequent frames\n",
    "anim = animation.FuncAnimation(fig, update_quiver ,fargs=(Q, X, PX),\n",
    "                               interval=5 ,blit=False)\n"
   ]
  },
  {
   "cell_type": "markdown",
   "metadata": {},
   "source": [
    "En general, el flujo encontrado sigue la forma general del campo. Se puede repetir el mismo procedimiento para la carta $\\left( U , (r, \\theta, \\phi , P_r , P_{\\theta}, P_{\\Phi}) \\right)$. En este caso se ilustra el campo hamiltoniano $\\mathbf{X_r}= P_r \\frac{\\partial}{\\partial r} + \\frac{P^2_\\phi}{r^3} - \\frac{1}{r^2} \\frac{\\partial}{\\partial P_r}$. Las condiciones iniciales planteadas son tales que $\\theta = \\pi$ y $P_\\theta = 0$ (la órbita vive en el plano $xy$) , por lo cual la visualización de este campo vectorial si es constante en el tiempo.  "
   ]
  },
  {
   "cell_type": "code",
   "execution_count": 160,
   "metadata": {},
   "outputs": [
    {
     "data": {
      "application/javascript": [
       "/* Put everything inside the global mpl namespace */\n",
       "/* global mpl */\n",
       "window.mpl = {};\n",
       "\n",
       "mpl.get_websocket_type = function () {\n",
       "    if (typeof WebSocket !== 'undefined') {\n",
       "        return WebSocket;\n",
       "    } else if (typeof MozWebSocket !== 'undefined') {\n",
       "        return MozWebSocket;\n",
       "    } else {\n",
       "        alert(\n",
       "            'Your browser does not have WebSocket support. ' +\n",
       "                'Please try Chrome, Safari or Firefox ≥ 6. ' +\n",
       "                'Firefox 4 and 5 are also supported but you ' +\n",
       "                'have to enable WebSockets in about:config.'\n",
       "        );\n",
       "    }\n",
       "};\n",
       "\n",
       "mpl.figure = function (figure_id, websocket, ondownload, parent_element) {\n",
       "    this.id = figure_id;\n",
       "\n",
       "    this.ws = websocket;\n",
       "\n",
       "    this.supports_binary = this.ws.binaryType !== undefined;\n",
       "\n",
       "    if (!this.supports_binary) {\n",
       "        var warnings = document.getElementById('mpl-warnings');\n",
       "        if (warnings) {\n",
       "            warnings.style.display = 'block';\n",
       "            warnings.textContent =\n",
       "                'This browser does not support binary websocket messages. ' +\n",
       "                'Performance may be slow.';\n",
       "        }\n",
       "    }\n",
       "\n",
       "    this.imageObj = new Image();\n",
       "\n",
       "    this.context = undefined;\n",
       "    this.message = undefined;\n",
       "    this.canvas = undefined;\n",
       "    this.rubberband_canvas = undefined;\n",
       "    this.rubberband_context = undefined;\n",
       "    this.format_dropdown = undefined;\n",
       "\n",
       "    this.image_mode = 'full';\n",
       "\n",
       "    this.root = document.createElement('div');\n",
       "    this.root.setAttribute('style', 'display: inline-block');\n",
       "    this._root_extra_style(this.root);\n",
       "\n",
       "    parent_element.appendChild(this.root);\n",
       "\n",
       "    this._init_header(this);\n",
       "    this._init_canvas(this);\n",
       "    this._init_toolbar(this);\n",
       "\n",
       "    var fig = this;\n",
       "\n",
       "    this.waiting = false;\n",
       "\n",
       "    this.ws.onopen = function () {\n",
       "        fig.send_message('supports_binary', { value: fig.supports_binary });\n",
       "        fig.send_message('send_image_mode', {});\n",
       "        if (mpl.ratio !== 1) {\n",
       "            fig.send_message('set_dpi_ratio', { dpi_ratio: mpl.ratio });\n",
       "        }\n",
       "        fig.send_message('refresh', {});\n",
       "    };\n",
       "\n",
       "    this.imageObj.onload = function () {\n",
       "        if (fig.image_mode === 'full') {\n",
       "            // Full images could contain transparency (where diff images\n",
       "            // almost always do), so we need to clear the canvas so that\n",
       "            // there is no ghosting.\n",
       "            fig.context.clearRect(0, 0, fig.canvas.width, fig.canvas.height);\n",
       "        }\n",
       "        fig.context.drawImage(fig.imageObj, 0, 0);\n",
       "    };\n",
       "\n",
       "    this.imageObj.onunload = function () {\n",
       "        fig.ws.close();\n",
       "    };\n",
       "\n",
       "    this.ws.onmessage = this._make_on_message_function(this);\n",
       "\n",
       "    this.ondownload = ondownload;\n",
       "};\n",
       "\n",
       "mpl.figure.prototype._init_header = function () {\n",
       "    var titlebar = document.createElement('div');\n",
       "    titlebar.classList =\n",
       "        'ui-dialog-titlebar ui-widget-header ui-corner-all ui-helper-clearfix';\n",
       "    var titletext = document.createElement('div');\n",
       "    titletext.classList = 'ui-dialog-title';\n",
       "    titletext.setAttribute(\n",
       "        'style',\n",
       "        'width: 100%; text-align: center; padding: 3px;'\n",
       "    );\n",
       "    titlebar.appendChild(titletext);\n",
       "    this.root.appendChild(titlebar);\n",
       "    this.header = titletext;\n",
       "};\n",
       "\n",
       "mpl.figure.prototype._canvas_extra_style = function (_canvas_div) {};\n",
       "\n",
       "mpl.figure.prototype._root_extra_style = function (_canvas_div) {};\n",
       "\n",
       "mpl.figure.prototype._init_canvas = function () {\n",
       "    var fig = this;\n",
       "\n",
       "    var canvas_div = (this.canvas_div = document.createElement('div'));\n",
       "    canvas_div.setAttribute(\n",
       "        'style',\n",
       "        'border: 1px solid #ddd;' +\n",
       "            'box-sizing: content-box;' +\n",
       "            'clear: both;' +\n",
       "            'min-height: 1px;' +\n",
       "            'min-width: 1px;' +\n",
       "            'outline: 0;' +\n",
       "            'overflow: hidden;' +\n",
       "            'position: relative;' +\n",
       "            'resize: both;'\n",
       "    );\n",
       "\n",
       "    function on_keyboard_event_closure(name) {\n",
       "        return function (event) {\n",
       "            return fig.key_event(event, name);\n",
       "        };\n",
       "    }\n",
       "\n",
       "    canvas_div.addEventListener(\n",
       "        'keydown',\n",
       "        on_keyboard_event_closure('key_press')\n",
       "    );\n",
       "    canvas_div.addEventListener(\n",
       "        'keyup',\n",
       "        on_keyboard_event_closure('key_release')\n",
       "    );\n",
       "\n",
       "    this._canvas_extra_style(canvas_div);\n",
       "    this.root.appendChild(canvas_div);\n",
       "\n",
       "    var canvas = (this.canvas = document.createElement('canvas'));\n",
       "    canvas.classList.add('mpl-canvas');\n",
       "    canvas.setAttribute('style', 'box-sizing: content-box;');\n",
       "\n",
       "    this.context = canvas.getContext('2d');\n",
       "\n",
       "    var backingStore =\n",
       "        this.context.backingStorePixelRatio ||\n",
       "        this.context.webkitBackingStorePixelRatio ||\n",
       "        this.context.mozBackingStorePixelRatio ||\n",
       "        this.context.msBackingStorePixelRatio ||\n",
       "        this.context.oBackingStorePixelRatio ||\n",
       "        this.context.backingStorePixelRatio ||\n",
       "        1;\n",
       "\n",
       "    mpl.ratio = (window.devicePixelRatio || 1) / backingStore;\n",
       "\n",
       "    var rubberband_canvas = (this.rubberband_canvas = document.createElement(\n",
       "        'canvas'\n",
       "    ));\n",
       "    rubberband_canvas.setAttribute(\n",
       "        'style',\n",
       "        'box-sizing: content-box; position: absolute; left: 0; top: 0; z-index: 1;'\n",
       "    );\n",
       "\n",
       "    var resizeObserver = new ResizeObserver(function (entries) {\n",
       "        var nentries = entries.length;\n",
       "        for (var i = 0; i < nentries; i++) {\n",
       "            var entry = entries[i];\n",
       "            var width, height;\n",
       "            if (entry.contentBoxSize) {\n",
       "                if (entry.contentBoxSize instanceof Array) {\n",
       "                    // Chrome 84 implements new version of spec.\n",
       "                    width = entry.contentBoxSize[0].inlineSize;\n",
       "                    height = entry.contentBoxSize[0].blockSize;\n",
       "                } else {\n",
       "                    // Firefox implements old version of spec.\n",
       "                    width = entry.contentBoxSize.inlineSize;\n",
       "                    height = entry.contentBoxSize.blockSize;\n",
       "                }\n",
       "            } else {\n",
       "                // Chrome <84 implements even older version of spec.\n",
       "                width = entry.contentRect.width;\n",
       "                height = entry.contentRect.height;\n",
       "            }\n",
       "\n",
       "            // Keep the size of the canvas and rubber band canvas in sync with\n",
       "            // the canvas container.\n",
       "            if (entry.devicePixelContentBoxSize) {\n",
       "                // Chrome 84 implements new version of spec.\n",
       "                canvas.setAttribute(\n",
       "                    'width',\n",
       "                    entry.devicePixelContentBoxSize[0].inlineSize\n",
       "                );\n",
       "                canvas.setAttribute(\n",
       "                    'height',\n",
       "                    entry.devicePixelContentBoxSize[0].blockSize\n",
       "                );\n",
       "            } else {\n",
       "                canvas.setAttribute('width', width * mpl.ratio);\n",
       "                canvas.setAttribute('height', height * mpl.ratio);\n",
       "            }\n",
       "            canvas.setAttribute(\n",
       "                'style',\n",
       "                'width: ' + width + 'px; height: ' + height + 'px;'\n",
       "            );\n",
       "\n",
       "            rubberband_canvas.setAttribute('width', width);\n",
       "            rubberband_canvas.setAttribute('height', height);\n",
       "\n",
       "            // And update the size in Python. We ignore the initial 0/0 size\n",
       "            // that occurs as the element is placed into the DOM, which should\n",
       "            // otherwise not happen due to the minimum size styling.\n",
       "            if (width != 0 && height != 0) {\n",
       "                fig.request_resize(width, height);\n",
       "            }\n",
       "        }\n",
       "    });\n",
       "    resizeObserver.observe(canvas_div);\n",
       "\n",
       "    function on_mouse_event_closure(name) {\n",
       "        return function (event) {\n",
       "            return fig.mouse_event(event, name);\n",
       "        };\n",
       "    }\n",
       "\n",
       "    rubberband_canvas.addEventListener(\n",
       "        'mousedown',\n",
       "        on_mouse_event_closure('button_press')\n",
       "    );\n",
       "    rubberband_canvas.addEventListener(\n",
       "        'mouseup',\n",
       "        on_mouse_event_closure('button_release')\n",
       "    );\n",
       "    // Throttle sequential mouse events to 1 every 20ms.\n",
       "    rubberband_canvas.addEventListener(\n",
       "        'mousemove',\n",
       "        on_mouse_event_closure('motion_notify')\n",
       "    );\n",
       "\n",
       "    rubberband_canvas.addEventListener(\n",
       "        'mouseenter',\n",
       "        on_mouse_event_closure('figure_enter')\n",
       "    );\n",
       "    rubberband_canvas.addEventListener(\n",
       "        'mouseleave',\n",
       "        on_mouse_event_closure('figure_leave')\n",
       "    );\n",
       "\n",
       "    canvas_div.addEventListener('wheel', function (event) {\n",
       "        if (event.deltaY < 0) {\n",
       "            event.step = 1;\n",
       "        } else {\n",
       "            event.step = -1;\n",
       "        }\n",
       "        on_mouse_event_closure('scroll')(event);\n",
       "    });\n",
       "\n",
       "    canvas_div.appendChild(canvas);\n",
       "    canvas_div.appendChild(rubberband_canvas);\n",
       "\n",
       "    this.rubberband_context = rubberband_canvas.getContext('2d');\n",
       "    this.rubberband_context.strokeStyle = '#000000';\n",
       "\n",
       "    this._resize_canvas = function (width, height, forward) {\n",
       "        if (forward) {\n",
       "            canvas_div.style.width = width + 'px';\n",
       "            canvas_div.style.height = height + 'px';\n",
       "        }\n",
       "    };\n",
       "\n",
       "    // Disable right mouse context menu.\n",
       "    this.rubberband_canvas.addEventListener('contextmenu', function (_e) {\n",
       "        event.preventDefault();\n",
       "        return false;\n",
       "    });\n",
       "\n",
       "    function set_focus() {\n",
       "        canvas.focus();\n",
       "        canvas_div.focus();\n",
       "    }\n",
       "\n",
       "    window.setTimeout(set_focus, 100);\n",
       "};\n",
       "\n",
       "mpl.figure.prototype._init_toolbar = function () {\n",
       "    var fig = this;\n",
       "\n",
       "    var toolbar = document.createElement('div');\n",
       "    toolbar.classList = 'mpl-toolbar';\n",
       "    this.root.appendChild(toolbar);\n",
       "\n",
       "    function on_click_closure(name) {\n",
       "        return function (_event) {\n",
       "            return fig.toolbar_button_onclick(name);\n",
       "        };\n",
       "    }\n",
       "\n",
       "    function on_mouseover_closure(tooltip) {\n",
       "        return function (event) {\n",
       "            if (!event.currentTarget.disabled) {\n",
       "                return fig.toolbar_button_onmouseover(tooltip);\n",
       "            }\n",
       "        };\n",
       "    }\n",
       "\n",
       "    fig.buttons = {};\n",
       "    var buttonGroup = document.createElement('div');\n",
       "    buttonGroup.classList = 'mpl-button-group';\n",
       "    for (var toolbar_ind in mpl.toolbar_items) {\n",
       "        var name = mpl.toolbar_items[toolbar_ind][0];\n",
       "        var tooltip = mpl.toolbar_items[toolbar_ind][1];\n",
       "        var image = mpl.toolbar_items[toolbar_ind][2];\n",
       "        var method_name = mpl.toolbar_items[toolbar_ind][3];\n",
       "\n",
       "        if (!name) {\n",
       "            /* Instead of a spacer, we start a new button group. */\n",
       "            if (buttonGroup.hasChildNodes()) {\n",
       "                toolbar.appendChild(buttonGroup);\n",
       "            }\n",
       "            buttonGroup = document.createElement('div');\n",
       "            buttonGroup.classList = 'mpl-button-group';\n",
       "            continue;\n",
       "        }\n",
       "\n",
       "        var button = (fig.buttons[name] = document.createElement('button'));\n",
       "        button.classList = 'mpl-widget';\n",
       "        button.setAttribute('role', 'button');\n",
       "        button.setAttribute('aria-disabled', 'false');\n",
       "        button.addEventListener('click', on_click_closure(method_name));\n",
       "        button.addEventListener('mouseover', on_mouseover_closure(tooltip));\n",
       "\n",
       "        var icon_img = document.createElement('img');\n",
       "        icon_img.src = '_images/' + image + '.png';\n",
       "        icon_img.srcset = '_images/' + image + '_large.png 2x';\n",
       "        icon_img.alt = tooltip;\n",
       "        button.appendChild(icon_img);\n",
       "\n",
       "        buttonGroup.appendChild(button);\n",
       "    }\n",
       "\n",
       "    if (buttonGroup.hasChildNodes()) {\n",
       "        toolbar.appendChild(buttonGroup);\n",
       "    }\n",
       "\n",
       "    var fmt_picker = document.createElement('select');\n",
       "    fmt_picker.classList = 'mpl-widget';\n",
       "    toolbar.appendChild(fmt_picker);\n",
       "    this.format_dropdown = fmt_picker;\n",
       "\n",
       "    for (var ind in mpl.extensions) {\n",
       "        var fmt = mpl.extensions[ind];\n",
       "        var option = document.createElement('option');\n",
       "        option.selected = fmt === mpl.default_extension;\n",
       "        option.innerHTML = fmt;\n",
       "        fmt_picker.appendChild(option);\n",
       "    }\n",
       "\n",
       "    var status_bar = document.createElement('span');\n",
       "    status_bar.classList = 'mpl-message';\n",
       "    toolbar.appendChild(status_bar);\n",
       "    this.message = status_bar;\n",
       "};\n",
       "\n",
       "mpl.figure.prototype.request_resize = function (x_pixels, y_pixels) {\n",
       "    // Request matplotlib to resize the figure. Matplotlib will then trigger a resize in the client,\n",
       "    // which will in turn request a refresh of the image.\n",
       "    this.send_message('resize', { width: x_pixels, height: y_pixels });\n",
       "};\n",
       "\n",
       "mpl.figure.prototype.send_message = function (type, properties) {\n",
       "    properties['type'] = type;\n",
       "    properties['figure_id'] = this.id;\n",
       "    this.ws.send(JSON.stringify(properties));\n",
       "};\n",
       "\n",
       "mpl.figure.prototype.send_draw_message = function () {\n",
       "    if (!this.waiting) {\n",
       "        this.waiting = true;\n",
       "        this.ws.send(JSON.stringify({ type: 'draw', figure_id: this.id }));\n",
       "    }\n",
       "};\n",
       "\n",
       "mpl.figure.prototype.handle_save = function (fig, _msg) {\n",
       "    var format_dropdown = fig.format_dropdown;\n",
       "    var format = format_dropdown.options[format_dropdown.selectedIndex].value;\n",
       "    fig.ondownload(fig, format);\n",
       "};\n",
       "\n",
       "mpl.figure.prototype.handle_resize = function (fig, msg) {\n",
       "    var size = msg['size'];\n",
       "    if (size[0] !== fig.canvas.width || size[1] !== fig.canvas.height) {\n",
       "        fig._resize_canvas(size[0], size[1], msg['forward']);\n",
       "        fig.send_message('refresh', {});\n",
       "    }\n",
       "};\n",
       "\n",
       "mpl.figure.prototype.handle_rubberband = function (fig, msg) {\n",
       "    var x0 = msg['x0'] / mpl.ratio;\n",
       "    var y0 = (fig.canvas.height - msg['y0']) / mpl.ratio;\n",
       "    var x1 = msg['x1'] / mpl.ratio;\n",
       "    var y1 = (fig.canvas.height - msg['y1']) / mpl.ratio;\n",
       "    x0 = Math.floor(x0) + 0.5;\n",
       "    y0 = Math.floor(y0) + 0.5;\n",
       "    x1 = Math.floor(x1) + 0.5;\n",
       "    y1 = Math.floor(y1) + 0.5;\n",
       "    var min_x = Math.min(x0, x1);\n",
       "    var min_y = Math.min(y0, y1);\n",
       "    var width = Math.abs(x1 - x0);\n",
       "    var height = Math.abs(y1 - y0);\n",
       "\n",
       "    fig.rubberband_context.clearRect(\n",
       "        0,\n",
       "        0,\n",
       "        fig.canvas.width / mpl.ratio,\n",
       "        fig.canvas.height / mpl.ratio\n",
       "    );\n",
       "\n",
       "    fig.rubberband_context.strokeRect(min_x, min_y, width, height);\n",
       "};\n",
       "\n",
       "mpl.figure.prototype.handle_figure_label = function (fig, msg) {\n",
       "    // Updates the figure title.\n",
       "    fig.header.textContent = msg['label'];\n",
       "};\n",
       "\n",
       "mpl.figure.prototype.handle_cursor = function (fig, msg) {\n",
       "    var cursor = msg['cursor'];\n",
       "    switch (cursor) {\n",
       "        case 0:\n",
       "            cursor = 'pointer';\n",
       "            break;\n",
       "        case 1:\n",
       "            cursor = 'default';\n",
       "            break;\n",
       "        case 2:\n",
       "            cursor = 'crosshair';\n",
       "            break;\n",
       "        case 3:\n",
       "            cursor = 'move';\n",
       "            break;\n",
       "    }\n",
       "    fig.rubberband_canvas.style.cursor = cursor;\n",
       "};\n",
       "\n",
       "mpl.figure.prototype.handle_message = function (fig, msg) {\n",
       "    fig.message.textContent = msg['message'];\n",
       "};\n",
       "\n",
       "mpl.figure.prototype.handle_draw = function (fig, _msg) {\n",
       "    // Request the server to send over a new figure.\n",
       "    fig.send_draw_message();\n",
       "};\n",
       "\n",
       "mpl.figure.prototype.handle_image_mode = function (fig, msg) {\n",
       "    fig.image_mode = msg['mode'];\n",
       "};\n",
       "\n",
       "mpl.figure.prototype.handle_history_buttons = function (fig, msg) {\n",
       "    for (var key in msg) {\n",
       "        if (!(key in fig.buttons)) {\n",
       "            continue;\n",
       "        }\n",
       "        fig.buttons[key].disabled = !msg[key];\n",
       "        fig.buttons[key].setAttribute('aria-disabled', !msg[key]);\n",
       "    }\n",
       "};\n",
       "\n",
       "mpl.figure.prototype.handle_navigate_mode = function (fig, msg) {\n",
       "    if (msg['mode'] === 'PAN') {\n",
       "        fig.buttons['Pan'].classList.add('active');\n",
       "        fig.buttons['Zoom'].classList.remove('active');\n",
       "    } else if (msg['mode'] === 'ZOOM') {\n",
       "        fig.buttons['Pan'].classList.remove('active');\n",
       "        fig.buttons['Zoom'].classList.add('active');\n",
       "    } else {\n",
       "        fig.buttons['Pan'].classList.remove('active');\n",
       "        fig.buttons['Zoom'].classList.remove('active');\n",
       "    }\n",
       "};\n",
       "\n",
       "mpl.figure.prototype.updated_canvas_event = function () {\n",
       "    // Called whenever the canvas gets updated.\n",
       "    this.send_message('ack', {});\n",
       "};\n",
       "\n",
       "// A function to construct a web socket function for onmessage handling.\n",
       "// Called in the figure constructor.\n",
       "mpl.figure.prototype._make_on_message_function = function (fig) {\n",
       "    return function socket_on_message(evt) {\n",
       "        if (evt.data instanceof Blob) {\n",
       "            /* FIXME: We get \"Resource interpreted as Image but\n",
       "             * transferred with MIME type text/plain:\" errors on\n",
       "             * Chrome.  But how to set the MIME type?  It doesn't seem\n",
       "             * to be part of the websocket stream */\n",
       "            evt.data.type = 'image/png';\n",
       "\n",
       "            /* Free the memory for the previous frames */\n",
       "            if (fig.imageObj.src) {\n",
       "                (window.URL || window.webkitURL).revokeObjectURL(\n",
       "                    fig.imageObj.src\n",
       "                );\n",
       "            }\n",
       "\n",
       "            fig.imageObj.src = (window.URL || window.webkitURL).createObjectURL(\n",
       "                evt.data\n",
       "            );\n",
       "            fig.updated_canvas_event();\n",
       "            fig.waiting = false;\n",
       "            return;\n",
       "        } else if (\n",
       "            typeof evt.data === 'string' &&\n",
       "            evt.data.slice(0, 21) === 'data:image/png;base64'\n",
       "        ) {\n",
       "            fig.imageObj.src = evt.data;\n",
       "            fig.updated_canvas_event();\n",
       "            fig.waiting = false;\n",
       "            return;\n",
       "        }\n",
       "\n",
       "        var msg = JSON.parse(evt.data);\n",
       "        var msg_type = msg['type'];\n",
       "\n",
       "        // Call the  \"handle_{type}\" callback, which takes\n",
       "        // the figure and JSON message as its only arguments.\n",
       "        try {\n",
       "            var callback = fig['handle_' + msg_type];\n",
       "        } catch (e) {\n",
       "            console.log(\n",
       "                \"No handler for the '\" + msg_type + \"' message type: \",\n",
       "                msg\n",
       "            );\n",
       "            return;\n",
       "        }\n",
       "\n",
       "        if (callback) {\n",
       "            try {\n",
       "                // console.log(\"Handling '\" + msg_type + \"' message: \", msg);\n",
       "                callback(fig, msg);\n",
       "            } catch (e) {\n",
       "                console.log(\n",
       "                    \"Exception inside the 'handler_\" + msg_type + \"' callback:\",\n",
       "                    e,\n",
       "                    e.stack,\n",
       "                    msg\n",
       "                );\n",
       "            }\n",
       "        }\n",
       "    };\n",
       "};\n",
       "\n",
       "// from http://stackoverflow.com/questions/1114465/getting-mouse-location-in-canvas\n",
       "mpl.findpos = function (e) {\n",
       "    //this section is from http://www.quirksmode.org/js/events_properties.html\n",
       "    var targ;\n",
       "    if (!e) {\n",
       "        e = window.event;\n",
       "    }\n",
       "    if (e.target) {\n",
       "        targ = e.target;\n",
       "    } else if (e.srcElement) {\n",
       "        targ = e.srcElement;\n",
       "    }\n",
       "    if (targ.nodeType === 3) {\n",
       "        // defeat Safari bug\n",
       "        targ = targ.parentNode;\n",
       "    }\n",
       "\n",
       "    // pageX,Y are the mouse positions relative to the document\n",
       "    var boundingRect = targ.getBoundingClientRect();\n",
       "    var x = e.pageX - (boundingRect.left + document.body.scrollLeft);\n",
       "    var y = e.pageY - (boundingRect.top + document.body.scrollTop);\n",
       "\n",
       "    return { x: x, y: y };\n",
       "};\n",
       "\n",
       "/*\n",
       " * return a copy of an object with only non-object keys\n",
       " * we need this to avoid circular references\n",
       " * http://stackoverflow.com/a/24161582/3208463\n",
       " */\n",
       "function simpleKeys(original) {\n",
       "    return Object.keys(original).reduce(function (obj, key) {\n",
       "        if (typeof original[key] !== 'object') {\n",
       "            obj[key] = original[key];\n",
       "        }\n",
       "        return obj;\n",
       "    }, {});\n",
       "}\n",
       "\n",
       "mpl.figure.prototype.mouse_event = function (event, name) {\n",
       "    var canvas_pos = mpl.findpos(event);\n",
       "\n",
       "    if (name === 'button_press') {\n",
       "        this.canvas.focus();\n",
       "        this.canvas_div.focus();\n",
       "    }\n",
       "\n",
       "    var x = canvas_pos.x * mpl.ratio;\n",
       "    var y = canvas_pos.y * mpl.ratio;\n",
       "\n",
       "    this.send_message(name, {\n",
       "        x: x,\n",
       "        y: y,\n",
       "        button: event.button,\n",
       "        step: event.step,\n",
       "        guiEvent: simpleKeys(event),\n",
       "    });\n",
       "\n",
       "    /* This prevents the web browser from automatically changing to\n",
       "     * the text insertion cursor when the button is pressed.  We want\n",
       "     * to control all of the cursor setting manually through the\n",
       "     * 'cursor' event from matplotlib */\n",
       "    event.preventDefault();\n",
       "    return false;\n",
       "};\n",
       "\n",
       "mpl.figure.prototype._key_event_extra = function (_event, _name) {\n",
       "    // Handle any extra behaviour associated with a key event\n",
       "};\n",
       "\n",
       "mpl.figure.prototype.key_event = function (event, name) {\n",
       "    // Prevent repeat events\n",
       "    if (name === 'key_press') {\n",
       "        if (event.which === this._key) {\n",
       "            return;\n",
       "        } else {\n",
       "            this._key = event.which;\n",
       "        }\n",
       "    }\n",
       "    if (name === 'key_release') {\n",
       "        this._key = null;\n",
       "    }\n",
       "\n",
       "    var value = '';\n",
       "    if (event.ctrlKey && event.which !== 17) {\n",
       "        value += 'ctrl+';\n",
       "    }\n",
       "    if (event.altKey && event.which !== 18) {\n",
       "        value += 'alt+';\n",
       "    }\n",
       "    if (event.shiftKey && event.which !== 16) {\n",
       "        value += 'shift+';\n",
       "    }\n",
       "\n",
       "    value += 'k';\n",
       "    value += event.which.toString();\n",
       "\n",
       "    this._key_event_extra(event, name);\n",
       "\n",
       "    this.send_message(name, { key: value, guiEvent: simpleKeys(event) });\n",
       "    return false;\n",
       "};\n",
       "\n",
       "mpl.figure.prototype.toolbar_button_onclick = function (name) {\n",
       "    if (name === 'download') {\n",
       "        this.handle_save(this, null);\n",
       "    } else {\n",
       "        this.send_message('toolbar_button', { name: name });\n",
       "    }\n",
       "};\n",
       "\n",
       "mpl.figure.prototype.toolbar_button_onmouseover = function (tooltip) {\n",
       "    this.message.textContent = tooltip;\n",
       "};\n",
       "mpl.toolbar_items = [[\"Home\", \"Reset original view\", \"fa fa-home icon-home\", \"home\"], [\"Back\", \"Back to previous view\", \"fa fa-arrow-left icon-arrow-left\", \"back\"], [\"Forward\", \"Forward to next view\", \"fa fa-arrow-right icon-arrow-right\", \"forward\"], [\"\", \"\", \"\", \"\"], [\"Pan\", \"Left button pans, Right button zooms\\nx/y fixes axis, CTRL fixes aspect\", \"fa fa-arrows icon-move\", \"pan\"], [\"Zoom\", \"Zoom to rectangle\\nx/y fixes axis, CTRL fixes aspect\", \"fa fa-square-o icon-check-empty\", \"zoom\"], [\"\", \"\", \"\", \"\"], [\"Download\", \"Download plot\", \"fa fa-floppy-o icon-save\", \"download\"]];\n",
       "\n",
       "mpl.extensions = [\"eps\", \"jpeg\", \"pdf\", \"png\", \"ps\", \"raw\", \"svg\", \"tif\"];\n",
       "\n",
       "mpl.default_extension = \"png\";/* global mpl */\n",
       "\n",
       "var comm_websocket_adapter = function (comm) {\n",
       "    // Create a \"websocket\"-like object which calls the given IPython comm\n",
       "    // object with the appropriate methods. Currently this is a non binary\n",
       "    // socket, so there is still some room for performance tuning.\n",
       "    var ws = {};\n",
       "\n",
       "    ws.close = function () {\n",
       "        comm.close();\n",
       "    };\n",
       "    ws.send = function (m) {\n",
       "        //console.log('sending', m);\n",
       "        comm.send(m);\n",
       "    };\n",
       "    // Register the callback with on_msg.\n",
       "    comm.on_msg(function (msg) {\n",
       "        //console.log('receiving', msg['content']['data'], msg);\n",
       "        // Pass the mpl event to the overridden (by mpl) onmessage function.\n",
       "        ws.onmessage(msg['content']['data']);\n",
       "    });\n",
       "    return ws;\n",
       "};\n",
       "\n",
       "mpl.mpl_figure_comm = function (comm, msg) {\n",
       "    // This is the function which gets called when the mpl process\n",
       "    // starts-up an IPython Comm through the \"matplotlib\" channel.\n",
       "\n",
       "    var id = msg.content.data.id;\n",
       "    // Get hold of the div created by the display call when the Comm\n",
       "    // socket was opened in Python.\n",
       "    var element = document.getElementById(id);\n",
       "    var ws_proxy = comm_websocket_adapter(comm);\n",
       "\n",
       "    function ondownload(figure, _format) {\n",
       "        window.open(figure.canvas.toDataURL());\n",
       "    }\n",
       "\n",
       "    var fig = new mpl.figure(id, ws_proxy, ondownload, element);\n",
       "\n",
       "    // Call onopen now - mpl needs it, as it is assuming we've passed it a real\n",
       "    // web socket which is closed, not our websocket->open comm proxy.\n",
       "    ws_proxy.onopen();\n",
       "\n",
       "    fig.parent_element = element;\n",
       "    fig.cell_info = mpl.find_output_cell(\"<div id='\" + id + \"'></div>\");\n",
       "    if (!fig.cell_info) {\n",
       "        console.error('Failed to find cell for figure', id, fig);\n",
       "        return;\n",
       "    }\n",
       "};\n",
       "\n",
       "mpl.figure.prototype.handle_close = function (fig, msg) {\n",
       "    var width = fig.canvas.width / mpl.ratio;\n",
       "    fig.root.removeEventListener('remove', this._remove_fig_handler);\n",
       "\n",
       "    // Update the output cell to use the data from the current canvas.\n",
       "    fig.push_to_output();\n",
       "    var dataURL = fig.canvas.toDataURL();\n",
       "    // Re-enable the keyboard manager in IPython - without this line, in FF,\n",
       "    // the notebook keyboard shortcuts fail.\n",
       "    IPython.keyboard_manager.enable();\n",
       "    fig.parent_element.innerHTML =\n",
       "        '<img src=\"' + dataURL + '\" width=\"' + width + '\">';\n",
       "    fig.close_ws(fig, msg);\n",
       "};\n",
       "\n",
       "mpl.figure.prototype.close_ws = function (fig, msg) {\n",
       "    fig.send_message('closing', msg);\n",
       "    // fig.ws.close()\n",
       "};\n",
       "\n",
       "mpl.figure.prototype.push_to_output = function (_remove_interactive) {\n",
       "    // Turn the data on the canvas into data in the output cell.\n",
       "    var width = this.canvas.width / mpl.ratio;\n",
       "    var dataURL = this.canvas.toDataURL();\n",
       "    this.cell_info[1]['text/html'] =\n",
       "        '<img src=\"' + dataURL + '\" width=\"' + width + '\">';\n",
       "};\n",
       "\n",
       "mpl.figure.prototype.updated_canvas_event = function () {\n",
       "    // Tell IPython that the notebook contents must change.\n",
       "    IPython.notebook.set_dirty(true);\n",
       "    this.send_message('ack', {});\n",
       "    var fig = this;\n",
       "    // Wait a second, then push the new image to the DOM so\n",
       "    // that it is saved nicely (might be nice to debounce this).\n",
       "    setTimeout(function () {\n",
       "        fig.push_to_output();\n",
       "    }, 1000);\n",
       "};\n",
       "\n",
       "mpl.figure.prototype._init_toolbar = function () {\n",
       "    var fig = this;\n",
       "\n",
       "    var toolbar = document.createElement('div');\n",
       "    toolbar.classList = 'btn-toolbar';\n",
       "    this.root.appendChild(toolbar);\n",
       "\n",
       "    function on_click_closure(name) {\n",
       "        return function (_event) {\n",
       "            return fig.toolbar_button_onclick(name);\n",
       "        };\n",
       "    }\n",
       "\n",
       "    function on_mouseover_closure(tooltip) {\n",
       "        return function (event) {\n",
       "            if (!event.currentTarget.disabled) {\n",
       "                return fig.toolbar_button_onmouseover(tooltip);\n",
       "            }\n",
       "        };\n",
       "    }\n",
       "\n",
       "    fig.buttons = {};\n",
       "    var buttonGroup = document.createElement('div');\n",
       "    buttonGroup.classList = 'btn-group';\n",
       "    var button;\n",
       "    for (var toolbar_ind in mpl.toolbar_items) {\n",
       "        var name = mpl.toolbar_items[toolbar_ind][0];\n",
       "        var tooltip = mpl.toolbar_items[toolbar_ind][1];\n",
       "        var image = mpl.toolbar_items[toolbar_ind][2];\n",
       "        var method_name = mpl.toolbar_items[toolbar_ind][3];\n",
       "\n",
       "        if (!name) {\n",
       "            /* Instead of a spacer, we start a new button group. */\n",
       "            if (buttonGroup.hasChildNodes()) {\n",
       "                toolbar.appendChild(buttonGroup);\n",
       "            }\n",
       "            buttonGroup = document.createElement('div');\n",
       "            buttonGroup.classList = 'btn-group';\n",
       "            continue;\n",
       "        }\n",
       "\n",
       "        button = fig.buttons[name] = document.createElement('button');\n",
       "        button.classList = 'btn btn-default';\n",
       "        button.href = '#';\n",
       "        button.title = name;\n",
       "        button.innerHTML = '<i class=\"fa ' + image + ' fa-lg\"></i>';\n",
       "        button.addEventListener('click', on_click_closure(method_name));\n",
       "        button.addEventListener('mouseover', on_mouseover_closure(tooltip));\n",
       "        buttonGroup.appendChild(button);\n",
       "    }\n",
       "\n",
       "    if (buttonGroup.hasChildNodes()) {\n",
       "        toolbar.appendChild(buttonGroup);\n",
       "    }\n",
       "\n",
       "    // Add the status bar.\n",
       "    var status_bar = document.createElement('span');\n",
       "    status_bar.classList = 'mpl-message pull-right';\n",
       "    toolbar.appendChild(status_bar);\n",
       "    this.message = status_bar;\n",
       "\n",
       "    // Add the close button to the window.\n",
       "    var buttongrp = document.createElement('div');\n",
       "    buttongrp.classList = 'btn-group inline pull-right';\n",
       "    button = document.createElement('button');\n",
       "    button.classList = 'btn btn-mini btn-primary';\n",
       "    button.href = '#';\n",
       "    button.title = 'Stop Interaction';\n",
       "    button.innerHTML = '<i class=\"fa fa-power-off icon-remove icon-large\"></i>';\n",
       "    button.addEventListener('click', function (_evt) {\n",
       "        fig.handle_close(fig, {});\n",
       "    });\n",
       "    button.addEventListener(\n",
       "        'mouseover',\n",
       "        on_mouseover_closure('Stop Interaction')\n",
       "    );\n",
       "    buttongrp.appendChild(button);\n",
       "    var titlebar = this.root.querySelector('.ui-dialog-titlebar');\n",
       "    titlebar.insertBefore(buttongrp, titlebar.firstChild);\n",
       "};\n",
       "\n",
       "mpl.figure.prototype._remove_fig_handler = function () {\n",
       "    this.close_ws(this, {});\n",
       "};\n",
       "\n",
       "mpl.figure.prototype._root_extra_style = function (el) {\n",
       "    el.style.boxSizing = 'content-box'; // override notebook setting of border-box.\n",
       "    el.addEventListener('remove', this._remove_fig_handler);\n",
       "};\n",
       "\n",
       "mpl.figure.prototype._canvas_extra_style = function (el) {\n",
       "    // this is important to make the div 'focusable\n",
       "    el.setAttribute('tabindex', 0);\n",
       "    // reach out to IPython and tell the keyboard manager to turn it's self\n",
       "    // off when our div gets focus\n",
       "\n",
       "    // location in version 3\n",
       "    if (IPython.notebook.keyboard_manager) {\n",
       "        IPython.notebook.keyboard_manager.register_events(el);\n",
       "    } else {\n",
       "        // location in version 2\n",
       "        IPython.keyboard_manager.register_events(el);\n",
       "    }\n",
       "};\n",
       "\n",
       "mpl.figure.prototype._key_event_extra = function (event, _name) {\n",
       "    var manager = IPython.notebook.keyboard_manager;\n",
       "    if (!manager) {\n",
       "        manager = IPython.keyboard_manager;\n",
       "    }\n",
       "\n",
       "    // Check for shift+enter\n",
       "    if (event.shiftKey && event.which === 13) {\n",
       "        this.canvas_div.blur();\n",
       "        // select the cell after this one\n",
       "        var index = IPython.notebook.find_cell_index(this.cell_info[0]);\n",
       "        IPython.notebook.select(index + 1);\n",
       "    }\n",
       "};\n",
       "\n",
       "mpl.figure.prototype.handle_save = function (fig, _msg) {\n",
       "    fig.ondownload(fig, null);\n",
       "};\n",
       "\n",
       "mpl.find_output_cell = function (html_output) {\n",
       "    // Return the cell and output element which can be found *uniquely* in the notebook.\n",
       "    // Note - this is a bit hacky, but it is done because the \"notebook_saving.Notebook\"\n",
       "    // IPython event is triggered only after the cells have been serialised, which for\n",
       "    // our purposes (turning an active figure into a static one), is too late.\n",
       "    var cells = IPython.notebook.get_cells();\n",
       "    var ncells = cells.length;\n",
       "    for (var i = 0; i < ncells; i++) {\n",
       "        var cell = cells[i];\n",
       "        if (cell.cell_type === 'code') {\n",
       "            for (var j = 0; j < cell.output_area.outputs.length; j++) {\n",
       "                var data = cell.output_area.outputs[j];\n",
       "                if (data.data) {\n",
       "                    // IPython >= 3 moved mimebundle to data attribute of output\n",
       "                    data = data.data;\n",
       "                }\n",
       "                if (data['text/html'] === html_output) {\n",
       "                    return [cell, data, j];\n",
       "                }\n",
       "            }\n",
       "        }\n",
       "    }\n",
       "};\n",
       "\n",
       "// Register the function which deals with the matplotlib target/channel.\n",
       "// The kernel may be null if the page has been refreshed.\n",
       "if (IPython.notebook.kernel !== null) {\n",
       "    IPython.notebook.kernel.comm_manager.register_target(\n",
       "        'matplotlib',\n",
       "        mpl.mpl_figure_comm\n",
       "    );\n",
       "}\n"
      ],
      "text/plain": [
       "<IPython.core.display.Javascript object>"
      ]
     },
     "metadata": {},
     "output_type": "display_data"
    },
    {
     "data": {
      "text/html": [
       "<img src=\"data:image/png;base64,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\" width=\"640\">"
      ],
      "text/plain": [
       "<IPython.core.display.HTML object>"
      ]
     },
     "metadata": {},
     "output_type": "display_data"
    },
    {
     "name": "stderr",
     "output_type": "stream",
     "text": [
      "/opt/sagemath-9.2/local/lib/python3.7/site-packages/sage/repl/ipython_kernel/__main__.py:21: MatplotlibDeprecationWarning: The 'cmap' parameter to Colorbar has no effect because it is overridden by the mappable; it is deprecated since 3.3 and will be removed two minor releases later.\n"
     ]
    }
   ],
   "source": [
    "from matplotlib import animation\n",
    "import matplotlib.cm as cm\n",
    "from matplotlib.colors import Normalize\n",
    "\n",
    "%matplotlib notebook\n",
    "\n",
    "A2 = data_y**2 + data_z**2\n",
    "\n",
    "R, PR = np.meshgrid(np.linspace(0.05,1,40),np.linspace(-4,4,20))\n",
    "U = PR\n",
    "V = data_Pph[0]**2/R**3 - 1/R**2\n",
    "\n",
    "\n",
    "colormap = cm.rainbow\n",
    "#\n",
    "L=np.sqrt(U*U+V*V)\n",
    "M = np.log(L)\n",
    "\n",
    "fig, ax = plt.subplots(1,1)\n",
    "Q = ax.quiver(R, PR, U/L, V/L,M, cmap=plt.cm.jet,pivot='tail')\n",
    "plt.colorbar(Q, cmap=plt.cm.jet)\n",
    "ax.set_xlim(0.005, 1)\n",
    "ax.set_ylim(-4, 4)\n",
    "\n",
    "plt.xlabel(r'r')\n",
    "plt.ylabel(r'$P_r$')\n",
    "\n",
    "point, = ax.plot(data_r[0],data_Pr[0],marker=\".\", markersize=3, color=\"purple\")\n",
    "\n",
    "tx = ax.text(-0.1,4.5,'Número de paso: {}'.format(0))\n",
    "\n",
    "\n",
    "def update_quiver(num):\n",
    "    \"\"\"updates the horizontal and vertical vector components by a\n",
    "    fixed increment on each frame\n",
    "    \"\"\"\n",
    "\n",
    "    point.set_data(data_r[num],data_Pr[num])\n",
    "    tx.set_text('Número de paso: {}'.format(num))\n",
    "    #plt.plot(data_x[num],data_px[num],marker=\"o\", markersize=1, markeredgecolor=\"red\", markerfacecolor=\"green\")\n",
    "    \n",
    "    \n",
    "    \n",
    "    return point,\n",
    "\n",
    "# you need to set blit=False, or the first set of arrows never gets\n",
    "# cleared on subsequent frames\n",
    "anim = animation.FuncAnimation(fig, update_quiver ,\n",
    "                               interval=5 ,blit=False)"
   ]
  }
 ],
 "metadata": {
  "kernelspec": {
   "display_name": "SageMath 9.5",
   "language": "sage",
   "name": "sagemath"
  },
  "language_info": {
   "codemirror_mode": {
    "name": "ipython",
    "version": 3
   },
   "file_extension": ".py",
   "mimetype": "text/x-python",
   "name": "python",
   "nbconvert_exporter": "python",
   "pygments_lexer": "ipython3",
   "version": "3.9.9"
  }
 },
 "nbformat": 4,
 "nbformat_minor": 4
}
