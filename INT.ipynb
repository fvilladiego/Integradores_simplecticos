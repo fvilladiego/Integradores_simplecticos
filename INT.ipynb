{
 "cells": [
  {
   "cell_type": "code",
   "execution_count": 6,
   "metadata": {},
   "outputs": [],
   "source": [
    "%display latex"
   ]
  },
  {
   "cell_type": "markdown",
   "metadata": {},
   "source": [
    "# Integración Simpléctica - Método Stormer Verlet"
   ]
  },
  {
   "cell_type": "markdown",
   "metadata": {},
   "source": [
    "Se declara la variedad simpléctica y la carta:"
   ]
  },
  {
   "cell_type": "code",
   "execution_count": 7,
   "metadata": {},
   "outputs": [],
   "source": [
    "n = 2 #cantidad de grados de libertad\n",
    "M=Manifold(2*n, name='M')"
   ]
  },
  {
   "cell_type": "code",
   "execution_count": 8,
   "metadata": {},
   "outputs": [
    {
     "data": {
      "text/html": [
       "<html>\\[\\newcommand{\\Bold}[1]{\\mathbf{#1}}\\left(M,(x, y, {p_x}, {p_y})\\right)\\]</html>"
      ],
      "text/latex": [
       "$$\\newcommand{\\Bold}[1]{\\mathbf{#1}}\\left(M,(x, y, {p_x}, {p_y})\\right)$$"
      ],
      "text/plain": [
       "Chart (M, (x, y, px, py))"
      ]
     },
     "execution_count": 8,
     "metadata": {},
     "output_type": "execute_result"
    }
   ],
   "source": [
    "std.<x, y, px, py> = M.chart(r'x y px:p_x py:p_y', coord_restrictions= lambda x,y, px, py :x**2 + y**2 !=0); std"
   ]
  },
  {
   "cell_type": "code",
   "execution_count": 9,
   "metadata": {},
   "outputs": [
    {
     "data": {
      "text/html": [
       "<html>\\[\\newcommand{\\Bold}[1]{\\mathbf{#1}}\\left[\\verb|x|\\verb| |\\verb|is|\\verb| |\\verb|real|, \\verb|y|\\verb| |\\verb|is|\\verb| |\\verb|real|, \\verb|px|\\verb| |\\verb|is|\\verb| |\\verb|real|, \\verb|py|\\verb| |\\verb|is|\\verb| |\\verb|real|, x^{2} + y^{2} > 0\\right]\\]</html>"
      ],
      "text/latex": [
       "$$\\newcommand{\\Bold}[1]{\\mathbf{#1}}\\left[\\verb|x|\\verb| |\\verb|is|\\verb| |\\verb|real|, \\verb|y|\\verb| |\\verb|is|\\verb| |\\verb|real|, \\verb|px|\\verb| |\\verb|is|\\verb| |\\verb|real|, \\verb|py|\\verb| |\\verb|is|\\verb| |\\verb|real|, x^{2} + y^{2} > 0\\right]$$"
      ],
      "text/plain": [
       "[x is real, y is real, px is real, py is real, x^2 + y^2 > 0]"
      ]
     },
     "execution_count": 9,
     "metadata": {},
     "output_type": "execute_result"
    }
   ],
   "source": [
    "(x**2 + y**2>0).assume() #vamos a trabajar en una sola carta entonces podemos asumir que no está el origen\n",
    "assumptions()"
   ]
  },
  {
   "cell_type": "markdown",
   "metadata": {},
   "source": [
    "La técnica que vamos a usar es llamada _Hamiltonian Splitting_, consiste en dividir el Hamiltoniano en varios Hamiltonianos cuyos flows puedan ser calculados de manera exacta y después componer los flows para aproximar el flow del Hamiltoniano inicial. Para nuestro caso:\n",
    "\n",
    "$$\n",
    "H(\\mathbf{q},\\mathbf{p}) = H_T(\\mathbf{p}) + H_V(\\mathbf{q})\n",
    "$$\n",
    "Para nuestro caso el hamiltoniano es \n",
    "$$H(\\mathbf{q},\\mathbf{p}) = \\frac{1}{2}\\bigg( p_x^2 + p_y^2\\bigg) - \\frac{1}{\\sqrt{x^2 + y^2}}$$\n",
    "donde el modelo ya ha sido normalizado. \n",
    "$$H_T = \\frac{1}{2}\\bigg( p_x^2 + p_y^2\\bigg)$$\n",
    "$$H_V = - \\frac{1}{\\sqrt{x^2 + y^2}}$$\n",
    "Nuestra siguiente tarea entonces es obtener los flujos de $H_V$ y$H_T$, el primer paso para esto es construir el campo vectorial asoaciado con cada Hamiltoniano."
   ]
  },
  {
   "cell_type": "code",
   "execution_count": 5,
   "metadata": {},
   "outputs": [],
   "source": [
    "#m = 1\n",
    "#g = 10"
   ]
  },
  {
   "cell_type": "code",
   "execution_count": 10,
   "metadata": {},
   "outputs": [
    {
     "data": {
      "text/html": [
       "<html>\\[\\newcommand{\\Bold}[1]{\\mathbf{#1}}\\begin{array}{llcl} H_V:& M & \\longrightarrow & \\mathbb{R} \\\\ & \\left(x, y, {p_x}, {p_y}\\right) & \\longmapsto & -\\frac{1}{\\sqrt{x^{2} + y^{2}}} \\end{array}\\]</html>"
      ],
      "text/latex": [
       "$$\\newcommand{\\Bold}[1]{\\mathbf{#1}}\\begin{array}{llcl} H_V:& M & \\longrightarrow & \\mathbb{R} \\\\ & \\left(x, y, {p_x}, {p_y}\\right) & \\longmapsto & -\\frac{1}{\\sqrt{x^{2} + y^{2}}} \\end{array}$$"
      ],
      "text/plain": [
       "H_V: M → ℝ\n",
       "   (x, y, px, py) ↦ -1/sqrt(x^2 + y^2)"
      ]
     },
     "execution_count": 10,
     "metadata": {},
     "output_type": "execute_result"
    }
   ],
   "source": [
    "#caida libre\n",
    "#H_V = M.scalar_field( m*g*y , name='H_V' )\n",
    "H_V = M.scalar_field(-1/sqrt(x**2 + y**2), name=r'H_V')\n",
    "H_V.display()"
   ]
  },
  {
   "cell_type": "code",
   "execution_count": 11,
   "metadata": {},
   "outputs": [
    {
     "data": {
      "text/html": [
       "<html>\\[\\newcommand{\\Bold}[1]{\\mathbf{#1}}\\begin{array}{llcl} H_T:& M & \\longrightarrow & \\mathbb{R} \\\\ & \\left(x, y, {p_x}, {p_y}\\right) & \\longmapsto & \\frac{1}{2} \\, {p_x}^{2} + \\frac{1}{2} \\, {p_y}^{2} \\end{array}\\]</html>"
      ],
      "text/latex": [
       "$$\\newcommand{\\Bold}[1]{\\mathbf{#1}}\\begin{array}{llcl} H_T:& M & \\longrightarrow & \\mathbb{R} \\\\ & \\left(x, y, {p_x}, {p_y}\\right) & \\longmapsto & \\frac{1}{2} \\, {p_x}^{2} + \\frac{1}{2} \\, {p_y}^{2} \\end{array}$$"
      ],
      "text/plain": [
       "H_T: M → ℝ\n",
       "   (x, y, px, py) ↦ 1/2*px^2 + 1/2*py^2"
      ]
     },
     "execution_count": 11,
     "metadata": {},
     "output_type": "execute_result"
    }
   ],
   "source": [
    "H_T = M.scalar_field( (px^2 +py^2)/2  , name='H_T' )\n",
    "H_T.display()"
   ]
  },
  {
   "cell_type": "code",
   "execution_count": 12,
   "metadata": {},
   "outputs": [],
   "source": [
    "from sage.manifolds.operators import *"
   ]
  },
  {
   "cell_type": "code",
   "execution_count": 13,
   "metadata": {},
   "outputs": [
    {
     "data": {
      "text/html": [
       "<html>\\[\\newcommand{\\Bold}[1]{\\mathbf{#1}}\\left(M, \\left(\\frac{\\partial}{\\partial x },\\frac{\\partial}{\\partial y },\\frac{\\partial}{\\partial {p_x} },\\frac{\\partial}{\\partial {p_y} }\\right)\\right)\\]</html>"
      ],
      "text/latex": [
       "$$\\newcommand{\\Bold}[1]{\\mathbf{#1}}\\left(M, \\left(\\frac{\\partial}{\\partial x },\\frac{\\partial}{\\partial y },\\frac{\\partial}{\\partial {p_x} },\\frac{\\partial}{\\partial {p_y} }\\right)\\right)$$"
      ],
      "text/plain": [
       "\\left(M, \\left(\\frac{\\partial}{\\partial x },\\frac{\\partial}{\\partial y },\\frac{\\partial}{\\partial {p_x} },\\frac{\\partial}{\\partial {p_y} }\\right)\\right)"
      ]
     },
     "execution_count": 13,
     "metadata": {},
     "output_type": "execute_result"
    }
   ],
   "source": [
    "latex(M.default_frame())"
   ]
  },
  {
   "cell_type": "markdown",
   "metadata": {},
   "source": [
    "Recordemos que tenemos el siguiente isomorfismo ($\\omega^{\\sharp}$ se ve muy feo entonces lo pongo como $\\beta$)\n",
    "$$\n",
    "\\begin{align*}\n",
    "  \\beta \\colon TM & \\longrightarrow T^{*}M \\\\\n",
    "  a_\\alpha \\frac{\\partial}{\\partial q_\\alpha} +  b_\\alpha \\frac{\\partial}{\\partial p_\\alpha} & \\longmapsto \n",
    "  b_\\alpha dq_\\alpha - a_\\alpha dp_\\alpha\n",
    "\\end{align*}\n",
    "$$\n",
    "el cual es facilmente invertible para que nos de la conexión entre los diferenciales de $H_V$ y $H_T$ con sus respectivos campos vectoriales hamiltonianos, los cuales después usaremos para obtener los flows de cada uno.\n",
    "$$\n",
    "\\begin{align*}\n",
    "  \\beta^{-1} \\colon T^{*}M & \\longrightarrow TM \\\\\n",
    "  a_\\alpha dq_\\alpha + b_\\alpha dp_\\alpha & \\longmapsto -b_\\alpha \\frac{\\partial}{\\partial q_\\alpha}+ a_\\alpha \\frac{\\partial}{\\partial p_\\alpha}\n",
    "  \\end{align*}\n",
    "$$\n",
    "Pasamos ahora a definir $\\beta^{-1}$ en Sage con el nombre de beta_inverse "
   ]
  },
  {
   "cell_type": "code",
   "execution_count": 14,
   "metadata": {},
   "outputs": [],
   "source": [
    "'''Función que recibe una 1-forma(diferencial) y retorna un campo vectorial. El campo es definido en el frame por \n",
    "    defecto de la variedad M sobre la que está definida la forma'''\n",
    "def beta_inverse(alpha):\n",
    "    M = alpha.domain()\n",
    "    e = M.default_frame()\n",
    "    ##hasta donde revisé, no hay una forma más simple de acceder a los componentes de la forma.\n",
    "    ##Me faltó revisar la documentación de campos tensoriales, a lo mejor allá hablan algo de eso.\n",
    "    #OJO: Se asume que la variedad es de dimensión par y el marco por defecto es la base canónica.\n",
    "    n= M.dimension()\n",
    "    X_alpha_q = sum(-alpha(e[i+n/2])*e[i] for i in range(0,n/2))\n",
    "    X_alpha_p = sum(alpha(e[i])*e[i+n/2] for i in range(0,n/2))\n",
    "    X_alpha = X_alpha_q + X_alpha_p\n",
    "    return X_alpha"
   ]
  },
  {
   "cell_type": "markdown",
   "metadata": {},
   "source": [
    "Se realiza la derivada exterior de los hamiltonianos y sus coeficientes se acomodan para obtener los campos hamiltonianos $ \\mathbf{X_T} $ y $ \\mathbf{X_V} $."
   ]
  },
  {
   "cell_type": "markdown",
   "metadata": {},
   "source": [
    "Se realiza la derivada exterior de los hamiltonianos y se obtienen los campos atravez de $\\beta^{-1}$."
   ]
  },
  {
   "cell_type": "code",
   "execution_count": 15,
   "metadata": {},
   "outputs": [],
   "source": [
    "dH_V = H_V.differential()\n",
    "dH_T = H_T.differential()"
   ]
  },
  {
   "cell_type": "code",
   "execution_count": 16,
   "metadata": {},
   "outputs": [
    {
     "data": {
      "text/html": [
       "<html>\\[\\newcommand{\\Bold}[1]{\\mathbf{#1}}\\mathrm{d}H_V = \\frac{x}{{\\left(x^{2} + y^{2}\\right)}^{\\frac{3}{2}}} \\mathrm{d} x + \\frac{y}{{\\left(x^{2} + y^{2}\\right)}^{\\frac{3}{2}}} \\mathrm{d} y\\]</html>"
      ],
      "text/latex": [
       "$$\\newcommand{\\Bold}[1]{\\mathbf{#1}}\\mathrm{d}H_V = \\frac{x}{{\\left(x^{2} + y^{2}\\right)}^{\\frac{3}{2}}} \\mathrm{d} x + \\frac{y}{{\\left(x^{2} + y^{2}\\right)}^{\\frac{3}{2}}} \\mathrm{d} y$$"
      ],
      "text/plain": [
       "dH_V = x/(x^2 + y^2)^(3/2) dx + y/(x^2 + y^2)^(3/2) dy"
      ]
     },
     "execution_count": 16,
     "metadata": {},
     "output_type": "execute_result"
    }
   ],
   "source": [
    "dH_V.display()"
   ]
  },
  {
   "cell_type": "code",
   "execution_count": 17,
   "metadata": {},
   "outputs": [
    {
     "data": {
      "text/html": [
       "<html>\\[\\newcommand{\\Bold}[1]{\\mathbf{#1}}\\mathrm{d}H_T = {p_x} \\mathrm{d} {p_x} + {p_y} \\mathrm{d} {p_y}\\]</html>"
      ],
      "text/latex": [
       "$$\\newcommand{\\Bold}[1]{\\mathbf{#1}}\\mathrm{d}H_T = {p_x} \\mathrm{d} {p_x} + {p_y} \\mathrm{d} {p_y}$$"
      ],
      "text/plain": [
       "dH_T = px dpx + py dpy"
      ]
     },
     "execution_count": 17,
     "metadata": {},
     "output_type": "execute_result"
    }
   ],
   "source": [
    "dH_T.display()"
   ]
  },
  {
   "cell_type": "markdown",
   "metadata": {},
   "source": [
    "Nota para Federico: pilla que con beta_inverse sí se obtienen los mismos campos que manualmente."
   ]
  },
  {
   "cell_type": "code",
   "execution_count": 18,
   "metadata": {},
   "outputs": [],
   "source": [
    "X_T = beta_inverse(dH_T)\n",
    "X_V = beta_inverse(dH_V)"
   ]
  },
  {
   "cell_type": "code",
   "execution_count": 19,
   "metadata": {},
   "outputs": [
    {
     "data": {
      "text/html": [
       "<html>\\[\\newcommand{\\Bold}[1]{\\mathbf{#1}}- \\mathrm{d}H_T\\left( \\frac{\\partial}{\\partial {p_x} } \\right) \\cdot \\frac{\\partial}{\\partial x } + - \\mathrm{d}H_T\\left( \\frac{\\partial}{\\partial {p_y} } \\right) \\cdot \\frac{\\partial}{\\partial y } + \\mathrm{d}H_T\\left( \\frac{\\partial}{\\partial x } \\right) \\cdot \\frac{\\partial}{\\partial {p_x} } + \\mathrm{d}H_T\\left( \\frac{\\partial}{\\partial y } \\right) \\cdot \\frac{\\partial}{\\partial {p_y} } = -{p_x} \\frac{\\partial}{\\partial x } -{p_y} \\frac{\\partial}{\\partial y }\\]</html>"
      ],
      "text/latex": [
       "$$\\newcommand{\\Bold}[1]{\\mathbf{#1}}- \\mathrm{d}H_T\\left( \\frac{\\partial}{\\partial {p_x} } \\right) \\cdot \\frac{\\partial}{\\partial x } + - \\mathrm{d}H_T\\left( \\frac{\\partial}{\\partial {p_y} } \\right) \\cdot \\frac{\\partial}{\\partial y } + \\mathrm{d}H_T\\left( \\frac{\\partial}{\\partial x } \\right) \\cdot \\frac{\\partial}{\\partial {p_x} } + \\mathrm{d}H_T\\left( \\frac{\\partial}{\\partial y } \\right) \\cdot \\frac{\\partial}{\\partial {p_y} } = -{p_x} \\frac{\\partial}{\\partial x } -{p_y} \\frac{\\partial}{\\partial y }$$"
      ],
      "text/plain": [
       "-dH_T(∂/∂px)*∂/∂x+-dH_T(∂/∂py)*∂/∂y+dH_T(∂/∂x)*∂/∂px+dH_T(∂/∂y)*∂/∂py = -px ∂/∂x - py ∂/∂y"
      ]
     },
     "execution_count": 19,
     "metadata": {},
     "output_type": "execute_result"
    }
   ],
   "source": [
    "X_T.display()"
   ]
  },
  {
   "cell_type": "code",
   "execution_count": 18,
   "metadata": {},
   "outputs": [
    {
     "data": {
      "text/html": [
       "<html>\\[\\newcommand{\\Bold}[1]{\\mathbf{#1}}- \\mathrm{d}H_V\\left( \\frac{\\partial}{\\partial {p_x} } \\right) \\cdot \\frac{\\partial}{\\partial x } + - \\mathrm{d}H_V\\left( \\frac{\\partial}{\\partial {p_y} } \\right) \\cdot \\frac{\\partial}{\\partial y } + \\mathrm{d}H_V\\left( \\frac{\\partial}{\\partial x } \\right) \\cdot \\frac{\\partial}{\\partial {p_x} } + \\mathrm{d}H_V\\left( \\frac{\\partial}{\\partial y } \\right) \\cdot \\frac{\\partial}{\\partial {p_y} } = \\frac{x}{{\\left(x^{2} + y^{2}\\right)}^{\\frac{3}{2}}} \\frac{\\partial}{\\partial {p_x} } + \\frac{y}{{\\left(x^{2} + y^{2}\\right)}^{\\frac{3}{2}}} \\frac{\\partial}{\\partial {p_y} }\\]</html>"
      ],
      "text/latex": [
       "$$\\newcommand{\\Bold}[1]{\\mathbf{#1}}- \\mathrm{d}H_V\\left( \\frac{\\partial}{\\partial {p_x} } \\right) \\cdot \\frac{\\partial}{\\partial x } + - \\mathrm{d}H_V\\left( \\frac{\\partial}{\\partial {p_y} } \\right) \\cdot \\frac{\\partial}{\\partial y } + \\mathrm{d}H_V\\left( \\frac{\\partial}{\\partial x } \\right) \\cdot \\frac{\\partial}{\\partial {p_x} } + \\mathrm{d}H_V\\left( \\frac{\\partial}{\\partial y } \\right) \\cdot \\frac{\\partial}{\\partial {p_y} } = \\frac{x}{{\\left(x^{2} + y^{2}\\right)}^{\\frac{3}{2}}} \\frac{\\partial}{\\partial {p_x} } + \\frac{y}{{\\left(x^{2} + y^{2}\\right)}^{\\frac{3}{2}}} \\frac{\\partial}{\\partial {p_y} }$$"
      ],
      "text/plain": [
       "-dH_V(∂/∂px)*∂/∂x+-dH_V(∂/∂py)*∂/∂y+dH_V(∂/∂x)*∂/∂px+dH_V(∂/∂y)*∂/∂py = x/(x^2 + y^2)^(3/2) ∂/∂px + y/(x^2 + y^2)^(3/2) ∂/∂py"
      ]
     },
     "execution_count": 18,
     "metadata": {},
     "output_type": "execute_result"
    }
   ],
   "source": [
    "X_V.display()"
   ]
  },
  {
   "cell_type": "code",
   "execution_count": 22,
   "metadata": {},
   "outputs": [
    {
     "data": {
      "text/html": [
       "<html>\\[\\newcommand{\\Bold}[1]{\\mathbf{#1}}\\frac{x}{{\\left(x^{2} + y^{2}\\right)}^{\\frac{3}{2}}}\\]</html>"
      ],
      "text/latex": [
       "$$\\newcommand{\\Bold}[1]{\\mathbf{#1}}\\frac{x}{{\\left(x^{2} + y^{2}\\right)}^{\\frac{3}{2}}}$$"
      ],
      "text/plain": [
       "x/(x^2 + y^2)^(3/2)"
      ]
     },
     "execution_count": 22,
     "metadata": {},
     "output_type": "execute_result"
    }
   ],
   "source": [
    "X_V[2]"
   ]
  },
  {
   "cell_type": "markdown",
   "metadata": {},
   "source": [
    "Podemos dar una respuesta general para la forma de los flows:\n",
    "$$\\psi_{H_T}^{\\Delta t} (q,p) = \\bigg(q + \\frac{\\partial H_T}{\\partial p}(p) \\Delta t, p \\bigg) $$\n",
    "$$\\psi_{H_V}^{\\Delta t} (q,p) = \\bigg(q , p  -\\frac{\\partial H_V}{\\partial q}(q)  \\Delta t\\bigg) $$"
   ]
  },
  {
   "cell_type": "markdown",
   "metadata": {},
   "source": [
    "# Método Euler simpléctico\n",
    "Este esquema de aproximación consiste en sencillamente combinar los flujos de $H_V$ y $H_T$ y es de primer orden [see, Munro]"
   ]
  },
  {
   "cell_type": "markdown",
   "metadata": {},
   "source": [
    "Para nuestra suerte los flujos siempre se pueden obtener sin tener que resolver numéricamente (este era el chiste de escoger T(p) + H(q)), pasamos ahora a escribirlos usando las componentes de los campos vectoriales  \n"
   ]
  },
  {
   "cell_type": "markdown",
   "metadata": {},
   "source": [
    "$$\\psi_{H_T}^{\\Delta t} (q,p) = (x + p_x\\Delta t, y + p_y\\Delta t , p_x, p_y) $$\n",
    "Este siempre tendrá esta forma si $H_T$ dependen solo de $p$ y además es una forma cuadrática diagonal.\n",
    "$$\\psi_{H_V}^{\\Delta t} (q,p) = (x, y, p_x + \\frac{x\\Delta t}{(x^2+y^2)^{3/2}}, p_y + \\frac{y\\Delta t}{(x^2+y^2)^{3/2}}) $$\n",
    "En principio no es díficil escribir un resultado general para este caso en que solo se divide en dos Hamiltonianos, $H_T$ no depende de $q$ y $H_V$ no depende de $p$. Decimos que son separables en este sentido, que debe notarse es parecido pero distinto a la noción de separabilidad de la que se habla en teoría de HJ.\n",
    "Lo siguiente es componer, podemos hacerlo de forma simbólica\n"
   ]
  },
  {
   "cell_type": "code",
   "execution_count": 20,
   "metadata": {},
   "outputs": [
    {
     "data": {
      "text/html": [
       "<html>\\[\\newcommand{\\Bold}[1]{\\mathbf{#1}}\\begin{array}{llcl} \\psi_{H_T}^{\\Delta t}:& M & \\longrightarrow & M \\\\ & \\left(x, y, {p_x}, {p_y}\\right) & \\longmapsto & \\left({\\Delta t} {p_x} + x, {\\Delta t} {p_y} + y, {p_x}, {p_y}\\right) \\end{array}\\]</html>"
      ],
      "text/latex": [
       "$$\\newcommand{\\Bold}[1]{\\mathbf{#1}}\\begin{array}{llcl} \\psi_{H_T}^{\\Delta t}:& M & \\longrightarrow & M \\\\ & \\left(x, y, {p_x}, {p_y}\\right) & \\longmapsto & \\left({\\Delta t} {p_x} + x, {\\Delta t} {p_y} + y, {p_x}, {p_y}\\right) \\end{array}$$"
      ],
      "text/plain": [
       "M → M\n",
       "   (x, y, px, py) ↦ (dt*px + x, dt*py + y, px, py)"
      ]
     },
     "execution_count": 20,
     "metadata": {},
     "output_type": "execute_result"
    }
   ],
   "source": [
    "#Voy a intentar definirlos dentro de Sage\n",
    "dt = var('dt', latex_name = r'\\Delta t')\n",
    "Psi_T = M.diff_map(M, [x + px * dt ,y + py * dt, px, py], latex_name=r\"\\psi_{H_T}^{\\Delta t}\")\n",
    "Psi_T.display()"
   ]
  },
  {
   "cell_type": "code",
   "execution_count": 21,
   "metadata": {},
   "outputs": [
    {
     "data": {
      "text/html": [
       "<html>\\[\\newcommand{\\Bold}[1]{\\mathbf{#1}}\\begin{array}{llcl} \\psi_{H_V}^{\\Delta t}:& M & \\longrightarrow & M \\\\ & \\left(x, y, {p_x}, {p_y}\\right) & \\longmapsto & \\left(x, y, {p_x} - \\frac{{\\Delta t} x}{{\\left(x^{2} + y^{2}\\right)}^{\\frac{3}{2}}}, {p_y} - \\frac{{\\Delta t} y}{{\\left(x^{2} + y^{2}\\right)}^{\\frac{3}{2}}}\\right) \\end{array}\\]</html>"
      ],
      "text/latex": [
       "$$\\newcommand{\\Bold}[1]{\\mathbf{#1}}\\begin{array}{llcl} \\psi_{H_V}^{\\Delta t}:& M & \\longrightarrow & M \\\\ & \\left(x, y, {p_x}, {p_y}\\right) & \\longmapsto & \\left(x, y, {p_x} - \\frac{{\\Delta t} x}{{\\left(x^{2} + y^{2}\\right)}^{\\frac{3}{2}}}, {p_y} - \\frac{{\\Delta t} y}{{\\left(x^{2} + y^{2}\\right)}^{\\frac{3}{2}}}\\right) \\end{array}$$"
      ],
      "text/plain": [
       "M → M\n",
       "   (x, y, px, py) ↦ (x, y, px - dt*x/(x^2 + y^2)^(3/2), py - dt*y/(x^2 + y^2)^(3/2))"
      ]
     },
     "execution_count": 21,
     "metadata": {},
     "output_type": "execute_result"
    }
   ],
   "source": [
    "Psi_V = M.diff_map(M, [x, y, -(x* dt)/(x^2 + y^2)^(3/2) + px, -(y*dt)/(x^2 + y^2)^(3/2) + py], \n",
    "                       latex_name=r\"\\psi_{H_V}^{\\Delta t}\")\n",
    "Psi_V.display()"
   ]
  },
  {
   "cell_type": "code",
   "execution_count": 22,
   "metadata": {},
   "outputs": [
    {
     "data": {
      "text/html": [
       "<html>\\[\\newcommand{\\Bold}[1]{\\mathbf{#1}}\\begin{array}{llcl} & M & \\longrightarrow & M \\\\ & \\left(x, y, {p_x}, {p_y}\\right) & \\longmapsto & \\left(-\\frac{{\\Delta t}^{2} x - {\\left({\\Delta t} {p_x} x^{2} + x^{3} + {\\left({\\Delta t} {p_x} + x\\right)} y^{2}\\right)} \\sqrt{x^{2} + y^{2}}}{{\\left(x^{2} + y^{2}\\right)}^{\\frac{3}{2}}}, -\\frac{{\\Delta t}^{2} y - {\\left({\\Delta t} {p_y} x^{2} + {\\Delta t} {p_y} y^{2} + x^{2} y + y^{3}\\right)} \\sqrt{x^{2} + y^{2}}}{{\\left(x^{2} + y^{2}\\right)}^{\\frac{3}{2}}}, -\\frac{{\\Delta t} x - {\\left({p_x} x^{2} + {p_x} y^{2}\\right)} \\sqrt{x^{2} + y^{2}}}{{\\left(x^{2} + y^{2}\\right)}^{\\frac{3}{2}}}, -\\frac{{\\Delta t} y - {\\left({p_y} x^{2} + {p_y} y^{2}\\right)} \\sqrt{x^{2} + y^{2}}}{{\\left(x^{2} + y^{2}\\right)}^{\\frac{3}{2}}}\\right) \\end{array}\\]</html>"
      ],
      "text/latex": [
       "$$\\newcommand{\\Bold}[1]{\\mathbf{#1}}\\begin{array}{llcl} & M & \\longrightarrow & M \\\\ & \\left(x, y, {p_x}, {p_y}\\right) & \\longmapsto & \\left(-\\frac{{\\Delta t}^{2} x - {\\left({\\Delta t} {p_x} x^{2} + x^{3} + {\\left({\\Delta t} {p_x} + x\\right)} y^{2}\\right)} \\sqrt{x^{2} + y^{2}}}{{\\left(x^{2} + y^{2}\\right)}^{\\frac{3}{2}}}, -\\frac{{\\Delta t}^{2} y - {\\left({\\Delta t} {p_y} x^{2} + {\\Delta t} {p_y} y^{2} + x^{2} y + y^{3}\\right)} \\sqrt{x^{2} + y^{2}}}{{\\left(x^{2} + y^{2}\\right)}^{\\frac{3}{2}}}, -\\frac{{\\Delta t} x - {\\left({p_x} x^{2} + {p_x} y^{2}\\right)} \\sqrt{x^{2} + y^{2}}}{{\\left(x^{2} + y^{2}\\right)}^{\\frac{3}{2}}}, -\\frac{{\\Delta t} y - {\\left({p_y} x^{2} + {p_y} y^{2}\\right)} \\sqrt{x^{2} + y^{2}}}{{\\left(x^{2} + y^{2}\\right)}^{\\frac{3}{2}}}\\right) \\end{array}$$"
      ],
      "text/plain": [
       "M → M\n",
       "   (x, y, px, py) ↦ (-(dt^2*x - (dt*px*x^2 + x^3 + (dt*px + x)*y^2)*sqrt(x^2 + y^2))/(x^2 + y^2)^(3/2), -(dt^2*y - (dt*py*x^2 + dt*py*y^2 + x^2*y + y^3)*sqrt(x^2 + y^2))/(x^2 + y^2)^(3/2), -(dt*x - (px*x^2 + px*y^2)*sqrt(x^2 + y^2))/(x^2 + y^2)^(3/2), -(dt*y - (py*x^2 + py*y^2)*sqrt(x^2 + y^2))/(x^2 + y^2)^(3/2))"
      ]
     },
     "execution_count": 22,
     "metadata": {},
     "output_type": "execute_result"
    }
   ],
   "source": [
    "Psi = Psi_T * Psi_V\n",
    "Psi.display(std)"
   ]
  },
  {
   "cell_type": "markdown",
   "metadata": {},
   "source": [
    "Ahora podemos proceder a introducir el método numérico como tal"
   ]
  },
  {
   "cell_type": "code",
   "execution_count": 23,
   "metadata": {},
   "outputs": [],
   "source": [
    "#definimos las expresiones mediante fast_callable para que podamos evaluar no solo los puntos sino también dt\n",
    "expressions = Psi.expr()\n",
    "psi_x = fast_callable(expressions[0], vars=[x,y, px, py, dt])\n",
    "psi_y = fast_callable(expressions[1], vars=[x,y, px, py, dt])\n",
    "psi_px = fast_callable(expressions[2], vars=[x,y, px, py, dt])\n",
    "psi_py = fast_callable(expressions[3], vars=[x,y, px, py, dt])"
   ]
  },
  {
   "cell_type": "code",
   "execution_count": 24,
   "metadata": {},
   "outputs": [],
   "source": [
    "#vamos a necesitar numpy y matplotlib para lo que sigue\n",
    "import numpy as np\n",
    "import matplotlib.pyplot as plt"
   ]
  },
  {
   "cell_type": "code",
   "execution_count": 30,
   "metadata": {},
   "outputs": [],
   "source": [
    "#definimos donde vamos a guardar la información \n",
    "\n",
    "N = 1000 #pasos\n",
    "h = 0.01 #tamaño del paso\n",
    "data_x = np.zeros(N,)\n",
    "data_y = np.zeros(N,) #esto se puede abreviar con un solo array más grande\n",
    "data_px = np.zeros(N,)\n",
    "data_py = np.zeros(N,)\n",
    "x0, y0, px0, py0 = (0.4,0.,0,2.) #condiciones iniciales\n"
   ]
  },
  {
   "cell_type": "code",
   "execution_count": 26,
   "metadata": {},
   "outputs": [],
   "source": [
    "#añadimos las condiciones iniciales al principio de cada data array\n",
    "data_x[0] = x0\n",
    "data_y[0] = y0\n",
    "data_px[0] = px0\n",
    "data_py[0] = py0"
   ]
  },
  {
   "cell_type": "code",
   "execution_count": 27,
   "metadata": {},
   "outputs": [],
   "source": [
    "for k in range(1,N): #quizá esto no es la mejor forma de hacer esto pero ajá\n",
    "    x_k = data_x[k-1]\n",
    "    y_k = data_y[k-1]\n",
    "    px_k = data_px[k-1]\n",
    "    py_k = data_py[k-1]\n",
    "    \n",
    "    data_x[k] = psi_x(x_k, y_k, px_k, py_k, h)\n",
    "    data_y[k] = psi_y(x_k, y_k, px_k, py_k, h)\n",
    "    data_px[k] = psi_px(x_k, y_k, px_k, py_k, h)\n",
    "    data_py[k] = psi_py(x_k, y_k, px_k, py_k, h)"
   ]
  },
  {
   "cell_type": "code",
   "execution_count": 28,
   "metadata": {},
   "outputs": [
    {
     "data": {
      "text/html": [
       "<html>\\[\\newcommand{\\Bold}[1]{\\mathbf{#1}}-2.5\\]</html>"
      ],
      "text/latex": [
       "$$\\newcommand{\\Bold}[1]{\\mathbf{#1}}-2.5$$"
      ],
      "text/plain": [
       "-2.5"
      ]
     },
     "execution_count": 28,
     "metadata": {},
     "output_type": "execute_result"
    }
   ],
   "source": [
    "p = M.point((x0,y0,px0,py0))\n",
    "H_V(p)"
   ]
  },
  {
   "cell_type": "code",
   "execution_count": 29,
   "metadata": {},
   "outputs": [
    {
     "data": {
      "text/html": [
       "<html>\\[\\newcommand{\\Bold}[1]{\\mathbf{#1}}\\left[\\verb|Line2D(_child0)|\\right]\\]</html>"
      ],
      "text/latex": [
       "$$\\newcommand{\\Bold}[1]{\\mathbf{#1}}\\left[\\verb|Line2D(_child0)|\\right]$$"
      ],
      "text/plain": [
       "[<matplotlib.lines.Line2D object at 0x7f1a20c28040>]"
      ]
     },
     "execution_count": 29,
     "metadata": {},
     "output_type": "execute_result"
    },
    {
     "data": {
      "image/png": "[encoded data removed]",
      "text/plain": [
       "<Figure size 432x288 with 1 Axes>"
      ]
     },
     "metadata": {
      "needs_background": "light"
     },
     "output_type": "display_data"
    }
   ],
   "source": [
    "plt.plot(data_x, data_y)"
   ]
  },
  {
   "cell_type": "code",
   "execution_count": 30,
   "metadata": {},
   "outputs": [
    {
     "data": {
      "text/html": [
       "<html>\\[\\newcommand{\\Bold}[1]{\\mathbf{#1}}1\\]</html>"
      ],
      "text/latex": [
       "$$\\newcommand{\\Bold}[1]{\\mathbf{#1}}1$$"
      ],
      "text/plain": [
       "array(1)"
      ]
     },
     "execution_count": 30,
     "metadata": {},
     "output_type": "execute_result"
    }
   ],
   "source": [
    "fast_callable(Psi.expr()[0], vars=[x,y, px, dt])"
   ]
  },
  {
   "cell_type": "markdown",
   "metadata": {
    "scrolled": true
   },
   "source": [
    "Stormer Verlet\n",
    "$$\n",
    "  \\exp \\left( \\frac{1}{2} \\Delta t X_V \\right) \\exp \\left( \\Delta t X_T \\right)\\exp \\left( \\frac{1}{2} \\Delta t X_V \\right)\n",
    "$$\n",
    "Para la introducción de este debemos de modificar ligeramente los flujos para dar cuenta de las constantes introducidas."
   ]
  },
  {
   "cell_type": "code",
   "execution_count": 71,
   "metadata": {},
   "outputs": [
    {
     "data": {
      "text/html": [
       "<html>\\[\\newcommand{\\Bold}[1]{\\mathbf{#1}}\\begin{array}{llcl} \\psi_{H_T}^{\\Delta t}:& M & \\longrightarrow & M \\\\ & \\left(x, y, {p_x}, {p_y}\\right) & \\longmapsto & \\left({\\Delta t} {p_x} + x, {\\Delta t} {p_y} + y, {p_x}, {p_y}\\right) \\end{array}\\]</html>"
      ],
      "text/latex": [
       "$$\\newcommand{\\Bold}[1]{\\mathbf{#1}}\\begin{array}{llcl} \\psi_{H_T}^{\\Delta t}:& M & \\longrightarrow & M \\\\ & \\left(x, y, {p_x}, {p_y}\\right) & \\longmapsto & \\left({\\Delta t} {p_x} + x, {\\Delta t} {p_y} + y, {p_x}, {p_y}\\right) \\end{array}$$"
      ],
      "text/plain": [
       "M → M\n",
       "   (x, y, px, py) ↦ (dt*px + x, dt*py + y, px, py)"
      ]
     },
     "execution_count": 71,
     "metadata": {},
     "output_type": "execute_result"
    }
   ],
   "source": [
    "dt = var('dt', latex_name = r'\\Delta t')\n",
    "Psi_T = M.diff_map(M, [x + px * dt ,y + py * dt, px, py], latex_name=r\"\\psi_{H_T}^{\\Delta t}\")\n",
    "Psi_T.display()"
   ]
  },
  {
   "cell_type": "code",
   "execution_count": 72,
   "metadata": {},
   "outputs": [
    {
     "data": {
      "text/html": [
       "<html>\\[\\newcommand{\\Bold}[1]{\\mathbf{#1}}\\begin{array}{llcl} \\psi_{0.5H_V}^{\\Delta t}:& M & \\longrightarrow & M \\\\ & \\left(x, y, {p_x}, {p_y}\\right) & \\longmapsto & \\left(x, y, {p_x} + \\frac{{\\Delta t} x}{2 \\, {\\left(x^{2} + y^{2}\\right)}^{\\frac{3}{2}}}, {p_y} + \\frac{{\\Delta t} y}{2 \\, {\\left(x^{2} + y^{2}\\right)}^{\\frac{3}{2}}}\\right) \\end{array}\\]</html>"
      ],
      "text/latex": [
       "$$\\newcommand{\\Bold}[1]{\\mathbf{#1}}\\begin{array}{llcl} \\psi_{0.5H_V}^{\\Delta t}:& M & \\longrightarrow & M \\\\ & \\left(x, y, {p_x}, {p_y}\\right) & \\longmapsto & \\left(x, y, {p_x} + \\frac{{\\Delta t} x}{2 \\, {\\left(x^{2} + y^{2}\\right)}^{\\frac{3}{2}}}, {p_y} + \\frac{{\\Delta t} y}{2 \\, {\\left(x^{2} + y^{2}\\right)}^{\\frac{3}{2}}}\\right) \\end{array}$$"
      ],
      "text/plain": [
       "M → M\n",
       "   (x, y, px, py) ↦ (x, y, px + 1/2*dt*x/(x^2 + y^2)^(3/2), py + 1/2*dt*y/(x^2 + y^2)^(3/2))"
      ]
     },
     "execution_count": 72,
     "metadata": {},
     "output_type": "execute_result"
    }
   ],
   "source": [
    "Psi_V_modified = M.diff_map(M, [x, y, (x* dt)/(2*(x^2 + y^2)^(3/2)) + px, (y*dt)/(2*(x^2 + y^2)^(3/2)) + py], \n",
    "                       latex_name=r\"\\psi_{0.5H_V}^{\\Delta t}\")\n",
    "Psi_V_modified.display()"
   ]
  },
  {
   "cell_type": "code",
   "execution_count": 73,
   "metadata": {},
   "outputs": [],
   "source": [
    "storm_verlet_integrator = Psi_V_modified * Psi_T * Psi_V_modified"
   ]
  },
  {
   "cell_type": "code",
   "execution_count": 91,
   "metadata": {},
   "outputs": [
    {
     "data": {
      "text/html": [
       "<html>\\[\\newcommand{\\Bold}[1]{\\mathbf{#1}}\\frac{{\\Delta t}^{2} x + 2 \\, {\\left({\\Delta t} {p_x} x^{2} + x^{3} + {\\left({\\Delta t} {p_x} + x\\right)} y^{2}\\right)} \\sqrt{x^{2} + y^{2}}}{2 \\, {\\left(x^{2} + y^{2}\\right)}^{\\frac{3}{2}}}\\]</html>"
      ],
      "text/latex": [
       "$$\\newcommand{\\Bold}[1]{\\mathbf{#1}}\\frac{{\\Delta t}^{2} x + 2 \\, {\\left({\\Delta t} {p_x} x^{2} + x^{3} + {\\left({\\Delta t} {p_x} + x\\right)} y^{2}\\right)} \\sqrt{x^{2} + y^{2}}}{2 \\, {\\left(x^{2} + y^{2}\\right)}^{\\frac{3}{2}}}$$"
      ],
      "text/plain": [
       "1/2*(dt^2*x + 2*(dt*px*x^2 + x^3 + (dt*px + x)*y^2)*sqrt(x^2 + y^2))/(x^2 + y^2)^(3/2)"
      ]
     },
     "execution_count": 91,
     "metadata": {},
     "output_type": "execute_result"
    }
   ],
   "source": [
    "storm_verlet_integrator.expr()[0].simplify_full()"
   ]
  },
  {
   "cell_type": "code",
   "execution_count": 79,
   "metadata": {},
   "outputs": [],
   "source": [
    "#definimos las expresiones mediante fast_callable para que podamos evaluar no solo los puntos sino también dt\n",
    "expressions = storm_verlet_integrator.expr()\n",
    "psi_x = fast_callable(expressions[0], vars=[x,y, px, py, dt])\n",
    "psi_y = fast_callable(expressions[1], vars=[x,y, px, py, dt])\n",
    "psi_px = fast_callable(expressions[2], vars=[x,y, px, py, dt])\n",
    "psi_py = fast_callable(expressions[3], vars=[x,y, px, py, dt])"
   ]
  },
  {
   "cell_type": "code",
   "execution_count": 80,
   "metadata": {},
   "outputs": [],
   "source": [
    "#vamos a necesitar numpy y matplotlib para lo que sigue\n",
    "import numpy as np\n",
    "import matplotlib.pyplot as plt"
   ]
  },
  {
   "cell_type": "code",
   "execution_count": 81,
   "metadata": {},
   "outputs": [],
   "source": [
    "#definimos donde vamos a guardar la información \n",
    "\n",
    "N = 1000 #pasos\n",
    "h = 0.1 #tamaño del paso\n",
    "data_x = np.zeros(N,)\n",
    "data_y = np.zeros(N,) #esto se puede abreviar con un solo array más grande\n",
    "data_px = np.zeros(N,)\n",
    "data_py = np.zeros(N,)\n",
    "x0, y0, px0, py0 = (0.3,0,0,0.1) #condiciones iniciales\n"
   ]
  },
  {
   "cell_type": "code",
   "execution_count": 82,
   "metadata": {},
   "outputs": [],
   "source": [
    "#añadimos las condiciones iniciales al principio de cada data array\n",
    "data_x[0] = x0\n",
    "data_y[0] = y0\n",
    "data_px[0] = px0\n",
    "data_py[0] = py0"
   ]
  },
  {
   "cell_type": "code",
   "execution_count": 83,
   "metadata": {},
   "outputs": [],
   "source": [
    "for k in range(1,N): #quizá esto no es la mejor forma de hacer esto pero ajá\n",
    "    x_k = data_x[k-1]\n",
    "    y_k = data_y[k-1]\n",
    "    px_k = data_px[k-1]\n",
    "    py_k = data_py[k-1]\n",
    "    \n",
    "    data_x[k] = psi_x(x_k, y_k, px_k, py_k, h)\n",
    "    data_y[k] = psi_y(x_k, y_k, px_k, py_k, h)\n",
    "    data_px[k] = psi_px(x_k, y_k, px_k, py_k, h)\n",
    "    data_py[k] = psi_py(x_k, y_k, px_k, py_k, h)"
   ]
  },
  {
   "cell_type": "code",
   "execution_count": 84,
   "metadata": {},
   "outputs": [
    {
     "data": {
      "text/html": [
       "<html>\\[\\newcommand{\\Bold}[1]{\\mathbf{#1}}\\left[\\verb|Line2D(_child0)|\\right]\\]</html>"
      ],
      "text/latex": [
       "$$\\newcommand{\\Bold}[1]{\\mathbf{#1}}\\left[\\verb|Line2D(_child0)|\\right]$$"
      ],
      "text/plain": [
       "[<matplotlib.lines.Line2D object at 0x7f98f09ba280>]"
      ]
     },
     "execution_count": 84,
     "metadata": {},
     "output_type": "execute_result"
    },
    {
     "data": {
      "image/png": "[encoded data removed]",
      "text/plain": [
       "<Figure size 432x288 with 1 Axes>"
      ]
     },
     "metadata": {
      "needs_background": "light"
     },
     "output_type": "display_data"
    }
   ],
   "source": [
    "plt.plot(data_x,data_y)"
   ]
  },
  {
   "cell_type": "markdown",
   "metadata": {},
   "source": [
    "from sage.calculus.desolvers import desolve_odeint\n",
    "\n",
    "#condiciones iniciales y tamaño del paso\n",
    "dT=0.001\n",
    "\n",
    "x0 = 10\n",
    "y0 = 0\n",
    "px0 = 1\n",
    "py0 = 1\n",
    "\n",
    "x,y,px,py = var('x,y,px,py')\n",
    "\n",
    "sol1 = desolve_odeint([X_V[0].expr()/2,X_V[1].expr()/2,X_V[2].expr()/2,X_V[3].expr()/2],[x0,y0,px0,py0],srange(0,2*dT,dT),[x,y,px,py])\n",
    "\n"
   ]
  },
  {
   "cell_type": "markdown",
   "metadata": {},
   "source": [
    "from sage.calculus.desolvers import desolve_odeint\n",
    "\n",
    "dT=0.01\n",
    "\n",
    "x0 = 0\n",
    "y0 = 0\n",
    "px0 = 1\n",
    "py0 = 1\n",
    "\n",
    "x,y,px,py = var('x,y,px,py')\n",
    "\n",
    "sol2 = desolve_odeint([X_T[0].expr(),X_T[1].expr(),X_T[2].expr(),X_T[3].expr()],sol1[1,:],srange(0,2*dT,dT),[x,y,px,py])"
   ]
  },
  {
   "cell_type": "markdown",
   "metadata": {},
   "source": [
    "from sage.calculus.desolvers import desolve_odeint\n",
    "\n",
    "dT=0.001\n",
    "\n",
    "x0 = 0\n",
    "y0 = 0\n",
    "px0 = 1\n",
    "py0 = 1\n",
    "\n",
    "x,y,px,py = var('x,y,px,py')\n",
    "\n",
    "sol3 = desolve_odeint([X_V[0].expr()/2,X_V[1].expr()/2,X_V[2].expr()/2,X_V[3].expr()/2],sol2[1,:],srange(0,2*dT,dT),[x,y,px,py])"
   ]
  },
  {
   "cell_type": "code",
   "execution_count": 22,
   "metadata": {},
   "outputs": [
    {
     "ename": "KeyboardInterrupt",
     "evalue": "",
     "output_type": "error",
     "traceback": [
      "\u001b[0;31m---------------------------------------------------------------------------\u001b[0m",
      "\u001b[0;31mKeyboardInterrupt\u001b[0m                         Traceback (most recent call last)",
      "\u001b[0;32m/tmp/ipykernel_20545/3659263548.py\u001b[0m in \u001b[0;36m<module>\u001b[0;34m\u001b[0m\n\u001b[1;32m     16\u001b[0m \u001b[0;34m\u001b[0m\u001b[0m\n\u001b[1;32m     17\u001b[0m \u001b[0;32mfor\u001b[0m \u001b[0mi\u001b[0m \u001b[0;32min\u001b[0m \u001b[0mrange\u001b[0m\u001b[0;34m(\u001b[0m\u001b[0mInteger\u001b[0m\u001b[0;34m(\u001b[0m\u001b[0;36m0\u001b[0m\u001b[0;34m)\u001b[0m\u001b[0;34m,\u001b[0m\u001b[0mint\u001b[0m\u001b[0;34m(\u001b[0m\u001b[0mt\u001b[0m\u001b[0;34m/\u001b[0m\u001b[0mdT\u001b[0m\u001b[0;34m)\u001b[0m\u001b[0;34m)\u001b[0m\u001b[0;34m:\u001b[0m\u001b[0;34m\u001b[0m\u001b[0;34m\u001b[0m\u001b[0m\n\u001b[0;32m---> 18\u001b[0;31m     sol1 = desolve_odeint([X_V[Integer(0)].expr()/Integer(2), ##componentes del campo vectorial al que le vamos a sacar \n\u001b[0m\u001b[1;32m     19\u001b[0m                            \u001b[0mX_V\u001b[0m\u001b[0;34m[\u001b[0m\u001b[0mInteger\u001b[0m\u001b[0;34m(\u001b[0m\u001b[0;36m1\u001b[0m\u001b[0;34m)\u001b[0m\u001b[0;34m]\u001b[0m\u001b[0;34m.\u001b[0m\u001b[0mexpr\u001b[0m\u001b[0;34m(\u001b[0m\u001b[0;34m)\u001b[0m\u001b[0;34m/\u001b[0m\u001b[0mInteger\u001b[0m\u001b[0;34m(\u001b[0m\u001b[0;36m2\u001b[0m\u001b[0;34m)\u001b[0m\u001b[0;34m,\u001b[0m \u001b[0;31m##el flujo.\u001b[0m\u001b[0;34m\u001b[0m\u001b[0;34m\u001b[0m\u001b[0m\n\u001b[1;32m     20\u001b[0m                            \u001b[0mX_V\u001b[0m\u001b[0;34m[\u001b[0m\u001b[0mInteger\u001b[0m\u001b[0;34m(\u001b[0m\u001b[0;36m2\u001b[0m\u001b[0;34m)\u001b[0m\u001b[0;34m]\u001b[0m\u001b[0;34m.\u001b[0m\u001b[0mexpr\u001b[0m\u001b[0;34m(\u001b[0m\u001b[0;34m)\u001b[0m\u001b[0;34m/\u001b[0m\u001b[0mInteger\u001b[0m\u001b[0;34m(\u001b[0m\u001b[0;36m2\u001b[0m\u001b[0;34m)\u001b[0m\u001b[0;34m,\u001b[0m\u001b[0;34m\u001b[0m\u001b[0;34m\u001b[0m\u001b[0m\n",
      "\u001b[0;32m~/sage/sage-9.5/local/var/lib/sage/venv-python3.9.9/lib/python3.9/site-packages/sage/calculus/desolvers.py\u001b[0m in \u001b[0;36mdesolve_odeint\u001b[0;34m(des, ics, times, dvars, ivar, compute_jac, args, rtol, atol, tcrit, h0, hmax, hmin, ixpr, mxstep, mxhnil, mxordn, mxords, printmessg)\u001b[0m\n\u001b[1;32m   1718\u001b[0m         \u001b[0;32melif\u001b[0m \u001b[0;32mnot\u001b[0m \u001b[0mivars\u001b[0m\u001b[0;34m:\u001b[0m\u001b[0;34m\u001b[0m\u001b[0;34m\u001b[0m\u001b[0m\n\u001b[1;32m   1719\u001b[0m             \u001b[0;32mwith\u001b[0m \u001b[0mSR\u001b[0m\u001b[0;34m.\u001b[0m\u001b[0mtemp_var\u001b[0m\u001b[0;34m(\u001b[0m\u001b[0;34m)\u001b[0m \u001b[0;32mas\u001b[0m \u001b[0mivar\u001b[0m\u001b[0;34m:\u001b[0m\u001b[0;34m\u001b[0m\u001b[0;34m\u001b[0m\u001b[0m\n\u001b[0;32m-> 1720\u001b[0;31m                 \u001b[0;32mreturn\u001b[0m \u001b[0mdesolve_odeint_inner\u001b[0m\u001b[0;34m(\u001b[0m\u001b[0mivar\u001b[0m\u001b[0;34m)\u001b[0m\u001b[0;34m\u001b[0m\u001b[0;34m\u001b[0m\u001b[0m\n\u001b[0m\u001b[1;32m   1721\u001b[0m         \u001b[0;32melse\u001b[0m\u001b[0;34m:\u001b[0m\u001b[0;34m\u001b[0m\u001b[0;34m\u001b[0m\u001b[0m\n\u001b[1;32m   1722\u001b[0m             \u001b[0;32mraise\u001b[0m \u001b[0mValueError\u001b[0m\u001b[0;34m(\u001b[0m\u001b[0;34m\"Unable to determine independent variable, please specify.\"\u001b[0m\u001b[0;34m)\u001b[0m\u001b[0;34m\u001b[0m\u001b[0;34m\u001b[0m\u001b[0m\n",
      "\u001b[0;32m~/sage/sage-9.5/local/var/lib/sage/venv-python3.9.9/lib/python3.9/site-packages/sage/calculus/desolvers.py\u001b[0m in \u001b[0;36mdesolve_odeint_inner\u001b[0;34m(ivar)\u001b[0m\n\u001b[1;32m   1680\u001b[0m             \u001b[0mvariabs\u001b[0m\u001b[0;34m.\u001b[0m\u001b[0mappend\u001b[0m\u001b[0;34m(\u001b[0m\u001b[0mivar\u001b[0m\u001b[0;34m)\u001b[0m\u001b[0;34m\u001b[0m\u001b[0;34m\u001b[0m\u001b[0m\n\u001b[1;32m   1681\u001b[0m             \u001b[0;32mfor\u001b[0m \u001b[0mde\u001b[0m \u001b[0;32min\u001b[0m \u001b[0mdes\u001b[0m\u001b[0;34m:\u001b[0m\u001b[0;34m\u001b[0m\u001b[0;34m\u001b[0m\u001b[0m\n\u001b[0;32m-> 1682\u001b[0;31m                 \u001b[0mdesc\u001b[0m\u001b[0;34m.\u001b[0m\u001b[0mappend\u001b[0m\u001b[0;34m(\u001b[0m\u001b[0mfast_float\u001b[0m\u001b[0;34m(\u001b[0m\u001b[0mde\u001b[0m\u001b[0;34m,\u001b[0m\u001b[0;34m*\u001b[0m\u001b[0mvariabs\u001b[0m\u001b[0;34m)\u001b[0m\u001b[0;34m)\u001b[0m\u001b[0;34m\u001b[0m\u001b[0;34m\u001b[0m\u001b[0m\n\u001b[0m\u001b[1;32m   1683\u001b[0m \u001b[0;34m\u001b[0m\u001b[0m\n\u001b[1;32m   1684\u001b[0m             \u001b[0;32mdef\u001b[0m \u001b[0mfunc\u001b[0m\u001b[0;34m(\u001b[0m\u001b[0my\u001b[0m\u001b[0;34m,\u001b[0m\u001b[0mt\u001b[0m\u001b[0;34m)\u001b[0m\u001b[0;34m:\u001b[0m\u001b[0;34m\u001b[0m\u001b[0;34m\u001b[0m\u001b[0m\n",
      "\u001b[0;32m~/sage/sage-9.5/local/var/lib/sage/venv-python3.9.9/lib/python3.9/site-packages/sage/ext/fast_eval.pyx\u001b[0m in \u001b[0;36msage.ext.fast_eval.fast_float (build/cythonized/sage/ext/fast_eval.c:1830)\u001b[0;34m()\u001b[0m\n\u001b[1;32m     86\u001b[0m \u001b[0;34m\u001b[0m\u001b[0m\n\u001b[1;32m     87\u001b[0m     \u001b[0;32mtry\u001b[0m\u001b[0;34m:\u001b[0m\u001b[0;34m\u001b[0m\u001b[0;34m\u001b[0m\u001b[0m\n\u001b[0;32m---> 88\u001b[0;31m         return fast_callable(f, vars=vars, domain=float,\n\u001b[0m\u001b[1;32m     89\u001b[0m                              expect_one_var=expect_one_var)\n\u001b[1;32m     90\u001b[0m     \u001b[0;32mexcept\u001b[0m \u001b[0mAttributeError\u001b[0m\u001b[0;34m:\u001b[0m\u001b[0;34m\u001b[0m\u001b[0;34m\u001b[0m\u001b[0m\n",
      "\u001b[0;32m~/sage/sage-9.5/local/var/lib/sage/venv-python3.9.9/lib/python3.9/site-packages/sage/ext/fast_callable.pyx\u001b[0m in \u001b[0;36msage.ext.fast_callable.fast_callable (build/cythonized/sage/ext/fast_callable.c:4518)\u001b[0;34m()\u001b[0m\n\u001b[1;32m    461\u001b[0m \u001b[0;34m\u001b[0m\u001b[0m\n\u001b[1;32m    462\u001b[0m         \u001b[0metb\u001b[0m \u001b[0;34m=\u001b[0m \u001b[0mExpressionTreeBuilder\u001b[0m\u001b[0;34m(\u001b[0m\u001b[0mvars\u001b[0m\u001b[0;34m=\u001b[0m\u001b[0mvars\u001b[0m\u001b[0;34m,\u001b[0m \u001b[0mdomain\u001b[0m\u001b[0;34m=\u001b[0m\u001b[0mdomain\u001b[0m\u001b[0;34m)\u001b[0m\u001b[0;34m\u001b[0m\u001b[0;34m\u001b[0m\u001b[0m\n\u001b[0;32m--> 463\u001b[0;31m         \u001b[0met\u001b[0m \u001b[0;34m=\u001b[0m \u001b[0mx\u001b[0m\u001b[0;34m.\u001b[0m\u001b[0m_fast_callable_\u001b[0m\u001b[0;34m(\u001b[0m\u001b[0metb\u001b[0m\u001b[0;34m)\u001b[0m\u001b[0;34m\u001b[0m\u001b[0;34m\u001b[0m\u001b[0m\n\u001b[0m\u001b[1;32m    464\u001b[0m \u001b[0;34m\u001b[0m\u001b[0m\n\u001b[1;32m    465\u001b[0m     \u001b[0;32mif\u001b[0m \u001b[0misinstance\u001b[0m\u001b[0;34m(\u001b[0m\u001b[0mdomain\u001b[0m\u001b[0;34m,\u001b[0m \u001b[0msage\u001b[0m\u001b[0;34m.\u001b[0m\u001b[0mrings\u001b[0m\u001b[0;34m.\u001b[0m\u001b[0mabc\u001b[0m\u001b[0;34m.\u001b[0m\u001b[0mRealField\u001b[0m\u001b[0;34m)\u001b[0m\u001b[0;34m:\u001b[0m\u001b[0;34m\u001b[0m\u001b[0;34m\u001b[0m\u001b[0m\n",
      "\u001b[0;32m~/sage/sage-9.5/local/var/lib/sage/venv-python3.9.9/lib/python3.9/site-packages/sage/symbolic/expression.pyx\u001b[0m in \u001b[0;36msage.symbolic.expression.Expression._fast_callable_ (build/cythonized/sage/symbolic/expression.cpp:93309)\u001b[0;34m()\u001b[0m\n\u001b[1;32m  12652\u001b[0m         \"\"\"\n\u001b[1;32m  12653\u001b[0m         \u001b[0;32mfrom\u001b[0m \u001b[0msage\u001b[0m\u001b[0;34m.\u001b[0m\u001b[0msymbolic\u001b[0m\u001b[0;34m.\u001b[0m\u001b[0mexpression_conversions\u001b[0m \u001b[0;32mimport\u001b[0m \u001b[0mfast_callable\u001b[0m\u001b[0;34m\u001b[0m\u001b[0;34m\u001b[0m\u001b[0m\n\u001b[0;32m> 12654\u001b[0;31m         \u001b[0;32mreturn\u001b[0m \u001b[0mfast_callable\u001b[0m\u001b[0;34m(\u001b[0m\u001b[0mself\u001b[0m\u001b[0;34m,\u001b[0m \u001b[0metb\u001b[0m\u001b[0;34m)\u001b[0m\u001b[0;34m\u001b[0m\u001b[0;34m\u001b[0m\u001b[0m\n\u001b[0m\u001b[1;32m  12655\u001b[0m \u001b[0;34m\u001b[0m\u001b[0m\n\u001b[1;32m  12656\u001b[0m     \u001b[0;32mdef\u001b[0m \u001b[0mshow\u001b[0m\u001b[0;34m(\u001b[0m\u001b[0mself\u001b[0m\u001b[0;34m)\u001b[0m\u001b[0;34m:\u001b[0m\u001b[0;34m\u001b[0m\u001b[0;34m\u001b[0m\u001b[0m\n",
      "\u001b[0;32m~/sage/sage-9.5/local/var/lib/sage/venv-python3.9.9/lib/python3.9/site-packages/sage/symbolic/expression_conversions.py\u001b[0m in \u001b[0;36mfast_callable\u001b[0;34m(ex, etb)\u001b[0m\n\u001b[1;32m   1866\u001b[0m \u001b[0;34m\u001b[0m\u001b[0m\n\u001b[1;32m   1867\u001b[0m     \"\"\"\n\u001b[0;32m-> 1868\u001b[0;31m     \u001b[0;32mreturn\u001b[0m \u001b[0mFastCallableConverter\u001b[0m\u001b[0;34m(\u001b[0m\u001b[0mex\u001b[0m\u001b[0;34m,\u001b[0m \u001b[0metb\u001b[0m\u001b[0;34m)\u001b[0m\u001b[0;34m(\u001b[0m\u001b[0;34m)\u001b[0m\u001b[0;34m\u001b[0m\u001b[0;34m\u001b[0m\u001b[0m\n\u001b[0m\u001b[1;32m   1869\u001b[0m \u001b[0;34m\u001b[0m\u001b[0m\n\u001b[1;32m   1870\u001b[0m \u001b[0;32mclass\u001b[0m \u001b[0mRingConverter\u001b[0m\u001b[0;34m(\u001b[0m\u001b[0mConverter\u001b[0m\u001b[0;34m)\u001b[0m\u001b[0;34m:\u001b[0m\u001b[0;34m\u001b[0m\u001b[0;34m\u001b[0m\u001b[0m\n",
      "\u001b[0;32m~/sage/sage-9.5/local/var/lib/sage/venv-python3.9.9/lib/python3.9/site-packages/sage/symbolic/expression_conversions.py\u001b[0m in \u001b[0;36m__call__\u001b[0;34m(self, ex)\u001b[0m\n\u001b[1;32m    203\u001b[0m             \u001b[0;32mif\u001b[0m \u001b[0mgetattr\u001b[0m\u001b[0;34m(\u001b[0m\u001b[0mself\u001b[0m\u001b[0;34m,\u001b[0m \u001b[0;34m'use_fake_div'\u001b[0m\u001b[0;34m,\u001b[0m \u001b[0;32mFalse\u001b[0m\u001b[0;34m)\u001b[0m \u001b[0;32mand\u001b[0m \u001b[0;34m(\u001b[0m\u001b[0moperator\u001b[0m \u001b[0;32mis\u001b[0m \u001b[0m_operator\u001b[0m\u001b[0;34m.\u001b[0m\u001b[0mmul\u001b[0m \u001b[0;32mor\u001b[0m \u001b[0moperator\u001b[0m \u001b[0;32mis\u001b[0m \u001b[0mmul_vararg\u001b[0m\u001b[0;34m)\u001b[0m\u001b[0;34m:\u001b[0m\u001b[0;34m\u001b[0m\u001b[0;34m\u001b[0m\u001b[0m\n\u001b[1;32m    204\u001b[0m                 \u001b[0mdiv\u001b[0m \u001b[0;34m=\u001b[0m \u001b[0mself\u001b[0m\u001b[0;34m.\u001b[0m\u001b[0mget_fake_div\u001b[0m\u001b[0;34m(\u001b[0m\u001b[0mex\u001b[0m\u001b[0;34m)\u001b[0m\u001b[0;34m\u001b[0m\u001b[0;34m\u001b[0m\u001b[0m\n\u001b[0;32m--> 205\u001b[0;31m                 \u001b[0;32mreturn\u001b[0m \u001b[0mself\u001b[0m\u001b[0;34m.\u001b[0m\u001b[0marithmetic\u001b[0m\u001b[0;34m(\u001b[0m\u001b[0mdiv\u001b[0m\u001b[0;34m,\u001b[0m \u001b[0mdiv\u001b[0m\u001b[0;34m.\u001b[0m\u001b[0moperator\u001b[0m\u001b[0;34m(\u001b[0m\u001b[0;34m)\u001b[0m\u001b[0;34m)\u001b[0m\u001b[0;34m\u001b[0m\u001b[0;34m\u001b[0m\u001b[0m\n\u001b[0m\u001b[1;32m    206\u001b[0m             \u001b[0;32mreturn\u001b[0m \u001b[0mself\u001b[0m\u001b[0;34m.\u001b[0m\u001b[0marithmetic\u001b[0m\u001b[0;34m(\u001b[0m\u001b[0mex\u001b[0m\u001b[0;34m,\u001b[0m \u001b[0moperator\u001b[0m\u001b[0;34m)\u001b[0m\u001b[0;34m\u001b[0m\u001b[0;34m\u001b[0m\u001b[0m\n\u001b[1;32m    207\u001b[0m         \u001b[0;32melif\u001b[0m \u001b[0moperator\u001b[0m \u001b[0;32min\u001b[0m \u001b[0mrelation_operators\u001b[0m\u001b[0;34m:\u001b[0m\u001b[0;34m\u001b[0m\u001b[0;34m\u001b[0m\u001b[0m\n",
      "\u001b[0;32m~/sage/sage-9.5/local/var/lib/sage/venv-python3.9.9/lib/python3.9/site-packages/sage/symbolic/expression_conversions.py\u001b[0m in \u001b[0;36marithmetic\u001b[0;34m(self, ex, operator)\u001b[0m\n\u001b[1;32m   1794\u001b[0m         \u001b[0;32melif\u001b[0m \u001b[0moperator\u001b[0m \u001b[0;34m==\u001b[0m \u001b[0mmul_vararg\u001b[0m\u001b[0;34m:\u001b[0m\u001b[0;34m\u001b[0m\u001b[0;34m\u001b[0m\u001b[0m\n\u001b[1;32m   1795\u001b[0m             \u001b[0moperator\u001b[0m \u001b[0;34m=\u001b[0m \u001b[0m_operator\u001b[0m\u001b[0;34m.\u001b[0m\u001b[0mmul\u001b[0m\u001b[0;34m\u001b[0m\u001b[0;34m\u001b[0m\u001b[0m\n\u001b[0;32m-> 1796\u001b[0;31m         \u001b[0;32mreturn\u001b[0m \u001b[0mreduce\u001b[0m\u001b[0;34m(\u001b[0m\u001b[0;32mlambda\u001b[0m \u001b[0mx\u001b[0m\u001b[0;34m,\u001b[0m\u001b[0my\u001b[0m\u001b[0;34m:\u001b[0m \u001b[0mself\u001b[0m\u001b[0;34m.\u001b[0m\u001b[0metb\u001b[0m\u001b[0;34m.\u001b[0m\u001b[0mcall\u001b[0m\u001b[0;34m(\u001b[0m\u001b[0moperator\u001b[0m\u001b[0;34m,\u001b[0m \u001b[0mx\u001b[0m\u001b[0;34m,\u001b[0m\u001b[0my\u001b[0m\u001b[0;34m)\u001b[0m\u001b[0;34m,\u001b[0m \u001b[0moperands\u001b[0m\u001b[0;34m)\u001b[0m\u001b[0;34m\u001b[0m\u001b[0;34m\u001b[0m\u001b[0m\n\u001b[0m\u001b[1;32m   1797\u001b[0m \u001b[0;34m\u001b[0m\u001b[0m\n\u001b[1;32m   1798\u001b[0m     \u001b[0;32mdef\u001b[0m \u001b[0msymbol\u001b[0m\u001b[0;34m(\u001b[0m\u001b[0mself\u001b[0m\u001b[0;34m,\u001b[0m \u001b[0mex\u001b[0m\u001b[0;34m)\u001b[0m\u001b[0;34m:\u001b[0m\u001b[0;34m\u001b[0m\u001b[0;34m\u001b[0m\u001b[0m\n",
      "\u001b[0;32m~/sage/sage-9.5/local/var/lib/sage/venv-python3.9.9/lib/python3.9/site-packages/sage/symbolic/expression_conversions.py\u001b[0m in \u001b[0;36m<lambda>\u001b[0;34m(x, y)\u001b[0m\n\u001b[1;32m   1794\u001b[0m         \u001b[0;32melif\u001b[0m \u001b[0moperator\u001b[0m \u001b[0;34m==\u001b[0m \u001b[0mmul_vararg\u001b[0m\u001b[0;34m:\u001b[0m\u001b[0;34m\u001b[0m\u001b[0;34m\u001b[0m\u001b[0m\n\u001b[1;32m   1795\u001b[0m             \u001b[0moperator\u001b[0m \u001b[0;34m=\u001b[0m \u001b[0m_operator\u001b[0m\u001b[0;34m.\u001b[0m\u001b[0mmul\u001b[0m\u001b[0;34m\u001b[0m\u001b[0;34m\u001b[0m\u001b[0m\n\u001b[0;32m-> 1796\u001b[0;31m         \u001b[0;32mreturn\u001b[0m \u001b[0mreduce\u001b[0m\u001b[0;34m(\u001b[0m\u001b[0;32mlambda\u001b[0m \u001b[0mx\u001b[0m\u001b[0;34m,\u001b[0m\u001b[0my\u001b[0m\u001b[0;34m:\u001b[0m \u001b[0mself\u001b[0m\u001b[0;34m.\u001b[0m\u001b[0metb\u001b[0m\u001b[0;34m.\u001b[0m\u001b[0mcall\u001b[0m\u001b[0;34m(\u001b[0m\u001b[0moperator\u001b[0m\u001b[0;34m,\u001b[0m \u001b[0mx\u001b[0m\u001b[0;34m,\u001b[0m\u001b[0my\u001b[0m\u001b[0;34m)\u001b[0m\u001b[0;34m,\u001b[0m \u001b[0moperands\u001b[0m\u001b[0;34m)\u001b[0m\u001b[0;34m\u001b[0m\u001b[0;34m\u001b[0m\u001b[0m\n\u001b[0m\u001b[1;32m   1797\u001b[0m \u001b[0;34m\u001b[0m\u001b[0m\n\u001b[1;32m   1798\u001b[0m     \u001b[0;32mdef\u001b[0m \u001b[0msymbol\u001b[0m\u001b[0;34m(\u001b[0m\u001b[0mself\u001b[0m\u001b[0;34m,\u001b[0m \u001b[0mex\u001b[0m\u001b[0;34m)\u001b[0m\u001b[0;34m:\u001b[0m\u001b[0;34m\u001b[0m\u001b[0;34m\u001b[0m\u001b[0m\n",
      "\u001b[0;32m~/sage/sage-9.5/local/var/lib/sage/venv-python3.9.9/lib/python3.9/site-packages/sage/ext/fast_callable.pyx\u001b[0m in \u001b[0;36msage.ext.fast_callable.ExpressionTreeBuilder.call (build/cythonized/sage/ext/fast_callable.c:7029)\u001b[0;34m()\u001b[0m\n\u001b[1;32m    741\u001b[0m             \u001b[0;32mreturn\u001b[0m \u001b[0mself\u001b[0m\u001b[0;34m(\u001b[0m\u001b[0mbase\u001b[0m\u001b[0;34m)\u001b[0m\u001b[0;34m**\u001b[0m\u001b[0mexponent\u001b[0m\u001b[0;34m\u001b[0m\u001b[0;34m\u001b[0m\u001b[0m\n\u001b[1;32m    742\u001b[0m         \u001b[0;32melse\u001b[0m\u001b[0;34m:\u001b[0m\u001b[0;34m\u001b[0m\u001b[0;34m\u001b[0m\u001b[0m\n\u001b[0;32m--> 743\u001b[0;31m             \u001b[0;32mreturn\u001b[0m \u001b[0mExpressionCall\u001b[0m\u001b[0;34m(\u001b[0m\u001b[0mself\u001b[0m\u001b[0;34m,\u001b[0m \u001b[0mfn\u001b[0m\u001b[0;34m,\u001b[0m \u001b[0;34m[\u001b[0m\u001b[0mself\u001b[0m\u001b[0;34m(\u001b[0m\u001b[0ma\u001b[0m\u001b[0;34m)\u001b[0m \u001b[0;32mfor\u001b[0m \u001b[0ma\u001b[0m \u001b[0;32min\u001b[0m \u001b[0margs\u001b[0m\u001b[0;34m]\u001b[0m\u001b[0;34m)\u001b[0m\u001b[0;34m\u001b[0m\u001b[0;34m\u001b[0m\u001b[0m\n\u001b[0m\u001b[1;32m    744\u001b[0m \u001b[0;34m\u001b[0m\u001b[0m\n\u001b[1;32m    745\u001b[0m     \u001b[0;32mdef\u001b[0m \u001b[0mchoice\u001b[0m\u001b[0;34m(\u001b[0m\u001b[0mself\u001b[0m\u001b[0;34m,\u001b[0m \u001b[0mcond\u001b[0m\u001b[0;34m,\u001b[0m \u001b[0miftrue\u001b[0m\u001b[0;34m,\u001b[0m \u001b[0miffalse\u001b[0m\u001b[0;34m)\u001b[0m\u001b[0;34m:\u001b[0m\u001b[0;34m\u001b[0m\u001b[0;34m\u001b[0m\u001b[0m\n",
      "\u001b[0;32m~/sage/sage-9.5/local/var/lib/sage/venv-python3.9.9/lib/python3.9/site-packages/sage/ext/fast_callable.pyx\u001b[0m in \u001b[0;36msage.ext.fast_callable.ExpressionTreeBuilder.__call__ (build/cythonized/sage/ext/fast_callable.c:6116)\u001b[0;34m()\u001b[0m\n\u001b[1;32m    615\u001b[0m             \u001b[0;32mreturn\u001b[0m \u001b[0mself\u001b[0m\u001b[0;34m.\u001b[0m\u001b[0mconstant\u001b[0m\u001b[0;34m(\u001b[0m\u001b[0mx\u001b[0m\u001b[0;34m)\u001b[0m\u001b[0;34m\u001b[0m\u001b[0;34m\u001b[0m\u001b[0m\n\u001b[1;32m    616\u001b[0m \u001b[0;34m\u001b[0m\u001b[0m\n\u001b[0;32m--> 617\u001b[0;31m         \u001b[0;32mreturn\u001b[0m \u001b[0mfc\u001b[0m\u001b[0;34m(\u001b[0m\u001b[0mself\u001b[0m\u001b[0;34m)\u001b[0m\u001b[0;34m\u001b[0m\u001b[0;34m\u001b[0m\u001b[0m\n\u001b[0m\u001b[1;32m    618\u001b[0m \u001b[0;34m\u001b[0m\u001b[0m\n\u001b[1;32m    619\u001b[0m     \u001b[0;32mdef\u001b[0m \u001b[0m_clean_var\u001b[0m\u001b[0;34m(\u001b[0m\u001b[0mself\u001b[0m\u001b[0;34m,\u001b[0m \u001b[0mv\u001b[0m\u001b[0;34m)\u001b[0m\u001b[0;34m:\u001b[0m\u001b[0;34m\u001b[0m\u001b[0;34m\u001b[0m\u001b[0m\n",
      "\u001b[0;32m~/sage/sage-9.5/local/var/lib/sage/venv-python3.9.9/lib/python3.9/site-packages/sage/symbolic/expression.pyx\u001b[0m in \u001b[0;36msage.symbolic.expression.Expression._fast_callable_ (build/cythonized/sage/symbolic/expression.cpp:93309)\u001b[0;34m()\u001b[0m\n\u001b[1;32m  12652\u001b[0m         \"\"\"\n\u001b[1;32m  12653\u001b[0m         \u001b[0;32mfrom\u001b[0m \u001b[0msage\u001b[0m\u001b[0;34m.\u001b[0m\u001b[0msymbolic\u001b[0m\u001b[0;34m.\u001b[0m\u001b[0mexpression_conversions\u001b[0m \u001b[0;32mimport\u001b[0m \u001b[0mfast_callable\u001b[0m\u001b[0;34m\u001b[0m\u001b[0;34m\u001b[0m\u001b[0m\n\u001b[0;32m> 12654\u001b[0;31m         \u001b[0;32mreturn\u001b[0m \u001b[0mfast_callable\u001b[0m\u001b[0;34m(\u001b[0m\u001b[0mself\u001b[0m\u001b[0;34m,\u001b[0m \u001b[0metb\u001b[0m\u001b[0;34m)\u001b[0m\u001b[0;34m\u001b[0m\u001b[0;34m\u001b[0m\u001b[0m\n\u001b[0m\u001b[1;32m  12655\u001b[0m \u001b[0;34m\u001b[0m\u001b[0m\n\u001b[1;32m  12656\u001b[0m     \u001b[0;32mdef\u001b[0m \u001b[0mshow\u001b[0m\u001b[0;34m(\u001b[0m\u001b[0mself\u001b[0m\u001b[0;34m)\u001b[0m\u001b[0;34m:\u001b[0m\u001b[0;34m\u001b[0m\u001b[0;34m\u001b[0m\u001b[0m\n",
      "\u001b[0;32m~/sage/sage-9.5/local/var/lib/sage/venv-python3.9.9/lib/python3.9/site-packages/sage/symbolic/expression_conversions.py\u001b[0m in \u001b[0;36mfast_callable\u001b[0;34m(ex, etb)\u001b[0m\n\u001b[1;32m   1866\u001b[0m \u001b[0;34m\u001b[0m\u001b[0m\n\u001b[1;32m   1867\u001b[0m     \"\"\"\n\u001b[0;32m-> 1868\u001b[0;31m     \u001b[0;32mreturn\u001b[0m \u001b[0mFastCallableConverter\u001b[0m\u001b[0;34m(\u001b[0m\u001b[0mex\u001b[0m\u001b[0;34m,\u001b[0m \u001b[0metb\u001b[0m\u001b[0;34m)\u001b[0m\u001b[0;34m(\u001b[0m\u001b[0;34m)\u001b[0m\u001b[0;34m\u001b[0m\u001b[0;34m\u001b[0m\u001b[0m\n\u001b[0m\u001b[1;32m   1869\u001b[0m \u001b[0;34m\u001b[0m\u001b[0m\n\u001b[1;32m   1870\u001b[0m \u001b[0;32mclass\u001b[0m \u001b[0mRingConverter\u001b[0m\u001b[0;34m(\u001b[0m\u001b[0mConverter\u001b[0m\u001b[0;34m)\u001b[0m\u001b[0;34m:\u001b[0m\u001b[0;34m\u001b[0m\u001b[0;34m\u001b[0m\u001b[0m\n",
      "\u001b[0;32m~/sage/sage-9.5/local/var/lib/sage/venv-python3.9.9/lib/python3.9/site-packages/sage/symbolic/expression_conversions.py\u001b[0m in \u001b[0;36m__call__\u001b[0;34m(self, ex)\u001b[0m\n\u001b[1;32m    204\u001b[0m                 \u001b[0mdiv\u001b[0m \u001b[0;34m=\u001b[0m \u001b[0mself\u001b[0m\u001b[0;34m.\u001b[0m\u001b[0mget_fake_div\u001b[0m\u001b[0;34m(\u001b[0m\u001b[0mex\u001b[0m\u001b[0;34m)\u001b[0m\u001b[0;34m\u001b[0m\u001b[0;34m\u001b[0m\u001b[0m\n\u001b[1;32m    205\u001b[0m                 \u001b[0;32mreturn\u001b[0m \u001b[0mself\u001b[0m\u001b[0;34m.\u001b[0m\u001b[0marithmetic\u001b[0m\u001b[0;34m(\u001b[0m\u001b[0mdiv\u001b[0m\u001b[0;34m,\u001b[0m \u001b[0mdiv\u001b[0m\u001b[0;34m.\u001b[0m\u001b[0moperator\u001b[0m\u001b[0;34m(\u001b[0m\u001b[0;34m)\u001b[0m\u001b[0;34m)\u001b[0m\u001b[0;34m\u001b[0m\u001b[0;34m\u001b[0m\u001b[0m\n\u001b[0;32m--> 206\u001b[0;31m             \u001b[0;32mreturn\u001b[0m \u001b[0mself\u001b[0m\u001b[0;34m.\u001b[0m\u001b[0marithmetic\u001b[0m\u001b[0;34m(\u001b[0m\u001b[0mex\u001b[0m\u001b[0;34m,\u001b[0m \u001b[0moperator\u001b[0m\u001b[0;34m)\u001b[0m\u001b[0;34m\u001b[0m\u001b[0;34m\u001b[0m\u001b[0m\n\u001b[0m\u001b[1;32m    207\u001b[0m         \u001b[0;32melif\u001b[0m \u001b[0moperator\u001b[0m \u001b[0;32min\u001b[0m \u001b[0mrelation_operators\u001b[0m\u001b[0;34m:\u001b[0m\u001b[0;34m\u001b[0m\u001b[0;34m\u001b[0m\u001b[0m\n\u001b[1;32m    208\u001b[0m             \u001b[0;32mreturn\u001b[0m \u001b[0mself\u001b[0m\u001b[0;34m.\u001b[0m\u001b[0mrelation\u001b[0m\u001b[0;34m(\u001b[0m\u001b[0mex\u001b[0m\u001b[0;34m,\u001b[0m \u001b[0moperator\u001b[0m\u001b[0;34m)\u001b[0m\u001b[0;34m\u001b[0m\u001b[0;34m\u001b[0m\u001b[0m\n",
      "\u001b[0;32m~/sage/sage-9.5/local/var/lib/sage/venv-python3.9.9/lib/python3.9/site-packages/sage/symbolic/expression_conversions.py\u001b[0m in \u001b[0;36marithmetic\u001b[0;34m(self, ex, operator)\u001b[0m\n\u001b[1;32m   1794\u001b[0m         \u001b[0;32melif\u001b[0m \u001b[0moperator\u001b[0m \u001b[0;34m==\u001b[0m \u001b[0mmul_vararg\u001b[0m\u001b[0;34m:\u001b[0m\u001b[0;34m\u001b[0m\u001b[0;34m\u001b[0m\u001b[0m\n\u001b[1;32m   1795\u001b[0m             \u001b[0moperator\u001b[0m \u001b[0;34m=\u001b[0m \u001b[0m_operator\u001b[0m\u001b[0;34m.\u001b[0m\u001b[0mmul\u001b[0m\u001b[0;34m\u001b[0m\u001b[0;34m\u001b[0m\u001b[0m\n\u001b[0;32m-> 1796\u001b[0;31m         \u001b[0;32mreturn\u001b[0m \u001b[0mreduce\u001b[0m\u001b[0;34m(\u001b[0m\u001b[0;32mlambda\u001b[0m \u001b[0mx\u001b[0m\u001b[0;34m,\u001b[0m\u001b[0my\u001b[0m\u001b[0;34m:\u001b[0m \u001b[0mself\u001b[0m\u001b[0;34m.\u001b[0m\u001b[0metb\u001b[0m\u001b[0;34m.\u001b[0m\u001b[0mcall\u001b[0m\u001b[0;34m(\u001b[0m\u001b[0moperator\u001b[0m\u001b[0;34m,\u001b[0m \u001b[0mx\u001b[0m\u001b[0;34m,\u001b[0m\u001b[0my\u001b[0m\u001b[0;34m)\u001b[0m\u001b[0;34m,\u001b[0m \u001b[0moperands\u001b[0m\u001b[0;34m)\u001b[0m\u001b[0;34m\u001b[0m\u001b[0;34m\u001b[0m\u001b[0m\n\u001b[0m\u001b[1;32m   1797\u001b[0m \u001b[0;34m\u001b[0m\u001b[0m\n\u001b[1;32m   1798\u001b[0m     \u001b[0;32mdef\u001b[0m \u001b[0msymbol\u001b[0m\u001b[0;34m(\u001b[0m\u001b[0mself\u001b[0m\u001b[0;34m,\u001b[0m \u001b[0mex\u001b[0m\u001b[0;34m)\u001b[0m\u001b[0;34m:\u001b[0m\u001b[0;34m\u001b[0m\u001b[0;34m\u001b[0m\u001b[0m\n",
      "\u001b[0;32m~/sage/sage-9.5/local/var/lib/sage/venv-python3.9.9/lib/python3.9/site-packages/sage/symbolic/expression_conversions.py\u001b[0m in \u001b[0;36m<lambda>\u001b[0;34m(x, y)\u001b[0m\n\u001b[1;32m   1794\u001b[0m         \u001b[0;32melif\u001b[0m \u001b[0moperator\u001b[0m \u001b[0;34m==\u001b[0m \u001b[0mmul_vararg\u001b[0m\u001b[0;34m:\u001b[0m\u001b[0;34m\u001b[0m\u001b[0;34m\u001b[0m\u001b[0m\n\u001b[1;32m   1795\u001b[0m             \u001b[0moperator\u001b[0m \u001b[0;34m=\u001b[0m \u001b[0m_operator\u001b[0m\u001b[0;34m.\u001b[0m\u001b[0mmul\u001b[0m\u001b[0;34m\u001b[0m\u001b[0;34m\u001b[0m\u001b[0m\n\u001b[0;32m-> 1796\u001b[0;31m         \u001b[0;32mreturn\u001b[0m \u001b[0mreduce\u001b[0m\u001b[0;34m(\u001b[0m\u001b[0;32mlambda\u001b[0m \u001b[0mx\u001b[0m\u001b[0;34m,\u001b[0m\u001b[0my\u001b[0m\u001b[0;34m:\u001b[0m \u001b[0mself\u001b[0m\u001b[0;34m.\u001b[0m\u001b[0metb\u001b[0m\u001b[0;34m.\u001b[0m\u001b[0mcall\u001b[0m\u001b[0;34m(\u001b[0m\u001b[0moperator\u001b[0m\u001b[0;34m,\u001b[0m \u001b[0mx\u001b[0m\u001b[0;34m,\u001b[0m\u001b[0my\u001b[0m\u001b[0;34m)\u001b[0m\u001b[0;34m,\u001b[0m \u001b[0moperands\u001b[0m\u001b[0;34m)\u001b[0m\u001b[0;34m\u001b[0m\u001b[0;34m\u001b[0m\u001b[0m\n\u001b[0m\u001b[1;32m   1797\u001b[0m \u001b[0;34m\u001b[0m\u001b[0m\n\u001b[1;32m   1798\u001b[0m     \u001b[0;32mdef\u001b[0m \u001b[0msymbol\u001b[0m\u001b[0;34m(\u001b[0m\u001b[0mself\u001b[0m\u001b[0;34m,\u001b[0m \u001b[0mex\u001b[0m\u001b[0;34m)\u001b[0m\u001b[0;34m:\u001b[0m\u001b[0;34m\u001b[0m\u001b[0;34m\u001b[0m\u001b[0m\n",
      "\u001b[0;32m~/sage/sage-9.5/local/var/lib/sage/venv-python3.9.9/lib/python3.9/site-packages/sage/ext/fast_callable.pyx\u001b[0m in \u001b[0;36msage.ext.fast_callable.ExpressionTreeBuilder.call (build/cythonized/sage/ext/fast_callable.c:6974)\u001b[0;34m()\u001b[0m\n\u001b[1;32m    739\u001b[0m         \u001b[0;32mif\u001b[0m \u001b[0mfn\u001b[0m \u001b[0;32mis\u001b[0m \u001b[0moperator\u001b[0m\u001b[0;34m.\u001b[0m\u001b[0mpow\u001b[0m\u001b[0;34m:\u001b[0m\u001b[0;34m\u001b[0m\u001b[0;34m\u001b[0m\u001b[0m\n\u001b[1;32m    740\u001b[0m             \u001b[0mbase\u001b[0m\u001b[0;34m,\u001b[0m \u001b[0mexponent\u001b[0m \u001b[0;34m=\u001b[0m \u001b[0margs\u001b[0m\u001b[0;34m\u001b[0m\u001b[0;34m\u001b[0m\u001b[0m\n\u001b[0;32m--> 741\u001b[0;31m             \u001b[0;32mreturn\u001b[0m \u001b[0mself\u001b[0m\u001b[0;34m(\u001b[0m\u001b[0mbase\u001b[0m\u001b[0;34m)\u001b[0m\u001b[0;34m**\u001b[0m\u001b[0mexponent\u001b[0m\u001b[0;34m\u001b[0m\u001b[0;34m\u001b[0m\u001b[0m\n\u001b[0m\u001b[1;32m    742\u001b[0m         \u001b[0;32melse\u001b[0m\u001b[0;34m:\u001b[0m\u001b[0;34m\u001b[0m\u001b[0;34m\u001b[0m\u001b[0m\n\u001b[1;32m    743\u001b[0m             \u001b[0;32mreturn\u001b[0m \u001b[0mExpressionCall\u001b[0m\u001b[0;34m(\u001b[0m\u001b[0mself\u001b[0m\u001b[0;34m,\u001b[0m \u001b[0mfn\u001b[0m\u001b[0;34m,\u001b[0m \u001b[0;34m[\u001b[0m\u001b[0mself\u001b[0m\u001b[0;34m(\u001b[0m\u001b[0ma\u001b[0m\u001b[0;34m)\u001b[0m \u001b[0;32mfor\u001b[0m \u001b[0ma\u001b[0m \u001b[0;32min\u001b[0m \u001b[0margs\u001b[0m\u001b[0;34m]\u001b[0m\u001b[0;34m)\u001b[0m\u001b[0;34m\u001b[0m\u001b[0;34m\u001b[0m\u001b[0m\n",
      "\u001b[0;32m~/sage/sage-9.5/local/var/lib/sage/venv-python3.9.9/lib/python3.9/site-packages/sage/ext/fast_callable.pyx\u001b[0m in \u001b[0;36msage.ext.fast_callable.ExpressionTreeBuilder.__call__ (build/cythonized/sage/ext/fast_callable.c:6116)\u001b[0;34m()\u001b[0m\n\u001b[1;32m    615\u001b[0m             \u001b[0;32mreturn\u001b[0m \u001b[0mself\u001b[0m\u001b[0;34m.\u001b[0m\u001b[0mconstant\u001b[0m\u001b[0;34m(\u001b[0m\u001b[0mx\u001b[0m\u001b[0;34m)\u001b[0m\u001b[0;34m\u001b[0m\u001b[0;34m\u001b[0m\u001b[0m\n\u001b[1;32m    616\u001b[0m \u001b[0;34m\u001b[0m\u001b[0m\n\u001b[0;32m--> 617\u001b[0;31m         \u001b[0;32mreturn\u001b[0m \u001b[0mfc\u001b[0m\u001b[0;34m(\u001b[0m\u001b[0mself\u001b[0m\u001b[0;34m)\u001b[0m\u001b[0;34m\u001b[0m\u001b[0;34m\u001b[0m\u001b[0m\n\u001b[0m\u001b[1;32m    618\u001b[0m \u001b[0;34m\u001b[0m\u001b[0m\n\u001b[1;32m    619\u001b[0m     \u001b[0;32mdef\u001b[0m \u001b[0m_clean_var\u001b[0m\u001b[0;34m(\u001b[0m\u001b[0mself\u001b[0m\u001b[0;34m,\u001b[0m \u001b[0mv\u001b[0m\u001b[0;34m)\u001b[0m\u001b[0;34m:\u001b[0m\u001b[0;34m\u001b[0m\u001b[0;34m\u001b[0m\u001b[0m\n",
      "\u001b[0;32m~/sage/sage-9.5/local/var/lib/sage/venv-python3.9.9/lib/python3.9/site-packages/sage/symbolic/expression.pyx\u001b[0m in \u001b[0;36msage.symbolic.expression.Expression._fast_callable_ (build/cythonized/sage/symbolic/expression.cpp:93309)\u001b[0;34m()\u001b[0m\n\u001b[1;32m  12652\u001b[0m         \"\"\"\n\u001b[1;32m  12653\u001b[0m         \u001b[0;32mfrom\u001b[0m \u001b[0msage\u001b[0m\u001b[0;34m.\u001b[0m\u001b[0msymbolic\u001b[0m\u001b[0;34m.\u001b[0m\u001b[0mexpression_conversions\u001b[0m \u001b[0;32mimport\u001b[0m \u001b[0mfast_callable\u001b[0m\u001b[0;34m\u001b[0m\u001b[0;34m\u001b[0m\u001b[0m\n\u001b[0;32m> 12654\u001b[0;31m         \u001b[0;32mreturn\u001b[0m \u001b[0mfast_callable\u001b[0m\u001b[0;34m(\u001b[0m\u001b[0mself\u001b[0m\u001b[0;34m,\u001b[0m \u001b[0metb\u001b[0m\u001b[0;34m)\u001b[0m\u001b[0;34m\u001b[0m\u001b[0;34m\u001b[0m\u001b[0m\n\u001b[0m\u001b[1;32m  12655\u001b[0m \u001b[0;34m\u001b[0m\u001b[0m\n\u001b[1;32m  12656\u001b[0m     \u001b[0;32mdef\u001b[0m \u001b[0mshow\u001b[0m\u001b[0;34m(\u001b[0m\u001b[0mself\u001b[0m\u001b[0;34m)\u001b[0m\u001b[0;34m:\u001b[0m\u001b[0;34m\u001b[0m\u001b[0;34m\u001b[0m\u001b[0m\n",
      "\u001b[0;32m~/sage/sage-9.5/local/var/lib/sage/venv-python3.9.9/lib/python3.9/site-packages/sage/symbolic/expression_conversions.py\u001b[0m in \u001b[0;36mfast_callable\u001b[0;34m(ex, etb)\u001b[0m\n\u001b[1;32m   1866\u001b[0m \u001b[0;34m\u001b[0m\u001b[0m\n\u001b[1;32m   1867\u001b[0m     \"\"\"\n\u001b[0;32m-> 1868\u001b[0;31m     \u001b[0;32mreturn\u001b[0m \u001b[0mFastCallableConverter\u001b[0m\u001b[0;34m(\u001b[0m\u001b[0mex\u001b[0m\u001b[0;34m,\u001b[0m \u001b[0metb\u001b[0m\u001b[0;34m)\u001b[0m\u001b[0;34m(\u001b[0m\u001b[0;34m)\u001b[0m\u001b[0;34m\u001b[0m\u001b[0;34m\u001b[0m\u001b[0m\n\u001b[0m\u001b[1;32m   1869\u001b[0m \u001b[0;34m\u001b[0m\u001b[0m\n\u001b[1;32m   1870\u001b[0m \u001b[0;32mclass\u001b[0m \u001b[0mRingConverter\u001b[0m\u001b[0;34m(\u001b[0m\u001b[0mConverter\u001b[0m\u001b[0;34m)\u001b[0m\u001b[0;34m:\u001b[0m\u001b[0;34m\u001b[0m\u001b[0;34m\u001b[0m\u001b[0m\n",
      "\u001b[0;32m~/sage/sage-9.5/local/var/lib/sage/venv-python3.9.9/lib/python3.9/site-packages/sage/symbolic/expression_conversions.py\u001b[0m in \u001b[0;36m__call__\u001b[0;34m(self, ex)\u001b[0m\n\u001b[1;32m    196\u001b[0m                 \u001b[0;32mraise\u001b[0m \u001b[0merr\u001b[0m\u001b[0;34m\u001b[0m\u001b[0;34m\u001b[0m\u001b[0m\n\u001b[1;32m    197\u001b[0m \u001b[0;34m\u001b[0m\u001b[0m\n\u001b[0;32m--> 198\u001b[0;31m         \u001b[0moperator\u001b[0m \u001b[0;34m=\u001b[0m \u001b[0mex\u001b[0m\u001b[0;34m.\u001b[0m\u001b[0moperator\u001b[0m\u001b[0;34m(\u001b[0m\u001b[0;34m)\u001b[0m\u001b[0;34m\u001b[0m\u001b[0;34m\u001b[0m\u001b[0m\n\u001b[0m\u001b[1;32m    199\u001b[0m         \u001b[0;32mif\u001b[0m \u001b[0moperator\u001b[0m \u001b[0;32mis\u001b[0m \u001b[0;32mNone\u001b[0m\u001b[0;34m:\u001b[0m\u001b[0;34m\u001b[0m\u001b[0;34m\u001b[0m\u001b[0m\n\u001b[1;32m    200\u001b[0m             \u001b[0;32mreturn\u001b[0m \u001b[0mself\u001b[0m\u001b[0;34m.\u001b[0m\u001b[0msymbol\u001b[0m\u001b[0;34m(\u001b[0m\u001b[0mex\u001b[0m\u001b[0;34m)\u001b[0m\u001b[0;34m\u001b[0m\u001b[0;34m\u001b[0m\u001b[0m\n",
      "\u001b[0;32msrc/cysignals/signals.pyx\u001b[0m in \u001b[0;36mcysignals.signals.python_check_interrupt\u001b[0;34m()\u001b[0m\n",
      "\u001b[0;31mKeyboardInterrupt\u001b[0m: "
     ]
    }
   ],
   "source": [
    "from sage.calculus.desolvers import desolve_odeint\n",
    "import numpy as np\n",
    "\n",
    "dT=0.001\n",
    "\n",
    "x0 = 0\n",
    "y0 = 10\n",
    "px0 = 1\n",
    "py0 = 1\n",
    "\n",
    "x,y,px,py = var('x,y,px,py')\n",
    "\n",
    "t=1000\n",
    "\n",
    "sol = np.zeros((int(t/dT),4))\n",
    "\n",
    "for i in range(0,int(t/dT)):\n",
    "    sol1 = desolve_odeint([X_V[0].expr()/2, ##componentes del campo vectorial al que le vamos a sacar \n",
    "                           X_V[1].expr()/2, ##el flujo.\n",
    "                           X_V[2].expr()/2,\n",
    "                           X_V[3].expr()/2],\n",
    "                          [x0,y0,px0,py0], #condiciones iniciales\n",
    "                          srange(0,2*dT,dT), #\n",
    "                          [x,y,px,py])\n",
    "    \n",
    "    sol2 = desolve_odeint([X_T[0].expr(), #componentes del campo\n",
    "                           X_T[1].expr(),\n",
    "                           X_T[2].expr(),\n",
    "                           X_T[3].expr()],\n",
    "                           sol1[1,:],  #encontrar la solución en lo mismos puntos que se hizo para sol1\n",
    "                           srange(0,2*dT,dT),\n",
    "                          [x,y,px,py])\n",
    "    \n",
    "    sol3 = desolve_odeint([X_V[0].expr()/2,\n",
    "                           X_V[1].expr()/2,\n",
    "                           X_V[2].expr()/2,\n",
    "                           X_V[3].expr()/2],\n",
    "                           sol2[1,:], #encontrar la solución en los mismos puntos que se hizo para sol\n",
    "                           srange(0,2*dT,dT),\n",
    "                           [x,y,px,py])\n",
    "    x0 = sol3[1,0]\n",
    "    y0 = sol3[1,1]\n",
    "    px0 = sol3[1,2]\n",
    "    py0 = sol3[1,3]\n",
    "    sol[i,:] = sol3[1,:]\n",
    "    \n",
    "print(sol)"
   ]
  },
  {
   "cell_type": "code",
   "execution_count": null,
   "metadata": {},
   "outputs": [],
   "source": [
    "sol[:,1]"
   ]
  },
  {
   "cell_type": "code",
   "execution_count": null,
   "metadata": {},
   "outputs": [],
   "source": [
    "import numpy as np\n",
    "import matplotlib.pyplot as plt\n",
    "\n",
    "t1 = np.linspace(0,t,int(t/dT))\n",
    "\n",
    "plt.plot(sol[:,0],sol[:,1],'k')\n",
    "plt.plot(t1, -t1**2 *(g/2) + t1 + 10,'r')\n",
    "plt.show()\n"
   ]
  },
  {
   "cell_type": "code",
   "execution_count": null,
   "metadata": {},
   "outputs": [],
   "source": []
  }
 ],
 "metadata": {
  "kernelspec": {
   "display_name": "SageMath 9.5",
   "language": "sage",
   "name": "sagemath"
  },
  "language_info": {
   "codemirror_mode": {
    "name": "ipython",
    "version": 3
   },
   "file_extension": ".py",
   "mimetype": "text/x-python",
   "name": "python",
   "nbconvert_exporter": "python",
   "pygments_lexer": "ipython3",
   "version": "3.9.9"
  }
 },
 "nbformat": 4,
 "nbformat_minor": 4
}
