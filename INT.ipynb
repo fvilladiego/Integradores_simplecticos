{
 "cells": [
  {
   "cell_type": "code",
   "execution_count": 1,
   "metadata": {},
   "outputs": [
    {
     "data": {
      "text/plain": [
       "'SageMath version 9.2, Release Date: 2020-10-24'"
      ]
     },
     "execution_count": 1,
     "metadata": {},
     "output_type": "execute_result"
    }
   ],
   "source": [
    "version()"
   ]
  },
  {
   "cell_type": "code",
   "execution_count": 1,
   "metadata": {},
   "outputs": [],
   "source": [
    "%display latex"
   ]
  },
  {
   "cell_type": "markdown",
   "metadata": {},
   "source": [
    "# Definición de la variedad e introducción de carta\n",
    "Lo primero que vamos a necesitar es definir de forma adecuada la variedad que representa el espacio de fase sobre el que definiremos la mecánica que vamos a estudiar y introducir sobre esta cartas apropiadas. "
   ]
  },
  {
   "cell_type": "code",
   "execution_count": 2,
   "metadata": {},
   "outputs": [
    {
     "data": {
      "text/plain": [
       "6-dimensional differentiable manifold M"
      ]
     },
     "execution_count": 2,
     "metadata": {},
     "output_type": "execute_result"
    }
   ],
   "source": [
    "n = 3 #cantidad de grados de libertad\n",
    "M=Manifold(2*n, name='M', structure=\"differentiable\"); M"
   ]
  },
  {
   "cell_type": "markdown",
   "metadata": {},
   "source": [
    "Por el momento el problema solo lo hemos formulado en coordenadas cartesianas (en el espacio físico), por lo que usamos las coordenadas canónica inducidas por estas sobre M. Recordemos que M es el espacio cotangente de la variedad de configuraciones, que para el problema de Kepler puede representarse como $\\mathbb{R^3}/{0}$. "
   ]
  },
  {
   "cell_type": "code",
   "execution_count": 3,
   "metadata": {},
   "outputs": [],
   "source": [
    "std.<x, y, z, px, py, pz> = M.chart('x y z px:p_x py:p_y pz:p_z', coord_restrictions= lambda x,y,z,px,py,pz :x**2 + y**2 + z**2 !=0); std"
   ]
  },
  {
   "cell_type": "code",
   "execution_count": 4,
   "metadata": {},
   "outputs": [
    {
     "data": {
      "text/plain": [
       "\\left(M, \\left(\\frac{\\partial}{\\partial x },\\frac{\\partial}{\\partial y },\\frac{\\partial}{\\partial z },\\frac{\\partial}{\\partial {p_x} },\\frac{\\partial}{\\partial {p_y} },\\frac{\\partial}{\\partial {p_z} }\\right)\\right)"
      ]
     },
     "execution_count": 4,
     "metadata": {},
     "output_type": "execute_result"
    }
   ],
   "source": [
    "latex(M.default_frame()) #base de vectores "
   ]
  },
  {
   "cell_type": "code",
   "execution_count": 5,
   "metadata": {},
   "outputs": [
    {
     "data": {
      "text/plain": [
       "[x is real,\n",
       " y is real,\n",
       " z is real,\n",
       " px is real,\n",
       " py is real,\n",
       " pz is real,\n",
       " x^2 + y^2 + z^2 > 0]"
      ]
     },
     "execution_count": 5,
     "metadata": {},
     "output_type": "execute_result"
    }
   ],
   "source": [
    "##Notese que estamos restringiendo la carta para que no considere el origen y también le pasamos la restricción\n",
    "##a sage para la manipulación simbólica. \n",
    "(x**2 + y**2+z**2>0).assume()  \n",
    "assumptions()              "
   ]
  },
  {
   "cell_type": "markdown",
   "metadata": {},
   "source": [
    "# Integradores simplécticos "
   ]
  },
  {
   "cell_type": "markdown",
   "metadata": {},
   "source": [
    "La técnica que vamos a usar es llamada _Hamiltonian Splitting_, consiste en dividir el Hamiltoniano en varios Hamiltonianos cuyos flows puedan ser calculados de manera exacta y después componer los flows para aproximar el flow del Hamiltoniano inicial. Para nuestro caso:\n",
    "\n",
    "$$\n",
    "H(\\mathbf{q},\\mathbf{p}) = H_T(\\mathbf{p}) + H_V(\\mathbf{q})\n",
    "$$\n",
    "Para nuestro caso el hamiltoniano es \n",
    "$$H(\\mathbf{q},\\mathbf{p}) = \\frac{1}{2}\\bigg( p_x^2 + p_y^2 + p_z^2\\bigg) - \\frac{1}{\\sqrt{x^2 + y^2 + z^2}}$$\n",
    "donde el modelo ya ha sido normalizado. \n",
    "$$H_T = \\frac{1}{2}\\bigg( p_x^2 + p_y^2 + p_z^2\\bigg)$$\n",
    "$$H_V = - \\frac{1}{\\sqrt{x^2 + y^2 + z^2}}$$\n",
    "Nuestra siguiente tarea entonces es obtener los flujos de $H_V$ y$H_T$, el primer paso para esto es construir el campo vectorial asoaciado con cada Hamiltoniano."
   ]
  },
  {
   "cell_type": "markdown",
   "metadata": {},
   "source": [
    "## Definición de $H_V$ y $H_T$ en Sage\n",
    "Sagemanifolds permite la introducción de campos escalares sobre las variedades, esto es lo que usamos para definir los Hamiltonianos en que hemos divivido el problema."
   ]
  },
  {
   "cell_type": "code",
   "execution_count": 6,
   "metadata": {},
   "outputs": [],
   "source": [
    "H_V = M.scalar_field(-1/sqrt(x**2 + y**2 + z**2), name=r'H_V')\n",
    "H_T = M.scalar_field( (px^2 +py^2 + pz^2 )/2  , name='H_T' )"
   ]
  },
  {
   "cell_type": "code",
   "execution_count": 7,
   "metadata": {},
   "outputs": [
    {
     "data": {
      "text/plain": [
       "H_T: M --> R\n",
       "   (x, y, z, px, py, pz) |--> 1/2*px^2 + 1/2*py^2 + 1/2*pz^2"
      ]
     },
     "execution_count": 7,
     "metadata": {},
     "output_type": "execute_result"
    }
   ],
   "source": [
    "H_T.display()"
   ]
  },
  {
   "cell_type": "code",
   "execution_count": 8,
   "metadata": {},
   "outputs": [
    {
     "data": {
      "text/plain": [
       "H_V: M --> R\n",
       "   (x, y, z, px, py, pz) |--> -1/sqrt(x^2 + y^2 + z^2)"
      ]
     },
     "execution_count": 8,
     "metadata": {},
     "output_type": "execute_result"
    }
   ],
   "source": [
    "H_V.display()"
   ]
  },
  {
   "cell_type": "code",
   "execution_count": 9,
   "metadata": {},
   "outputs": [
    {
     "data": {
      "text/plain": [
       "H_V+H_T: M --> R\n",
       "   (x, y, z, px, py, pz) |--> 1/2*((px^2 + py^2 + pz^2)*sqrt(x^2 + y^2 + z^2) - 2)/sqrt(x^2 + y^2 + z^2)"
      ]
     },
     "execution_count": 9,
     "metadata": {},
     "output_type": "execute_result"
    }
   ],
   "source": [
    "H = H_V + H_T\n",
    "H.display()"
   ]
  },
  {
   "cell_type": "markdown",
   "metadata": {},
   "source": [
    "## Campos Vectoriales Hamiltonianos $X_T$ y $X_V$\n",
    "Para calcular el flujo usamos el campo vectorial hamiltoniano asociado. Recordemos que tenemos el siguiente isomorfismo ($\\omega^{\\sharp}$ se ve muy feo entonces lo pongo como $\\beta$)\n",
    "$$\n",
    "\\begin{align*}\n",
    "  \\beta \\colon TM & \\longrightarrow T^{*}M \\\\\n",
    "  a_\\alpha \\frac{\\partial}{\\partial q_\\alpha} +  b_\\alpha \\frac{\\partial}{\\partial p_\\alpha} & \\longmapsto \n",
    "  -b_\\alpha dq_\\alpha + a_\\alpha dp_\\alpha\n",
    "\\end{align*}\n",
    "$$\n",
    "el cual es facilmente invertible para que nos de la conexión entre los diferenciales de $H_V$ y $H_T$ con sus respectivos campos vectoriales hamiltonianos, los cuales después usaremos para obtener los flows de cada uno.\n",
    "$$\n",
    "\\begin{align*}\n",
    "  \\beta^{-1} \\colon T^{*}M & \\longrightarrow TM \\\\\n",
    "  a_\\alpha dq_\\alpha + b_\\alpha dp_\\alpha & \\longmapsto b_\\alpha \\frac{\\partial}{\\partial q_\\alpha}- a_\\alpha \\frac{\\partial}{\\partial p_\\alpha}\n",
    "  \\end{align*}\n",
    "$$\n",
    "Pasamos ahora a definir $\\beta^{-1}$ en Sage con el nombre de beta_inverse "
   ]
  },
  {
   "cell_type": "code",
   "execution_count": 10,
   "metadata": {},
   "outputs": [],
   "source": [
    "'''Función que recibe una 1-forma(diferencial) y retorna un campo vectorial. El campo es definido en el frame por \n",
    "    defecto de la variedad M sobre la que está definida la forma.\n",
    "INPUT: (forma diferencial en sagemanifolds) forma diferencial alpha\n",
    "OUTPUT: (campo vectorial en sagemanifolds) campo vectorial X_alpha'''\n",
    "def beta_inverse(alpha):\n",
    "    M = alpha.domain()\n",
    "    e = M.default_frame()\n",
    "    ##hasta donde revisé, no hay una forma más simple de acceder a los componentes de la forma.\n",
    "    ##Me faltó revisar la documentación de campos tensoriales, a lo mejor allá hablan algo de eso.\n",
    "    #OJO: Se asume que la variedad es de dimensión par y el marco por defecto es la base canónica.\n",
    "    n= M.dimension()\n",
    "    X_alpha_q = sum(alpha(e[i+n/2])*e[i] for i in range(0,n/2))\n",
    "    X_alpha_p = sum(-alpha(e[i])*e[i+n/2] for i in range(0,n/2))\n",
    "    X_alpha = X_alpha_q + X_alpha_p\n",
    "    return X_alpha"
   ]
  },
  {
   "cell_type": "markdown",
   "metadata": {},
   "source": [
    "Procedemos a hacer el cálculo del diferencial de los hamiltonianos y se obtienen los campos vectoriales atravez de $\\beta^{-1}$."
   ]
  },
  {
   "cell_type": "code",
   "execution_count": 11,
   "metadata": {},
   "outputs": [],
   "source": [
    "dH_V = H_V.differential()\n",
    "dH_T = H_T.differential()"
   ]
  },
  {
   "cell_type": "code",
   "execution_count": 12,
   "metadata": {},
   "outputs": [
    {
     "data": {
      "text/plain": [
       "dH_V = x/(x^2 + y^2 + z^2)^(3/2) dx + y/(x^2 + y^2 + z^2)^(3/2) dy + z/(x^2 + y^2 + z^2)^(3/2) dz"
      ]
     },
     "execution_count": 12,
     "metadata": {},
     "output_type": "execute_result"
    }
   ],
   "source": [
    "dH_V.display()"
   ]
  },
  {
   "cell_type": "code",
   "execution_count": 13,
   "metadata": {},
   "outputs": [
    {
     "data": {
      "text/plain": [
       "dH_T = px dpx + py dpy + pz dpz"
      ]
     },
     "execution_count": 13,
     "metadata": {},
     "output_type": "execute_result"
    }
   ],
   "source": [
    "dH_T.display()"
   ]
  },
  {
   "cell_type": "code",
   "execution_count": 14,
   "metadata": {},
   "outputs": [
    {
     "data": {
      "text/plain": [
       "<class 'sage.manifolds.differentiable.diff_form_module.DiffFormFreeModule_with_category.element_class'>"
      ]
     },
     "execution_count": 14,
     "metadata": {},
     "output_type": "execute_result"
    }
   ],
   "source": [
    "type(dH_T)"
   ]
  },
  {
   "cell_type": "code",
   "execution_count": 15,
   "metadata": {},
   "outputs": [],
   "source": [
    "X_T = beta_inverse(dH_T)\n",
    "X_V = beta_inverse(dH_V)"
   ]
  },
  {
   "cell_type": "code",
   "execution_count": 16,
   "metadata": {},
   "outputs": [
    {
     "data": {
      "text/plain": [
       "dH_T(d/dpx)*d/dx+dH_T(d/dpy)*d/dy+dH_T(d/dpz)*d/dz+-dH_T(d/dx)*d/dpx+-dH_T(d/dy)*d/dpy+-dH_T(d/dz)*d/dpz = px d/dx + py d/dy + pz d/dz"
      ]
     },
     "execution_count": 16,
     "metadata": {},
     "output_type": "execute_result"
    }
   ],
   "source": [
    "X_T.display()"
   ]
  },
  {
   "cell_type": "code",
   "execution_count": 17,
   "metadata": {},
   "outputs": [
    {
     "data": {
      "text/plain": [
       "dH_V(d/dpx)*d/dx+dH_V(d/dpy)*d/dy+dH_V(d/dpz)*d/dz+-dH_V(d/dx)*d/dpx+-dH_V(d/dy)*d/dpy+-dH_V(d/dz)*d/dpz = -x/(x^2 + y^2 + z^2)^(3/2) d/dpx - y/(x^2 + y^2 + z^2)^(3/2) d/dpy - z/(x^2 + y^2 + z^2)^(3/2) d/dpz"
      ]
     },
     "execution_count": 17,
     "metadata": {},
     "output_type": "execute_result"
    }
   ],
   "source": [
    "X_V.display()"
   ]
  },
  {
   "cell_type": "code",
   "execution_count": 18,
   "metadata": {},
   "outputs": [
    {
     "data": {
      "text/plain": [
       "py"
      ]
     },
     "execution_count": 18,
     "metadata": {},
     "output_type": "execute_result"
    }
   ],
   "source": [
    "X_T[1].expr()"
   ]
  },
  {
   "cell_type": "markdown",
   "metadata": {},
   "source": [
    "Aplicando las ecuaciones de Hamilton podemos dar una respuesta general para la forma de los flows:\n",
    "$$\\psi_{H_T}^{\\Delta t} (q,p) = \\bigg(q + \\frac{\\partial H_T}{\\partial p}(p) \\Delta t, p \\bigg) $$\n",
    "$$\\psi_{H_V}^{\\Delta t} (q,p) = \\bigg(q , p  -\\frac{\\partial H_V}{\\partial q}(q)  \\Delta t\\bigg) $$\n",
    "Donde las derivadas parciales (con signo incluido) de los Hamiltonianos provienen de las componentes no nulas de sus campos vectoriales."
   ]
  },
  {
   "cell_type": "markdown",
   "metadata": {},
   "source": [
    "# Método Euler simpléctico y definición de los flujos en Sage\n",
    "Este esquema de aproximación consiste en sencillamente combinar los flujos de $H_V$ y $H_T$ y es de primer orden [see, Munro]. Para nuestra suerte los flujos siempre se pueden obtener sin tener que resolver numéricamente (este era el punto de escoger T(p) + H(q)), pasamos ahora a escribirlos usando las componentes de los campos vectoriales:\n",
    "\n",
    "$$\\psi_{H_T}^{\\Delta t} (q,p) = (x + p_x\\Delta t, y + p_y\\Delta t, z + p_z\\Delta t , p_x, p_y,p_z) $$\n",
    "Este siempre tendrá esta forma si $H_T$ dependen solo de $p$ y además es una forma cuadrática diagonal.\n",
    "$$\\psi_{H_V}^{\\Delta t} (q,p) = (x, y,z, p_x - \\frac{x\\Delta t}{(x^2+y^2+z^2)^{3/2}}, p_y - \\frac{y\\Delta t}{(x^2+y^2+z^2)^{3/2}} , p_z - \\frac{z\\Delta t}{(x^2+y^2+z^2)^{3/2}}) $$\n",
    "Lo siguiente es componerlos, aunque primero debemos de definirlos en Sage para componerlos de forma computacional.\n",
    "\n"
   ]
  },
  {
   "cell_type": "code",
   "execution_count": 19,
   "metadata": {},
   "outputs": [
    {
     "data": {
      "text/plain": [
       "M --> M\n",
       "   (x, y, z, px, py, pz) |--> (dt*px + x, dt*py + y, dt*pz + z, px, py, pz)"
      ]
     },
     "execution_count": 19,
     "metadata": {},
     "output_type": "execute_result"
    }
   ],
   "source": [
    "dt = var('dt', latex_name = r'\\Delta t')\n",
    "Psi_T = M.diff_map(M, [x + X_T[0].expr() * dt , y + X_T[1].expr() * dt, z + X_T[2].expr()* dt ,\n",
    "                       px , py , pz], latex_name=r\"\\psi_{H_T}^{\\Delta t}\")\n",
    "Psi_T.display()"
   ]
  },
  {
   "cell_type": "code",
   "execution_count": 20,
   "metadata": {},
   "outputs": [
    {
     "data": {
      "text/plain": [
       "M --> M\n",
       "   (x, y, z, px, py, pz) |--> (x, y, z, px - dt*x/(x^2 + y^2 + z^2)^(3/2), py - dt*y/(x^2 + y^2 + z^2)^(3/2), pz - dt*z/(x^2 + y^2 + z^2)^(3/2))"
      ]
     },
     "execution_count": 20,
     "metadata": {},
     "output_type": "execute_result"
    }
   ],
   "source": [
    "Psi_V = M.diff_map(M, [x, y, z,  X_V[3].expr()*dt + px,\n",
    "                       X_V[4].expr()*dt + py, X_V[5].expr()*dt + pz], \n",
    "                       latex_name=r\"\\psi_{H_V}^{\\Delta t}\")\n",
    "Psi_V.display()"
   ]
  },
  {
   "cell_type": "markdown",
   "metadata": {},
   "source": [
    "### Efecto individual de los flujos\n",
    "Antes de proceder con el método de Euler y la composición nos detenemos a analizar como se comportan por separado estos flujos, ya que solamente actuan sobre regiones de dimensión 2 podemos visualizarlos de forma sencilla. Especificamente lo que vamos a hacer es obtener la gráfica de los campos vectoriales. "
   ]
  },
  {
   "cell_type": "code",
   "execution_count": 21,
   "metadata": {},
   "outputs": [
    {
     "ename": "SyntaxError",
     "evalue": "invalid syntax (<ipython-input-21-c21165b47fd2>, line 3)",
     "output_type": "error",
     "traceback": [
      "\u001b[0;36m  File \u001b[0;32m\"<ipython-input-21-c21165b47fd2>\"\u001b[0;36m, line \u001b[0;32m3\u001b[0m\n\u001b[0;31m    M_p.std<px, py> = M.chart()\u001b[0m\n\u001b[0m                    ^\u001b[0m\n\u001b[0;31mSyntaxError\u001b[0m\u001b[0;31m:\u001b[0m invalid syntax\n"
     ]
    }
   ],
   "source": [
    "#Para visualizarlos en Sage es necesaria la introducción de variedades adicionales\n",
    "M_p = Manifold(n, name='M_p', latex_name=r'M_p') #restringuimos al plano px,py\n",
    "M_p.std<px, py> = M.chart()\n",
    "v = M.vector_field(X_)\n"
   ]
  },
  {
   "cell_type": "markdown",
   "metadata": {},
   "source": [
    "### Composición\n",
    "En principio no hay un motivo para preferir un orden particular de composición en el método de Euler, lo único de lo que podemos estar seguros es de que en general no conmutan ya que las exponenciales de las que provienen los flujos no lo hacen [see, Munro]. Por este motivo exploramos ambos ordenes."
   ]
  },
  {
   "cell_type": "code",
   "execution_count": 22,
   "metadata": {},
   "outputs": [
    {
     "data": {
      "text/plain": [
       "M --> M\n",
       "   (x, y, z, px, py, pz) |--> (-(dt^2*x - (dt*px*x^2 + x^3 + (dt*px + x)*y^2 + (dt*px + x)*z^2)*sqrt(x^2 + y^2 + z^2))/(x^2 + y^2 + z^2)^(3/2), -(dt^2*y - (dt*py*x^2 + dt*py*y^2 + x^2*y + y^3 + (dt*py + y)*z^2)*sqrt(x^2 + y^2 + z^2))/(x^2 + y^2 + z^2)^(3/2), -(dt^2*z - (dt*pz*x^2 + dt*pz*y^2 + dt*pz*z^2 + z^3 + (x^2 + y^2)*z)*sqrt(x^2 + y^2 + z^2))/(x^2 + y^2 + z^2)^(3/2), -(dt*x - (px*x^2 + px*y^2 + px*z^2)*sqrt(x^2 + y^2 + z^2))/(x^2 + y^2 + z^2)^(3/2), -(dt*y - (py*x^2 + py*y^2 + py*z^2)*sqrt(x^2 + y^2 + z^2))/(x^2 + y^2 + z^2)^(3/2), -(dt*z - (pz*x^2 + pz*y^2 + pz*z^2)*sqrt(x^2 + y^2 + z^2))/(x^2 + y^2 + z^2)^(3/2))"
      ]
     },
     "execution_count": 22,
     "metadata": {},
     "output_type": "execute_result"
    }
   ],
   "source": [
    "Psi1 = Psi_T * Psi_V\n",
    "Psi1.display(std)"
   ]
  },
  {
   "cell_type": "code",
   "execution_count": 23,
   "metadata": {},
   "outputs": [
    {
     "data": {
      "text/plain": [
       "M --> M\n",
       "   (x, y, z, px, py, pz) |--> (dt*px + x, dt*py + y, dt*pz + z, -(dt^2*px + dt*x - (dt^2*px^3 + dt^2*px*py^2 + dt^2*px*pz^2 + 2*dt*px^2*x + 2*dt*px*py*y + 2*dt*px*pz*z + px*x^2 + px*y^2 + px*z^2)*sqrt(dt^2*px^2 + dt^2*py^2 + dt^2*pz^2 + 2*dt*px*x + 2*dt*py*y + 2*dt*pz*z + x^2 + y^2 + z^2))/(dt^2*px^2 + dt^2*py^2 + dt^2*pz^2 + 2*dt*px*x + 2*dt*py*y + 2*dt*pz*z + x^2 + y^2 + z^2)^(3/2), -(dt^2*py + dt*y - (dt^2*px^2*py + dt^2*py^3 + dt^2*py*pz^2 + 2*dt*px*py*x + 2*dt*py^2*y + 2*dt*py*pz*z + py*x^2 + py*y^2 + py*z^2)*sqrt(dt^2*px^2 + dt^2*py^2 + dt^2*pz^2 + 2*dt*px*x + 2*dt*py*y + 2*dt*pz*z + x^2 + y^2 + z^2))/(dt^2*px^2 + dt^2*py^2 + dt^2*pz^2 + 2*dt*px*x + 2*dt*py*y + 2*dt*pz*z + x^2 + y^2 + z^2)^(3/2), -(dt^2*pz + dt*z - (dt^2*pz^3 + 2*dt*px*pz*x + 2*dt*py*pz*y + 2*dt*pz^2*z + pz*x^2 + pz*y^2 + pz*z^2 + (dt^2*px^2 + dt^2*py^2)*pz)*sqrt(dt^2*px^2 + dt^2*py^2 + dt^2*pz^2 + 2*dt*px*x + 2*dt*py*y + 2*dt*pz*z + x^2 + y^2 + z^2))/(dt^2*px^2 + dt^2*py^2 + dt^2*pz^2 + 2*dt*px*x + 2*dt*py*y + 2*dt*pz*z + x^2 + y^2 + z^2)^(3/2))"
      ]
     },
     "execution_count": 23,
     "metadata": {},
     "output_type": "execute_result"
    }
   ],
   "source": [
    "Psi2 = Psi_V * Psi_T\n",
    "Psi2.display(std)"
   ]
  },
  {
   "cell_type": "markdown",
   "metadata": {},
   "source": [
    "Se ve que las expresiones obtenidas para $\\Psi_1=\\Psi_{H_V}^{\\Delta t}  \\Psi_{H_T}^{\\Delta t}$  y $\\Psi_2=\\Psi_{H_T}^{\\Delta t}  \\Psi_{H_V}^{\\Delta t}$ son apreciablemente diferentes aunque de primer orden, Munro solo considera $\\Psi_1$."
   ]
  },
  {
   "cell_type": "markdown",
   "metadata": {},
   "source": [
    "Ahora podemos proceder a introducir el método numérico como tal. Por practicidad y para futuras extensiones, es útil introducir una función que construya con fast_callable todas las funciones que necesitamos para usar el método numérico."
   ]
  },
  {
   "cell_type": "code",
   "execution_count": 24,
   "metadata": {},
   "outputs": [],
   "source": [
    "'''Función que recibe un mapa diferenciable y produce un grupo de funciones fast_callable que lo evaluan en \n",
    "coordenadas.'''\n",
    "def get_num_funcs(Psi):\n",
    "    expressions = Psi.expr()\n",
    "    psi_x = fast_callable(expressions[0], vars=[x,y,z, px, py, pz, dt])\n",
    "    psi_y = fast_callable(expressions[1], vars=[x,y,z, px, py, pz, dt])\n",
    "    psi_z = fast_callable(expressions[2], vars=[x,y,z, px, py, pz, dt])\n",
    "    psi_px = fast_callable(expressions[3], vars=[x,y,z, px, py, pz, dt])\n",
    "    psi_py = fast_callable(expressions[4], vars=[x,y,z, px, py, pz, dt])\n",
    "    psi_pz = fast_callable(expressions[5], vars=[x,y,z, px, py, pz,  dt])\n",
    "    return psi_x, psi_y,psi_z, psi_px, psi_py,psi_pz"
   ]
  },
  {
   "cell_type": "code",
   "execution_count": 25,
   "metadata": {},
   "outputs": [],
   "source": [
    "#vamos a necesitar numpy y matplotlib para lo que sigue\n",
    "import numpy as np\n",
    "import matplotlib.pyplot as plt"
   ]
  },
  {
   "cell_type": "markdown",
   "metadata": {},
   "source": [
    "## Resultados para $\\Psi_1$"
   ]
  },
  {
   "cell_type": "code",
   "execution_count": 125,
   "metadata": {},
   "outputs": [],
   "source": [
    "#definimos donde vamos a guardar la información  \n",
    "N = 1000 #pasos\n",
    "h = 0.001 #tamaño del paso\n",
    "data_t = np.zeros(N,)\n",
    "data_x = np.zeros(N,)\n",
    "data_y = np.zeros(N,) #esto se puede abreviar con un solo array más grande\n",
    "data_z = np.zeros(N,) \n",
    "data_px = np.zeros(N,)\n",
    "data_py = np.zeros(N,)\n",
    "data_pz = np.zeros(N,)\n",
    "data_energy = np.zeros(N,)\n",
    "data_L = np.zeros(N,)\n",
    "x0, y0 ,z0, px0, py0,pz0 = 0.3,0,0,0,1,0 #condiciones iniciales\n",
    "xi0 = M.point((x0,y0,z0,px0,py0,pz0))\n",
    "E0 = H(xi0) #energía inicial\n",
    "psi_x, psi_y,psi_z, psi_px, psi_py,psi_pz = get_num_funcs(Psi1) "
   ]
  },
  {
   "cell_type": "code",
   "execution_count": 126,
   "metadata": {},
   "outputs": [
    {
     "data": {
      "text/plain": [
       "-2.833333333333333"
      ]
     },
     "execution_count": 126,
     "metadata": {},
     "output_type": "execute_result"
    }
   ],
   "source": [
    "#Mostramos el valor de la energía inicial\n",
    "E0"
   ]
  },
  {
   "cell_type": "code",
   "execution_count": 127,
   "metadata": {},
   "outputs": [],
   "source": [
    "#añadimos las condiciones iniciales al principio de cada data array\n",
    "data_x[0] = x0\n",
    "data_y[0] = y0\n",
    "data_z[0] = z0\n",
    "data_px[0] = px0\n",
    "data_py[0] = py0\n",
    "data_pz[0] = pz0\n",
    "data_energy[0] = E0\n",
    "data_L[0] = py0*x0 -px0*y0"
   ]
  },
  {
   "cell_type": "code",
   "execution_count": 128,
   "metadata": {},
   "outputs": [],
   "source": [
    "for k in range(1,N): #quizá esto no es la mejor forma de hacer esto pero ajá\n",
    "    x_k = data_x[k-1]\n",
    "    y_k = data_y[k-1]\n",
    "    z_k = data_z[k-1]\n",
    "    px_k = data_px[k-1]\n",
    "    py_k = data_py[k-1]\n",
    "    pz_k = data_pz[k-1]\n",
    "    \n",
    "    data_t[k] = k*h \n",
    "    data_x[k] = psi_x(x_k, y_k, z_k ,px_k, py_k,pz_k ,  h)\n",
    "    data_y[k] = psi_y(x_k, y_k, z_k ,px_k, py_k,pz_k ,  h)\n",
    "    data_z[k] = psi_z(x_k, y_k, z_k ,px_k, py_k,pz_k ,  h)\n",
    "    data_px[k] = psi_px(x_k, y_k, z_k ,px_k, py_k,pz_k ,  h)\n",
    "    data_py[k] = psi_py(x_k, y_k, z_k ,px_k, py_k,pz_k ,  h)\n",
    "    data_pz[k] = psi_pz(x_k, y_k, z_k ,px_k, py_k,pz_k ,  h)\n",
    "    #hay un problema con las conversiones y no me deja llamar directamente la función H en manifolds\n",
    "    data_energy[k] = 0.5*(data_px[k]**2 + data_py[k]**2 + data_pz[k]**2) - 1/np.sqrt(data_x[k]**2 + data_y[k]**2 + data_z[k]**2)\n",
    "    data_L[k] = data_x[k]*data_py[k] - data_y[k]*data_px[k]"
   ]
  },
  {
   "cell_type": "code",
   "execution_count": 30,
   "metadata": {},
   "outputs": [
    {
     "data": {
      "text/plain": [
       "Text(0.5, 0, '$z$')"
      ]
     },
     "execution_count": 30,
     "metadata": {},
     "output_type": "execute_result"
    },
    {
     "data": {
      "image/png": "[encoded data removed]",
      "text/plain": [
       "<Figure size 432x288 with 1 Axes>"
      ]
     },
     "metadata": {
      "needs_background": "light"
     },
     "output_type": "display_data"
    }
   ],
   "source": [
    "#plt.plot(data_x, data_y)\n",
    "#plt.xlabel(r\"$x$\")\n",
    "#plt.ylabel(r\"$y$\")\n",
    "#plt.title(r\"Plano $xy$\")\n",
    "\n",
    "from mpl_toolkits.mplot3d import Axes3D\n",
    "fig = plt.figure()\n",
    "ax = fig.add_subplot(111, projection='3d')\n",
    "#ax.axes.set_xlim3d(-.2, .1)\n",
    "#ax.axes.set_ylim3d(0, .0001) \n",
    "#ax.axes.set_zlim3d(-1, 1) \n",
    "ax.plot3D(data_x, data_y,data_z,label='Solución Integrador')\n",
    "ax.set_xlabel('$x$')\n",
    "ax.set_ylabel('$y$')\n",
    "ax.set_zlabel('$z$')"
   ]
  },
  {
   "cell_type": "code",
   "execution_count": 31,
   "metadata": {},
   "outputs": [
    {
     "data": {
      "text/plain": [
       "Text(0.5, 1.0, 'Energía en función del tiempo')"
      ]
     },
     "execution_count": 31,
     "metadata": {},
     "output_type": "execute_result"
    },
    {
     "data": {
      "image/png": "[encoded data removed]",
      "text/plain": [
       "<Figure size 432x288 with 1 Axes>"
      ]
     },
     "metadata": {
      "needs_background": "light"
     },
     "output_type": "display_data"
    }
   ],
   "source": [
    "plt.plot(data_t, data_energy)\n",
    "plt.plot(data_t, np.ones(N,)*data_energy[0])\n",
    "plt.xlabel(r\"$t$\")\n",
    "plt.ylabel(r\"$E$\")\n",
    "plt.title(\"Energía en función del tiempo\")"
   ]
  },
  {
   "cell_type": "markdown",
   "metadata": {},
   "source": [
    "Se guardan los valores usando este método:"
   ]
  },
  {
   "cell_type": "code",
   "execution_count": null,
   "metadata": {},
   "outputs": [],
   "source": [
    "data_x_e = data_x\n",
    "data_y_e = data_y\n",
    "data_z_e = data_z\n",
    "\n",
    "data_px_e = data_px\n",
    "data_py_e = data_py\n",
    "data_pz_e = data_pz"
   ]
  },
  {
   "cell_type": "markdown",
   "metadata": {},
   "source": [
    "## Resultados para $\\Psi_2$"
   ]
  },
  {
   "cell_type": "code",
   "execution_count": 32,
   "metadata": {},
   "outputs": [],
   "source": [
    "#definimos donde vamos a guardar la información  \n",
    "N = 1000 #pasos\n",
    "h = 0.001 #tamaño del paso\n",
    "data_t = np.zeros(N,)\n",
    "data_x = np.zeros(N,)\n",
    "data_y = np.zeros(N,) #esto se puede abreviar con un solo array más grande\n",
    "data_z = np.zeros(N,) \n",
    "data_px = np.zeros(N,)\n",
    "data_py = np.zeros(N,)\n",
    "data_pz = np.zeros(N,)\n",
    "data_energy = np.zeros(N,)\n",
    "data_L = np.zeros(N,)\n",
    "x0, y0 ,z0, px0, py0,pz0 = 0.3,0,0,0,1,0 #condiciones iniciales\n",
    "xi0 = M.point((x0,y0,z0,px0,py0,pz0))\n",
    "E0 = H(xi0) #energía inicial\n",
    "psi_x, psi_y,psi_z, psi_px, psi_py,psi_pz = get_num_funcs(Psi2) "
   ]
  },
  {
   "cell_type": "code",
   "execution_count": 33,
   "metadata": {},
   "outputs": [
    {
     "data": {
      "text/plain": [
       "-2.833333333333333"
      ]
     },
     "execution_count": 33,
     "metadata": {},
     "output_type": "execute_result"
    }
   ],
   "source": [
    "#Mostramos el valor de la energía inicial\n",
    "E0"
   ]
  },
  {
   "cell_type": "code",
   "execution_count": 34,
   "metadata": {},
   "outputs": [],
   "source": [
    "#añadimos las condiciones iniciales al principio de cada data array\n",
    "data_x[0] = x0\n",
    "data_y[0] = y0\n",
    "data_z[0] = z0\n",
    "data_px[0] = px0\n",
    "data_py[0] = py0\n",
    "data_pz[0] = pz0\n",
    "data_energy[0] = E0\n",
    "data_L[0] = py0*x0 -px0*y0"
   ]
  },
  {
   "cell_type": "code",
   "execution_count": 35,
   "metadata": {},
   "outputs": [],
   "source": [
    "for k in range(1,N): #quizá esto no es la mejor forma de hacer esto pero ajá\n",
    "    x_k = data_x[k-1]\n",
    "    y_k = data_y[k-1]\n",
    "    z_k = data_z[k-1]\n",
    "    px_k = data_px[k-1]\n",
    "    py_k = data_py[k-1]\n",
    "    pz_k = data_pz[k-1]\n",
    "    \n",
    "    data_t[k] = k*h \n",
    "    data_x[k] = psi_x(x_k, y_k, z_k ,px_k, py_k,pz_k ,  h)\n",
    "    data_y[k] = psi_y(x_k, y_k, z_k ,px_k, py_k,pz_k ,  h)\n",
    "    data_z[k] = psi_z(x_k, y_k, z_k ,px_k, py_k,pz_k ,  h)\n",
    "    data_px[k] = psi_px(x_k, y_k, z_k ,px_k, py_k,pz_k ,  h)\n",
    "    data_py[k] = psi_py(x_k, y_k, z_k ,px_k, py_k,pz_k ,  h)\n",
    "    data_pz[k] = psi_pz(x_k, y_k, z_k ,px_k, py_k,pz_k ,  h)\n",
    "    #hay un problema con las conversiones y no me deja llamar directamente la función H en manifolds\n",
    "    data_energy[k] = 0.5*(data_px[k]**2 + data_py[k]**2 + data_pz[k]**2) - 1/np.sqrt(data_x[k]**2 + data_y[k]**2 + data_z[k]**2)\n",
    "    data_L[k] = data_x[k]*data_py[k] - data_y[k]*data_px[k]"
   ]
  },
  {
   "cell_type": "code",
   "execution_count": 36,
   "metadata": {},
   "outputs": [
    {
     "data": {
      "text/plain": [
       "Text(0.5, 0, '$z$')"
      ]
     },
     "execution_count": 36,
     "metadata": {},
     "output_type": "execute_result"
    },
    {
     "data": {
      "image/png": "[encoded data removed]",
      "text/plain": [
       "<Figure size 432x288 with 1 Axes>"
      ]
     },
     "metadata": {
      "needs_background": "light"
     },
     "output_type": "display_data"
    }
   ],
   "source": [
    "#plt.plot(data_x, data_y)\n",
    "#plt.xlabel(r\"$x$\")\n",
    "#plt.ylabel(r\"$y$\")\n",
    "#plt.title(r\"Plano $xy$\")\n",
    "\n",
    "from mpl_toolkits.mplot3d import Axes3D\n",
    "fig = plt.figure()\n",
    "ax = fig.add_subplot(111, projection='3d')\n",
    "#ax.axes.set_xlim3d(-.2, .1)\n",
    "#ax.axes.set_ylim3d(0, .0001) \n",
    "#ax.axes.set_zlim3d(-1, 1) \n",
    "ax.plot3D(data_x, data_y,data_z,label='Solución Integrador')\n",
    "ax.set_xlabel('$x$')\n",
    "ax.set_ylabel('$y$')\n",
    "ax.set_zlabel('$z$')"
   ]
  },
  {
   "cell_type": "markdown",
   "metadata": {},
   "source": [
    "Vemos que cambiar el orden de integración sí tiene un efecto sobre el comportamiento, ahora la oscilación de la energía está desfazada en medio periodo. \n",
    "\n",
    "Nota para Federico: toca mirar bien los motivos de la oscilación para poder analizar mejor porque se invierte."
   ]
  },
  {
   "cell_type": "code",
   "execution_count": 37,
   "metadata": {},
   "outputs": [
    {
     "data": {
      "text/plain": [
       "Text(0.5, 1.0, 'Energía en función del tiempo')"
      ]
     },
     "execution_count": 37,
     "metadata": {},
     "output_type": "execute_result"
    },
    {
     "data": {
      "image/png": "[encoded data removed]",
      "text/plain": [
       "<Figure size 432x288 with 1 Axes>"
      ]
     },
     "metadata": {
      "needs_background": "light"
     },
     "output_type": "display_data"
    }
   ],
   "source": [
    "plt.plot(data_t, data_energy)\n",
    "plt.plot(data_t, np.ones(N,)*data_energy[0])\n",
    "plt.xlabel(r\"$t$\")\n",
    "plt.ylabel(r\"$E$\")\n",
    "plt.title(\"Energía en función del tiempo\")"
   ]
  },
  {
   "cell_type": "code",
   "execution_count": 38,
   "metadata": {},
   "outputs": [
    {
     "data": {
      "text/plain": [
       "[<matplotlib.lines.Line2D object at 0x6fff4961c1d0>]"
      ]
     },
     "execution_count": 38,
     "metadata": {},
     "output_type": "execute_result"
    },
    {
     "data": {
      "image/png": "[encoded data removed]",
      "text/plain": [
       "<Figure size 432x288 with 1 Axes>"
      ]
     },
     "metadata": {
      "needs_background": "light"
     },
     "output_type": "display_data"
    }
   ],
   "source": [
    "plt.plot(data_t, data_L)"
   ]
  },
  {
   "cell_type": "markdown",
   "metadata": {
    "scrolled": true
   },
   "source": [
    "# Stormer Verlet\n",
    "$$\n",
    "  \\exp \\left( \\frac{1}{2} \\Delta t X_V \\right) \\exp \\left( \\Delta t X_T \\right)\\exp \\left( \\frac{1}{2} \\Delta t X_V \\right)\n",
    "$$\n",
    "Para la introducción de este debemos de modificar ligeramente los flujos para dar cuenta de las constantes introducidas."
   ]
  },
  {
   "cell_type": "code",
   "execution_count": 39,
   "metadata": {},
   "outputs": [
    {
     "data": {
      "text/plain": [
       "M --> M\n",
       "   (x, y, z, px, py, pz) |--> (dt*px + x, dt*py + y, dt*pz + z, px, py, pz)"
      ]
     },
     "execution_count": 39,
     "metadata": {},
     "output_type": "execute_result"
    }
   ],
   "source": [
    "dt = var('dt', latex_name = r'\\Delta t')\n",
    "Psi_T = M.diff_map(M, [x + X_T[0].expr() * dt , y + X_T[1].expr() * dt, z + X_T[2].expr()* dt ,\n",
    "                       px , py , pz], latex_name=r\"\\psi_{H_T}^{\\Delta t}\")\n",
    "Psi_T.display()"
   ]
  },
  {
   "cell_type": "code",
   "execution_count": 40,
   "metadata": {},
   "outputs": [
    {
     "data": {
      "text/plain": [
       "M --> M\n",
       "   (x, y, z, px, py, pz) |--> (x, y, z, px - 1/2*dt*x/(x^2 + y^2 + z^2)^(3/2), py - 1/2*dt*y/(x^2 + y^2 + z^2)^(3/2), pz - 1/2*dt*z/(x^2 + y^2 + z^2)^(3/2))"
      ]
     },
     "execution_count": 40,
     "metadata": {},
     "output_type": "execute_result"
    }
   ],
   "source": [
    "Psi_V_modified = M.diff_map(M, [x, y, z,  X_V[3].expr()*dt/2 + px, X_V[4].expr()*dt/2 + py, X_V[5].expr()*dt/2 + pz], \n",
    "                       latex_name=r\"\\psi_{H_V}^{\\Delta t}\")\n",
    "Psi_V_modified.display()"
   ]
  },
  {
   "cell_type": "code",
   "execution_count": 41,
   "metadata": {},
   "outputs": [],
   "source": [
    "storm_verlet_integrator = Psi_V_modified * Psi_T * Psi_V_modified"
   ]
  },
  {
   "cell_type": "code",
   "execution_count": 42,
   "metadata": {},
   "outputs": [],
   "source": [
    "#definimos las expresiones mediante fast_callable para que podamos evaluar no solo los puntos sino también dt\n",
    "expressions = storm_verlet_integrator.expr()\n",
    "psi_x = fast_callable(expressions[0], vars=[x,y,z, px, py, pz, dt])\n",
    "psi_y = fast_callable(expressions[1], vars=[x,y,z, px, py, pz, dt])\n",
    "psi_z = fast_callable(expressions[2], vars=[x,y,z, px, py, pz, dt])\n",
    "psi_px = fast_callable(expressions[3], vars=[x,y,z, px, py, pz, dt])\n",
    "psi_py = fast_callable(expressions[4], vars=[x,y,z, px, py, pz, dt])\n",
    "psi_pz = fast_callable(expressions[5], vars=[x,y,z, px, py, pz,  dt])"
   ]
  },
  {
   "cell_type": "code",
   "execution_count": 43,
   "metadata": {},
   "outputs": [],
   "source": [
    "#vamos a necesitar numpy y matplotlib para lo que sigue\n",
    "import numpy as np\n",
    "import matplotlib.pyplot as plt"
   ]
  },
  {
   "cell_type": "code",
   "execution_count": 44,
   "metadata": {},
   "outputs": [],
   "source": [
    "#definimos donde vamos a guardar la información \n",
    "\n",
    "N = 1000 #pasos\n",
    "h = 0.001 #tamaño del paso\n",
    "data_t = np.zeros(N,)\n",
    "data_x = np.zeros(N,)\n",
    "data_y = np.zeros(N,) #esto se puede abreviar con un solo array más grande\n",
    "data_z = np.zeros(N,)\n",
    "data_px = np.zeros(N,)\n",
    "data_py = np.zeros(N,)\n",
    "data_pz = np.zeros(N,)\n",
    "data_energy = np.zeros(N,)\n",
    "data_L = np.zeros(N,)\n",
    "x0, y0, z0, px0, py0,pz0 = 0.3,0,0,0,1,0 #condiciones iniciales\n",
    "xi0 = M.point((x0,y0,z0,px0,py0,pz0))\n",
    "E0 = H(xi0) #energía inicial\n"
   ]
  },
  {
   "cell_type": "code",
   "execution_count": 45,
   "metadata": {},
   "outputs": [
    {
     "data": {
      "text/plain": [
       "-2.833333333333333"
      ]
     },
     "execution_count": 45,
     "metadata": {},
     "output_type": "execute_result"
    }
   ],
   "source": [
    "E0"
   ]
  },
  {
   "cell_type": "code",
   "execution_count": 46,
   "metadata": {},
   "outputs": [],
   "source": [
    "#añadimos las condiciones iniciales al principio de cada data array\n",
    "data_x[0] = x0\n",
    "data_y[0] = y0\n",
    "data_z[0] = z0\n",
    "data_px[0] = px0\n",
    "data_py[0] = py0\n",
    "data_pz[0] = pz0\n",
    "data_energy[0] = E0\n",
    "data_L[0] = x0*py0 - y0*px0"
   ]
  },
  {
   "cell_type": "code",
   "execution_count": 47,
   "metadata": {},
   "outputs": [],
   "source": [
    "for k in range(1,N): #quizá esto no es la mejor forma de hacer esto pero ajá\n",
    "    x_k = data_x[k-1]\n",
    "    y_k = data_y[k-1]\n",
    "    z_k = data_z[k-1]\n",
    "    px_k = data_px[k-1]\n",
    "    py_k = data_py[k-1]\n",
    "    pz_k = data_pz[k-1]\n",
    "    \n",
    "    data_t[k]  = k*h \n",
    "    data_x[k]  = psi_x(x_k, y_k, z_k ,px_k, py_k,pz_k ,  h)\n",
    "    data_y[k]  = psi_y(x_k, y_k, z_k ,px_k, py_k,pz_k ,  h)\n",
    "    data_z[k]  = psi_z(x_k, y_k, z_k ,px_k, py_k,pz_k ,  h)\n",
    "    data_px[k] = psi_px(x_k, y_k, z_k ,px_k, py_k,pz_k , h)\n",
    "    data_py[k] = psi_py(x_k, y_k, z_k ,px_k, py_k,pz_k , h)\n",
    "    data_pz[k] = psi_pz(x_k, y_k, z_k ,px_k, py_k,pz_k , h)\n",
    "    #hay un problema con las conversiones y no me deja llamar directamente la función H en manifolds\n",
    "    data_energy[k] = float(0.5*(data_px[k]**2 + data_py[k]**2 + data_pz[k]**2 ) - 1/np.sqrt(data_x[k]**2 + data_y[k]**2 + data_z[k]**2))\n",
    "    data_L[k] = float(data_x[k]*data_py[k] - data_y[k]*data_px[k])"
   ]
  },
  {
   "cell_type": "code",
   "execution_count": 48,
   "metadata": {},
   "outputs": [
    {
     "data": {
      "text/plain": [
       "Text(0.5, 0, '$z$')"
      ]
     },
     "execution_count": 48,
     "metadata": {},
     "output_type": "execute_result"
    },
    {
     "data": {
      "image/png": "[encoded data removed]",
      "text/plain": [
       "<Figure size 432x288 with 1 Axes>"
      ]
     },
     "metadata": {
      "needs_background": "light"
     },
     "output_type": "display_data"
    }
   ],
   "source": [
    "#plt.plot(data_x,data_y)\n",
    "from mpl_toolkits.mplot3d import Axes3D\n",
    "fig = plt.figure()\n",
    "ax = fig.add_subplot(111, projection='3d')\n",
    "#ax.axes.set_xlim3d(-.2, .1)\n",
    "#ax.axes.set_ylim3d(0, .0001) \n",
    "#ax.axes.set_zlim3d(-1, 1) \n",
    "ax.plot3D(data_x, data_y,data_z,label='Solución Integrador')\n",
    "ax.set_xlabel('$x$')\n",
    "ax.set_ylabel('$y$')\n",
    "ax.set_zlabel('$z$')"
   ]
  },
  {
   "cell_type": "code",
   "execution_count": 49,
   "metadata": {},
   "outputs": [
    {
     "data": {
      "text/plain": [
       "[<matplotlib.lines.Line2D object at 0x6fff48cdce10>]"
      ]
     },
     "execution_count": 49,
     "metadata": {},
     "output_type": "execute_result"
    },
    {
     "data": {
      "image/png": "[encoded data removed]",
      "text/plain": [
       "<Figure size 432x288 with 1 Axes>"
      ]
     },
     "metadata": {
      "needs_background": "light"
     },
     "output_type": "display_data"
    }
   ],
   "source": [
    "plt.plot(data_t, data_energy)"
   ]
  },
  {
   "cell_type": "code",
   "execution_count": 50,
   "metadata": {},
   "outputs": [
    {
     "data": {
      "text/plain": [
       "[<matplotlib.lines.Line2D object at 0x6fff48bdce10>]"
      ]
     },
     "execution_count": 50,
     "metadata": {},
     "output_type": "execute_result"
    },
    {
     "data": {
      "image/png": "[encoded data removed]",
      "text/plain": [
       "<Figure size 432x288 with 1 Axes>"
      ]
     },
     "metadata": {
      "needs_background": "light"
     },
     "output_type": "display_data"
    }
   ],
   "source": [
    "plt.plot(data_t, data_energy - np.ones(N,)*data_energy[0])"
   ]
  },
  {
   "cell_type": "code",
   "execution_count": 51,
   "metadata": {},
   "outputs": [
    {
     "data": {
      "text/plain": [
       "<class 'numpy.float64'>"
      ]
     },
     "execution_count": 51,
     "metadata": {},
     "output_type": "execute_result"
    }
   ],
   "source": [
    "type(data_energy[0])"
   ]
  },
  {
   "cell_type": "code",
   "execution_count": 52,
   "metadata": {},
   "outputs": [
    {
     "data": {
      "text/plain": [
       "[<matplotlib.lines.Line2D object at 0x6fff48b4af50>]"
      ]
     },
     "execution_count": 52,
     "metadata": {},
     "output_type": "execute_result"
    },
    {
     "data": {
      "image/png": "[encoded data removed]",
      "text/plain": [
       "<Figure size 432x288 with 1 Axes>"
      ]
     },
     "metadata": {
      "needs_background": "light"
     },
     "output_type": "display_data"
    }
   ],
   "source": [
    "plt.plot(data_t, np.ones(N,)*data_L[0]-data_L)"
   ]
  },
  {
   "cell_type": "code",
   "execution_count": 53,
   "metadata": {
    "scrolled": false
   },
   "outputs": [
    {
     "data": {
      "text/plain": [
       "[<matplotlib.lines.Line2D object at 0x6fff48ab2f10>]"
      ]
     },
     "execution_count": 53,
     "metadata": {},
     "output_type": "execute_result"
    },
    {
     "data": {
      "image/png": "[encoded data removed]",
      "text/plain": [
       "<Figure size 432x288 with 1 Axes>"
      ]
     },
     "metadata": {
      "needs_background": "light"
     },
     "output_type": "display_data"
    }
   ],
   "source": [
    "plt.plot(data_t, data_L)"
   ]
  },
  {
   "cell_type": "markdown",
   "metadata": {},
   "source": [
    "# Cambio de carta y simetrías\n",
    "\n",
    "Una vez encontrada la solución del flujo usando el integrador se selecciona otra carta para la variedad, y se estudian las simetrías en esta nueva carta."
   ]
  },
  {
   "cell_type": "markdown",
   "metadata": {},
   "source": [
    "Se introducen las relaciones de transformación entre cartas:"
   ]
  },
  {
   "cell_type": "code",
   "execution_count": 54,
   "metadata": {},
   "outputs": [],
   "source": [
    "U = M.open_subset('U', coord_def={std: x^2+y^2+z^2 > 0})\n",
    "std_U = std.restrict(U)"
   ]
  },
  {
   "cell_type": "code",
   "execution_count": 55,
   "metadata": {},
   "outputs": [
    {
     "data": {
      "text/plain": [
       "Chart (U, (r, th, ph, Pr, Pth, Pph))"
      ]
     },
     "execution_count": 55,
     "metadata": {},
     "output_type": "execute_result"
    }
   ],
   "source": [
    "pol.<r,th,ph,Pr,Pth,Pph> = U.chart(r'r:(0,+oo) th:(0,pi):\\theta ph:(0,2*pi):\\phi Pr:P_r Pth:P_{\\theta} Pph:P_{\\phi}')\n",
    "pol"
   ]
  },
  {
   "cell_type": "code",
   "execution_count": 56,
   "metadata": {},
   "outputs": [
    {
     "name": "stdout",
     "output_type": "stream",
     "text": [
      "Check of the inverse coordinate transformation:\n",
      "  r == r  *passed*\n",
      "  th == arctan2(r*sin(th), r*cos(th))  **failed**\n",
      "  ph == arctan2(r*sin(ph)*sin(th), r*cos(ph)*sin(th))  **failed**\n",
      "  Pr == Pr  *passed*\n",
      "  Pth == Pth  *passed*\n",
      "  Pph == Pph  *passed*\n",
      "  x == x  *passed*\n",
      "  y == y  *passed*\n",
      "  z == z  *passed*\n",
      "  px == px  *passed*\n",
      "  py == py  *passed*\n",
      "  pz == pz  *passed*\n",
      "NB: a failed report can reflect a mere lack of simplification.\n"
     ]
    }
   ],
   "source": [
    "pol_to_std = pol.transition_map(std_U,[r*sin(th)*cos(ph),\n",
    "                       r*sin(th)*sin(ph),\n",
    "                       r*cos(th),\n",
    "                       Pr*cos(ph)*sin(th)-(Pph*sin(ph))/(r*sin(th)) + (Pth*cos(ph)*cos(th))/r,\n",
    "                       Pr*sin(ph)*sin(th)+(Pph*cos(ph)/(r*sin(th)) + (Pth*sin(ph)*cos(th))/r),\n",
    "                       Pr*cos(th) -Pth*sin(th)/r])\n",
    "\n",
    "pol_to_std.set_inverse(sqrt(x^2+y^2+z^2),\n",
    "                arctan2(sqrt(x^2+y^2),z),\n",
    "                arctan2(y,x),\n",
    "                (x*px+y*py+z*pz)/sqrt(x^2+y^2+z^2),\n",
    "                -((y^2+x^2)*pz+(-y*py-x*px)*z)/(sqrt(y^2+x^2)),\n",
    "                ((x*py-y*px)/(x^2 + y^2))*(x^2+y^2+z^2)*sin(arctan2(sqrt(x^2+y^2),z))^2)\n"
   ]
  },
  {
   "cell_type": "code",
   "execution_count": 57,
   "metadata": {},
   "outputs": [
    {
     "data": {
      "text/plain": [
       "x = r*cos(ph)*sin(th)\n",
       "y = r*sin(ph)*sin(th)\n",
       "z = r*cos(th)\n",
       "px = Pr*cos(ph)*sin(th) + Pth*cos(ph)*cos(th)/r - Pph*sin(ph)/(r*sin(th))\n",
       "py = Pr*sin(ph)*sin(th) + Pth*cos(th)*sin(ph)/r + Pph*cos(ph)/(r*sin(th))\n",
       "pz = Pr*cos(th) - Pth*sin(th)/r"
      ]
     },
     "execution_count": 57,
     "metadata": {},
     "output_type": "execute_result"
    }
   ],
   "source": [
    "pol_to_std.display()\n"
   ]
  },
  {
   "cell_type": "code",
   "execution_count": 58,
   "metadata": {},
   "outputs": [
    {
     "data": {
      "text/plain": [
       "r = sqrt(x^2 + y^2 + z^2)\n",
       "th = arctan2(sqrt(x^2 + y^2), z)\n",
       "ph = arctan2(y, x)\n",
       "Pr = (px*x + py*y + pz*z)/sqrt(x^2 + y^2 + z^2)\n",
       "Pth = -((x^2 + y^2)*pz - (px*x + py*y)*z)/sqrt(x^2 + y^2)\n",
       "Pph = py*x - px*y"
      ]
     },
     "execution_count": 58,
     "metadata": {},
     "output_type": "execute_result"
    }
   ],
   "source": [
    "pol_to_std.inverse().display()"
   ]
  },
  {
   "cell_type": "markdown",
   "metadata": {},
   "source": [
    "Con la forma de las transformaciones se puede encontrar la solución para la carta $\\left( U , (r, \\theta, \\phi , P_r , P_{\\theta}, P_{\\Phi}) \\right)$:"
   ]
  },
  {
   "cell_type": "markdown",
   "metadata": {},
   "source": [
    "Para la solución encontrada por el método Euler Simpléctico:"
   ]
  },
  {
   "cell_type": "code",
   "execution_count": null,
   "metadata": {},
   "outputs": [],
   "source": [
    "data_r_e = np.sqrt(data_x_e**2 + data_y_e**2 + data_z_e**2 )\n",
    "data_th_e = np.arctan2(np.sqrt(data_x_e**2 + data_y_e**2),data_z_e)\n",
    "data_ph_e = np.arctan2(data_y_e,data_x_e)\n",
    "\n",
    "data_Pr_e = (data_px_e*data_x_e + data_py_e*data_y_e + data_pz_e*data_z_e )/data_r_e\n",
    "data_Pth_e = ((data_px_e*data_x_e + data_py_e*data_y_e)*data_z_e - (data_x_e**2 + data_y_e**2)*data_pz_e )/(np.sqrt(data_x_e**2 + data_y_e**2))\n",
    "data_Pph_e = data_py_e*data_x_e - data_y_e*data_px_e"
   ]
  },
  {
   "cell_type": "markdown",
   "metadata": {},
   "source": [
    "Para la solución del método Stormer - Verlet:"
   ]
  },
  {
   "cell_type": "code",
   "execution_count": 67,
   "metadata": {},
   "outputs": [],
   "source": [
    "data_r = np.sqrt(data_x**2 + data_y**2 + data_z**2 )\n",
    "data_th = np.arctan2(np.sqrt(data_x**2 + data_y**2),data_z)\n",
    "data_ph = np.arctan2(data_y,data_x)\n",
    "\n",
    "data_Pr = (data_px*data_x + data_py*data_y + data_pz*data_z )/data_r\n",
    "data_Pth = ((data_px*data_x + data_py*data_y)*data_z - (data_x**2 + data_y**2)*data_pz )/(np.sqrt(data_x**2 + data_y**2))\n",
    "data_Pph = data_py*data_x - data_y*data_px"
   ]
  },
  {
   "cell_type": "code",
   "execution_count": 137,
   "metadata": {},
   "outputs": [
    {
     "data": {
      "image/png": "[encoded data removed]",
      "text/plain": [
       "<Figure size 720x720 with 1 Axes>"
      ]
     },
     "metadata": {
      "needs_background": "light"
     },
     "output_type": "display_data"
    }
   ],
   "source": [
    "n=0.1\n",
    "\n",
    "r , Pr = np.meshgrid(np.linspace(0.05,0.3,20),np.linspace(-3,3,10))\n",
    "plt.rcParams['figure.figsize'] = [10, 10]\n",
    "\n",
    "t=1.57079633\n",
    "\n",
    "Pt = 0\n",
    "\n",
    "u = Pr\n",
    "v = -1/(r**2) + (Pt**2)/r**3 + (0.3**2)/((np.sin(t)**2)*r**3)\n",
    "plt.quiver(r,Pr,u,v)\n",
    "plt.plot(data_r,data_Pr,lw=0.2,color='blue',label='SV')\n",
    "plt.plot(data_r_e,data_Pr_e,lw=0.2,color='red',label='ES')\n",
    "plt.xlabel(r'$r$')\n",
    "plt.ylabel(r'$P_r$')\n",
    "plt.xlim(0.05, 0.3)\n",
    "plt.ylim(-3, 3)\n",
    "plt.legend()\n",
    "plt.show()"
   ]
  },
  {
   "cell_type": "code",
   "execution_count": null,
   "metadata": {},
   "outputs": [],
   "source": []
  }
 ],
 "metadata": {
  "kernelspec": {
   "display_name": "SageMath 9.2",
   "language": "sage",
   "name": "sagemath"
  },
  "language_info": {
   "codemirror_mode": {
    "name": "ipython",
    "version": 3
   },
   "file_extension": ".py",
   "mimetype": "text/x-python",
   "name": "python",
   "nbconvert_exporter": "python",
   "pygments_lexer": "ipython3",
   "version": "3.7.7"
  }
 },
 "nbformat": 4,
 "nbformat_minor": 4
}
