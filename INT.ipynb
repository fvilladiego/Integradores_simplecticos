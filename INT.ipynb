{
 "cells": [
  {
   "cell_type": "markdown",
   "metadata": {},
   "source": [
    "# Integración Simpléctica - Método Stormer Verlet"
   ]
  },
  {
   "cell_type": "markdown",
   "metadata": {},
   "source": [
    "Se declara la variedad simpléctica y la carta:"
   ]
  },
  {
   "cell_type": "code",
   "execution_count": 1,
   "metadata": {},
   "outputs": [],
   "source": [
    "M=Manifold(4,name='M')"
   ]
  },
  {
   "cell_type": "code",
   "execution_count": 2,
   "metadata": {},
   "outputs": [],
   "source": [
    "std.<x,y,px,py>=M.chart('x y px py')"
   ]
  },
  {
   "cell_type": "markdown",
   "metadata": {},
   "source": [
    "Se declaran parámetros y Hamiltonianos:\n",
    "\n",
    "$$\n",
    "H(\\mathbf{q},\\mathbf{p}) = H_T(\\mathbf{p}) + H_V(\\mathbf{q})\n",
    "$$\n"
   ]
  },
  {
   "cell_type": "code",
   "execution_count": 3,
   "metadata": {},
   "outputs": [],
   "source": [
    "m = 1\n",
    "g = 10"
   ]
  },
  {
   "cell_type": "code",
   "execution_count": 4,
   "metadata": {},
   "outputs": [],
   "source": [
    "H_V = M.scalar_field( m*g*y , name='H_V' )"
   ]
  },
  {
   "cell_type": "code",
   "execution_count": 5,
   "metadata": {},
   "outputs": [],
   "source": [
    "H_T = M.scalar_field( (px^2 +py^2)/(2*m)  , name='H_T' )"
   ]
  },
  {
   "cell_type": "code",
   "execution_count": 6,
   "metadata": {},
   "outputs": [],
   "source": [
    "from sage.manifolds.operators import *"
   ]
  },
  {
   "cell_type": "markdown",
   "metadata": {},
   "source": [
    "Se realiza la derivada exterior de los hamiltonianos y sus coeficientes se acomodan para obtener los campos hamiltonianos $ \\mathbf{X_T} $ y $ \\mathbf{X_V} $."
   ]
  },
  {
   "cell_type": "code",
   "execution_count": 7,
   "metadata": {},
   "outputs": [],
   "source": [
    "dH_V = H_V.differential()"
   ]
  },
  {
   "cell_type": "code",
   "execution_count": 8,
   "metadata": {},
   "outputs": [],
   "source": [
    "dH_T = H_T.differential()"
   ]
  },
  {
   "cell_type": "code",
   "execution_count": 9,
   "metadata": {},
   "outputs": [],
   "source": [
    "e = M.default_frame()"
   ]
  },
  {
   "cell_type": "code",
   "execution_count": 10,
   "metadata": {},
   "outputs": [],
   "source": [
    "X_T = sum(-dH_V(e[i])*e[i+2] for i in (0,1))"
   ]
  },
  {
   "cell_type": "code",
   "execution_count": 11,
   "metadata": {},
   "outputs": [],
   "source": [
    "X_V = sum(dH_T(e[i+2])*e[i] for i in (0,1))"
   ]
  },
  {
   "cell_type": "code",
   "execution_count": 12,
   "metadata": {},
   "outputs": [
    {
     "data": {
      "text/plain": [
       "-dH_V(d/dx)*d/dpx+-dH_V(d/dy)*d/dpy = -10 d/dpy"
      ]
     },
     "execution_count": 12,
     "metadata": {},
     "output_type": "execute_result"
    }
   ],
   "source": [
    "X_T.display()"
   ]
  },
  {
   "cell_type": "code",
   "execution_count": 13,
   "metadata": {},
   "outputs": [
    {
     "data": {
      "text/plain": [
       "dH_T(d/dpx)*d/dx+dH_T(d/dpy)*d/dy = px d/dx + py d/dy"
      ]
     },
     "execution_count": 13,
     "metadata": {},
     "output_type": "execute_result"
    }
   ],
   "source": [
    "X_V.display()"
   ]
  },
  {
   "cell_type": "markdown",
   "metadata": {
    "scrolled": true
   },
   "source": [
    "Stormer Verlet\n",
    "\n",
    "$$\n",
    "  \\exp \\left( \\frac{1}{2} \\Delta t X_V \\right) \\exp \\left( \\Delta t X_T \\right)\\exp \\left( \\frac{1}{2} \\Delta t X_V \\right)\n",
    "$$"
   ]
  },
  {
   "cell_type": "code",
   "execution_count": 14,
   "metadata": {},
   "outputs": [],
   "source": [
    "from sage.calculus.desolvers import desolve_odeint\n",
    "\n",
    "dT=0.001\n",
    "\n",
    "x0 = 10\n",
    "y0 = 0\n",
    "px0 = 1\n",
    "py0 = 1\n",
    "\n",
    "x,y,px,py = var('x,y,px,py')\n",
    "\n",
    "sol1 = desolve_odeint([X_V[0].expr()/2,X_V[1].expr()/2,X_V[2].expr()/2,X_V[3].expr()/2],[x0,y0,px0,py0],srange(0,2*dT,dT),[x,y,px,py])\n",
    "\n"
   ]
  },
  {
   "cell_type": "code",
   "execution_count": 15,
   "metadata": {},
   "outputs": [],
   "source": [
    "from sage.calculus.desolvers import desolve_odeint\n",
    "\n",
    "dT=0.01\n",
    "\n",
    "x0 = 0\n",
    "y0 = 0\n",
    "px0 = 1\n",
    "py0 = 1\n",
    "\n",
    "x,y,px,py = var('x,y,px,py')\n",
    "\n",
    "sol2 = desolve_odeint([X_T[0].expr(),X_T[1].expr(),X_T[2].expr(),X_T[3].expr()],sol1[1,:],srange(0,2*dT,dT),[x,y,px,py])"
   ]
  },
  {
   "cell_type": "code",
   "execution_count": 16,
   "metadata": {},
   "outputs": [],
   "source": [
    "from sage.calculus.desolvers import desolve_odeint\n",
    "\n",
    "dT=0.001\n",
    "\n",
    "x0 = 0\n",
    "y0 = 0\n",
    "px0 = 1\n",
    "py0 = 1\n",
    "\n",
    "x,y,px,py = var('x,y,px,py')\n",
    "\n",
    "sol3 = desolve_odeint([X_V[0].expr()/2,X_V[1].expr()/2,X_V[2].expr()/2,X_V[3].expr()/2],sol2[1,:],srange(0,2*dT,dT),[x,y,px,py])"
   ]
  },
  {
   "cell_type": "code",
   "execution_count": 17,
   "metadata": {},
   "outputs": [
    {
     "name": "stdout",
     "output_type": "stream",
     "text": [
      "[[ 1.00000000e-03  1.00009950e+01  1.00000000e+00  9.90000000e-01]\n",
      " [ 2.00000000e-03  1.00019800e+01  1.00000000e+00  9.80000000e-01]\n",
      " [ 3.00000000e-03  1.00029550e+01  1.00000000e+00  9.70000000e-01]\n",
      " ...\n",
      " [ 9.99800000e+00 -4.79802020e+02  1.00000000e+00 -9.89800000e+01]\n",
      " [ 9.99900000e+00 -4.79901005e+02  1.00000000e+00 -9.89900000e+01]\n",
      " [ 1.00000000e+01 -4.80000000e+02  1.00000000e+00 -9.90000000e+01]]\n"
     ]
    }
   ],
   "source": [
    "from sage.calculus.desolvers import desolve_odeint\n",
    "import numpy as np\n",
    "\n",
    "dT=0.001\n",
    "\n",
    "x0 = 0\n",
    "y0 = 10\n",
    "px0 = 1\n",
    "py0 = 1\n",
    "\n",
    "x,y,px,py = var('x,y,px,py')\n",
    "\n",
    "t=10\n",
    "\n",
    "sol = np.zeros((int(t/dT),4))\n",
    "\n",
    "for i in range(0,int(t/dT)):\n",
    "    sol1 = desolve_odeint([X_V[0].expr()/2,X_V[1].expr()/2,X_V[2].expr()/2,X_V[3].expr()/2],[x0,y0,px0,py0],srange(0,2*dT,dT),[x,y,px,py])\n",
    "    sol2 = desolve_odeint([X_T[0].expr(),X_T[1].expr(),X_T[2].expr(),X_T[3].expr()],sol1[1,:],srange(0,2*dT,dT),[x,y,px,py])\n",
    "    sol3 = desolve_odeint([X_V[0].expr()/2,X_V[1].expr()/2,X_V[2].expr()/2,X_V[3].expr()/2],sol2[1,:],srange(0,2*dT,dT),[x,y,px,py])\n",
    "    x0 = sol3[1,0]\n",
    "    y0 = sol3[1,1]\n",
    "    px0 = sol3[1,2]\n",
    "    py0 = sol3[1,3]\n",
    "    sol[i,:] = sol3[1,:]\n",
    "    \n",
    "print(sol)"
   ]
  },
  {
   "cell_type": "code",
   "execution_count": 20,
   "metadata": {},
   "outputs": [
    {
     "data": {
      "image/png": "[encoded data removed]",
      "text/plain": [
       "<Figure size 432x288 with 1 Axes>"
      ]
     },
     "metadata": {
      "needs_background": "light"
     },
     "output_type": "display_data"
    }
   ],
   "source": [
    "import matplotlib.pyplot as plt\n",
    "\n",
    "t1 = np.linspace(0,t,int(t/dT))\n",
    "\n",
    "plt.plot(sol[:,0],sol[:,1],'k')\n",
    "#plt.plot(t1, -t1**2 *(g/2) + t1 + 10,'r')\n",
    "plt.show()\n"
   ]
  },
  {
   "cell_type": "code",
   "execution_count": null,
   "metadata": {},
   "outputs": [],
   "source": []
  }
 ],
 "metadata": {
  "kernelspec": {
   "display_name": "SageMath 9.2",
   "language": "sage",
   "name": "sagemath"
  },
  "language_info": {
   "codemirror_mode": {
    "name": "ipython",
    "version": 3
   },
   "file_extension": ".py",
   "mimetype": "text/x-python",
   "name": "python",
   "nbconvert_exporter": "python",
   "pygments_lexer": "ipython3",
   "version": "3.7.7"
  }
 },
 "nbformat": 4,
 "nbformat_minor": 4
}
